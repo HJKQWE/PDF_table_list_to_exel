{
  "cells": [
    {
      "cell_type": "markdown",
      "metadata": {
        "id": "view-in-github",
        "colab_type": "text"
      },
      "source": [
        "<a href=\"https://colab.research.google.com/github/HJKQWE/PDF_table_list_to_exel/blob/main/PDF_table_list_to_exel.ipynb\" target=\"_parent\"><img src=\"https://colab.research.google.com/assets/colab-badge.svg\" alt=\"Open In Colab\"/></a>"
      ]
    },
    {
      "cell_type": "code",
      "source": [
        "from PIL import Image\n",
        "import cv2\n",
        "import numpy as np\n",
        "import pandas as pd\n",
        "import tensorflow as tf"
      ],
      "metadata": {
        "id": "mhEjVUbiUytV"
      },
      "execution_count": 2,
      "outputs": []
    },
    {
      "cell_type": "code",
      "source": [
        "#!pip install paddlepaddle-gpu==2.3.2 cudatoolkit==10.2"
      ],
      "metadata": {
        "id": "JejuCeNXHckg"
      },
      "execution_count": 3,
      "outputs": []
    },
    {
      "cell_type": "code",
      "source": [
        "!pip install paddlepaddle-gpu==2.3.0.post110 -f https://www.paddlepaddle.org.cn/whl/linux/mkl/avx/stable.html"
      ],
      "metadata": {
        "colab": {
          "base_uri": "https://localhost:8080/"
        },
        "id": "xWhdOt9Jay6z",
        "outputId": "16d73745-4262-4d9d-dc91-7b4d40b5741e"
      },
      "execution_count": 4,
      "outputs": [
        {
          "output_type": "stream",
          "name": "stdout",
          "text": [
            "Looking in links: https://www.paddlepaddle.org.cn/whl/linux/mkl/avx/stable.html\n",
            "Requirement already satisfied: paddlepaddle-gpu==2.3.0.post110 in /usr/local/lib/python3.10/dist-packages (2.3.0.post110)\n",
            "Requirement already satisfied: requests>=2.20.0 in /usr/local/lib/python3.10/dist-packages (from paddlepaddle-gpu==2.3.0.post110) (2.27.1)\n",
            "Requirement already satisfied: numpy>=1.13 in /usr/local/lib/python3.10/dist-packages (from paddlepaddle-gpu==2.3.0.post110) (1.22.4)\n",
            "Requirement already satisfied: protobuf>=3.1.0 in /usr/local/lib/python3.10/dist-packages (from paddlepaddle-gpu==2.3.0.post110) (3.20.0)\n",
            "Requirement already satisfied: Pillow in /usr/local/lib/python3.10/dist-packages (from paddlepaddle-gpu==2.3.0.post110) (8.4.0)\n",
            "Requirement already satisfied: six in /usr/local/lib/python3.10/dist-packages (from paddlepaddle-gpu==2.3.0.post110) (1.16.0)\n",
            "Requirement already satisfied: decorator in /usr/local/lib/python3.10/dist-packages (from paddlepaddle-gpu==2.3.0.post110) (4.4.2)\n",
            "Requirement already satisfied: astor in /usr/local/lib/python3.10/dist-packages (from paddlepaddle-gpu==2.3.0.post110) (0.8.1)\n",
            "Requirement already satisfied: paddle-bfloat==0.1.2 in /usr/local/lib/python3.10/dist-packages (from paddlepaddle-gpu==2.3.0.post110) (0.1.2)\n",
            "Requirement already satisfied: opt-einsum==3.3.0 in /usr/local/lib/python3.10/dist-packages (from paddlepaddle-gpu==2.3.0.post110) (3.3.0)\n",
            "Requirement already satisfied: urllib3<1.27,>=1.21.1 in /usr/local/lib/python3.10/dist-packages (from requests>=2.20.0->paddlepaddle-gpu==2.3.0.post110) (1.26.16)\n",
            "Requirement already satisfied: certifi>=2017.4.17 in /usr/local/lib/python3.10/dist-packages (from requests>=2.20.0->paddlepaddle-gpu==2.3.0.post110) (2023.5.7)\n",
            "Requirement already satisfied: charset-normalizer~=2.0.0 in /usr/local/lib/python3.10/dist-packages (from requests>=2.20.0->paddlepaddle-gpu==2.3.0.post110) (2.0.12)\n",
            "Requirement already satisfied: idna<4,>=2.5 in /usr/local/lib/python3.10/dist-packages (from requests>=2.20.0->paddlepaddle-gpu==2.3.0.post110) (3.4)\n"
          ]
        }
      ]
    },
    {
      "cell_type": "code",
      "source": [
        "# from google.colab import drive\n",
        "# drive.mount('/content/drive')"
      ],
      "metadata": {
        "id": "WaMGw8gin-L1"
      },
      "execution_count": 5,
      "outputs": []
    },
    {
      "cell_type": "markdown",
      "metadata": {
        "id": "dvKiMyj2feUe"
      },
      "source": [
        "# pdf2image"
      ]
    },
    {
      "cell_type": "markdown",
      "source": [
        "## Installation"
      ],
      "metadata": {
        "id": "aIz56VvlWkf-"
      }
    },
    {
      "cell_type": "code",
      "source": [
        "!pip install pdf2image\n",
        "!apt-get update\n",
        "!apt-get install poppler-utils"
      ],
      "metadata": {
        "colab": {
          "base_uri": "https://localhost:8080/"
        },
        "id": "biSgyAkWnUD3",
        "outputId": "5bd9a4b1-0e14-4531-ce68-0efc1975512b"
      },
      "execution_count": 6,
      "outputs": [
        {
          "output_type": "stream",
          "name": "stdout",
          "text": [
            "Requirement already satisfied: pdf2image in /usr/local/lib/python3.10/dist-packages (1.16.3)\n",
            "Requirement already satisfied: pillow in /usr/local/lib/python3.10/dist-packages (from pdf2image) (8.4.0)\n",
            "Hit:1 http://security.ubuntu.com/ubuntu focal-security InRelease\n",
            "Hit:2 https://cloud.r-project.org/bin/linux/ubuntu focal-cran40/ InRelease\n",
            "Hit:3 https://developer.download.nvidia.com/compute/cuda/repos/ubuntu2004/x86_64  InRelease\n",
            "Hit:4 http://ppa.launchpad.net/c2d4u.team/c2d4u4.0+/ubuntu focal InRelease\n",
            "Hit:5 http://archive.ubuntu.com/ubuntu focal InRelease\n",
            "Get:6 http://archive.ubuntu.com/ubuntu focal-updates InRelease [114 kB]\n",
            "Hit:7 http://ppa.launchpad.net/cran/libgit2/ubuntu focal InRelease\n",
            "Hit:8 http://ppa.launchpad.net/deadsnakes/ppa/ubuntu focal InRelease\n",
            "Get:9 http://archive.ubuntu.com/ubuntu focal-backports InRelease [108 kB]\n",
            "Hit:10 http://ppa.launchpad.net/graphics-drivers/ppa/ubuntu focal InRelease\n",
            "Hit:11 http://ppa.launchpad.net/ubuntugis/ppa/ubuntu focal InRelease\n",
            "Get:12 http://archive.ubuntu.com/ubuntu focal-updates/universe amd64 Packages [1,367 kB]\n",
            "Fetched 1,589 kB in 3s (531 kB/s)\n",
            "Reading package lists... Done\n",
            "Reading package lists... Done\n",
            "Building dependency tree       \n",
            "Reading state information... Done\n",
            "poppler-utils is already the newest version (0.86.1-0ubuntu1.1).\n",
            "0 upgraded, 0 newly installed, 0 to remove and 31 not upgraded.\n"
          ]
        }
      ]
    },
    {
      "cell_type": "markdown",
      "source": [
        "## Conversion"
      ],
      "metadata": {
        "id": "pLaguCz1WmF9"
      }
    },
    {
      "cell_type": "code",
      "source": [
        "from pdf2image import convert_from_path"
      ],
      "metadata": {
        "id": "HI1dzCGmkeWI"
      },
      "execution_count": 7,
      "outputs": []
    },
    {
      "cell_type": "code",
      "source": [
        "images = convert_from_path('/content/drive/MyDrive/ГеоКин/Утевское (Таблица 6)-2018.pdf')"
      ],
      "metadata": {
        "id": "xyhjFgqjkgG7"
      },
      "execution_count": 8,
      "outputs": []
    },
    {
      "cell_type": "code",
      "source": [
        "!mkdir pages"
      ],
      "metadata": {
        "id": "M5hBWxpskgJW",
        "colab": {
          "base_uri": "https://localhost:8080/"
        },
        "outputId": "20e597b5-ad50-4a50-c79b-fc92696e93ae"
      },
      "execution_count": 9,
      "outputs": [
        {
          "output_type": "stream",
          "name": "stdout",
          "text": [
            "mkdir: cannot create directory ‘pages’: File exists\n"
          ]
        }
      ]
    },
    {
      "cell_type": "code",
      "source": [
        "for i in range(len(images)):\n",
        "  images[i].save('pages/page'+str(i)+'.jpg', 'JPEG')"
      ],
      "metadata": {
        "id": "7mlH9ltkkgMB"
      },
      "execution_count": 10,
      "outputs": []
    },
    {
      "cell_type": "markdown",
      "source": [
        "# Layout"
      ],
      "metadata": {
        "id": "Urwb7Q_OZC8t"
      }
    },
    {
      "cell_type": "markdown",
      "source": [
        "## Installation"
      ],
      "metadata": {
        "id": "vTkwQbF4FZPN"
      }
    },
    {
      "cell_type": "code",
      "source": [
        "#!python3 -m pip install paddlepaddle-gpu\n",
        "!pip install \"paddleocr>=2.0.6\"\n",
        "!pip install protobuf==3.20.0\n",
        "!git clone https://github.com/PaddlePaddle/PaddleOCR.git"
      ],
      "metadata": {
        "colab": {
          "base_uri": "https://localhost:8080/"
        },
        "id": "R0lRpQLkIpbZ",
        "outputId": "1ec0d1f5-a1d9-44ca-f70f-5d6241bd46ad"
      },
      "execution_count": 11,
      "outputs": [
        {
          "output_type": "stream",
          "name": "stdout",
          "text": [
            "Requirement already satisfied: paddleocr>=2.0.6 in /usr/local/lib/python3.10/dist-packages (2.6.1.3)\n",
            "Requirement already satisfied: shapely in /usr/local/lib/python3.10/dist-packages (from paddleocr>=2.0.6) (2.0.1)\n",
            "Requirement already satisfied: scikit-image in /usr/local/lib/python3.10/dist-packages (from paddleocr>=2.0.6) (0.19.3)\n",
            "Requirement already satisfied: imgaug in /usr/local/lib/python3.10/dist-packages (from paddleocr>=2.0.6) (0.4.0)\n",
            "Requirement already satisfied: pyclipper in /usr/local/lib/python3.10/dist-packages (from paddleocr>=2.0.6) (1.3.0.post4)\n",
            "Requirement already satisfied: lmdb in /usr/local/lib/python3.10/dist-packages (from paddleocr>=2.0.6) (1.4.1)\n",
            "Requirement already satisfied: tqdm in /usr/local/lib/python3.10/dist-packages (from paddleocr>=2.0.6) (4.65.0)\n",
            "Requirement already satisfied: numpy in /usr/local/lib/python3.10/dist-packages (from paddleocr>=2.0.6) (1.22.4)\n",
            "Requirement already satisfied: visualdl in /usr/local/lib/python3.10/dist-packages (from paddleocr>=2.0.6) (2.5.3)\n",
            "Requirement already satisfied: rapidfuzz in /usr/local/lib/python3.10/dist-packages (from paddleocr>=2.0.6) (3.1.1)\n",
            "Requirement already satisfied: opencv-python<=4.6.0.66 in /usr/local/lib/python3.10/dist-packages (from paddleocr>=2.0.6) (4.6.0.66)\n",
            "Requirement already satisfied: opencv-contrib-python<=4.6.0.66 in /usr/local/lib/python3.10/dist-packages (from paddleocr>=2.0.6) (4.6.0.66)\n",
            "Requirement already satisfied: cython in /usr/local/lib/python3.10/dist-packages (from paddleocr>=2.0.6) (0.29.35)\n",
            "Requirement already satisfied: lxml in /usr/local/lib/python3.10/dist-packages (from paddleocr>=2.0.6) (4.9.2)\n",
            "Requirement already satisfied: premailer in /usr/local/lib/python3.10/dist-packages (from paddleocr>=2.0.6) (3.10.0)\n",
            "Requirement already satisfied: openpyxl in /usr/local/lib/python3.10/dist-packages (from paddleocr>=2.0.6) (3.0.10)\n",
            "Requirement already satisfied: attrdict in /usr/local/lib/python3.10/dist-packages (from paddleocr>=2.0.6) (2.0.1)\n",
            "Requirement already satisfied: PyMuPDF<1.21.0 in /usr/local/lib/python3.10/dist-packages (from paddleocr>=2.0.6) (1.20.2)\n",
            "Requirement already satisfied: python-docx in /usr/local/lib/python3.10/dist-packages (from paddleocr>=2.0.6) (0.8.11)\n",
            "Requirement already satisfied: beautifulsoup4 in /usr/local/lib/python3.10/dist-packages (from paddleocr>=2.0.6) (4.11.2)\n",
            "Requirement already satisfied: fonttools>=4.24.0 in /usr/local/lib/python3.10/dist-packages (from paddleocr>=2.0.6) (4.40.0)\n",
            "Requirement already satisfied: fire>=0.3.0 in /usr/local/lib/python3.10/dist-packages (from paddleocr>=2.0.6) (0.5.0)\n",
            "Requirement already satisfied: pdf2docx in /usr/local/lib/python3.10/dist-packages (from paddleocr>=2.0.6) (0.5.6)\n",
            "Requirement already satisfied: six in /usr/local/lib/python3.10/dist-packages (from fire>=0.3.0->paddleocr>=2.0.6) (1.16.0)\n",
            "Requirement already satisfied: termcolor in /usr/local/lib/python3.10/dist-packages (from fire>=0.3.0->paddleocr>=2.0.6) (2.3.0)\n",
            "Requirement already satisfied: soupsieve>1.2 in /usr/local/lib/python3.10/dist-packages (from beautifulsoup4->paddleocr>=2.0.6) (2.4.1)\n",
            "Requirement already satisfied: scipy in /usr/local/lib/python3.10/dist-packages (from imgaug->paddleocr>=2.0.6) (1.10.1)\n",
            "Requirement already satisfied: Pillow in /usr/local/lib/python3.10/dist-packages (from imgaug->paddleocr>=2.0.6) (8.4.0)\n",
            "Requirement already satisfied: matplotlib in /usr/local/lib/python3.10/dist-packages (from imgaug->paddleocr>=2.0.6) (3.7.1)\n",
            "Requirement already satisfied: imageio in /usr/local/lib/python3.10/dist-packages (from imgaug->paddleocr>=2.0.6) (2.25.1)\n",
            "Requirement already satisfied: networkx>=2.2 in /usr/local/lib/python3.10/dist-packages (from scikit-image->paddleocr>=2.0.6) (3.1)\n",
            "Requirement already satisfied: tifffile>=2019.7.26 in /usr/local/lib/python3.10/dist-packages (from scikit-image->paddleocr>=2.0.6) (2023.4.12)\n",
            "Requirement already satisfied: PyWavelets>=1.1.1 in /usr/local/lib/python3.10/dist-packages (from scikit-image->paddleocr>=2.0.6) (1.4.1)\n",
            "Requirement already satisfied: packaging>=20.0 in /usr/local/lib/python3.10/dist-packages (from scikit-image->paddleocr>=2.0.6) (23.1)\n",
            "Requirement already satisfied: et-xmlfile in /usr/local/lib/python3.10/dist-packages (from openpyxl->paddleocr>=2.0.6) (1.1.0)\n",
            "Requirement already satisfied: cssselect in /usr/local/lib/python3.10/dist-packages (from premailer->paddleocr>=2.0.6) (1.2.0)\n",
            "Requirement already satisfied: cssutils in /usr/local/lib/python3.10/dist-packages (from premailer->paddleocr>=2.0.6) (2.7.1)\n",
            "Requirement already satisfied: requests in /usr/local/lib/python3.10/dist-packages (from premailer->paddleocr>=2.0.6) (2.27.1)\n",
            "Requirement already satisfied: cachetools in /usr/local/lib/python3.10/dist-packages (from premailer->paddleocr>=2.0.6) (5.3.1)\n",
            "Requirement already satisfied: bce-python-sdk in /usr/local/lib/python3.10/dist-packages (from visualdl->paddleocr>=2.0.6) (0.8.87)\n",
            "Requirement already satisfied: flask>=1.1.1 in /usr/local/lib/python3.10/dist-packages (from visualdl->paddleocr>=2.0.6) (2.2.5)\n",
            "Requirement already satisfied: Flask-Babel>=3.0.0 in /usr/local/lib/python3.10/dist-packages (from visualdl->paddleocr>=2.0.6) (3.1.0)\n",
            "Requirement already satisfied: protobuf>=3.20.0 in /usr/local/lib/python3.10/dist-packages (from visualdl->paddleocr>=2.0.6) (3.20.0)\n",
            "Requirement already satisfied: pandas in /usr/local/lib/python3.10/dist-packages (from visualdl->paddleocr>=2.0.6) (1.5.3)\n",
            "Requirement already satisfied: rarfile in /usr/local/lib/python3.10/dist-packages (from visualdl->paddleocr>=2.0.6) (4.0)\n",
            "Requirement already satisfied: psutil in /usr/local/lib/python3.10/dist-packages (from visualdl->paddleocr>=2.0.6) (5.9.5)\n",
            "Requirement already satisfied: Werkzeug>=2.2.2 in /usr/local/lib/python3.10/dist-packages (from flask>=1.1.1->visualdl->paddleocr>=2.0.6) (2.3.6)\n",
            "Requirement already satisfied: Jinja2>=3.0 in /usr/local/lib/python3.10/dist-packages (from flask>=1.1.1->visualdl->paddleocr>=2.0.6) (3.1.2)\n",
            "Requirement already satisfied: itsdangerous>=2.0 in /usr/local/lib/python3.10/dist-packages (from flask>=1.1.1->visualdl->paddleocr>=2.0.6) (2.1.2)\n",
            "Requirement already satisfied: click>=8.0 in /usr/local/lib/python3.10/dist-packages (from flask>=1.1.1->visualdl->paddleocr>=2.0.6) (8.1.3)\n",
            "Requirement already satisfied: Babel>=2.12 in /usr/local/lib/python3.10/dist-packages (from Flask-Babel>=3.0.0->visualdl->paddleocr>=2.0.6) (2.12.1)\n",
            "Requirement already satisfied: pytz>=2022.7 in /usr/local/lib/python3.10/dist-packages (from Flask-Babel>=3.0.0->visualdl->paddleocr>=2.0.6) (2022.7.1)\n",
            "Requirement already satisfied: pycryptodome>=3.8.0 in /usr/local/lib/python3.10/dist-packages (from bce-python-sdk->visualdl->paddleocr>=2.0.6) (3.18.0)\n",
            "Requirement already satisfied: future>=0.6.0 in /usr/local/lib/python3.10/dist-packages (from bce-python-sdk->visualdl->paddleocr>=2.0.6) (0.18.3)\n",
            "Requirement already satisfied: contourpy>=1.0.1 in /usr/local/lib/python3.10/dist-packages (from matplotlib->imgaug->paddleocr>=2.0.6) (1.1.0)\n",
            "Requirement already satisfied: cycler>=0.10 in /usr/local/lib/python3.10/dist-packages (from matplotlib->imgaug->paddleocr>=2.0.6) (0.11.0)\n",
            "Requirement already satisfied: kiwisolver>=1.0.1 in /usr/local/lib/python3.10/dist-packages (from matplotlib->imgaug->paddleocr>=2.0.6) (1.4.4)\n",
            "Requirement already satisfied: pyparsing>=2.3.1 in /usr/local/lib/python3.10/dist-packages (from matplotlib->imgaug->paddleocr>=2.0.6) (3.1.0)\n",
            "Requirement already satisfied: python-dateutil>=2.7 in /usr/local/lib/python3.10/dist-packages (from matplotlib->imgaug->paddleocr>=2.0.6) (2.8.2)\n",
            "Requirement already satisfied: urllib3<1.27,>=1.21.1 in /usr/local/lib/python3.10/dist-packages (from requests->premailer->paddleocr>=2.0.6) (1.26.16)\n",
            "Requirement already satisfied: certifi>=2017.4.17 in /usr/local/lib/python3.10/dist-packages (from requests->premailer->paddleocr>=2.0.6) (2023.5.7)\n",
            "Requirement already satisfied: charset-normalizer~=2.0.0 in /usr/local/lib/python3.10/dist-packages (from requests->premailer->paddleocr>=2.0.6) (2.0.12)\n",
            "Requirement already satisfied: idna<4,>=2.5 in /usr/local/lib/python3.10/dist-packages (from requests->premailer->paddleocr>=2.0.6) (3.4)\n",
            "Requirement already satisfied: MarkupSafe>=2.0 in /usr/local/lib/python3.10/dist-packages (from Jinja2>=3.0->flask>=1.1.1->visualdl->paddleocr>=2.0.6) (2.1.3)\n",
            "Requirement already satisfied: protobuf==3.20.0 in /usr/local/lib/python3.10/dist-packages (3.20.0)\n",
            "fatal: destination path 'PaddleOCR' already exists and is not an empty directory.\n"
          ]
        }
      ]
    },
    {
      "cell_type": "code",
      "source": [
        "!wget https://paddleocr.bj.bcebos.com/whl/layoutparser-0.0.0-py3-none-any.whl\n",
        "!pip install -U layoutparser-0.0.0-py3-none-any.whl"
      ],
      "metadata": {
        "colab": {
          "base_uri": "https://localhost:8080/"
        },
        "id": "8gWFgGl5CXu6",
        "outputId": "b91ae387-c882-46ad-dd7f-24c84d52859b"
      },
      "execution_count": 12,
      "outputs": [
        {
          "output_type": "stream",
          "name": "stdout",
          "text": [
            "--2023-07-05 13:07:28--  https://paddleocr.bj.bcebos.com/whl/layoutparser-0.0.0-py3-none-any.whl\n",
            "Resolving paddleocr.bj.bcebos.com (paddleocr.bj.bcebos.com)... 103.235.46.61, 2409:8c04:1001:1002:0:ff:b001:368a\n",
            "Connecting to paddleocr.bj.bcebos.com (paddleocr.bj.bcebos.com)|103.235.46.61|:443... connected.\n",
            "HTTP request sent, awaiting response... 200 OK\n",
            "Length: 19145360 (18M) [application/octet-stream]\n",
            "Saving to: ‘layoutparser-0.0.0-py3-none-any.whl.1’\n",
            "\n",
            "layoutparser-0.0.0- 100%[===================>]  18.26M  4.73MB/s    in 20s     \n",
            "\n",
            "2023-07-05 13:07:50 (942 KB/s) - ‘layoutparser-0.0.0-py3-none-any.whl.1’ saved [19145360/19145360]\n",
            "\n",
            "Processing ./layoutparser-0.0.0-py3-none-any.whl\n",
            "Requirement already satisfied: numpy in /usr/local/lib/python3.10/dist-packages (from layoutparser==0.0.0) (1.22.4)\n",
            "Requirement already satisfied: opencv-python in /usr/local/lib/python3.10/dist-packages (from layoutparser==0.0.0) (4.6.0.66)\n",
            "Requirement already satisfied: pandas in /usr/local/lib/python3.10/dist-packages (from layoutparser==0.0.0) (1.5.3)\n",
            "Requirement already satisfied: pillow in /usr/local/lib/python3.10/dist-packages (from layoutparser==0.0.0) (8.4.0)\n",
            "Requirement already satisfied: pyyaml>=5.1 in /usr/local/lib/python3.10/dist-packages (from layoutparser==0.0.0) (6.0)\n",
            "Requirement already satisfied: iopath in /usr/local/lib/python3.10/dist-packages (from layoutparser==0.0.0) (0.1.10)\n",
            "Requirement already satisfied: tqdm in /usr/local/lib/python3.10/dist-packages (from layoutparser==0.0.0) (4.65.0)\n",
            "Requirement already satisfied: typing-extensions in /usr/local/lib/python3.10/dist-packages (from iopath->layoutparser==0.0.0) (4.6.3)\n",
            "Requirement already satisfied: portalocker in /usr/local/lib/python3.10/dist-packages (from iopath->layoutparser==0.0.0) (2.7.0)\n",
            "Requirement already satisfied: python-dateutil>=2.8.1 in /usr/local/lib/python3.10/dist-packages (from pandas->layoutparser==0.0.0) (2.8.2)\n",
            "Requirement already satisfied: pytz>=2020.1 in /usr/local/lib/python3.10/dist-packages (from pandas->layoutparser==0.0.0) (2022.7.1)\n",
            "Requirement already satisfied: six>=1.5 in /usr/local/lib/python3.10/dist-packages (from python-dateutil>=2.8.1->pandas->layoutparser==0.0.0) (1.16.0)\n",
            "layoutparser is already installed with the same version as the provided wheel. Use --force-reinstall to force an installation of the wheel.\n"
          ]
        }
      ]
    },
    {
      "cell_type": "markdown",
      "source": [
        "## Table Extraction"
      ],
      "metadata": {
        "id": "w5MA08E0F8aU"
      }
    },
    {
      "cell_type": "code",
      "source": [
        "!pip install layoutparser torchvision && pip install \"detectron2@git+https://github.com/facebookresearch/detectron2.git@v0.5#egg=detectron2\""
      ],
      "metadata": {
        "colab": {
          "base_uri": "https://localhost:8080/",
          "height": 1000
        },
        "id": "-zOKiNcVNC3j",
        "outputId": "4b2c4818-6c16-45b8-dfea-98011c1c6472"
      },
      "execution_count": 30,
      "outputs": [
        {
          "output_type": "stream",
          "name": "stdout",
          "text": [
            "Requirement already satisfied: layoutparser in /usr/local/lib/python3.10/dist-packages (0.0.0)\n",
            "Requirement already satisfied: torchvision in /usr/local/lib/python3.10/dist-packages (0.15.2+cu118)\n",
            "Requirement already satisfied: numpy in /usr/local/lib/python3.10/dist-packages (from layoutparser) (1.22.4)\n",
            "Requirement already satisfied: opencv-python in /usr/local/lib/python3.10/dist-packages (from layoutparser) (4.6.0.66)\n",
            "Requirement already satisfied: pandas in /usr/local/lib/python3.10/dist-packages (from layoutparser) (1.5.3)\n",
            "Requirement already satisfied: pillow in /usr/local/lib/python3.10/dist-packages (from layoutparser) (8.4.0)\n",
            "Requirement already satisfied: pyyaml>=5.1 in /usr/local/lib/python3.10/dist-packages (from layoutparser) (6.0)\n",
            "Requirement already satisfied: iopath in /usr/local/lib/python3.10/dist-packages (from layoutparser) (0.1.10)\n",
            "Requirement already satisfied: tqdm in /usr/local/lib/python3.10/dist-packages (from layoutparser) (4.65.0)\n",
            "Requirement already satisfied: requests in /usr/local/lib/python3.10/dist-packages (from torchvision) (2.27.1)\n",
            "Requirement already satisfied: torch==2.0.1 in /usr/local/lib/python3.10/dist-packages (from torchvision) (2.0.1+cu118)\n",
            "Requirement already satisfied: filelock in /usr/local/lib/python3.10/dist-packages (from torch==2.0.1->torchvision) (3.12.2)\n",
            "Requirement already satisfied: typing-extensions in /usr/local/lib/python3.10/dist-packages (from torch==2.0.1->torchvision) (4.6.3)\n",
            "Requirement already satisfied: sympy in /usr/local/lib/python3.10/dist-packages (from torch==2.0.1->torchvision) (1.11.1)\n",
            "Requirement already satisfied: networkx in /usr/local/lib/python3.10/dist-packages (from torch==2.0.1->torchvision) (3.1)\n",
            "Requirement already satisfied: jinja2 in /usr/local/lib/python3.10/dist-packages (from torch==2.0.1->torchvision) (3.1.2)\n",
            "Requirement already satisfied: triton==2.0.0 in /usr/local/lib/python3.10/dist-packages (from torch==2.0.1->torchvision) (2.0.0)\n",
            "Requirement already satisfied: cmake in /usr/local/lib/python3.10/dist-packages (from triton==2.0.0->torch==2.0.1->torchvision) (3.25.2)\n",
            "Requirement already satisfied: lit in /usr/local/lib/python3.10/dist-packages (from triton==2.0.0->torch==2.0.1->torchvision) (16.0.6)\n",
            "Requirement already satisfied: portalocker in /usr/local/lib/python3.10/dist-packages (from iopath->layoutparser) (2.7.0)\n",
            "Requirement already satisfied: python-dateutil>=2.8.1 in /usr/local/lib/python3.10/dist-packages (from pandas->layoutparser) (2.8.2)\n",
            "Requirement already satisfied: pytz>=2020.1 in /usr/local/lib/python3.10/dist-packages (from pandas->layoutparser) (2022.7.1)\n",
            "Requirement already satisfied: urllib3<1.27,>=1.21.1 in /usr/local/lib/python3.10/dist-packages (from requests->torchvision) (1.26.16)\n",
            "Requirement already satisfied: certifi>=2017.4.17 in /usr/local/lib/python3.10/dist-packages (from requests->torchvision) (2023.5.7)\n",
            "Requirement already satisfied: charset-normalizer~=2.0.0 in /usr/local/lib/python3.10/dist-packages (from requests->torchvision) (2.0.12)\n",
            "Requirement already satisfied: idna<4,>=2.5 in /usr/local/lib/python3.10/dist-packages (from requests->torchvision) (3.4)\n",
            "Requirement already satisfied: six>=1.5 in /usr/local/lib/python3.10/dist-packages (from python-dateutil>=2.8.1->pandas->layoutparser) (1.16.0)\n",
            "Requirement already satisfied: MarkupSafe>=2.0 in /usr/local/lib/python3.10/dist-packages (from jinja2->torch==2.0.1->torchvision) (2.1.3)\n",
            "Requirement already satisfied: mpmath>=0.19 in /usr/local/lib/python3.10/dist-packages (from sympy->torch==2.0.1->torchvision) (1.3.0)\n",
            "Collecting detectron2@ git+https://github.com/facebookresearch/detectron2.git@v0.5#egg=detectron2\n",
            "  Cloning https://github.com/facebookresearch/detectron2.git (to revision v0.5) to /tmp/pip-install-38o5payi/detectron2_f0905311a24442f4b4443add0b79bff9\n",
            "  Running command git clone --filter=blob:none --quiet https://github.com/facebookresearch/detectron2.git /tmp/pip-install-38o5payi/detectron2_f0905311a24442f4b4443add0b79bff9\n",
            "  Running command git checkout -q 82a57ce0b70057685962b352535147d9a8118578\n",
            "  Resolved https://github.com/facebookresearch/detectron2.git to commit 82a57ce0b70057685962b352535147d9a8118578\n",
            "  Preparing metadata (setup.py) ... \u001b[?25l\u001b[?25hdone\n",
            "Requirement already satisfied: Pillow>=7.1 in /usr/local/lib/python3.10/dist-packages (from detectron2@ git+https://github.com/facebookresearch/detectron2.git@v0.5#egg=detectron2) (8.4.0)\n",
            "Requirement already satisfied: matplotlib in /usr/local/lib/python3.10/dist-packages (from detectron2@ git+https://github.com/facebookresearch/detectron2.git@v0.5#egg=detectron2) (3.7.1)\n",
            "Requirement already satisfied: pycocotools>=2.0.2 in /usr/local/lib/python3.10/dist-packages (from detectron2@ git+https://github.com/facebookresearch/detectron2.git@v0.5#egg=detectron2) (2.0.6)\n",
            "Requirement already satisfied: termcolor>=1.1 in /usr/local/lib/python3.10/dist-packages (from detectron2@ git+https://github.com/facebookresearch/detectron2.git@v0.5#egg=detectron2) (2.3.0)\n",
            "Collecting yacs>=0.1.6 (from detectron2@ git+https://github.com/facebookresearch/detectron2.git@v0.5#egg=detectron2)\n",
            "  Downloading yacs-0.1.8-py3-none-any.whl (14 kB)\n",
            "Requirement already satisfied: tabulate in /usr/local/lib/python3.10/dist-packages (from detectron2@ git+https://github.com/facebookresearch/detectron2.git@v0.5#egg=detectron2) (0.8.10)\n",
            "Requirement already satisfied: cloudpickle in /usr/local/lib/python3.10/dist-packages (from detectron2@ git+https://github.com/facebookresearch/detectron2.git@v0.5#egg=detectron2) (2.2.1)\n",
            "Requirement already satisfied: tqdm>4.29.0 in /usr/local/lib/python3.10/dist-packages (from detectron2@ git+https://github.com/facebookresearch/detectron2.git@v0.5#egg=detectron2) (4.65.0)\n",
            "Requirement already satisfied: tensorboard in /usr/local/lib/python3.10/dist-packages (from detectron2@ git+https://github.com/facebookresearch/detectron2.git@v0.5#egg=detectron2) (2.12.3)\n",
            "Collecting fvcore<0.1.6,>=0.1.5 (from detectron2@ git+https://github.com/facebookresearch/detectron2.git@v0.5#egg=detectron2)\n",
            "  Downloading fvcore-0.1.5.post20221221.tar.gz (50 kB)\n",
            "\u001b[2K     \u001b[90m━━━━━━━━━━━━━━━━━━━━━━━━━━━━━━━━━━━━━━━━\u001b[0m \u001b[32m50.2/50.2 kB\u001b[0m \u001b[31m2.5 MB/s\u001b[0m eta \u001b[36m0:00:00\u001b[0m\n",
            "\u001b[?25h  Preparing metadata (setup.py) ... \u001b[?25l\u001b[?25hdone\n",
            "Collecting iopath<0.1.10,>=0.1.7 (from detectron2@ git+https://github.com/facebookresearch/detectron2.git@v0.5#egg=detectron2)\n",
            "  Downloading iopath-0.1.9-py3-none-any.whl (27 kB)\n",
            "Requirement already satisfied: future in /usr/local/lib/python3.10/dist-packages (from detectron2@ git+https://github.com/facebookresearch/detectron2.git@v0.5#egg=detectron2) (0.18.3)\n",
            "Requirement already satisfied: pydot in /usr/local/lib/python3.10/dist-packages (from detectron2@ git+https://github.com/facebookresearch/detectron2.git@v0.5#egg=detectron2) (1.4.2)\n",
            "Collecting omegaconf>=2.1 (from detectron2@ git+https://github.com/facebookresearch/detectron2.git@v0.5#egg=detectron2)\n",
            "  Downloading omegaconf-2.3.0-py3-none-any.whl (79 kB)\n",
            "\u001b[2K     \u001b[90m━━━━━━━━━━━━━━━━━━━━━━━━━━━━━━━━━━━━━━━━\u001b[0m \u001b[32m79.5/79.5 kB\u001b[0m \u001b[31m7.6 MB/s\u001b[0m eta \u001b[36m0:00:00\u001b[0m\n",
            "\u001b[?25hCollecting hydra-core>=1.1 (from detectron2@ git+https://github.com/facebookresearch/detectron2.git@v0.5#egg=detectron2)\n",
            "  Downloading hydra_core-1.3.2-py3-none-any.whl (154 kB)\n",
            "\u001b[2K     \u001b[90m━━━━━━━━━━━━━━━━━━━━━━━━━━━━━━━━━━━━━━\u001b[0m \u001b[32m154.5/154.5 kB\u001b[0m \u001b[31m16.0 MB/s\u001b[0m eta \u001b[36m0:00:00\u001b[0m\n",
            "\u001b[?25hCollecting black==21.4b2 (from detectron2@ git+https://github.com/facebookresearch/detectron2.git@v0.5#egg=detectron2)\n",
            "  Downloading black-21.4b2-py3-none-any.whl (130 kB)\n",
            "\u001b[2K     \u001b[90m━━━━━━━━━━━━━━━━━━━━━━━━━━━━━━━━━━━━━━\u001b[0m \u001b[32m131.0/131.0 kB\u001b[0m \u001b[31m15.2 MB/s\u001b[0m eta \u001b[36m0:00:00\u001b[0m\n",
            "\u001b[?25hRequirement already satisfied: click>=7.1.2 in /usr/local/lib/python3.10/dist-packages (from black==21.4b2->detectron2@ git+https://github.com/facebookresearch/detectron2.git@v0.5#egg=detectron2) (8.1.3)\n",
            "Requirement already satisfied: appdirs in /usr/local/lib/python3.10/dist-packages (from black==21.4b2->detectron2@ git+https://github.com/facebookresearch/detectron2.git@v0.5#egg=detectron2) (1.4.4)\n",
            "Requirement already satisfied: toml>=0.10.1 in /usr/local/lib/python3.10/dist-packages (from black==21.4b2->detectron2@ git+https://github.com/facebookresearch/detectron2.git@v0.5#egg=detectron2) (0.10.2)\n",
            "Requirement already satisfied: regex>=2020.1.8 in /usr/local/lib/python3.10/dist-packages (from black==21.4b2->detectron2@ git+https://github.com/facebookresearch/detectron2.git@v0.5#egg=detectron2) (2022.10.31)\n",
            "Collecting pathspec<1,>=0.8.1 (from black==21.4b2->detectron2@ git+https://github.com/facebookresearch/detectron2.git@v0.5#egg=detectron2)\n",
            "  Downloading pathspec-0.11.1-py3-none-any.whl (29 kB)\n",
            "Collecting mypy-extensions>=0.4.3 (from black==21.4b2->detectron2@ git+https://github.com/facebookresearch/detectron2.git@v0.5#egg=detectron2)\n",
            "  Downloading mypy_extensions-1.0.0-py3-none-any.whl (4.7 kB)\n",
            "Requirement already satisfied: numpy in /usr/local/lib/python3.10/dist-packages (from fvcore<0.1.6,>=0.1.5->detectron2@ git+https://github.com/facebookresearch/detectron2.git@v0.5#egg=detectron2) (1.22.4)\n",
            "Requirement already satisfied: pyyaml>=5.1 in /usr/local/lib/python3.10/dist-packages (from fvcore<0.1.6,>=0.1.5->detectron2@ git+https://github.com/facebookresearch/detectron2.git@v0.5#egg=detectron2) (6.0)\n",
            "Collecting antlr4-python3-runtime==4.9.* (from hydra-core>=1.1->detectron2@ git+https://github.com/facebookresearch/detectron2.git@v0.5#egg=detectron2)\n",
            "  Downloading antlr4-python3-runtime-4.9.3.tar.gz (117 kB)\n",
            "\u001b[2K     \u001b[90m━━━━━━━━━━━━━━━━━━━━━━━━━━━━━━━━━━━━━━\u001b[0m \u001b[32m117.0/117.0 kB\u001b[0m \u001b[31m15.3 MB/s\u001b[0m eta \u001b[36m0:00:00\u001b[0m\n",
            "\u001b[?25h  Preparing metadata (setup.py) ... \u001b[?25l\u001b[?25hdone\n",
            "Requirement already satisfied: packaging in /usr/local/lib/python3.10/dist-packages (from hydra-core>=1.1->detectron2@ git+https://github.com/facebookresearch/detectron2.git@v0.5#egg=detectron2) (23.1)\n",
            "Requirement already satisfied: portalocker in /usr/local/lib/python3.10/dist-packages (from iopath<0.1.10,>=0.1.7->detectron2@ git+https://github.com/facebookresearch/detectron2.git@v0.5#egg=detectron2) (2.7.0)\n",
            "Requirement already satisfied: contourpy>=1.0.1 in /usr/local/lib/python3.10/dist-packages (from matplotlib->detectron2@ git+https://github.com/facebookresearch/detectron2.git@v0.5#egg=detectron2) (1.1.0)\n",
            "Requirement already satisfied: cycler>=0.10 in /usr/local/lib/python3.10/dist-packages (from matplotlib->detectron2@ git+https://github.com/facebookresearch/detectron2.git@v0.5#egg=detectron2) (0.11.0)\n",
            "Requirement already satisfied: fonttools>=4.22.0 in /usr/local/lib/python3.10/dist-packages (from matplotlib->detectron2@ git+https://github.com/facebookresearch/detectron2.git@v0.5#egg=detectron2) (4.40.0)\n",
            "Requirement already satisfied: kiwisolver>=1.0.1 in /usr/local/lib/python3.10/dist-packages (from matplotlib->detectron2@ git+https://github.com/facebookresearch/detectron2.git@v0.5#egg=detectron2) (1.4.4)\n",
            "Requirement already satisfied: pyparsing>=2.3.1 in /usr/local/lib/python3.10/dist-packages (from matplotlib->detectron2@ git+https://github.com/facebookresearch/detectron2.git@v0.5#egg=detectron2) (3.1.0)\n",
            "Requirement already satisfied: python-dateutil>=2.7 in /usr/local/lib/python3.10/dist-packages (from matplotlib->detectron2@ git+https://github.com/facebookresearch/detectron2.git@v0.5#egg=detectron2) (2.8.2)\n",
            "Requirement already satisfied: absl-py>=0.4 in /usr/local/lib/python3.10/dist-packages (from tensorboard->detectron2@ git+https://github.com/facebookresearch/detectron2.git@v0.5#egg=detectron2) (1.4.0)\n",
            "Requirement already satisfied: grpcio>=1.48.2 in /usr/local/lib/python3.10/dist-packages (from tensorboard->detectron2@ git+https://github.com/facebookresearch/detectron2.git@v0.5#egg=detectron2) (1.56.0)\n",
            "Requirement already satisfied: google-auth<3,>=1.6.3 in /usr/local/lib/python3.10/dist-packages (from tensorboard->detectron2@ git+https://github.com/facebookresearch/detectron2.git@v0.5#egg=detectron2) (2.17.3)\n",
            "Requirement already satisfied: google-auth-oauthlib<1.1,>=0.5 in /usr/local/lib/python3.10/dist-packages (from tensorboard->detectron2@ git+https://github.com/facebookresearch/detectron2.git@v0.5#egg=detectron2) (1.0.0)\n",
            "Requirement already satisfied: markdown>=2.6.8 in /usr/local/lib/python3.10/dist-packages (from tensorboard->detectron2@ git+https://github.com/facebookresearch/detectron2.git@v0.5#egg=detectron2) (3.4.3)\n",
            "Requirement already satisfied: protobuf>=3.19.6 in /usr/local/lib/python3.10/dist-packages (from tensorboard->detectron2@ git+https://github.com/facebookresearch/detectron2.git@v0.5#egg=detectron2) (3.20.0)\n",
            "Requirement already satisfied: requests<3,>=2.21.0 in /usr/local/lib/python3.10/dist-packages (from tensorboard->detectron2@ git+https://github.com/facebookresearch/detectron2.git@v0.5#egg=detectron2) (2.27.1)\n",
            "Requirement already satisfied: setuptools>=41.0.0 in /usr/local/lib/python3.10/dist-packages (from tensorboard->detectron2@ git+https://github.com/facebookresearch/detectron2.git@v0.5#egg=detectron2) (67.7.2)\n",
            "Requirement already satisfied: tensorboard-data-server<0.8.0,>=0.7.0 in /usr/local/lib/python3.10/dist-packages (from tensorboard->detectron2@ git+https://github.com/facebookresearch/detectron2.git@v0.5#egg=detectron2) (0.7.1)\n",
            "Requirement already satisfied: werkzeug>=1.0.1 in /usr/local/lib/python3.10/dist-packages (from tensorboard->detectron2@ git+https://github.com/facebookresearch/detectron2.git@v0.5#egg=detectron2) (2.3.6)\n",
            "Requirement already satisfied: wheel>=0.26 in /usr/local/lib/python3.10/dist-packages (from tensorboard->detectron2@ git+https://github.com/facebookresearch/detectron2.git@v0.5#egg=detectron2) (0.40.0)\n",
            "Requirement already satisfied: cachetools<6.0,>=2.0.0 in /usr/local/lib/python3.10/dist-packages (from google-auth<3,>=1.6.3->tensorboard->detectron2@ git+https://github.com/facebookresearch/detectron2.git@v0.5#egg=detectron2) (5.3.1)\n",
            "Requirement already satisfied: pyasn1-modules>=0.2.1 in /usr/local/lib/python3.10/dist-packages (from google-auth<3,>=1.6.3->tensorboard->detectron2@ git+https://github.com/facebookresearch/detectron2.git@v0.5#egg=detectron2) (0.3.0)\n",
            "Requirement already satisfied: six>=1.9.0 in /usr/local/lib/python3.10/dist-packages (from google-auth<3,>=1.6.3->tensorboard->detectron2@ git+https://github.com/facebookresearch/detectron2.git@v0.5#egg=detectron2) (1.16.0)\n",
            "Requirement already satisfied: rsa<5,>=3.1.4 in /usr/local/lib/python3.10/dist-packages (from google-auth<3,>=1.6.3->tensorboard->detectron2@ git+https://github.com/facebookresearch/detectron2.git@v0.5#egg=detectron2) (4.9)\n",
            "Requirement already satisfied: requests-oauthlib>=0.7.0 in /usr/local/lib/python3.10/dist-packages (from google-auth-oauthlib<1.1,>=0.5->tensorboard->detectron2@ git+https://github.com/facebookresearch/detectron2.git@v0.5#egg=detectron2) (1.3.1)\n",
            "Requirement already satisfied: urllib3<1.27,>=1.21.1 in /usr/local/lib/python3.10/dist-packages (from requests<3,>=2.21.0->tensorboard->detectron2@ git+https://github.com/facebookresearch/detectron2.git@v0.5#egg=detectron2) (1.26.16)\n",
            "Requirement already satisfied: certifi>=2017.4.17 in /usr/local/lib/python3.10/dist-packages (from requests<3,>=2.21.0->tensorboard->detectron2@ git+https://github.com/facebookresearch/detectron2.git@v0.5#egg=detectron2) (2023.5.7)\n",
            "Requirement already satisfied: charset-normalizer~=2.0.0 in /usr/local/lib/python3.10/dist-packages (from requests<3,>=2.21.0->tensorboard->detectron2@ git+https://github.com/facebookresearch/detectron2.git@v0.5#egg=detectron2) (2.0.12)\n",
            "Requirement already satisfied: idna<4,>=2.5 in /usr/local/lib/python3.10/dist-packages (from requests<3,>=2.21.0->tensorboard->detectron2@ git+https://github.com/facebookresearch/detectron2.git@v0.5#egg=detectron2) (3.4)\n",
            "Requirement already satisfied: MarkupSafe>=2.1.1 in /usr/local/lib/python3.10/dist-packages (from werkzeug>=1.0.1->tensorboard->detectron2@ git+https://github.com/facebookresearch/detectron2.git@v0.5#egg=detectron2) (2.1.3)\n",
            "Requirement already satisfied: pyasn1<0.6.0,>=0.4.6 in /usr/local/lib/python3.10/dist-packages (from pyasn1-modules>=0.2.1->google-auth<3,>=1.6.3->tensorboard->detectron2@ git+https://github.com/facebookresearch/detectron2.git@v0.5#egg=detectron2) (0.5.0)\n",
            "Requirement already satisfied: oauthlib>=3.0.0 in /usr/local/lib/python3.10/dist-packages (from requests-oauthlib>=0.7.0->google-auth-oauthlib<1.1,>=0.5->tensorboard->detectron2@ git+https://github.com/facebookresearch/detectron2.git@v0.5#egg=detectron2) (3.2.2)\n",
            "Building wheels for collected packages: detectron2, fvcore, antlr4-python3-runtime\n",
            "  Building wheel for detectron2 (setup.py) ... \u001b[?25l\u001b[?25hdone\n",
            "  Created wheel for detectron2: filename=detectron2-0.5-cp310-cp310-linux_x86_64.whl size=7738123 sha256=15ac7068d68deb250589a3535ab30030e07521f6817f46f3fe281a09690d05c5\n",
            "  Stored in directory: /tmp/pip-ephem-wheel-cache-tkja7c5o/wheels/90/18/04/b8a1ce45720c57c3fa0364dc489ef160ee2136361e994d3e81\n",
            "  Building wheel for fvcore (setup.py) ... \u001b[?25l\u001b[?25hdone\n",
            "  Created wheel for fvcore: filename=fvcore-0.1.5.post20221221-py3-none-any.whl size=61405 sha256=9a43edb3517ffd5a5ac8a0e509bf82f55997cdaa6fef230bdfac1700f4cc7e16\n",
            "  Stored in directory: /root/.cache/pip/wheels/01/c0/af/77c1cf53a1be9e42a52b48e5af2169d40ec2e89f7362489dd0\n",
            "  Building wheel for antlr4-python3-runtime (setup.py) ... \u001b[?25l\u001b[?25hdone\n",
            "  Created wheel for antlr4-python3-runtime: filename=antlr4_python3_runtime-4.9.3-py3-none-any.whl size=144554 sha256=eda7eb0fd894768196f7791307eb114b69caa63cf9e75353e759dd20571e1d6c\n",
            "  Stored in directory: /root/.cache/pip/wheels/12/93/dd/1f6a127edc45659556564c5730f6d4e300888f4bca2d4c5a88\n",
            "Successfully built detectron2 fvcore antlr4-python3-runtime\n",
            "Installing collected packages: antlr4-python3-runtime, yacs, pathspec, omegaconf, mypy-extensions, iopath, hydra-core, fvcore, black, detectron2\n",
            "  Attempting uninstall: iopath\n",
            "    Found existing installation: iopath 0.1.10\n",
            "    Uninstalling iopath-0.1.10:\n",
            "      Successfully uninstalled iopath-0.1.10\n",
            "Successfully installed antlr4-python3-runtime-4.9.3 black-21.4b2 detectron2-0.5 fvcore-0.1.5.post20221221 hydra-core-1.3.2 iopath-0.1.9 mypy-extensions-1.0.0 omegaconf-2.3.0 pathspec-0.11.1 yacs-0.1.8\n"
          ]
        },
        {
          "output_type": "display_data",
          "data": {
            "application/vnd.colab-display-data+json": {
              "pip_warning": {
                "packages": [
                  "iopath",
                  "pydevd_plugins",
                  "tools"
                ]
              }
            }
          },
          "metadata": {}
        }
      ]
    },
    {
      "cell_type": "code",
      "source": [
        "import cv2\n",
        "import layoutparser as lp\n",
        "\n",
        "image = cv2.imread(\"/content/pages/page0.jpg\")\n",
        "\n",
        "image = image[..., ::-1]\n",
        "\n",
        "# load model\n",
        "model = lp.Detectron2LayoutModel(\n",
        "            config_path ='lp://PubLayNet/faster_rcnn_R_50_FPN_3x/config', # In model catalog\n",
        "            label_map   = {0: \"Table\"}, # In model`label_map`\n",
        "            extra_config=[\"MODEL.ROI_HEADS.SCORE_THRESH_TEST\", 0.8] # Optional\n",
        "        )\n",
        "# detect\n",
        "layout = model.detect(image)"
      ],
      "metadata": {
        "id": "bw9SFYnMCX0E",
        "colab": {
          "base_uri": "https://localhost:8080/"
        },
        "outputId": "23e243ce-fe1e-47ff-9d8e-d832971c24bd"
      },
      "execution_count": 31,
      "outputs": [
        {
          "output_type": "stream",
          "name": "stderr",
          "text": [
            "config.yml?dl=1: 8.19kB [00:01, 7.52kB/s]\n",
            "model_final.pth?dl=1: 330MB [00:05, 59.0MB/s]                           \n",
            "WARNING:fvcore.common.checkpoint:The checkpoint state_dict contains keys that are not used by the model:\n",
            "  proposal_generator.anchor_generator.cell_anchors.{0, 1, 2, 3, 4}\n"
          ]
        }
      ]
    },
    {
      "cell_type": "code",
      "source": [
        "layout"
      ],
      "metadata": {
        "id": "G76oO2WXCX6v",
        "colab": {
          "base_uri": "https://localhost:8080/"
        },
        "outputId": "2119926c-3276-44e7-e5e8-c00648e6acff"
      },
      "execution_count": 32,
      "outputs": [
        {
          "output_type": "execute_result",
          "data": {
            "text/plain": [
              "Layout(_blocks=[TextBlock(block=Rectangle(x_1=545.2136840820312, y_1=240.0938262939453, x_2=1122.7684326171875, y_2=261.4152526855469), text=None, id=None, type=Table, parent=None, next=None, score=0.996035635471344), TextBlock(block=Rectangle(x_1=133.2216796875, y_1=252.5806121826172, x_2=1559.3548583984375, y_2=2140.6650390625), text=None, id=None, type=3, parent=None, next=None, score=0.9835959672927856), TextBlock(block=Rectangle(x_1=255.57586669921875, y_1=2110.55322265625, x_2=915.71728515625, y_2=2134.183837890625), text=None, id=None, type=Table, parent=None, next=None, score=0.8061378002166748)], page_data={})"
            ]
          },
          "metadata": {},
          "execution_count": 32
        }
      ]
    },
    {
      "cell_type": "code",
      "source": [
        "x_1=0\n",
        "y_1=0\n",
        "x_2=0\n",
        "y_2=0\n",
        "\n",
        "for l in layout:\n",
        "  #print(l)\n",
        "  if l.type == 'Table':\n",
        "    x_1 = int(l.block.x_1)\n",
        "    print(l.block.x_1)\n",
        "    y_1 = int(l.block.y_1)\n",
        "    x_2 = int(l.block.x_2)\n",
        "    y_2 = int(l.block.y_2)\n",
        "\n",
        "    break"
      ],
      "metadata": {
        "id": "y3h0kCz-CX_U",
        "colab": {
          "base_uri": "https://localhost:8080/"
        },
        "outputId": "4a0ca918-9037-46a5-e025-c47324219a5e"
      },
      "execution_count": 33,
      "outputs": [
        {
          "output_type": "stream",
          "name": "stdout",
          "text": [
            "545.2136840820312\n"
          ]
        }
      ]
    },
    {
      "cell_type": "code",
      "source": [
        "print(x_1,y_1,x_2,y_2)"
      ],
      "metadata": {
        "id": "cdiYPeCJCYIg",
        "colab": {
          "base_uri": "https://localhost:8080/"
        },
        "outputId": "7c8f2974-dd0c-43fa-a4b3-12865deb96f1"
      },
      "execution_count": 34,
      "outputs": [
        {
          "output_type": "stream",
          "name": "stdout",
          "text": [
            "545 240 1122 261\n"
          ]
        }
      ]
    },
    {
      "cell_type": "code",
      "source": [
        "im = cv2.imread('/content/pages/page1.jpg')"
      ],
      "metadata": {
        "id": "F39kJV3hCYLV"
      },
      "execution_count": 66,
      "outputs": []
    },
    {
      "cell_type": "code",
      "source": [
        "cv2.imwrite('ext_im.jpg', im[y_1:y_2,x_1:x_2])"
      ],
      "metadata": {
        "id": "EQDXSNijCYPs",
        "colab": {
          "base_uri": "https://localhost:8080/"
        },
        "outputId": "1025d1e1-5e4b-41c8-8f06-538e263c9cc7"
      },
      "execution_count": 67,
      "outputs": [
        {
          "output_type": "execute_result",
          "data": {
            "text/plain": [
              "True"
            ]
          },
          "metadata": {},
          "execution_count": 67
        }
      ]
    },
    {
      "cell_type": "code",
      "source": [],
      "metadata": {
        "id": "7O2P4aIMor_e"
      },
      "execution_count": 18,
      "outputs": []
    },
    {
      "cell_type": "markdown",
      "metadata": {
        "id": "EGwGhHnd8i_h"
      },
      "source": [
        "# Text Detection and Recognition"
      ]
    },
    {
      "cell_type": "code",
      "source": [
        "from paddleocr import PaddleOCR, draw_ocr"
      ],
      "metadata": {
        "id": "N6WQZXhLLDWk"
      },
      "execution_count": 68,
      "outputs": []
    },
    {
      "cell_type": "code",
      "source": [
        "ocr = PaddleOCR(lang='ru')\n",
        "image_path = '/content/ext_im.jpg'\n",
        "image_cv = cv2.imread(image_path)\n",
        "image_height = image_cv.shape[0]\n",
        "image_width = image_cv.shape[1]\n",
        "output = ocr.ocr(image_path)[0]"
      ],
      "metadata": {
        "colab": {
          "base_uri": "https://localhost:8080/"
        },
        "id": "A8bCZ9AULDZF",
        "outputId": "c8774d4c-243a-46bb-a82f-d54a6f037bfd"
      },
      "execution_count": 69,
      "outputs": [
        {
          "output_type": "stream",
          "name": "stdout",
          "text": [
            "[2023/07/05 13:26:39] ppocr DEBUG: Namespace(help='==SUPPRESS==', use_gpu=True, use_xpu=False, use_npu=False, ir_optim=True, use_tensorrt=False, min_subgraph_size=15, precision='fp32', gpu_mem=500, image_dir=None, page_num=0, det_algorithm='DB', det_model_dir='/root/.paddleocr/whl/det/ml/Multilingual_PP-OCRv3_det_infer', det_limit_side_len=960, det_limit_type='max', det_box_type='quad', det_db_thresh=0.3, det_db_box_thresh=0.6, det_db_unclip_ratio=1.5, max_batch_size=10, use_dilation=False, det_db_score_mode='fast', det_east_score_thresh=0.8, det_east_cover_thresh=0.1, det_east_nms_thresh=0.2, det_sast_score_thresh=0.5, det_sast_nms_thresh=0.2, det_pse_thresh=0, det_pse_box_thresh=0.85, det_pse_min_area=16, det_pse_scale=1, scales=[8, 16, 32], alpha=1.0, beta=1.0, fourier_degree=5, rec_algorithm='SVTR_LCNet', rec_model_dir='/root/.paddleocr/whl/rec/cyrillic/cyrillic_PP-OCRv3_rec_infer', rec_image_inverse=True, rec_image_shape='3, 48, 320', rec_batch_num=6, max_text_length=25, rec_char_dict_path='/usr/local/lib/python3.10/dist-packages/paddleocr/ppocr/utils/dict/cyrillic_dict.txt', use_space_char=True, vis_font_path='./doc/fonts/simfang.ttf', drop_score=0.5, e2e_algorithm='PGNet', e2e_model_dir=None, e2e_limit_side_len=768, e2e_limit_type='max', e2e_pgnet_score_thresh=0.5, e2e_char_dict_path='./ppocr/utils/ic15_dict.txt', e2e_pgnet_valid_set='totaltext', e2e_pgnet_mode='fast', use_angle_cls=False, cls_model_dir='/root/.paddleocr/whl/cls/ch_ppocr_mobile_v2.0_cls_infer', cls_image_shape='3, 48, 192', label_list=['0', '180'], cls_batch_num=6, cls_thresh=0.9, enable_mkldnn=False, cpu_threads=10, use_pdserving=False, warmup=False, sr_model_dir=None, sr_image_shape='3, 32, 128', sr_batch_num=1, draw_img_save_dir='./inference_results', save_crop_res=False, crop_res_save_dir='./output', use_mp=False, total_process_num=1, process_id=0, benchmark=False, save_log_path='./log_output/', show_log=True, use_onnx=False, output='./output', table_max_len=488, table_algorithm='TableAttn', table_model_dir=None, merge_no_span_structure=True, table_char_dict_path=None, layout_model_dir=None, layout_dict_path=None, layout_score_threshold=0.5, layout_nms_threshold=0.5, kie_algorithm='LayoutXLM', ser_model_dir=None, re_model_dir=None, use_visual_backbone=True, ser_dict_path='../train_data/XFUND/class_list_xfun.txt', ocr_order_method=None, mode='structure', image_orientation=False, layout=True, table=True, ocr=True, recovery=False, use_pdf2docx_api=False, lang='ru', det=True, rec=True, type='ocr', ocr_version='PP-OCRv3', structure_version='PP-StructureV2')\n",
            "[2023/07/05 13:26:40] ppocr WARNING: Since the angle classifier is not initialized, the angle classifier will not be uesd during the forward process\n",
            "[2023/07/05 13:26:40] ppocr DEBUG: dt_boxes num : 0, elapse : 0.03306102752685547\n",
            "[2023/07/05 13:26:40] ppocr DEBUG: rec_res num  : 0, elapse : 1.9073486328125e-06\n"
          ]
        }
      ]
    },
    {
      "cell_type": "code",
      "source": [
        "print(output)"
      ],
      "metadata": {
        "colab": {
          "base_uri": "https://localhost:8080/"
        },
        "id": "VBIDZA0XLDeA",
        "outputId": "cf1b995f-1e8e-49e1-93d4-4e78339b7c23"
      },
      "execution_count": 70,
      "outputs": [
        {
          "output_type": "stream",
          "name": "stdout",
          "text": [
            "[]\n"
          ]
        }
      ]
    },
    {
      "cell_type": "code",
      "source": [
        "boxes = [line[0] for line in output]\n",
        "texts = [line[1][0] for line in output]\n",
        "probabilities = [line[1][1] for line in output]"
      ],
      "metadata": {
        "id": "nNMBAQ78LDgG"
      },
      "execution_count": 71,
      "outputs": []
    },
    {
      "cell_type": "code",
      "source": [
        "image_boxes = image_cv.copy()\n"
      ],
      "metadata": {
        "id": "uukcg4SWV_dg"
      },
      "execution_count": 72,
      "outputs": []
    },
    {
      "cell_type": "code",
      "source": [
        "for box,text in zip(boxes,texts):\n",
        "  cv2.rectangle(image_boxes, (int(box[0][0]),int(box[0][1])), (int(box[2][0]),int(box[2][1])),(0,0,255),1)\n",
        "  cv2.putText(image_boxes, text,(int(box[0][0]),int(box[0][1])),cv2.FONT_HERSHEY_SIMPLEX,1,(222,0,0),1)"
      ],
      "metadata": {
        "id": "l_HzbiA7V_fw"
      },
      "execution_count": 73,
      "outputs": []
    },
    {
      "cell_type": "code",
      "source": [
        "cv2.imwrite('detections.jpg', image_boxes)"
      ],
      "metadata": {
        "colab": {
          "base_uri": "https://localhost:8080/"
        },
        "id": "PfUG9mcgV_iJ",
        "outputId": "0c7da0d8-d8bc-4754-c8f3-201e2a7aee64"
      },
      "execution_count": 74,
      "outputs": [
        {
          "output_type": "execute_result",
          "data": {
            "text/plain": [
              "True"
            ]
          },
          "metadata": {},
          "execution_count": 74
        }
      ]
    },
    {
      "cell_type": "markdown",
      "metadata": {
        "id": "kYWt0lzDHZNp"
      },
      "source": [
        "# Reconstruction"
      ]
    },
    {
      "cell_type": "markdown",
      "source": [
        "## Get Horizontal and Vertical Lines"
      ],
      "metadata": {
        "id": "ruzifYJz4H6y"
      }
    },
    {
      "cell_type": "code",
      "source": [
        "im = image_cv.copy()"
      ],
      "metadata": {
        "id": "YLIoKedcqby_"
      },
      "execution_count": 75,
      "outputs": []
    },
    {
      "cell_type": "code",
      "source": [
        "horiz_boxes = []\n",
        "vert_boxes = []\n",
        "\n",
        "for box in boxes:\n",
        "  x_h, x_v = 0,int(box[0][0])\n",
        "  y_h, y_v = int(box[0][1]),0\n",
        "  width_h,width_v = image_width, int(box[2][0]-box[0][0])\n",
        "  height_h,height_v = int(box[2][1]-box[0][1]),image_height\n",
        "\n",
        "  horiz_boxes.append([x_h,y_h,x_h+width_h,y_h+height_h])\n",
        "  vert_boxes.append([x_v,y_v,x_v+width_v,y_v+height_v])\n",
        "\n",
        "  cv2.rectangle(im,(x_h,y_h), (x_h+width_h,y_h+height_h),(0,0,255),1)\n",
        "  cv2.rectangle(im,(x_v,y_v), (x_v+width_v,y_v+height_v),(0,255,0),1)\n"
      ],
      "metadata": {
        "id": "GwcAAe-wccnF"
      },
      "execution_count": 76,
      "outputs": []
    },
    {
      "cell_type": "code",
      "source": [
        "cv2.imwrite('horiz_vert.jpg',im)"
      ],
      "metadata": {
        "colab": {
          "base_uri": "https://localhost:8080/"
        },
        "id": "7UxFGhMkccph",
        "outputId": "0316176e-aa4b-4576-d759-6934802c39a2"
      },
      "execution_count": 77,
      "outputs": [
        {
          "output_type": "execute_result",
          "data": {
            "text/plain": [
              "True"
            ]
          },
          "metadata": {},
          "execution_count": 77
        }
      ]
    },
    {
      "cell_type": "markdown",
      "source": [
        "## Non-Max Suppression"
      ],
      "metadata": {
        "id": "ekVFvJrM4ROL"
      }
    },
    {
      "cell_type": "code",
      "source": [
        "horiz_out = tf.image.non_max_suppression(\n",
        "    horiz_boxes,\n",
        "    probabilities,\n",
        "    max_output_size = 1000,\n",
        "    iou_threshold=0.1,\n",
        "    score_threshold=float('-inf'),\n",
        "    name=None\n",
        ")"
      ],
      "metadata": {
        "id": "4LVSSB2fcoe7",
        "colab": {
          "base_uri": "https://localhost:8080/",
          "height": 432
        },
        "outputId": "f3f7cc21-8b82-4459-ab4d-32aabb3ec6cd"
      },
      "execution_count": 79,
      "outputs": [
        {
          "output_type": "error",
          "ename": "InvalidArgumentError",
          "evalue": "ignored",
          "traceback": [
            "\u001b[0;31m---------------------------------------------------------------------------\u001b[0m",
            "\u001b[0;31mInvalidArgumentError\u001b[0m                      Traceback (most recent call last)",
            "\u001b[0;32m<ipython-input-79-b2794b43d724>\u001b[0m in \u001b[0;36m<cell line: 1>\u001b[0;34m()\u001b[0m\n\u001b[0;32m----> 1\u001b[0;31m horiz_out = tf.image.non_max_suppression(\n\u001b[0m\u001b[1;32m      2\u001b[0m     \u001b[0mhoriz_boxes\u001b[0m\u001b[0;34m,\u001b[0m\u001b[0;34m\u001b[0m\u001b[0;34m\u001b[0m\u001b[0m\n\u001b[1;32m      3\u001b[0m     \u001b[0mprobabilities\u001b[0m\u001b[0;34m,\u001b[0m\u001b[0;34m\u001b[0m\u001b[0;34m\u001b[0m\u001b[0m\n\u001b[1;32m      4\u001b[0m     \u001b[0mmax_output_size\u001b[0m \u001b[0;34m=\u001b[0m \u001b[0;36m1000\u001b[0m\u001b[0;34m,\u001b[0m\u001b[0;34m\u001b[0m\u001b[0;34m\u001b[0m\u001b[0m\n\u001b[1;32m      5\u001b[0m     \u001b[0miou_threshold\u001b[0m\u001b[0;34m=\u001b[0m\u001b[0;36m0.1\u001b[0m\u001b[0;34m,\u001b[0m\u001b[0;34m\u001b[0m\u001b[0;34m\u001b[0m\u001b[0m\n",
            "\u001b[0;32m/usr/local/lib/python3.10/dist-packages/tensorflow/python/util/traceback_utils.py\u001b[0m in \u001b[0;36merror_handler\u001b[0;34m(*args, **kwargs)\u001b[0m\n\u001b[1;32m    151\u001b[0m     \u001b[0;32mexcept\u001b[0m \u001b[0mException\u001b[0m \u001b[0;32mas\u001b[0m \u001b[0me\u001b[0m\u001b[0;34m:\u001b[0m\u001b[0;34m\u001b[0m\u001b[0;34m\u001b[0m\u001b[0m\n\u001b[1;32m    152\u001b[0m       \u001b[0mfiltered_tb\u001b[0m \u001b[0;34m=\u001b[0m \u001b[0m_process_traceback_frames\u001b[0m\u001b[0;34m(\u001b[0m\u001b[0me\u001b[0m\u001b[0;34m.\u001b[0m\u001b[0m__traceback__\u001b[0m\u001b[0;34m)\u001b[0m\u001b[0;34m\u001b[0m\u001b[0;34m\u001b[0m\u001b[0m\n\u001b[0;32m--> 153\u001b[0;31m       \u001b[0;32mraise\u001b[0m \u001b[0me\u001b[0m\u001b[0;34m.\u001b[0m\u001b[0mwith_traceback\u001b[0m\u001b[0;34m(\u001b[0m\u001b[0mfiltered_tb\u001b[0m\u001b[0;34m)\u001b[0m \u001b[0;32mfrom\u001b[0m \u001b[0;32mNone\u001b[0m\u001b[0;34m\u001b[0m\u001b[0;34m\u001b[0m\u001b[0m\n\u001b[0m\u001b[1;32m    154\u001b[0m     \u001b[0;32mfinally\u001b[0m\u001b[0;34m:\u001b[0m\u001b[0;34m\u001b[0m\u001b[0;34m\u001b[0m\u001b[0m\n\u001b[1;32m    155\u001b[0m       \u001b[0;32mdel\u001b[0m \u001b[0mfiltered_tb\u001b[0m\u001b[0;34m\u001b[0m\u001b[0;34m\u001b[0m\u001b[0m\n",
            "\u001b[0;32m/usr/local/lib/python3.10/dist-packages/tensorflow/python/eager/execute.py\u001b[0m in \u001b[0;36mquick_execute\u001b[0;34m(op_name, num_outputs, inputs, attrs, ctx, name)\u001b[0m\n\u001b[1;32m     50\u001b[0m   \u001b[0;32mtry\u001b[0m\u001b[0;34m:\u001b[0m\u001b[0;34m\u001b[0m\u001b[0;34m\u001b[0m\u001b[0m\n\u001b[1;32m     51\u001b[0m     \u001b[0mctx\u001b[0m\u001b[0;34m.\u001b[0m\u001b[0mensure_initialized\u001b[0m\u001b[0;34m(\u001b[0m\u001b[0;34m)\u001b[0m\u001b[0;34m\u001b[0m\u001b[0;34m\u001b[0m\u001b[0m\n\u001b[0;32m---> 52\u001b[0;31m     tensors = pywrap_tfe.TFE_Py_Execute(ctx._handle, device_name, op_name,\n\u001b[0m\u001b[1;32m     53\u001b[0m                                         inputs, attrs, num_outputs)\n\u001b[1;32m     54\u001b[0m   \u001b[0;32mexcept\u001b[0m \u001b[0mcore\u001b[0m\u001b[0;34m.\u001b[0m\u001b[0m_NotOkStatusException\u001b[0m \u001b[0;32mas\u001b[0m \u001b[0me\u001b[0m\u001b[0;34m:\u001b[0m\u001b[0;34m\u001b[0m\u001b[0;34m\u001b[0m\u001b[0m\n",
            "\u001b[0;31mInvalidArgumentError\u001b[0m: {{function_node __wrapped__NonMaxSuppressionV3_device_/job:localhost/replica:0/task:0/device:GPU:0}} boxes must be a rank 2 tensor! (Shape must be rank 2 but is rank 1)\n\t [[{{node NonMaxSuppressionV3}}]] [Op:NonMaxSuppressionV3]"
          ]
        }
      ]
    },
    {
      "cell_type": "code",
      "source": [
        "horiz_lines = np.sort(np.array(horiz_out))\n",
        "print(horiz_lines)"
      ],
      "metadata": {
        "colab": {
          "base_uri": "https://localhost:8080/"
        },
        "id": "pOboYpGnccr2",
        "outputId": "6fb75a1f-3d69-4447-9bc2-f9bd40511cf6"
      },
      "execution_count": 48,
      "outputs": [
        {
          "output_type": "stream",
          "name": "stdout",
          "text": [
            "[5]\n"
          ]
        }
      ]
    },
    {
      "cell_type": "code",
      "source": [
        "im_nms = image_cv.copy()"
      ],
      "metadata": {
        "id": "pfxHrn3iccyK"
      },
      "execution_count": 49,
      "outputs": []
    },
    {
      "cell_type": "code",
      "source": [
        "for val in horiz_lines:\n",
        "  cv2.rectangle(im_nms, (int(horiz_boxes[val][0]),int(horiz_boxes[val][1])), (int(horiz_boxes[val][2]),int(horiz_boxes[val][3])),(0,0,255),1)\n"
      ],
      "metadata": {
        "id": "68PCHfmZcc0L"
      },
      "execution_count": 50,
      "outputs": []
    },
    {
      "cell_type": "code",
      "source": [
        "cv2.imwrite('im_nms.jpg',im_nms)"
      ],
      "metadata": {
        "colab": {
          "base_uri": "https://localhost:8080/"
        },
        "id": "Z8r9qpiAcc2X",
        "outputId": "9a16ceda-7e25-437a-f76c-7b48028ddb51"
      },
      "execution_count": 51,
      "outputs": [
        {
          "output_type": "execute_result",
          "data": {
            "text/plain": [
              "True"
            ]
          },
          "metadata": {},
          "execution_count": 51
        }
      ]
    },
    {
      "cell_type": "code",
      "source": [
        "vert_out = tf.image.non_max_suppression(\n",
        "    vert_boxes,\n",
        "    probabilities,\n",
        "    max_output_size = 1000,\n",
        "    iou_threshold=0.1,\n",
        "    score_threshold=float('-inf'),\n",
        "    name=None\n",
        ")"
      ],
      "metadata": {
        "id": "mKgPuh7rcc4s"
      },
      "execution_count": 52,
      "outputs": []
    },
    {
      "cell_type": "code",
      "source": [
        "print(vert_out)"
      ],
      "metadata": {
        "colab": {
          "base_uri": "https://localhost:8080/"
        },
        "id": "GBpKsImVcc6p",
        "outputId": "7b1a94e0-ff66-40b0-9ff9-71731dfb283b"
      },
      "execution_count": 53,
      "outputs": [
        {
          "output_type": "stream",
          "name": "stdout",
          "text": [
            "tf.Tensor([5 3 1 0 2 4], shape=(6,), dtype=int32)\n"
          ]
        }
      ]
    },
    {
      "cell_type": "code",
      "source": [
        "vert_lines = np.sort(np.array(vert_out))\n",
        "print(vert_lines)"
      ],
      "metadata": {
        "colab": {
          "base_uri": "https://localhost:8080/"
        },
        "id": "K0lBh-yz5YLp",
        "outputId": "bd2ed771-cc8d-4c17-9dfe-5b0c76ff1b03"
      },
      "execution_count": 54,
      "outputs": [
        {
          "output_type": "stream",
          "name": "stdout",
          "text": [
            "[0 1 2 3 4 5]\n"
          ]
        }
      ]
    },
    {
      "cell_type": "code",
      "source": [
        "for val in vert_lines:\n",
        "  cv2.rectangle(im_nms, (int(vert_boxes[val][0]),int(vert_boxes[val][1])), (int(vert_boxes[val][2]),int(vert_boxes[val][3])),(255,0,0),1)\n"
      ],
      "metadata": {
        "id": "WqsLm0L_cc84"
      },
      "execution_count": 55,
      "outputs": []
    },
    {
      "cell_type": "code",
      "source": [
        "cv2.imwrite('im_nms.jpg',im_nms)"
      ],
      "metadata": {
        "colab": {
          "base_uri": "https://localhost:8080/"
        },
        "id": "xZOEa7lpcdGM",
        "outputId": "72b755a9-d69f-4884-9b45-a916658ea0cb"
      },
      "execution_count": 56,
      "outputs": [
        {
          "output_type": "execute_result",
          "data": {
            "text/plain": [
              "True"
            ]
          },
          "metadata": {},
          "execution_count": 56
        }
      ]
    },
    {
      "cell_type": "markdown",
      "source": [
        "## Convert to CSV"
      ],
      "metadata": {
        "id": "116eBUrO93-i"
      }
    },
    {
      "cell_type": "code",
      "source": [
        "\n",
        "\n",
        "out_array = [[\"\" for i in range(len(vert_lines))] for j in range(len(horiz_lines))]\n",
        "print(np.array(out_array).shape)\n",
        "print(out_array)"
      ],
      "metadata": {
        "colab": {
          "base_uri": "https://localhost:8080/"
        },
        "id": "HRQzwVUTcdIq",
        "outputId": "9f6ccfad-8fb1-4fb7-cd5f-17fa5764a6de"
      },
      "execution_count": 57,
      "outputs": [
        {
          "output_type": "stream",
          "name": "stdout",
          "text": [
            "(1, 6)\n",
            "[['', '', '', '', '', '']]\n"
          ]
        }
      ]
    },
    {
      "cell_type": "code",
      "source": [
        "\n",
        "unordered_boxes = []\n",
        "\n",
        "for i in vert_lines:\n",
        "  print(vert_boxes[i])\n",
        "  unordered_boxes.append(vert_boxes[i][0])"
      ],
      "metadata": {
        "colab": {
          "base_uri": "https://localhost:8080/"
        },
        "id": "sSrupaRZIAk_",
        "outputId": "c2a08324-d9c1-4e7b-b46d-d4500a5dc281"
      },
      "execution_count": 58,
      "outputs": [
        {
          "output_type": "stream",
          "name": "stdout",
          "text": [
            "[7, 0, 103, 21]\n",
            "[104, 0, 179, 21]\n",
            "[180, 0, 216, 21]\n",
            "[220, 0, 295, 21]\n",
            "[299, 0, 443, 21]\n",
            "[447, 0, 566, 21]\n"
          ]
        }
      ]
    },
    {
      "cell_type": "code",
      "source": [
        "ordered_boxes = np.argsort(unordered_boxes)\n",
        "print(ordered_boxes)"
      ],
      "metadata": {
        "colab": {
          "base_uri": "https://localhost:8080/"
        },
        "id": "lRMlVNh_HuJV",
        "outputId": "cea1ce79-674d-4f7d-be69-cc7317822954"
      },
      "execution_count": 59,
      "outputs": [
        {
          "output_type": "stream",
          "name": "stdout",
          "text": [
            "[0 1 2 3 4 5]\n"
          ]
        }
      ]
    },
    {
      "cell_type": "code",
      "source": [
        "def intersection(box_1, box_2):\n",
        "  return [box_2[0], box_1[1],box_2[2], box_1[3]]"
      ],
      "metadata": {
        "id": "AHHaxKUuC6jQ"
      },
      "execution_count": 60,
      "outputs": []
    },
    {
      "cell_type": "code",
      "source": [
        "def iou(box_1, box_2):\n",
        "\n",
        "  x_1 = max(box_1[0], box_2[0])\n",
        "  y_1 = max(box_1[1], box_2[1])\n",
        "  x_2 = min(box_1[2], box_2[2])\n",
        "  y_2 = min(box_1[3], box_2[3])\n",
        "\n",
        "  inter = abs(max((x_2 - x_1, 0)) * max((y_2 - y_1), 0))\n",
        "  if inter == 0:\n",
        "      return 0\n",
        "\n",
        "  box_1_area = abs((box_1[2] - box_1[0]) * (box_1[3] - box_1[1]))\n",
        "  box_2_area = abs((box_2[2] - box_2[0]) * (box_2[3] - box_2[1]))\n",
        "\n",
        "  return inter / float(box_1_area + box_2_area - inter)"
      ],
      "metadata": {
        "id": "fDVb0DkxJSIf"
      },
      "execution_count": 61,
      "outputs": []
    },
    {
      "cell_type": "code",
      "source": [
        "for i in range(len(horiz_lines)):\n",
        "  for j in range(len(vert_lines)):\n",
        "    resultant = intersection(horiz_boxes[horiz_lines[i]], vert_boxes[vert_lines[ordered_boxes[j]]] )\n",
        "\n",
        "    for b in range(len(boxes)):\n",
        "      the_box = [boxes[b][0][0],boxes[b][0][1],boxes[b][2][0],boxes[b][2][1]]\n",
        "      if(iou(resultant,the_box)>0.1):\n",
        "        out_array[i][j] = texts[b]"
      ],
      "metadata": {
        "id": "LWGhCwg6BIoL"
      },
      "execution_count": 62,
      "outputs": []
    },
    {
      "cell_type": "code",
      "source": [
        "out_array=np.array(out_array)"
      ],
      "metadata": {
        "id": "c4tEY9LGNIM9"
      },
      "execution_count": 63,
      "outputs": []
    },
    {
      "cell_type": "code",
      "source": [
        "out_array"
      ],
      "metadata": {
        "id": "_ekto4-Ymxv2",
        "outputId": "b1fdfcd9-5a20-4a17-d47f-74b10bdfda1b",
        "colab": {
          "base_uri": "https://localhost:8080/"
        }
      },
      "execution_count": 64,
      "outputs": [
        {
          "output_type": "execute_result",
          "data": {
            "text/plain": [
              "array([['исходные', 'ае', 'ля', 'расчеа', 'кШИчEИ', 'оказателей']],\n",
              "      dtype='<U10')"
            ]
          },
          "metadata": {},
          "execution_count": 64
        }
      ]
    },
    {
      "cell_type": "code",
      "source": [
        "pd.DataFrame(out_array).to_csv('sample.csv')"
      ],
      "metadata": {
        "id": "D8UdX80wBI9V"
      },
      "execution_count": 65,
      "outputs": []
    },
    {
      "cell_type": "markdown",
      "source": [
        "## Merging Cells"
      ],
      "metadata": {
        "id": "E693Ela3qhLx"
      }
    },
    {
      "cell_type": "code",
      "source": [
        "current_bank=['']*len(out_array[0,:])\n",
        "print(current_bank)"
      ],
      "metadata": {
        "colab": {
          "base_uri": "https://localhost:8080/"
        },
        "id": "XNcX7fEWPDfw",
        "outputId": "ba758d7c-0c66-4b0f-880c-8a7ec5357de1"
      },
      "execution_count": 47,
      "outputs": [
        {
          "output_type": "stream",
          "name": "stdout",
          "text": [
            "['', '', '', '', '', '', '', '', '', '', '', '', '', '', '']\n"
          ]
        }
      ]
    },
    {
      "cell_type": "code",
      "source": [
        "def empty(arr):\n",
        "  for i in arr:\n",
        "    if i=='':\n",
        "      return True\n",
        "  return False"
      ],
      "metadata": {
        "id": "TTF5ojcCQJKR"
      },
      "execution_count": 48,
      "outputs": []
    },
    {
      "cell_type": "code",
      "source": [
        "cleaned_array=[]"
      ],
      "metadata": {
        "id": "3w1amnEXSVSB"
      },
      "execution_count": 49,
      "outputs": []
    },
    {
      "cell_type": "code",
      "source": [
        "for i in range(len(out_array)):\n",
        "  if not empty(out_array[i]):\n",
        "    current_bank=[out_array[i][j] for j in range(len(out_array[i]))]\n",
        "    cleaned_array.append(current_bank)\n",
        "    not_empty=True\n",
        "  else:\n",
        "    for j in range(len(out_array[i])):\n",
        "      current_bank[j]+=' '+out_array[i][j]\n",
        "    print('-->',current_bank)\n",
        "cleaned_array=np.array(cleaned_array)\n",
        "print(cleaned_array)"
      ],
      "metadata": {
        "id": "W_q9e2EkPepQ",
        "colab": {
          "base_uri": "https://localhost:8080/"
        },
        "outputId": "41aabaa0-4ced-4e20-8653-4e0f24008297"
      },
      "execution_count": 50,
      "outputs": [
        {
          "output_type": "stream",
          "name": "stdout",
          "text": [
            "--> [' No I', ' ', ' ', ' ', ' ', ' ', ' оказађели', ' оказађели', ' ', ' ', ' ', ' Ed.', ' измерения', ' начения', ' нароектныйгод']\n",
            "--> [' No I ', '  ', '  Hефт', '  знтренне', '  знтренне', '  ', ' оказађели ', ' оказађели ', '  ', '  ', '  ', ' Ed. ', ' измерения Pyo.т', ' начения ', ' нароектныйгод зђ']\n",
            "--> [' No I  ', '   ', '  Hефт Hефты', '  знтренне BHеUHем', '  знтренне BHеUHем', '   ', ' оказађели  ', ' оказађели  ', '   ', '   ', '   ', ' Ed.  доллбаpp.', ' измерения Pyo.т доллбаpp.', ' начения  ', ' нароектныйгод зђ 5O,']\n",
            "--> [' No I   ', '    ', '  Hефт Hефты ', '  знтренне BHеUHем ', '  знтренне BHеUHем Bнтреннемрынке', '    Bнтреннемрынке', ' оказађели   ', ' оказађели   ', '    ', '    ', '    ', ' Ed.  доллбаpp. ', ' измерения Pyo.т доллбаpp. Pyo.т', ' начения   ', ' нароектныйгод зђ 5O, ']\n",
            "--> [' No I    ', '     ', '  Hефт Hефты  природныйгаз', '  знтренне BHеUHем  природныйгаз', '  знтренне BHеUHем Bнтреннемрынке ', '    Bнтреннемрынке ', ' оказађели    ', ' оказађели    ', '     ', '     ', '     ', ' Ed.  доллбаpp.  Pyб.J1OоOм', ' измерения Pyo.т доллбаpp. Pyo.т Pyб.J1OоOм', ' начения    ', ' нароектныйгод зђ 5O,  ']\n",
            "--> [' No I     ', '      ', '  Hефт Hефты  природныйгаз оренныйгаз', '  знтренне BHеUHем  природныйгаз оренныйгаз', '  знтренне BHеUHем Bнтреннемрынке  оренныйгаз', '    Bнтреннемрынке  ', ' оказађели     ', ' оказађели     ', '      ', '      ', '      ', ' Ed.  доллбаpp.  Pyб.J1OоOм ', ' измерения Pyo.т доллбаpp. Pyo.т Pyб.J1OоOм Pу6.JOOOM', ' начения     ', ' нароектныйгод зђ 5O,   1736,']\n",
            "--> [' No I      ', '       оля', '  Hефт Hефты  природныйгаз оренныйгаз ', '  знтренне BHеUHем  природныйгаз оренныйгаз HефTI Hа BHешHеM', '  знтренне BHеUHем Bнтреннемрынке  оренныйгаз HефTI Hа BHешHеM', '    Bнтреннемрынке   HефTI Hа BHешHеM', ' оказађели      ынке', ' оказађели      ', '       ', '       ', '       ', ' Ed.  доллбаpp.  Pyб.J1OоOм  ', ' измерения Pyo.т доллбаpp. Pyo.т Pyб.J1OоOм Pу6.JOOOM ', ' начения      ', ' нароектныйгод зђ 5O,   1736, 5D,']\n",
            "--> [' No I       ', '       оля ', '  Hефт Hефты  природныйгаз оренныйгаз  ', '  знтренне BHеUHем  природныйгаз оренныйгаз HефTI Hа BHешHеM обьчу', '  знтренне BHеUHем Bнтреннемрынке  оренныйгаз HефTI Hа BHешHеM нефтиK', '    Bнтреннемрынке   HефTI Hа BHешHеM дI', ' оказађели      ынке ', ' оказађели       ', '        ', '        ', '        ', ' Ed.  доллбаpp.  Pyб.J1OоOм   ', ' измерения Pyo.т доллбаpp. Pyo.т Pyб.J1OоOм Pу6.JOOOM  руб.т', ' начения       ', ' нароектныйгод зђ 5O,   1736, 5D, 8']\n",
            "--> [' No I        ', '       оля  ', '  Hефт Hефты  природныйгаз оренныйгаз   ', '  знтренне BHеUHем  природныйгаз оренныйгаз HефTI Hа BHешHеM обьчу ођђч', '  знтренне BHеUHем Bнтреннемрынке  оренныйгаз HефTI Hа BHешHеM нефтиK ођђч', '    Bнтреннемрынке   HефTI Hа BHешHеM дI ', ' оказађели      ынке  ', ' оказађели        ', '         ', '         ', '         ', ' Ed.  доллбаpp.  Pyб.J1OоOм    ', ' измерения Pyo.т доллбаpp. Pyo.т Pyб.J1OоOм Pу6.JOOOM  руб.т руo.т', ' начения        ', ' нароектныйгод зђ 5O,   1736, 5D, 8 ']\n",
            "--> [' No I         ', '       оля   ', '  Hефт Hефты  природныйгаз оренныйгаз    ', '  знтренне BHеUHем  природныйгаз оренныйгаз HефTI Hа BHешHеM обьчу ођђч ', '  знтренне BHеUHем Bнтреннемрынке  оренныйгаз HефTI Hа BHешHеM нефтиK ођђч природногогаэ', '    Bнтреннемрынке   HефTI Hа BHешHеM дI  природногогаэ', ' оказађели      ынке   природногогаэ', ' оказађели         ', '          ', '          ', '          ', ' Ed.  доллбаpp.  Pyб.J1OоOм     ', ' измерения Pyo.т доллбаpp. Pyo.т Pyб.J1OоOм Pу6.JOOOM  руб.т руo.т Py6.OOOM', ' начения         ', ' нароектныйгод зђ 5O,   1736, 5D, 8  ']\n",
            "--> [' No I          ', '       оля    ', '  Hефт Hефты  природныйгаз оренныйгаз     ', '  знтренне BHеUHем  природныйгаз оренныйгаз HефTI Hа BHешHеM обьчу ођђч  ', '  знтренне BHеUHем Bнтреннемрынке  оренныйгаз HефTI Hа BHешHеM нефтиK ођђч природногогаэ ', '    Bнтреннемрынке   HефTI Hа BHешHеM дI  природногогаэ ', ' оказађели      ынке   природногогаэ ', ' оказађели          ', '           ', '           ', '           ', ' Ed.  доллбаpp.  Pyб.J1OоOм      доллбарр', ' измерения Pyo.т доллбаpp. Pyo.т Pyб.J1OоOм Pу6.JOOOM  руб.т руo.т Py6.OOOM доллбарр', ' начения          ', ' нароектныйгод зђ 5O,   1736, 5D, 8   5о']\n",
            "--> [' No I           ', '       оля     ', '  Hефт Hефты  природныйгаз оренныйгаз      ', '  знтренне BHеUHем  природныйгаз оренныйгаз HефTI Hа BHешHеM обьчу ођђч   ', '  знтренне BHеUHем Bнтреннемрынке  оренныйгаз HефTI Hа BHешHеM нефтиK ођђч природногогаэ  ', '    Bнтреннемрынке   HефTI Hа BHешHеM дI  природногогаэ  ', ' оказађели      ынке   природногогаэ  ', ' оказађели           ', '            ', '            ', '            ', ' Ed.  доллбаpp.  Pyб.J1OоOм      доллбарр ', ' измерения Pyo.т доллбаpp. Pyo.т Pyб.J1OоOм Pу6.JOOOM  руб.т руo.т Py6.OOOM доллбарр ', ' начения           ', ' нароектныйгод зђ 5O,   1736, 5D, 8   5о 20,0']\n",
            "--> [' No I            ', '       оля      ', '  Hефт Hефты  природныйгаз оренныйгаз       ', '  знтренне BHеUHем  природныйгаз оренныйгаз HефTI Hа BHешHеM обьчу ођђч    ', '  знтренне BHеUHем Bнтреннемрынке  оренныйгаз HефTI Hа BHешHеM нефтиK ођђч природногогаэ   ', '    Bнтреннемрынке   HефTI Hа BHешHеM дI  природногогаэ   ', ' оказађели      ынке   природногогаэ   ', ' оказађели            ', '             ', '             ', '             ', ' Ed.  доллбаpp.  Pyб.J1OоOм      доллбарр  ', ' измерения Pyo.т доллбаpp. Pyo.т Pyб.J1OоOм Pу6.JOOOM  руб.т руo.т Py6.OOOM доллбарр  ', ' начения            ', ' нароектныйгод зђ 5O,   1736, 5D, 8   5о 20,0 ,']\n",
            "--> [' No I             ', '       оля       ', '  Hефт Hефты  природныйгаз оренныйгаз        ', '  знтренне BHеUHем  природныйгаз оренныйгаз HефTI Hа BHешHеM обьчу ођђч     ', '  знтренне BHеUHем Bнтреннемрынке  оренныйгаз HефTI Hа BHешHеM нефтиK ођђч природногогаэ    ', '    Bнтреннемрынке   HефTI Hа BHешHеM дI  природногогаэ    ', ' оказађели      ынке   природногогаэ    ', ' оказађели             ', '              ', '              ', '              ', ' Ed.  доллбаpp.  Pyб.J1OоOм      доллбарр   ', ' измерения Pyo.т доллбаpp. Pyo.т Pyб.J1OоOм Pу6.JOOOM  руб.т руo.т Py6.OOOM доллбарр   ', ' начения             ', ' нароектныйгод зђ 5O,   1736, 5D, 8   5о 20,0 , O,5']\n",
            "--> [' No I              ', '       оля        ', '  Hефт Hефты  природныйгаз оренныйгаз         ', '  знтренне BHеUHем  природныйгаз оренныйгаз HефTI Hа BHешHеM обьчу ођђч      ', '  знтренне BHеUHем Bнтреннемрынке  оренныйгаз HефTI Hа BHешHеM нефтиK ођђч природногогаэ     ', '    Bнтреннемрынке   HефTI Hа BHешHеM дI  природногогаэ     ', ' оказађели      ынке   природногогаэ     ', ' оказађели              ', '               ', '               ', '               ', ' Ed.  доллбаpp.  Pyб.J1OоOм      доллбарр    ', ' измерения Pyo.т доллбаpp. Pyo.т Pyб.J1OоOм Pу6.JOOOM  руб.т руo.т Py6.OOOM доллбарр    ', ' начения              ', ' нароектныйгод зђ 5O,   1736, 5D, 8   5о 20,0 , O,5 O,OO66']\n",
            "--> [' No I               ', '       оля         ', '  Hефт Hефты  природныйгаз оренныйгаз          ', '  знтренне BHеUHем  природныйгаз оренныйгаз HефTI Hа BHешHеM обьчу ођђч       ', '  знтренне BHеUHем Bнтреннемрынке  оренныйгаз HефTI Hа BHешHеM нефтиK ођђч природногогаэ      ', '    Bнтреннемрынке   HефTI Hа BHешHеM дI  природногогаэ      ', ' оказађели      ынке   природногогаэ      ', ' оказађели               ', '                ', '                ', '                ', ' Ed.  доллбаpp.  Pyб.J1OоOм      доллбарр     T. py6.rод', ' измерения Pyo.т доллбаpp. Pyo.т Pyб.J1OоOм Pу6.JOOOM  руб.т руo.т Py6.OOOM доллбарр     T. py6.rод', ' начения               ', ' нароектныйгод зђ 5O,   1736, 5D, 8   5о 20,0 , O,5 O,OO66 463:900']\n",
            "--> [' No I                ', '       оля          ', '  Hефт Hефты  природныйгаз оренныйгаз           ыIBаюшаTазоBаяCкBаЖиHE', '  знтренне BHеUHем  природныйгаз оренныйгаз HефTI Hа BHешHеM обьчу ођђч        ыIBаюшаTазоBаяCкBаЖиHE', '  знтренне BHеUHем Bнтреннемрынке  оренныйгаз HефTI Hа BHешHеM нефтиK ођђч природногогаэ       ыIBаюшаTазоBаяCкBаЖиHE', '    Bнтреннемрынке   HефTI Hа BHешHеM дI  природногогаэ       ыIBаюшаTазоBаяCкBаЖиHE', ' оказађели      ынке   природногогаэ       ', ' оказађели                ', '                 ', '                 ', '                 ', ' Ed.  доллбаpp.  Pyб.J1OоOм      доллбарр     T. py6.rод ', ' измерения Pyo.т доллбаpp. Pyo.т Pyб.J1OоOм Pу6.JOOOM  руб.т руo.т Py6.OOOM доллбарр     T. py6.rод рyo.м', ' начения                ', ' нароектныйгод зђ 5O,   1736, 5D, 8   5о 20,0 , O,5 O,OO66 463:900 ']\n",
            "--> [' No I                 ', '       оля           ', '  Hефт Hефты  природныйгаз оренныйгаз           ыIBаюшаTазоBаяCкBаЖиHE ', '  знтренне BHеUHем  природныйгаз оренныйгаз HефTI Hа BHешHеM обьчу ођђч        ыIBаюшаTазоBаяCкBаЖиHE ', '  знтренне BHеUHем Bнтреннемрынке  оренныйгаз HефTI Hа BHешHеM нефтиK ођђч природногогаэ       ыIBаюшаTазоBаяCкBаЖиHE ', '    Bнтреннемрынке   HефTI Hа BHешHеM дI  природногогаэ       ыIBаюшаTазоBаяCкBаЖиHE ', ' оказађели      ынке   природногогаэ        ', ' оказађели                 правленнаяскважин', '                  правленнаяскважин', '                  ', '                  ', ' Ed.  доллбаpp.  Pyб.J1OоOм      доллбарр     T. py6.rод  ', ' измерения Pyo.т доллбаpp. Pyo.т Pyб.J1OоOм Pу6.JOOOM  руб.т руo.т Py6.OOOM доллбарр     T. py6.rод рyo.м Pyo.M', ' начения                 ', ' нароектныйгод зђ 5O,   1736, 5D, 8   5о 20,0 , O,5 O,OO66 463:900  ']\n",
            "--> [' No I                  ', '       оля            ', '  Hефт Hефты  природныйгаз оренныйгаз           ыIBаюшаTазоBаяCкBаЖиHE  дооываюшаяHефтяHаягоризоHтальHаяскважиH:', '  знтренне BHеUHем  природныйгаз оренныйгаз HефTI Hа BHешHеM обьчу ођђч        ыIBаюшаTазоBаяCкBаЖиHE  дооываюшаяHефтяHаягоризоHтальHаяскважиH:', '  знтренне BHеUHем Bнтреннемрынке  оренныйгаз HефTI Hа BHешHеM нефтиK ођђч природногогаэ       ыIBаюшаTазоBаяCкBаЖиHE  дооываюшаяHефтяHаягоризоHтальHаяскважиH:', '    Bнтреннемрынке   HефTI Hа BHешHеM дI  природногогаэ       ыIBаюшаTазоBаяCкBаЖиHE  дооываюшаяHефтяHаягоризоHтальHаяскважиH:', ' оказађели      ынке   природногогаэ         дооываюшаяHефтяHаягоризоHтальHаяскважиH:', ' оказађели                 правленнаяскважин ', '                  правленнаяскважин дооываюшаяHефтяHаягоризоHтальHаяскважиH:', '                   ', '                   ', ' Ed.  доллбаpp.  Pyб.J1OоOм      доллбарр     T. py6.rод   ', ' измерения Pyo.т доллбаpp. Pyo.т Pyб.J1OоOм Pу6.JOOOM  руб.т руo.т Py6.OOOM доллбарр     T. py6.rод рyo.м Pyo.M рyo.M', ' начения                  ', ' нароектныйгод зђ 5O,   1736, 5D, 8   5о 20,0 , O,5 O,OO66 463:900   ']\n",
            "--> [' No I                   ', '       оля             ', '  Hефт Hефты  природныйгаз оренныйгаз           ыIBаюшаTазоBаяCкBаЖиHE  дооываюшаяHефтяHаягоризоHтальHаяскважиH: ', '  знтренне BHеUHем  природныйгаз оренныйгаз HефTI Hа BHешHеM обьчу ођђч        ыIBаюшаTазоBаяCкBаЖиHE  дооываюшаяHефтяHаягоризоHтальHаяскважиH: HагнетателынаяскважиHагазоконденсатныIйпромыIсел', '  знтренне BHеUHем Bнтреннемрынке  оренныйгаз HефTI Hа BHешHеM нефтиK ођђч природногогаэ       ыIBаюшаTазоBаяCкBаЖиHE  дооываюшаяHефтяHаягоризоHтальHаяскважиH: HагнетателынаяскважиHагазоконденсатныIйпромыIсел', '    Bнтреннемрынке   HефTI Hа BHешHеM дI  природногогаэ       ыIBаюшаTазоBаяCкBаЖиHE  дооываюшаяHефтяHаягоризоHтальHаяскважиH: HагнетателынаяскважиHагазоконденсатныIйпромыIсел', ' оказађели      ынке   природногогаэ         дооываюшаяHефтяHаягоризоHтальHаяскважиH: HагнетателынаяскважиHагазоконденсатныIйпромыIсел', ' оказађели                 правленнаяскважин  ', '                  правленнаяскважин дооываюшаяHефтяHаягоризоHтальHаяскважиH: HагнетателынаяскважиHагазоконденсатныIйпромыIсел', '                    сайклиHг', '                    процесс', ' Ed.  доллбаpp.  Pyб.J1OоOм      доллбарр     T. py6.rод    ', ' измерения Pyo.т доллбаpp. Pyo.т Pyб.J1OоOм Pу6.JOOOM  руб.т руo.т Py6.OOOM доллбарр     T. py6.rод рyo.м Pyo.M рyo.M рyо.м', ' начения                   ', ' нароектныйгод зђ 5O,   1736, 5D, 8   5о 20,0 , O,5 O,OO66 463:900    ']\n",
            "--> [' No I                    ', '       оля              ', '  Hефт Hефты  природныйгаз оренныйгаз           ыIBаюшаTазоBаяCкBаЖиHE  дооываюшаяHефтяHаягоризоHтальHаяскважиH:  бурение бокового CтBола', '  знтренне BHеUHем  природныйгаз оренныйгаз HефTI Hа BHешHеM обьчу ођђч        ыIBаюшаTазоBаяCкBаЖиHE  дооываюшаяHефтяHаягоризоHтальHаяскважиH: HагнетателынаяскважиHагазоконденсатныIйпромыIсел бурение бокового CтBола', '  знтренне BHеUHем Bнтреннемрынке  оренныйгаз HефTI Hа BHешHеM нефтиK ођђч природногогаэ       ыIBаюшаTазоBаяCкBаЖиHE  дооываюшаяHефтяHаягоризоHтальHаяскважиH: HагнетателынаяскважиHагазоконденсатныIйпромыIсел бурение бокового CтBола', '    Bнтреннемрынке   HефTI Hа BHешHеM дI  природногогаэ       ыIBаюшаTазоBаяCкBаЖиHE  дооываюшаяHефтяHаягоризоHтальHаяскважиH: HагнетателынаяскважиHагазоконденсатныIйпромыIсел ', ' оказађели      ынке   природногогаэ         дооываюшаяHефтяHаягоризоHтальHаяскважиH: HагнетателынаяскважиHагазоконденсатныIйпромыIсел ', ' оказађели                 правленнаяскважин   ', '                  правленнаяскважин дооываюшаяHефтяHаягоризоHтальHаяскважиH: HагнетателынаяскважиHагазоконденсатныIйпромыIсел ', '                    сайклиHг ', '                    процесс ', ' Ed.  доллбаpp.  Pyб.J1OоOм      доллбарр     T. py6.rод     ThIc.', ' измерения Pyo.т доллбаpp. Pyo.т Pyб.J1OоOм Pу6.JOOOM  руб.т руo.т Py6.OOOM доллбарр     T. py6.rод рyo.м Pyo.M рyo.M рyо.м ро.скв', ' начения                    ', ' нароектныйгод зђ 5O,   1736, 5D, 8   5о 20,0 , O,5 O,OO66 463:900     даџђ']\n",
            "--> [' No I                     ', '       оля               ', '  Hефт Hефты  природныйгаз оренныйгаз           ыIBаюшаTазоBаяCкBаЖиHE  дооываюшаяHефтяHаягоризоHтальHаяскважиH:  бурение бокового CтBола ', '  знтренне BHеUHем  природныйгаз оренныйгаз HефTI Hа BHешHеM обьчу ођђч        ыIBаюшаTазоBаяCкBаЖиHE  дооываюшаяHефтяHаягоризоHтальHаяскважиH: HагнетателынаяскважиHагазоконденсатныIйпромыIсел бурение бокового CтBола ', '  знтренне BHеUHем Bнтреннемрынке  оренныйгаз HефTI Hа BHешHеM нефтиK ођђч природногогаэ       ыIBаюшаTазоBаяCкBаЖиHE  дооываюшаяHефтяHаягоризоHтальHаяскважиH: HагнетателынаяскважиHагазоконденсатныIйпромыIсел бурение бокового CтBола ', '    Bнтреннемрынке   HефTI Hа BHешHеM дI  природногогаэ       ыIBаюшаTазоBаяCкBаЖиHE  дооываюшаяHефтяHаягоризоHтальHаяскважиH: HагнетателынаяскважиHагазоконденсатныIйпромыIсел  ', ' оказађели      ынке   природногогаэ         дооываюшаяHефтяHаягоризоHтальHаяскважиH: HагнетателынаяскважиHагазоконденсатныIйпромыIсел  ', ' оказађели                 правленнаяскважин    ', '                  правленнаяскважин дооываюшаяHефтяHаягоризоHтальHаяскважиH: HагнетателынаяскважиHагазоконденсатныIйпромыIсел  ', '                    сайклиHг  ', '                    процесс  ', ' Ed.  доллбаpp.  Pyб.J1OоOм      доллбарр     T. py6.rод     ThIc. Tыс.', ' измерения Pyo.т доллбаpp. Pyo.т Pyб.J1OоOм Pу6.JOOOM  руб.т руo.т Py6.OOOM доллбарр     T. py6.rод рyo.м Pyo.M рyo.M рyо.м ро.скв DO.скE', ' начения                     ', ' нароектныйгод зђ 5O,   1736, 5D, 8   5о 20,0 , O,5 O,OO66 463:900     даџђ ']\n",
            "--> [' No I                      ', '       оля                ', '  Hефт Hефты  природныйгаз оренныйгаз           ыIBаюшаTазоBаяCкBаЖиHE  дооываюшаяHефтяHаягоризоHтальHаяскважиH:  бурение бокового CтBола  ', '  знтренне BHеUHем  природныйгаз оренныйгаз HефTI Hа BHешHеM обьчу ођђч        ыIBаюшаTазоBаяCкBаЖиHE  дооываюшаяHефтяHаягоризоHтальHаяскважиH: HагнетателынаяскважиHагазоконденсатныIйпромыIсел бурение бокового CтBола  Hе BхOдяшеE', '  знтренне BHеUHем Bнтреннемрынке  оренныйгаз HефTI Hа BHешHеM нефтиK ођђч природногогаэ       ыIBаюшаTазоBаяCкBаЖиHE  дооываюшаяHефтяHаягоризоHтальHаяскважиH: HагнетателынаяскважиHагазоконденсатныIйпромыIсел бурение бокового CтBола  Hе BхOдяшеE', '    Bнтреннемрынке   HефTI Hа BHешHеM дI  природногогаэ       ыIBаюшаTазоBаяCкBаЖиHE  дооываюшаяHефтяHаягоризоHтальHаяскважиH: HагнетателынаяскважиHагазоконденсатныIйпромыIсел   ', ' оказађели      ынке   природногогаэ         дооываюшаяHефтяHаягоризоHтальHаяскважиH: HагнетателынаяскважиHагазоконденсатныIйпромыIсел   ', ' оказађели                 правленнаяскважин     для', '                  правленнаяскважин дооываюшаяHефтяHаягоризоHтальHаяскважиH: HагнетателынаяскважиHагазоконденсатныIйпромыIсел   HетедоOыIч', '                    сайклиHг   ', '                    процесс   ', \" Ed.  доллбаpp.  Pyб.J1OоOм      доллбарр     T. py6.rод     ThIc. Tыс. I'b1C.\", ' измерения Pyo.т доллбаpp. Pyo.т Pyб.J1OоOм Pу6.JOOOM  руб.т руo.т Py6.OOOM доллбарр     T. py6.rод рyo.м Pyo.M рyo.M рyо.м ро.скв DO.скE Pyb.dob.', ' начения                      ', ' нароектныйгод зђ 5O,   1736, 5D, 8   5о 20,0 , O,5 O,OO66 463:900     даџђ  70о,0']\n",
            "--> [' No I                       ', '       оля                 ', '  Hефт Hефты  природныйгаз оренныйгаз           ыIBаюшаTазоBаяCкBаЖиHE  дооываюшаяHефтяHаягоризоHтальHаяскважиH:  бурение бокового CтBола   ', '  знтренне BHеUHем  природныйгаз оренныйгаз HефTI Hа BHешHеM обьчу ођђч        ыIBаюшаTазоBаяCкBаЖиHE  дооываюшаяHефтяHаягоризоHтальHаяскважиH: HагнетателынаяскважиHагазоконденсатныIйпромыIсел бурение бокового CтBола  Hе BхOдяшеE промысе', '  знтренне BHеUHем Bнтреннемрынке  оренныйгаз HефTI Hа BHешHеM нефтиK ођђч природногогаэ       ыIBаюшаTазоBаяCкBаЖиHE  дооываюшаяHефтяHаягоризоHтальHаяскважиH: HагнетателынаяскважиHагазоконденсатныIйпромыIсел бурение бокового CтBола  Hе BхOдяшеE промысе', '    Bнтреннемрынке   HефTI Hа BHешHеM дI  природногогаэ       ыIBаюшаTазоBаяCкBаЖиHE  дооываюшаяHефтяHаягоризоHтальHаяскважиH: HагнетателынаяскважиHагазоконденсатныIйпромыIсел    ', ' оказађели      ынке   природногогаэ         дооываюшаяHефтяHаягоризоHтальHаяскважиH: HагнетателынаяскважиHагазоконденсатныIйпромыIсел    ', ' оказађели                 правленнаяскважин     для ', '                  правленнаяскважин дооываюшаяHефтяHаягоризоHтальHаяскважиH: HагнетателынаяскважиHагазоконденсатныIйпромыIсел   HетедоOыIч ', '                    сайклиHг    ', '                    процесс    ', \" Ed.  доллбаpp.  Pyб.J1OоOм      доллбарр     T. py6.rод     ThIc. Tыс. I'b1C. \", ' измерения Pyo.т доллбаpp. Pyo.т Pyб.J1OоOм Pу6.JOOOM  руб.т руo.т Py6.OOOM доллбарр     T. py6.rод рyo.м Pyo.M рyo.M рyо.м ро.скв DO.скE Pyb.dob. ', ' начения                       ', ' нароектныйгод зђ 5O,   1736, 5D, 8   5о 20,0 , O,5 O,OO66 463:900     даџђ  70о,0 ']\n",
            "--> [' No I                        ', '       оля                  ', '  Hефт Hефты  природныйгаз оренныйгаз           ыIBаюшаTазоBаяCкBаЖиHE  дооываюшаяHефтяHаягоризоHтальHаяскважиH:  бурение бокового CтBола    ', '  знтренне BHеUHем  природныйгаз оренныйгаз HефTI Hа BHешHеM обьчу ођђч        ыIBаюшаTазоBаяCкBаЖиHE  дооываюшаяHефтяHаягоризоHтальHаяскважиH: HагнетателынаяскважиHагазоконденсатныIйпромыIсел бурение бокового CтBола  Hе BхOдяшеE промысе ', '  знтренне BHеUHем Bнтреннемрынке  оренныйгаз HефTI Hа BHешHеM нефтиK ођђч природногогаэ       ыIBаюшаTазоBаяCкBаЖиHE  дооываюшаяHефтяHаягоризоHтальHаяскважиH: HагнетателынаяскважиHагазоконденсатныIйпромыIсел бурение бокового CтBола  Hе BхOдяшеE промысе ', '    Bнтреннемрынке   HефTI Hа BHешHеM дI  природногогаэ       ыIBаюшаTазоBаяCкBаЖиHE  дооываюшаяHефтяHаягоризоHтальHаяскважиH: HагнетателынаяскважиHагазоконденсатныIйпромыIсел     ', ' оказађели      ынке   природногогаэ         дооываюшаяHефтяHаягоризоHтальHаяскважиH: HагнетателынаяскважиHагазоконденсатныIйпромыIсел     ', ' оказађели                 правленнаяскважин     для  ', '                  правленнаяскважин дооываюшаяHефтяHаягоризоHтальHаяскважиH: HагнетателынаяскважиHагазоконденсатныIйпромыIсел   HетедоOыIч  ', '                    сайклиHг     ', '                    процесс     ', \" Ed.  доллбаpp.  Pyб.J1OоOм      доллбарр     T. py6.rод     ThIc. Tыс. I'b1C.  ThiC.\", ' измерения Pyo.т доллбаpp. Pyo.т Pyб.J1OоOм Pу6.JOOOM  руб.т руo.т Py6.OOOM доллбарр     T. py6.rод рyo.м Pyo.M рyo.M рyо.м ро.скв DO.скE Pyb.dob.  рo.скE', ' начения                        ', ' нароектныйгод зђ 5O,   1736, 5D, 8   5о 20,0 , O,5 O,OO66 463:900     даџђ  70о,0  ']\n",
            "--> [' No I                         ', '       оля                   ', '  Hефт Hефты  природныйгаз оренныйгаз           ыIBаюшаTазоBаяCкBаЖиHE  дооываюшаяHефтяHаягоризоHтальHаяскважиH:  бурение бокового CтBола     газосоорные коллекторы', '  знтренне BHеUHем  природныйгаз оренныйгаз HефTI Hа BHешHеM обьчу ођђч        ыIBаюшаTазоBаяCкBаЖиHE  дооываюшаяHефтяHаягоризоHтальHаяскважиH: HагнетателынаяскважиHагазоконденсатныIйпромыIсел бурение бокового CтBола  Hе BхOдяшеE промысе  газосоорные коллекторы', '  знтренне BHеUHем Bнтреннемрынке  оренныйгаз HефTI Hа BHешHеM нефтиK ођђч природногогаэ       ыIBаюшаTазоBаяCкBаЖиHE  дооываюшаяHефтяHаягоризоHтальHаяскважиH: HагнетателынаяскважиHагазоконденсатныIйпромыIсел бурение бокового CтBола  Hе BхOдяшеE промысе  газосоорные коллекторы', '    Bнтреннемрынке   HефTI Hа BHешHеM дI  природногогаэ       ыIBаюшаTазоBаяCкBаЖиHE  дооываюшаяHефтяHаягоризоHтальHаяскважиH: HагнетателынаяскважиHагазоконденсатныIйпромыIсел      газосоорные коллекторы', ' оказађели      ынке   природногогаэ         дооываюшаяHефтяHаягоризоHтальHаяскважиH: HагнетателынаяскважиHагазоконденсатныIйпромыIсел      ', ' оказађели                 правленнаяскважин     для   ', '                  правленнаяскважин дооываюшаяHефтяHаягоризоHтальHаяскважиH: HагнетателынаяскважиHагазоконденсатныIйпромыIсел   HетедоOыIч   ', '                    сайклиHг      ', '                    процесс      ', \" Ed.  доллбаpp.  Pyб.J1OоOм      доллбарр     T. py6.rод     ThIc. Tыс. I'b1C.  ThiC. TbIC.\", ' измерения Pyo.т доллбаpp. Pyo.т Pyб.J1OоOм Pу6.JOOOM  руб.т руo.т Py6.OOOM доллбарр     T. py6.rод рyo.м Pyo.M рyo.M рyо.м ро.скв DO.скE Pyb.dob.  рo.скE pyo.сKE', ' начения                         ', ' нароектныйгод зђ 5O,   1736, 5D, 8   5о 20,0 , O,5 O,OO66 463:900     даџђ  70о,0   ']\n",
            "--> [' No I                          ', '       оля                    ', '  Hефт Hефты  природныйгаз оренныйгаз           ыIBаюшаTазоBаяCкBаЖиHE  дооываюшаяHефтяHаягоризоHтальHаяскважиH:  бурение бокового CтBола     газосоорные коллекторы ', '  знтренне BHеUHем  природныйгаз оренныйгаз HефTI Hа BHешHеM обьчу ођђч        ыIBаюшаTазоBаяCкBаЖиHE  дооываюшаяHефтяHаягоризоHтальHаяскважиH: HагнетателынаяскважиHагазоконденсатныIйпромыIсел бурение бокового CтBола  Hе BхOдяшеE промысе  газосоорные коллекторы ', '  знтренне BHеUHем Bнтреннемрынке  оренныйгаз HефTI Hа BHешHеM нефтиK ођђч природногогаэ       ыIBаюшаTазоBаяCкBаЖиHE  дооываюшаяHефтяHаягоризоHтальHаяскважиH: HагнетателынаяскважиHагазоконденсатныIйпромыIсел бурение бокового CтBола  Hе BхOдяшеE промысе  газосоорные коллекторы ', '    Bнтреннемрынке   HефTI Hа BHешHеM дI  природногогаэ       ыIBаюшаTазоBаяCкBаЖиHE  дооываюшаяHефтяHаягоризоHтальHаяскважиH: HагнетателынаяскважиHагазоконденсатныIйпромыIсел      газосоорные коллекторы ', ' оказађели      ынке   природногогаэ         дооываюшаяHефтяHаягоризоHтальHаяскважиH: HагнетателынаяскважиHагазоконденсатныIйпромыIсел       ', ' оказађели                 правленнаяскважин     для    ', '                  правленнаяскважин дооываюшаяHефтяHаягоризоHтальHаяскважиH: HагнетателынаяскважиHагазоконденсатныIйпромыIсел   HетедоOыIч    ', '                    сайклиHг       ', '                    процесс       ', \" Ed.  доллбаpp.  Pyб.J1OоOм      доллбарр     T. py6.rод     ThIc. Tыс. I'b1C.  ThiC. TbIC. MIH.\", ' измерения Pyo.т доллбаpp. Pyo.т Pyб.J1OоOм Pу6.JOOOM  руб.т руo.т Py6.OOOM доллбарр     T. py6.rод рyo.м Pyo.M рyo.M рyо.м ро.скв DO.скE Pyb.dob.  рo.скE pyo.сKE Pубшт', ' начения                          ', ' нароектныйгод зђ 5O,   1736, 5D, 8   5о 20,0 , O,5 O,OO66 463:900     даџђ  70о,0    ']\n",
            "--> [' No I                           ', '       оля                     ', '  Hефт Hефты  природныйгаз оренныйгаз           ыIBаюшаTазоBаяCкBаЖиHE  дооываюшаяHефтяHаягоризоHтальHаяскважиH:  бурение бокового CтBола     газосоорные коллекторы  лектроснаожение', '  знтренне BHеUHем  природныйгаз оренныйгаз HефTI Hа BHешHеM обьчу ођђч        ыIBаюшаTазоBаяCкBаЖиHE  дооываюшаяHефтяHаягоризоHтальHаяскважиH: HагнетателынаяскважиHагазоконденсатныIйпромыIсел бурение бокового CтBола  Hе BхOдяшеE промысе  газосоорные коллекторы  лектроснаожение', '  знтренне BHеUHем Bнтреннемрынке  оренныйгаз HефTI Hа BHешHеM нефтиK ођђч природногогаэ       ыIBаюшаTазоBаяCкBаЖиHE  дооываюшаяHефтяHаягоризоHтальHаяскважиH: HагнетателынаяскважиHагазоконденсатныIйпромыIсел бурение бокового CтBола  Hе BхOдяшеE промысе  газосоорные коллекторы  лектроснаожение', '    Bнтреннемрынке   HефTI Hа BHешHеM дI  природногогаэ       ыIBаюшаTазоBаяCкBаЖиHE  дооываюшаяHефтяHаягоризоHтальHаяскважиH: HагнетателынаяскважиHагазоконденсатныIйпромыIсел      газосоорные коллекторы  ', ' оказађели      ынке   природногогаэ         дооываюшаяHефтяHаягоризоHтальHаяскважиH: HагнетателынаяскважиHагазоконденсатныIйпромыIсел        ', ' оказађели                 правленнаяскважин     для     ', '                  правленнаяскважин дооываюшаяHефтяHаягоризоHтальHаяскважиH: HагнетателынаяскважиHагазоконденсатныIйпромыIсел   HетедоOыIч     ', '                    сайклиHг        ', '                    процесс        ', \" Ed.  доллбаpp.  Pyб.J1OоOм      доллбарр     T. py6.rод     ThIc. Tыс. I'b1C.  ThiC. TbIC. MIH. Thie.\", ' измерения Pyo.т доллбаpp. Pyo.т Pyб.J1OоOм Pу6.JOOOM  руб.т руo.т Py6.OOOM доллбарр     T. py6.rод рyo.м Pyo.M рyo.M рyо.м ро.скв DO.скE Pyb.dob.  рo.скE pyo.сKE Pубшт pyo.cKB.', ' начения                           ', ' нароектныйгод зђ 5O,   1736, 5D, 8   5о 20,0 , O,5 O,OO66 463:900     даџђ  70о,0     ']\n",
            "--> [' No I                            ', '       оля                      ', '  Hефт Hефты  природныйгаз оренныйгаз           ыIBаюшаTазоBаяCкBаЖиHE  дооываюшаяHефтяHаягоризоHтальHаяскважиH:  бурение бокового CтBола     газосоорные коллекторы  лектроснаожение ', '  знтренне BHеUHем  природныйгаз оренныйгаз HефTI Hа BHешHеM обьчу ођђч        ыIBаюшаTазоBаяCкBаЖиHE  дооываюшаяHефтяHаягоризоHтальHаяскважиH: HагнетателынаяскважиHагазоконденсатныIйпромыIсел бурение бокового CтBола  Hе BхOдяшеE промысе  газосоорные коллекторы  лектроснаожение ', '  знтренне BHеUHем Bнтреннемрынке  оренныйгаз HефTI Hа BHешHеM нефтиK ођђч природногогаэ       ыIBаюшаTазоBаяCкBаЖиHE  дооываюшаяHефтяHаягоризоHтальHаяскважиH: HагнетателынаяскважиHагазоконденсатныIйпромыIсел бурение бокового CтBола  Hе BхOдяшеE промысе  газосоорные коллекторы  лектроснаожение ', '    Bнтреннемрынке   HефTI Hа BHешHеM дI  природногогаэ       ыIBаюшаTазоBаяCкBаЖиHE  дооываюшаяHефтяHаягоризоHтальHаяскважиH: HагнетателынаяскважиHагазоконденсатныIйпромыIсел      газосоорные коллекторы   дороги', ' оказађели      ынке   природногогаэ         дооываюшаяHефтяHаягоризоHтальHаяскважиH: HагнетателынаяскважиHагазоконденсатныIйпромыIсел         ', ' оказађели                 правленнаяскважин     для      ', '                  правленнаяскважин дооываюшаяHефтяHаягоризоHтальHаяскважиH: HагнетателынаяскважиHагазоконденсатныIйпромыIсел   HетедоOыIч      ', '                    сайклиHг         ', '                    процесс         ', \" Ed.  доллбаpp.  Pyб.J1OоOм      доллбарр     T. py6.rод     ThIc. Tыс. I'b1C.  ThiC. TbIC. MIH. Thie. ThIC.\", ' измерения Pyo.т доллбаpp. Pyo.т Pyб.J1OоOм Pу6.JOOOM  руб.т руo.т Py6.OOOM доллбарр     T. py6.rод рyo.м Pyo.M рyo.M рyо.м ро.скв DO.скE Pyb.dob.  рo.скE pyo.сKE Pубшт pyo.cKB. pyo.ckB.', ' начения                            ', ' нароектныйгод зђ 5O,   1736, 5D, 8   5о 20,0 , O,5 O,OO66 463:900     даџђ  70о,0      ']\n",
            "--> [' No I                             ', '       оля                       ', '  Hефт Hефты  природныйгаз оренныйгаз           ыIBаюшаTазоBаяCкBаЖиHE  дооываюшаяHефтяHаягоризоHтальHаяскважиH:  бурение бокового CтBола     газосоорные коллекторы  лектроснаожение  ', '  знтренне BHеUHем  природныйгаз оренныйгаз HефTI Hа BHешHеM обьчу ођђч        ыIBаюшаTазоBаяCкBаЖиHE  дооываюшаяHефтяHаягоризоHтальHаяскважиH: HагнетателынаяскважиHагазоконденсатныIйпромыIсел бурение бокового CтBола  Hе BхOдяшеE промысе  газосоорные коллекторы  лектроснаожение  ', '  знтренне BHеUHем Bнтреннемрынке  оренныйгаз HефTI Hа BHешHеM нефтиK ођђч природногогаэ       ыIBаюшаTазоBаяCкBаЖиHE  дооываюшаяHефтяHаягоризоHтальHаяскважиH: HагнетателынаяскважиHагазоконденсатныIйпромыIсел бурение бокового CтBола  Hе BхOдяшеE промысе  газосоорные коллекторы  лектроснаожение  вязк', '    Bнтреннемрынке   HефTI Hа BHешHеM дI  природногогаэ       ыIBаюшаTазоBаяCкBаЖиHE  дооываюшаяHефтяHаягоризоHтальHаяскважиH: HагнетателынаяскважиHагазоконденсатныIйпромыIсел      газосоорные коллекторы   дороги CКBаЖИЕ', ' оказађели      ынке   природногогаэ         дооываюшаяHефтяHаягоризоHтальHаяскважиH: HагнетателынаяскважиHагазоконденсатныIйпромыIсел          ', ' оказађели                 правленнаяскважин     для       ', '                  правленнаяскважин дооываюшаяHефтяHаягоризоHтальHаяскважиH: HагнетателынаяскважиHагазоконденсатныIйпромыIсел   HетедоOыIч       ', '                    сайклиHг          ', '                    процесс          ', \" Ed.  доллбаpp.  Pyб.J1OоOм      доллбарр     T. py6.rод     ThIc. Tыс. I'b1C.  ThiC. TbIC. MIH. Thie. ThIC. Tыс\", ' измерения Pyo.т доллбаpp. Pyo.т Pyб.J1OоOм Pу6.JOOOM  руб.т руo.т Py6.OOOM доллбарр     T. py6.rод рyo.м Pyo.M рyo.M рyо.м ро.скв DO.скE Pyb.dob.  рo.скE pyo.сKE Pубшт pyo.cKB. pyo.ckB. ', ' начения                             ', ' нароектныйгод зђ 5O,   1736, 5D, 8   5о 20,0 , O,5 O,OO66 463:900     даџђ  70о,0       ']\n",
            "--> [' No I                              ', '       оля                        ', '  Hефт Hефты  природныйгаз оренныйгаз           ыIBаюшаTазоBаяCкBаЖиHE  дооываюшаяHефтяHаягоризоHтальHаяскважиH:  бурение бокового CтBола     газосоорные коллекторы  лектроснаожение   ', '  знтренне BHеUHем  природныйгаз оренныйгаз HефTI Hа BHешHеM обьчу ођђч        ыIBаюшаTазоBаяCкBаЖиHE  дооываюшаяHефтяHаягоризоHтальHаяскважиH: HагнетателынаяскважиHагазоконденсатныIйпромыIсел бурение бокового CтBола  Hе BхOдяшеE промысе  газосоорные коллекторы  лектроснаожение   орные', '  знтренне BHеUHем Bнтреннемрынке  оренныйгаз HефTI Hа BHешHеM нефтиK ођђч природногогаэ       ыIBаюшаTазоBаяCкBаЖиHE  дооываюшаяHефтяHаягоризоHтальHаяскважиH: HагнетателынаяскважиHагазоконденсатныIйпромыIсел бурение бокового CтBола  Hе BхOдяшеE промысе  газосоорные коллекторы  лектроснаожение  вязк коллектор', '    Bнтреннемрынке   HефTI Hа BHешHеM дI  природногогаэ       ыIBаюшаTазоBаяCкBаЖиHE  дооываюшаяHефтяHаягоризоHтальHаяскважиH: HагнетателынаяскважиHагазоконденсатныIйпромыIсел      газосоорные коллекторы   дороги CКBаЖИЕ коллектор', ' оказађели      ынке   природногогаэ         дооываюшаяHефтяHаягоризоHтальHаяскважиH: HагнетателынаяскважиHагазоконденсатныIйпромыIсел           ', ' оказађели                 правленнаяскважин     для        ', '                  правленнаяскважин дооываюшаяHефтяHаягоризоHтальHаяскважиH: HагнетателынаяскважиHагазоконденсатныIйпромыIсел   HетедоOыIч        ', '                    сайклиHг           ', '                    процесс           ', \" Ed.  доллбаpp.  Pyб.J1OоOм      доллбарр     T. py6.rод     ThIc. Tыс. I'b1C.  ThiC. TbIC. MIH. Thie. ThIC. Tыс тыс\", ' измерения Pyo.т доллбаpp. Pyo.т Pyб.J1OоOм Pу6.JOOOM  руб.т руo.т Py6.OOOM доллбарр     T. py6.rод рyo.м Pyo.M рyo.M рyо.м ро.скв DO.скE Pyb.dob.  рo.скE pyo.сKE Pубшт pyo.cKB. pyo.ckB.  pyo.IскB', ' начения                              ', ' нароектныйгод зђ 5O,   1736, 5D, 8   5о 20,0 , O,5 O,OO66 463:900     даџђ  70о,0        ']\n",
            "--> [' No I                               ', '       оля                         ', '  Hефт Hефты  природныйгаз оренныйгаз           ыIBаюшаTазоBаяCкBаЖиHE  дооываюшаяHефтяHаягоризоHтальHаяскважиH:  бурение бокового CтBола     газосоорные коллекторы  лектроснаожение    ', '  знтренне BHеUHем  природныйгаз оренныйгаз HефTI Hа BHешHеM обьчу ођђч        ыIBаюшаTазоBаяCкBаЖиHE  дооываюшаяHефтяHаягоризоHтальHаяскважиH: HагнетателынаяскважиHагазоконденсатныIйпромыIсел бурение бокового CтBола  Hе BхOдяшеE промысе  газосоорные коллекторы  лектроснаожение   орные ', '  знтренне BHеUHем Bнтреннемрынке  оренныйгаз HефTI Hа BHешHеM нефтиK ођђч природногогаэ       ыIBаюшаTазоBаяCкBаЖиHE  дооываюшаяHефтяHаягоризоHтальHаяскважиH: HагнетателынаяскважиHагазоконденсатныIйпромыIсел бурение бокового CтBола  Hе BхOдяшеE промысе  газосоорные коллекторы  лектроснаожение  вязк коллектор ', '    Bнтреннемрынке   HефTI Hа BHешHеM дI  природногогаэ       ыIBаюшаTазоBаяCкBаЖиHE  дооываюшаяHефтяHаягоризоHтальHаяскважиH: HагнетателынаяскважиHагазоконденсатныIйпромыIсел      газосоорные коллекторы   дороги CКBаЖИЕ коллектор ', ' оказађели      ынке   природногогаэ         дооываюшаяHефтяHаягоризоHтальHаяскважиH: HагнетателынаяскважиHагазоконденсатныIйпромыIсел            ', ' оказађели                 правленнаяскважин     для         ', '                  правленнаяскважин дооываюшаяHефтяHаягоризоHтальHаяскважиH: HагнетателынаяскважиHагазоконденсатныIйпромыIсел   HетедоOыIч         ', '                    сайклиHг            ', '                    процесс            ', \" Ed.  доллбаpp.  Pyб.J1OоOм      доллбарр     T. py6.rод     ThIc. Tыс. I'b1C.  ThiC. TbIC. MIH. Thie. ThIC. Tыс тыс млн\", ' измерения Pyo.т доллбаpp. Pyo.т Pyб.J1OоOм Pу6.JOOOM  руб.т руo.т Py6.OOOM доллбарр     T. py6.rод рyo.м Pyo.M рyo.M рyо.м ро.скв DO.скE Pyb.dob.  рo.скE pyo.сKE Pубшт pyo.cKB. pyo.ckB.  pyo.IскB Pyб.шт', ' начения                               ', ' нароектныйгод зђ 5O,   1736, 5D, 8   5о 20,0 , O,5 O,OO66 463:900     даџђ  70о,0         ']\n",
            "--> [' No I                                ', '       оля                          ', '  Hефт Hефты  природныйгаз оренныйгаз           ыIBаюшаTазоBаяCкBаЖиHE  дооываюшаяHефтяHаягоризоHтальHаяскважиH:  бурение бокового CтBола     газосоорные коллекторы  лектроснаожение     онденсатосорные', '  знтренне BHеUHем  природныйгаз оренныйгаз HефTI Hа BHешHеM обьчу ођђч        ыIBаюшаTазоBаяCкBаЖиHE  дооываюшаяHефтяHаягоризоHтальHаяскважиH: HагнетателынаяскважиHагазоконденсатныIйпромыIсел бурение бокового CтBола  Hе BхOдяшеE промысе  газосоорные коллекторы  лектроснаожение   орные  онденсатосорные', '  знтренне BHеUHем Bнтреннемрынке  оренныйгаз HефTI Hа BHешHеM нефтиK ођђч природногогаэ       ыIBаюшаTазоBаяCкBаЖиHE  дооываюшаяHефтяHаягоризоHтальHаяскважиH: HагнетателынаяскважиHагазоконденсатныIйпромыIсел бурение бокового CтBола  Hе BхOдяшеE промысе  газосоорные коллекторы  лектроснаожение  вязк коллектор  онденсатосорные', '    Bнтреннемрынке   HефTI Hа BHешHеM дI  природногогаэ       ыIBаюшаTазоBаяCкBаЖиHE  дооываюшаяHефтяHаягоризоHтальHаяскважиH: HагнетателынаяскважиHагазоконденсатныIйпромыIсел      газосоорные коллекторы   дороги CКBаЖИЕ коллектор  коллекторы', ' оказађели      ынке   природногогаэ         дооываюшаяHефтяHаягоризоHтальHаяскважиH: HагнетателынаяскважиHагазоконденсатныIйпромыIсел             коллекторы', ' оказађели                 правленнаяскважин     для          ', '                  правленнаяскважин дооываюшаяHефтяHаягоризоHтальHаяскважиH: HагнетателынаяскважиHагазоконденсатныIйпромыIсел   HетедоOыIч          ', '                    сайклиHг             ', '                    процесс             ', \" Ed.  доллбаpp.  Pyб.J1OоOм      доллбарр     T. py6.rод     ThIc. Tыс. I'b1C.  ThiC. TbIC. MIH. Thie. ThIC. Tыс тыс млн ыс\", ' измерения Pyo.т доллбаpp. Pyo.т Pyб.J1OоOм Pу6.JOOOM  руб.т руo.т Py6.OOOM доллбарр     T. py6.rод рyo.м Pyo.M рyo.M рyо.м ро.скв DO.скE Pyb.dob.  рo.скE pyo.сKE Pубшт pyo.cKB. pyo.ckB.  pyo.IскB Pyб.шт руо.скв', ' начения                                ', ' нароектныйгод зђ 5O,   1736, 5D, 8   5о 20,0 , O,5 O,OO66 463:900     даџђ  70о,0          ']\n",
            "--> [' No I                                 ', '       оля                           ', '  Hефт Hефты  природныйгаз оренныйгаз           ыIBаюшаTазоBаяCкBаЖиHE  дооываюшаяHефтяHаягоризоHтальHаяскважиH:  бурение бокового CтBола     газосоорные коллекторы  лектроснаожение     онденсатосорные ', '  знтренне BHеUHем  природныйгаз оренныйгаз HефTI Hа BHешHеM обьчу ођђч        ыIBаюшаTазоBаяCкBаЖиHE  дооываюшаяHефтяHаягоризоHтальHаяскважиH: HагнетателынаяскважиHагазоконденсатныIйпромыIсел бурение бокового CтBола  Hе BхOдяшеE промысе  газосоорные коллекторы  лектроснаожение   орные  онденсатосорные ', '  знтренне BHеUHем Bнтреннемрынке  оренныйгаз HефTI Hа BHешHеM нефтиK ођђч природногогаэ       ыIBаюшаTазоBаяCкBаЖиHE  дооываюшаяHефтяHаягоризоHтальHаяскважиH: HагнетателынаяскважиHагазоконденсатныIйпромыIсел бурение бокового CтBола  Hе BхOдяшеE промысе  газосоорные коллекторы  лектроснаожение  вязк коллектор  онденсатосорные ', '    Bнтреннемрынке   HефTI Hа BHешHеM дI  природногогаэ       ыIBаюшаTазоBаяCкBаЖиHE  дооываюшаяHефтяHаягоризоHтальHаяскважиH: HагнетателынаяскважиHагазоконденсатныIйпромыIсел      газосоорные коллекторы   дороги CКBаЖИЕ коллектор  коллекторы ', ' оказађели      ынке   природногогаэ         дооываюшаяHефтяHаягоризоHтальHаяскважиH: HагнетателынаяскважиHагазоконденсатныIйпромыIсел             коллекторы ', ' оказађели                 правленнаяскважин     для           ', '                  правленнаяскважин дооываюшаяHефтяHаягоризоHтальHаяскважиH: HагнетателынаяскважиHагазоконденсатныIйпромыIсел   HетедоOыIч           ', '                    сайклиHг              ', '                    процесс              ', \" Ed.  доллбаpp.  Pyб.J1OоOм      доллбарр     T. py6.rод     ThIc. Tыс. I'b1C.  ThiC. TbIC. MIH. Thie. ThIC. Tыс тыс млн ыс ыс\", ' измерения Pyo.т доллбаpp. Pyo.т Pyб.J1OоOм Pу6.JOOOM  руб.т руo.т Py6.OOOM доллбарр     T. py6.rод рyo.м Pyo.M рyo.M рyо.м ро.скв DO.скE Pyb.dob.  рo.скE pyo.сKE Pубшт pyo.cKB. pyo.ckB.  pyo.IскB Pyб.шт руо.скв ', ' начения                                 ', ' нароектныйгод зђ 5O,   1736, 5D, 8   5о 20,0 , O,5 O,OO66 463:900     даџђ  70о,0           ']\n",
            "--> [' No I                                  ', '       оля                            ', '  Hефт Hефты  природныйгаз оренныйгаз           ыIBаюшаTазоBаяCкBаЖиHE  дооываюшаяHефтяHаягоризоHтальHаяскважиH:  бурение бокового CтBола     газосоорные коллекторы  лектроснаожение     онденсатосорные  ', '  знтренне BHеUHем  природныйгаз оренныйгаз HефTI Hа BHешHеM обьчу ођђч        ыIBаюшаTазоBаяCкBаЖиHE  дооываюшаяHефтяHаягоризоHтальHаяскважиH: HагнетателынаяскважиHагазоконденсатныIйпромыIсел бурение бокового CтBола  Hе BхOдяшеE промысе  газосоорные коллекторы  лектроснаожение   орные  онденсатосорные  ', '  знтренне BHеUHем Bнтреннемрынке  оренныйгаз HефTI Hа BHешHеM нефтиK ођђч природногогаэ       ыIBаюшаTазоBаяCкBаЖиHE  дооываюшаяHефтяHаягоризоHтальHаяскважиH: HагнетателынаяскважиHагазоконденсатныIйпромыIсел бурение бокового CтBола  Hе BхOдяшеE промысе  газосоорные коллекторы  лектроснаожение  вязк коллектор  онденсатосорные  ', '    Bнтреннемрынке   HефTI Hа BHешHеM дI  природногогаэ       ыIBаюшаTазоBаяCкBаЖиHE  дооываюшаяHефтяHаягоризоHтальHаяскважиH: HагнетателынаяскважиHагазоконденсатныIйпромыIсел      газосоорные коллекторы   дороги CКBаЖИЕ коллектор  коллекторы  ', ' оказађели      ынке   природногогаэ         дооываюшаяHефтяHаягоризоHтальHаяскважиH: HагнетателынаяскважиHагазоконденсатныIйпромыIсел             коллекторы  ', ' оказађели                 правленнаяскважин     для            ', '                  правленнаяскважин дооываюшаяHефтяHаягоризоHтальHаяскважиH: HагнетателынаяскважиHагазоконденсатныIйпромыIсел   HетедоOыIч            ', '                    сайклиHг               ', '                    процесс               ', \" Ed.  доллбаpp.  Pyб.J1OоOм      доллбарр     T. py6.rод     ThIc. Tыс. I'b1C.  ThiC. TbIC. MIH. Thie. ThIC. Tыс тыс млн ыс ыс \", ' измерения Pyo.т доллбаpp. Pyo.т Pyб.J1OоOм Pу6.JOOOM  руб.т руo.т Py6.OOOM доллбарр     T. py6.rод рyo.м Pyo.M рyo.M рyо.м ро.скв DO.скE Pyb.dob.  рo.скE pyo.сKE Pубшт pyo.cKB. pyo.ckB.  pyo.IскB Pyб.шт руо.скв  Pyо.скв', ' начения                                  ', ' нароектныйгод зђ 5O,   1736, 5D, 8   5о 20,0 , O,5 O,OO66 463:900     даџђ  70о,0            ']\n",
            "--> [' No I                                   ', '       оля                             ', '  Hефт Hефты  природныйгаз оренныйгаз           ыIBаюшаTазоBаяCкBаЖиHE  дооываюшаяHефтяHаягоризоHтальHаяскважиH:  бурение бокового CтBола     газосоорные коллекторы  лектроснаожение     онденсатосорные   ', '  знтренне BHеUHем  природныйгаз оренныйгаз HефTI Hа BHешHеM обьчу ођђч        ыIBаюшаTазоBаяCкBаЖиHE  дооываюшаяHефтяHаягоризоHтальHаяскважиH: HагнетателынаяскважиHагазоконденсатныIйпромыIсел бурение бокового CтBола  Hе BхOдяшеE промысе  газосоорные коллекторы  лектроснаожение   орные  онденсатосорные   ', '  знтренне BHеUHем Bнтреннемрынке  оренныйгаз HефTI Hа BHешHеM нефтиK ођђч природногогаэ       ыIBаюшаTазоBаяCкBаЖиHE  дооываюшаяHефтяHаягоризоHтальHаяскважиH: HагнетателынаяскважиHагазоконденсатныIйпромыIсел бурение бокового CтBола  Hе BхOдяшеE промысе  газосоорные коллекторы  лектроснаожение  вязк коллектор  онденсатосорные   ', '    Bнтреннемрынке   HефTI Hа BHешHеM дI  природногогаэ       ыIBаюшаTазоBаяCкBаЖиHE  дооываюшаяHефтяHаягоризоHтальHаяскважиH: HагнетателынаяскважиHагазоконденсатныIйпромыIсел      газосоорные коллекторы   дороги CКBаЖИЕ коллектор  коллекторы   ', ' оказађели      ынке   природногогаэ         дооываюшаяHефтяHаягоризоHтальHаяскважиH: HагнетателынаяскважиHагазоконденсатныIйпромыIсел             коллекторы   ', ' оказађели                 правленнаяскважин     для             ', '                  правленнаяскважин дооываюшаяHефтяHаягоризоHтальHаяскважиH: HагнетателынаяскважиHагазоконденсатныIйпромыIсел   HетедоOыIч             ', '                    сайклиHг                ', '                    процесс                ', \" Ed.  доллбаpp.  Pyб.J1OоOм      доллбарр     T. py6.rод     ThIc. Tыс. I'b1C.  ThiC. TbIC. MIH. Thie. ThIC. Tыс тыс млн ыс ыс  Iыс\", ' измерения Pyo.т доллбаpp. Pyo.т Pyб.J1OоOм Pу6.JOOOM  руб.т руo.т Py6.OOOM доллбарр     T. py6.rод рyo.м Pyo.M рyo.M рyо.м ро.скв DO.скE Pyb.dob.  рo.скE pyo.сKE Pубшт pyo.cKB. pyo.ckB.  pyo.IскB Pyб.шт руо.скв  Pyо.скв Dуф.IскB', ' начения                                   ', ' нароектныйгод зђ 5O,   1736, 5D, 8   5о 20,0 , O,5 O,OO66 463:900     даџђ  70о,0             ']\n",
            "--> [' No I                                    ', '       оля                              ', '  Hефт Hефты  природныйгаз оренныйгаз           ыIBаюшаTазоBаяCкBаЖиHE  дооываюшаяHефтяHаягоризоHтальHаяскважиH:  бурение бокового CтBола     газосоорные коллекторы  лектроснаожение     онденсатосорные    истема', '  знтренне BHеUHем  природныйгаз оренныйгаз HефTI Hа BHешHеM обьчу ођђч        ыIBаюшаTазоBаяCкBаЖиHE  дооываюшаяHефтяHаягоризоHтальHаяскважиH: HагнетателынаяскважиHагазоконденсатныIйпромыIсел бурение бокового CтBола  Hе BхOдяшеE промысе  газосоорные коллекторы  лектроснаожение   орные  онденсатосорные    истема', '  знтренне BHеUHем Bнтреннемрынке  оренныйгаз HефTI Hа BHешHеM нефтиK ођђч природногогаэ       ыIBаюшаTазоBаяCкBаЖиHE  дооываюшаяHефтяHаягоризоHтальHаяскважиH: HагнетателынаяскважиHагазоконденсатныIйпромыIсел бурение бокового CтBола  Hе BхOдяшеE промысе  газосоорные коллекторы  лектроснаожение  вязк коллектор  онденсатосорные    ', '    Bнтреннемрынке   HефTI Hа BHешHеM дI  природногогаэ       ыIBаюшаTазоBаяCкBаЖиHE  дооываюшаяHефтяHаягоризоHтальHаяскважиH: HагнетателынаяскважиHагазоконденсатныIйпромыIсел      газосоорные коллекторы   дороги CКBаЖИЕ коллектор  коллекторы    ', ' оказађели      ынке   природногогаэ         дооываюшаяHефтяHаягоризоHтальHаяскважиH: HагнетателынаяскважиHагазоконденсатныIйпромыIсел             коллекторы    ', ' оказађели                 правленнаяскважин     для              ', '                  правленнаяскважин дооываюшаяHефтяHаягоризоHтальHаяскважиH: HагнетателынаяскважиHагазоконденсатныIйпромыIсел   HетедоOыIч              ', '                    сайклиHг                 ', '                    процесс                 ', \" Ed.  доллбаpp.  Pyб.J1OоOм      доллбарр     T. py6.rод     ThIc. Tыс. I'b1C.  ThiC. TbIC. MIH. Thie. ThIC. Tыс тыс млн ыс ыс  Iыс \", ' измерения Pyo.т доллбаpp. Pyo.т Pyб.J1OоOм Pу6.JOOOM  руб.т руo.т Py6.OOOM доллбарр     T. py6.rод рyo.м Pyo.M рyo.M рyо.м ро.скв DO.скE Pyb.dob.  рo.скE pyo.сKE Pубшт pyo.cKB. pyo.ckB.  pyo.IскB Pyб.шт руо.скв  Pyо.скв Dуф.IскB рй', ' начения                                    ', ' нароектныйгод зђ 5O,   1736, 5D, 8   5о 20,0 , O,5 O,OO66 463:900     даџђ  70о,0              ']\n",
            "--> [' No I                                     ', '       оля                               ', '  Hефт Hефты  природныйгаз оренныйгаз           ыIBаюшаTазоBаяCкBаЖиHE  дооываюшаяHефтяHаягоризоHтальHаяскважиH:  бурение бокового CтBола     газосоорные коллекторы  лектроснаожение     онденсатосорные    истема шлеиђь', '  знтренне BHеUHем  природныйгаз оренныйгаз HефTI Hа BHешHеM обьчу ођђч        ыIBаюшаTазоBаяCкBаЖиHE  дооываюшаяHефтяHаягоризоHтальHаяскважиH: HагнетателынаяскважиHагазоконденсатныIйпромыIсел бурение бокового CтBола  Hе BхOдяшеE промысе  газосоорные коллекторы  лектроснаожение   орные  онденсатосорные    истема шлеиђь', '  знтренне BHеUHем Bнтреннемрынке  оренныйгаз HефTI Hа BHешHеM нефтиK ођђч природногогаэ       ыIBаюшаTазоBаяCкBаЖиHE  дооываюшаяHефтяHаягоризоHтальHаяскважиH: HагнетателынаяскважиHагазоконденсатныIйпромыIсел бурение бокового CтBола  Hе BхOдяшеE промысе  газосоорные коллекторы  лектроснаожение  вязк коллектор  онденсатосорные     HаГHеТаТеЛыHыХгаЗOBыIXCкBаЖИH', '    Bнтреннемрынке   HефTI Hа BHешHеM дI  природногогаэ       ыIBаюшаTазоBаяCкBаЖиHE  дооываюшаяHефтяHаягоризоHтальHаяскважиH: HагнетателынаяскважиHагазоконденсатныIйпромыIсел      газосоорные коллекторы   дороги CКBаЖИЕ коллектор  коллекторы     HаГHеТаТеЛыHыХгаЗOBыIXCкBаЖИH', ' оказађели      ынке   природногогаэ         дооываюшаяHефтяHаягоризоHтальHаяскважиH: HагнетателынаяскважиHагазоконденсатныIйпромыIсел             коллекторы     HаГHеТаТеЛыHыХгаЗOBыIXCкBаЖИH', ' оказађели                 правленнаяскважин     для               HаГHеТаТеЛыHыХгаЗOBыIXCкBаЖИH', '                  правленнаяскважин дооываюшаяHефтяHаягоризоHтальHаяскважиH: HагнетателынаяскважиHагазоконденсатныIйпромыIсел   HетедоOыIч               HаГHеТаТеЛыHыХгаЗOBыIXCкBаЖИH', '                    сайклиHг                  ', '                    процесс                  ', \" Ed.  доллбаpp.  Pyб.J1OоOм      доллбарр     T. py6.rод     ThIc. Tыс. I'b1C.  ThiC. TbIC. MIH. Thie. ThIC. Tыс тыс млн ыс ыс  Iыс  MЛH.\", ' измерения Pyo.т доллбаpp. Pyo.т Pyб.J1OоOм Pу6.JOOOM  руб.т руo.т Py6.OOOM доллбарр     T. py6.rод рyo.м Pyo.M рyo.M рyо.м ро.скв DO.скE Pyb.dob.  рo.скE pyo.сKE Pубшт pyo.cKB. pyo.ckB.  pyo.IскB Pyб.шт руо.скв  Pyо.скв Dуф.IскB рй рублскв', ' начения                                     ', ' нароектныйгод зђ 5O,   1736, 5D, 8   5о 20,0 , O,5 O,OO66 463:900     даџђ  70о,0               ']\n",
            "--> [' No I                                      ', '       оля                                етянои', '  Hефт Hефты  природныйгаз оренныйгаз           ыIBаюшаTазоBаяCкBаЖиHE  дооываюшаяHефтяHаягоризоHтальHаяскважиH:  бурение бокового CтBола     газосоорные коллекторы  лектроснаожение     онденсатосорные    истема шлеиђь етянои', '  знтренне BHеUHем  природныйгаз оренныйгаз HефTI Hа BHешHеM обьчу ођђч        ыIBаюшаTазоBаяCкBаЖиHE  дооываюшаяHефтяHаягоризоHтальHаяскважиH: HагнетателынаяскважиHагазоконденсатныIйпромыIсел бурение бокового CтBола  Hе BхOдяшеE промысе  газосоорные коллекторы  лектроснаожение   орные  онденсатосорные    истема шлеиђь ', '  знтренне BHеUHем Bнтреннемрынке  оренныйгаз HефTI Hа BHешHеM нефтиK ођђч природногогаэ       ыIBаюшаTазоBаяCкBаЖиHE  дооываюшаяHефтяHаягоризоHтальHаяскважиH: HагнетателынаяскважиHагазоконденсатныIйпромыIсел бурение бокового CтBола  Hе BхOдяшеE промысе  газосоорные коллекторы  лектроснаожение  вязк коллектор  онденсатосорные     HаГHеТаТеЛыHыХгаЗOBыIXCкBаЖИH ', '    Bнтреннемрынке   HефTI Hа BHешHеM дI  природногогаэ       ыIBаюшаTазоBаяCкBаЖиHE  дооываюшаяHефтяHаягоризоHтальHаяскважиH: HагнетателынаяскважиHагазоконденсатныIйпромыIсел      газосоорные коллекторы   дороги CКBаЖИЕ коллектор  коллекторы     HаГHеТаТеЛыHыХгаЗOBыIXCкBаЖИH ', ' оказађели      ынке   природногогаэ         дооываюшаяHефтяHаягоризоHтальHаяскважиH: HагнетателынаяскважиHагазоконденсатныIйпромыIсел             коллекторы     HаГHеТаТеЛыHыХгаЗOBыIXCкBаЖИH ', ' оказађели                 правленнаяскважин     для               HаГHеТаТеЛыHыХгаЗOBыIXCкBаЖИH ', '                  правленнаяскважин дооываюшаяHефтяHаягоризоHтальHаяскважиH: HагнетателынаяскважиHагазоконденсатныIйпромыIсел   HетедоOыIч               HаГHеТаТеЛыHыХгаЗOBыIXCкBаЖИH ', '                    сайклиHг                   ', '                    процесс                   ', \" Ed.  доллбаpp.  Pyб.J1OоOм      доллбарр     T. py6.rод     ThIc. Tыс. I'b1C.  ThiC. TbIC. MIH. Thie. ThIC. Tыс тыс млн ыс ыс  Iыс  MЛH. \", ' измерения Pyo.т доллбаpp. Pyo.т Pyб.J1OоOм Pу6.JOOOM  руб.т руo.т Py6.OOOM доллбарр     T. py6.rод рyo.м Pyo.M рyo.M рyо.м ро.скв DO.скE Pyb.dob.  рo.скE pyo.сKE Pубшт pyo.cKB. pyo.ckB.  pyo.IскB Pyб.шт руо.скв  Pyо.скв Dуф.IскB рй рублскв ', ' начения                                      ', ' нароектныйгод зђ 5O,   1736, 5D, 8   5о 20,0 , O,5 O,OO66 463:900     даџђ  70о,0                ']\n",
            "--> [' No I                                       ', '       оля                                етянои ', '  Hефт Hефты  природныйгаз оренныйгаз           ыIBаюшаTазоBаяCкBаЖиHE  дооываюшаяHефтяHаягоризоHтальHаяскважиH:  бурение бокового CтBола     газосоорные коллекторы  лектроснаожение     онденсатосорные    истема шлеиђь етянои сор', '  знтренне BHеUHем  природныйгаз оренныйгаз HефTI Hа BHешHеM обьчу ођђч        ыIBаюшаTазоBаяCкBаЖиHE  дооываюшаяHефтяHаягоризоHтальHаяскважиH: HагнетателынаяскважиHагазоконденсатныIйпромыIсел бурение бокового CтBола  Hе BхOдяшеE промысе  газосоорные коллекторы  лектроснаожение   орные  онденсатосорные    истема шлеиђь  транспорт', '  знтренне BHеUHем Bнтреннемрынке  оренныйгаз HефTI Hа BHешHеM нефтиK ођђч природногогаэ       ыIBаюшаTазоBаяCкBаЖиHE  дооываюшаяHефтяHаягоризоHтальHаяскважиH: HагнетателынаяскважиHагазоконденсатныIйпромыIсел бурение бокового CтBола  Hе BхOдяшеE промысе  газосоорные коллекторы  лектроснаожение  вязк коллектор  онденсатосорные     HаГHеТаТеЛыHыХгаЗOBыIXCкBаЖИH  транспорт', '    Bнтреннемрынке   HефTI Hа BHешHеM дI  природногогаэ       ыIBаюшаTазоBаяCкBаЖиHE  дооываюшаяHефтяHаягоризоHтальHаяскважиH: HагнетателынаяскважиHагазоконденсатныIйпромыIсел      газосоорные коллекторы   дороги CКBаЖИЕ коллектор  коллекторы     HаГHеТаТеЛыHыХгаЗOBыIXCкBаЖИH  Hефти и газа', ' оказађели      ынке   природногогаэ         дооываюшаяHефтяHаягоризоHтальHаяскважиH: HагнетателынаяскважиHагазоконденсатныIйпромыIсел             коллекторы     HаГHеТаТеЛыHыХгаЗOBыIXCкBаЖИH  Hефти и газа', ' оказађели                 правленнаяскважин     для               HаГHеТаТеЛыHыХгаЗOBыIXCкBаЖИH  ', '                  правленнаяскважин дооываюшаяHефтяHаягоризоHтальHаяскважиH: HагнетателынаяскважиHагазоконденсатныIйпромыIсел   HетедоOыIч               HаГHеТаТеЛыHыХгаЗOBыIXCкBаЖИH  ', '                    сайклиHг                    ', '                    процесс                    ', \" Ed.  доллбаpp.  Pyб.J1OоOм      доллбарр     T. py6.rод     ThIc. Tыс. I'b1C.  ThiC. TbIC. MIH. Thie. ThIC. Tыс тыс млн ыс ыс  Iыс  MЛH.  Thit.\", ' измерения Pyo.т доллбаpp. Pyo.т Pyб.J1OоOм Pу6.JOOOM  руб.т руo.т Py6.OOOM доллбарр     T. py6.rод рyo.м Pyo.M рyo.M рyо.м ро.скв DO.скE Pyb.dob.  рo.скE pyo.сKE Pубшт pyo.cKB. pyo.ckB.  pyo.IскB Pyб.шт руо.скв  Pyо.скв Dуф.IскB рй рублскв  Pyбскв.', ' начения                                       ', ' нароектныйгод зђ 5O,   1736, 5D, 8   5о 20,0 , O,5 O,OO66 463:900     даџђ  70о,0                 1112,8']\n",
            "--> [' No I                                        ', '       оля                                етянои  ', '  Hефт Hефты  природныйгаз оренныйгаз           ыIBаюшаTазоBаяCкBаЖиHE  дооываюшаяHефтяHаягоризоHтальHаяскважиH:  бурение бокового CтBола     газосоорные коллекторы  лектроснаожение     онденсатосорные    истема шлеиђь етянои сор ', '  знтренне BHеUHем  природныйгаз оренныйгаз HефTI Hа BHешHеM обьчу ођђч        ыIBаюшаTазоBаяCкBаЖиHE  дооываюшаяHефтяHаягоризоHтальHаяскважиH: HагнетателынаяскважиHагазоконденсатныIйпромыIсел бурение бокового CтBола  Hе BхOдяшеE промысе  газосоорные коллекторы  лектроснаожение   орные  онденсатосорные    истема шлеиђь  транспорт ', '  знтренне BHеUHем Bнтреннемрынке  оренныйгаз HефTI Hа BHешHеM нефтиK ођђч природногогаэ       ыIBаюшаTазоBаяCкBаЖиHE  дооываюшаяHефтяHаягоризоHтальHаяскважиH: HагнетателынаяскважиHагазоконденсатныIйпромыIсел бурение бокового CтBола  Hе BхOдяшеE промысе  газосоорные коллекторы  лектроснаожение  вязк коллектор  онденсатосорные     HаГHеТаТеЛыHыХгаЗOBыIXCкBаЖИH  транспорт ', '    Bнтреннемрынке   HефTI Hа BHешHеM дI  природногогаэ       ыIBаюшаTазоBаяCкBаЖиHE  дооываюшаяHефтяHаягоризоHтальHаяскважиH: HагнетателынаяскважиHагазоконденсатныIйпромыIсел      газосоорные коллекторы   дороги CКBаЖИЕ коллектор  коллекторы     HаГHеТаТеЛыHыХгаЗOBыIXCкBаЖИH  Hефти и газа ', ' оказађели      ынке   природногогаэ         дооываюшаяHефтяHаягоризоHтальHаяскважиH: HагнетателынаяскважиHагазоконденсатныIйпромыIсел             коллекторы     HаГHеТаТеЛыHыХгаЗOBыIXCкBаЖИH  Hефти и газа ', ' оказађели                 правленнаяскважин     для               HаГHеТаТеЛыHыХгаЗOBыIXCкBаЖИH   ', '                  правленнаяскважин дооываюшаяHефтяHаягоризоHтальHаяскважиH: HагнетателынаяскважиHагазоконденсатныIйпромыIсел   HетедоOыIч               HаГHеТаТеЛыHыХгаЗOBыIXCкBаЖИH   ', '                    сайклиHг                     ', '                    процесс                     ', \" Ed.  доллбаpp.  Pyб.J1OоOм      доллбарр     T. py6.rод     ThIc. Tыс. I'b1C.  ThiC. TbIC. MIH. Thie. ThIC. Tыс тыс млн ыс ыс  Iыс  MЛH.  Thit. Thie.\", ' измерения Pyo.т доллбаpp. Pyo.т Pyб.J1OоOм Pу6.JOOOM  руб.т руo.т Py6.OOOM доллбарр     T. py6.rод рyo.м Pyo.M рyo.M рyо.м ро.скв DO.скE Pyb.dob.  рo.скE pyo.сKE Pубшт pyo.cKB. pyo.ckB.  pyo.IскB Pyб.шт руо.скв  Pyо.скв Dуф.IскB рй рублскв  Pyбскв. руб.скB', ' начения                                        ', ' нароектныйгод зђ 5O,   1736, 5D, 8   5о 20,0 , O,5 O,OO66 463:900     даџђ  70о,0                 1112,8 ']\n",
            "--> [' No I                                         ', '       оля                                етянои   ', '  Hефт Hефты  природныйгаз оренныйгаз           ыIBаюшаTазоBаяCкBаЖиHE  дооываюшаяHефтяHаягоризоHтальHаяскважиH:  бурение бокового CтBола     газосоорные коллекторы  лектроснаожение     онденсатосорные    истема шлеиђь етянои сор  базыпроизводственного обслуживания', '  знтренне BHеUHем  природныйгаз оренныйгаз HефTI Hа BHешHеM обьчу ођђч        ыIBаюшаTазоBаяCкBаЖиHE  дооываюшаяHефтяHаягоризоHтальHаяскважиH: HагнетателынаяскважиHагазоконденсатныIйпромыIсел бурение бокового CтBола  Hе BхOдяшеE промысе  газосоорные коллекторы  лектроснаожение   орные  онденсатосорные    истема шлеиђь  транспорт  базыпроизводственного обслуживания', '  знтренне BHеUHем Bнтреннемрынке  оренныйгаз HефTI Hа BHешHеM нефтиK ођђч природногогаэ       ыIBаюшаTазоBаяCкBаЖиHE  дооываюшаяHефтяHаягоризоHтальHаяскважиH: HагнетателынаяскважиHагазоконденсатныIйпромыIсел бурение бокового CтBола  Hе BхOдяшеE промысе  газосоорные коллекторы  лектроснаожение  вязк коллектор  онденсатосорные     HаГHеТаТеЛыHыХгаЗOBыIXCкBаЖИH  транспорт  базыпроизводственного обслуживания', '    Bнтреннемрынке   HефTI Hа BHешHеM дI  природногогаэ       ыIBаюшаTазоBаяCкBаЖиHE  дооываюшаяHефтяHаягоризоHтальHаяскважиH: HагнетателынаяскважиHагазоконденсатныIйпромыIсел      газосоорные коллекторы   дороги CКBаЖИЕ коллектор  коллекторы     HаГHеТаТеЛыHыХгаЗOBыIXCкBаЖИH  Hефти и газа  базыпроизводственного обслуживания', ' оказађели      ынке   природногогаэ         дооываюшаяHефтяHаягоризоHтальHаяскважиH: HагнетателынаяскважиHагазоконденсатныIйпромыIсел             коллекторы     HаГHеТаТеЛыHыХгаЗOBыIXCкBаЖИH  Hефти и газа  базыпроизводственного обслуживания', ' оказађели                 правленнаяскважин     для               HаГHеТаТеЛыHыХгаЗOBыIXCкBаЖИH    ', '                  правленнаяскважин дооываюшаяHефтяHаягоризоHтальHаяскважиH: HагнетателынаяскважиHагазоконденсатныIйпромыIсел   HетедоOыIч               HаГHеТаТеЛыHыХгаЗOBыIXCкBаЖИH    ', '                    сайклиHг                      ', '                    процесс                      ', \" Ed.  доллбаpp.  Pyб.J1OоOм      доллбарр     T. py6.rод     ThIc. Tыс. I'b1C.  ThiC. TbIC. MIH. Thie. ThIC. Tыс тыс млн ыс ыс  Iыс  MЛH.  Thit. Thie. ThIC.\", ' измерения Pyo.т доллбаpp. Pyo.т Pyб.J1OоOм Pу6.JOOOM  руб.т руo.т Py6.OOOM доллбарр     T. py6.rод рyo.м Pyo.M рyo.M рyо.м ро.скв DO.скE Pyb.dob.  рo.скE pyo.сKE Pубшт pyo.cKB. pyo.ckB.  pyo.IскB Pyб.шт руо.скв  Pyо.скв Dуф.IскB рй рублскв  Pyбскв. руб.скB pyo.сKE', ' начения                                         ', ' нароектныйгод зђ 5O,   1736, 5D, 8   5о 20,0 , O,5 O,OO66 463:900     даџђ  70о,0                 1112,8  ']\n",
            "--> [' No I                                          ', '       оля                                етянои    ', '  Hефт Hефты  природныйгаз оренныйгаз           ыIBаюшаTазоBаяCкBаЖиHE  дооываюшаяHефтяHаягоризоHтальHаяскважиH:  бурение бокового CтBола     газосоорные коллекторы  лектроснаожение     онденсатосорные    истема шлеиђь етянои сор  базыпроизводственного обслуживания ', '  знтренне BHеUHем  природныйгаз оренныйгаз HефTI Hа BHешHеM обьчу ођђч        ыIBаюшаTазоBаяCкBаЖиHE  дооываюшаяHефтяHаягоризоHтальHаяскважиH: HагнетателынаяскважиHагазоконденсатныIйпромыIсел бурение бокового CтBола  Hе BхOдяшеE промысе  газосоорные коллекторы  лектроснаожение   орные  онденсатосорные    истема шлеиђь  транспорт  базыпроизводственного обслуживания HOЛOГИHCк', '  знтренне BHеUHем Bнтреннемрынке  оренныйгаз HефTI Hа BHешHеM нефтиK ођђч природногогаэ       ыIBаюшаTазоBаяCкBаЖиHE  дооываюшаяHефтяHаягоризоHтальHаяскважиH: HагнетателынаяскважиHагазоконденсатныIйпромыIсел бурение бокового CтBола  Hе BхOдяшеE промысе  газосоорные коллекторы  лектроснаожение  вязк коллектор  онденсатосорные     HаГHеТаТеЛыHыХгаЗOBыIXCкBаЖИH  транспорт  базыпроизводственного обслуживания HOЛOГИHCк', '    Bнтреннемрынке   HефTI Hа BHешHеM дI  природногогаэ       ыIBаюшаTазоBаяCкBаЖиHE  дооываюшаяHефтяHаягоризоHтальHаяскважиH: HагнетателынаяскважиHагазоконденсатныIйпромыIсел      газосоорные коллекторы   дороги CКBаЖИЕ коллектор  коллекторы     HаГHеТаТеЛыHыХгаЗOBыIXCкBаЖИH  Hефти и газа  базыпроизводственного обслуживания OдIOTOBKа HEUT', ' оказађели      ынке   природногогаэ         дооываюшаяHефтяHаягоризоHтальHаяскважиH: HагнетателынаяскважиHагазоконденсатныIйпромыIсел             коллекторы     HаГHеТаТеЛыHыХгаЗOBыIXCкBаЖИH  Hефти и газа  базыпроизводственного обслуживания OдIOTOBKа HEUT', ' оказађели                 правленнаяскважин     для               HаГHеТаТеЛыHыХгаЗOBыIXCкBаЖИH     ', '                  правленнаяскважин дооываюшаяHефтяHаягоризоHтальHаяскважиH: HагнетателынаяскважиHагазоконденсатныIйпромыIсел   HетедоOыIч               HаГHеТаТеЛыHыХгаЗOBыIXCкBаЖИH     ', '                    сайклиHг                       ', '                    процесс                       ', \" Ed.  доллбаpp.  Pyб.J1OоOм      доллбарр     T. py6.rод     ThIc. Tыс. I'b1C.  ThiC. TbIC. MIH. Thie. ThIC. Tыс тыс млн ыс ыс  Iыс  MЛH.  Thit. Thie. ThIC. py6.дo6.\", ' измерения Pyo.т доллбаpp. Pyo.т Pyб.J1OоOм Pу6.JOOOM  руб.т руo.т Py6.OOOM доллбарр     T. py6.rод рyo.м Pyo.M рyo.M рyо.м ро.скв DO.скE Pyb.dob.  рo.скE pyo.сKE Pубшт pyo.cKB. pyo.ckB.  pyo.IскB Pyб.шт руо.скв  Pyо.скв Dуф.IскB рй рублскв  Pyбскв. руб.скB pyo.сKE py6.дo6.', ' начения                                          ', ' нароектныйгод зђ 5O,   1736, 5D, 8   5о 20,0 , O,5 O,OO66 463:900     даџђ  70о,0                 1112,8   ']\n",
            "--> [' No I                                           ', '       оля                                етянои     ', '  Hефт Hефты  природныйгаз оренныйгаз           ыIBаюшаTазоBаяCкBаЖиHE  дооываюшаяHефтяHаягоризоHтальHаяскважиH:  бурение бокового CтBола     газосоорные коллекторы  лектроснаожение     онденсатосорные    истема шлеиђь етянои сор  базыпроизводственного обслуживания  ', '  знтренне BHеUHем  природныйгаз оренныйгаз HефTI Hа BHешHеM обьчу ођђч        ыIBаюшаTазоBаяCкBаЖиHE  дооываюшаяHефтяHаягоризоHтальHаяскважиH: HагнетателынаяскважиHагазоконденсатныIйпромыIсел бурение бокового CтBола  Hе BхOдяшеE промысе  газосоорные коллекторы  лектроснаожение   орные  онденсатосорные    истема шлеиђь  транспорт  базыпроизводственного обслуживания HOЛOГИHCк ', '  знтренне BHеUHем Bнтреннемрынке  оренныйгаз HефTI Hа BHешHеM нефтиK ођђч природногогаэ       ыIBаюшаTазоBаяCкBаЖиHE  дооываюшаяHефтяHаягоризоHтальHаяскважиH: HагнетателынаяскважиHагазоконденсатныIйпромыIсел бурение бокового CтBола  Hе BхOдяшеE промысе  газосоорные коллекторы  лектроснаожение  вязк коллектор  онденсатосорные     HаГHеТаТеЛыHыХгаЗOBыIXCкBаЖИH  транспорт  базыпроизводственного обслуживания HOЛOГИHCк ', '    Bнтреннемрынке   HефTI Hа BHешHеM дI  природногогаэ       ыIBаюшаTазоBаяCкBаЖиHE  дооываюшаяHефтяHаягоризоHтальHаяскважиH: HагнетателынаяскважиHагазоконденсатныIйпромыIсел      газосоорные коллекторы   дороги CКBаЖИЕ коллектор  коллекторы     HаГHеТаТеЛыHыХгаЗOBыIXCкBаЖИH  Hефти и газа  базыпроизводственного обслуживания OдIOTOBKа HEUT MATизацH', ' оказађели      ынке   природногогаэ         дооываюшаяHефтяHаягоризоHтальHаяскважиH: HагнетателынаяскважиHагазоконденсатныIйпромыIсел             коллекторы     HаГHеТаТеЛыHыХгаЗOBыIXCкBаЖИH  Hефти и газа  базыпроизводственного обслуживания OдIOTOBKа HEUT ', ' оказађели                 правленнаяскважин     для               HаГHеТаТеЛыHыХгаЗOBыIXCкBаЖИH      ', '                  правленнаяскважин дооываюшаяHефтяHаягоризоHтальHаяскважиH: HагнетателынаяскважиHагазоконденсатныIйпромыIсел   HетедоOыIч               HаГHеТаТеЛыHыХгаЗOBыIXCкBаЖИH      ', '                    сайклиHг                        ', '                    процесс                        ', \" Ed.  доллбаpp.  Pyб.J1OоOм      доллбарр     T. py6.rод     ThIc. Tыс. I'b1C.  ThiC. TbIC. MIH. Thie. ThIC. Tыс тыс млн ыс ыс  Iыс  MЛH.  Thit. Thie. ThIC. py6.дo6. \", ' измерения Pyo.т доллбаpp. Pyo.т Pyб.J1OоOм Pу6.JOOOM  руб.т руo.т Py6.OOOM доллбарр     T. py6.rод рyo.м Pyo.M рyo.M рyо.м ро.скв DO.скE Pyb.dob.  рo.скE pyo.сKE Pубшт pyo.cKB. pyo.ckB.  pyo.IскB Pyб.шт руо.скв  Pyо.скв Dуф.IскB рй рублскв  Pyбскв. руб.скB pyo.сKE py6.дo6. скЕ.', ' начения                                           ', ' нароектныйгод зђ 5O,   1736, 5D, 8   5о 20,0 , O,5 O,OO66 463:900     даџђ  70о,0                 1112,8    ']\n",
            "--> [' No I                                            ', '       оля                                етянои      ', '  Hефт Hефты  природныйгаз оренныйгаз           ыIBаюшаTазоBаяCкBаЖиHE  дооываюшаяHефтяHаягоризоHтальHаяскважиH:  бурение бокового CтBола     газосоорные коллекторы  лектроснаожение     онденсатосорные    истема шлеиђь етянои сор  базыпроизводственного обслуживания   ', '  знтренне BHеUHем  природныйгаз оренныйгаз HефTI Hа BHешHеM обьчу ођђч        ыIBаюшаTазоBаяCкBаЖиHE  дооываюшаяHефтяHаягоризоHтальHаяскважиH: HагнетателынаяскважиHагазоконденсатныIйпромыIсел бурение бокового CтBола  Hе BхOдяшеE промысе  газосоорные коллекторы  лектроснаожение   орные  онденсатосорные    истема шлеиђь  транспорт  базыпроизводственного обслуживания HOЛOГИHCк  ', '  знтренне BHеUHем Bнтреннемрынке  оренныйгаз HефTI Hа BHешHеM нефтиK ођђч природногогаэ       ыIBаюшаTазоBаяCкBаЖиHE  дооываюшаяHефтяHаягоризоHтальHаяскважиH: HагнетателынаяскважиHагазоконденсатныIйпромыIсел бурение бокового CтBола  Hе BхOдяшеE промысе  газосоорные коллекторы  лектроснаожение  вязк коллектор  онденсатосорные     HаГHеТаТеЛыHыХгаЗOBыIXCкBаЖИH  транспорт  базыпроизводственного обслуживания HOЛOГИHCк  ', '    Bнтреннемрынке   HефTI Hа BHешHеM дI  природногогаэ       ыIBаюшаTазоBаяCкBаЖиHE  дооываюшаяHефтяHаягоризоHтальHаяскважиH: HагнетателынаяскважиHагазоконденсатныIйпромыIсел      газосоорные коллекторы   дороги CКBаЖИЕ коллектор  коллекторы     HаГHеТаТеЛыHыХгаЗOBыIXCкBаЖИH  Hефти и газа  базыпроизводственного обслуживания OдIOTOBKа HEUT MATизацH свяэЕ', ' оказађели      ынке   природногогаэ         дооываюшаяHефтяHаягоризоHтальHаяскважиH: HагнетателынаяскважиHагазоконденсатныIйпромыIсел             коллекторы     HаГHеТаТеЛыHыХгаЗOBыIXCкBаЖИH  Hефти и газа  базыпроизводственного обслуживания OдIOTOBKа HEUT  ', ' оказађели                 правленнаяскважин     для               HаГHеТаТеЛыHыХгаЗOBыIXCкBаЖИH       ', '                  правленнаяскважин дооываюшаяHефтяHаягоризоHтальHаяскважиH: HагнетателынаяскважиHагазоконденсатныIйпромыIсел   HетедоOыIч               HаГHеТаТеЛыHыХгаЗOBыIXCкBаЖИH       ', '                    сайклиHг                         ', '                    процесс                         ', \" Ed.  доллбаpp.  Pyб.J1OоOм      доллбарр     T. py6.rод     ThIc. Tыс. I'b1C.  ThiC. TbIC. MIH. Thie. ThIC. Tыс тыс млн ыс ыс  Iыс  MЛH.  Thit. Thie. ThIC. py6.дo6.  Tbic.\", ' измерения Pyo.т доллбаpp. Pyo.т Pyб.J1OоOм Pу6.JOOOM  руб.т руo.т Py6.OOOM доллбарр     T. py6.rод рyo.м Pyo.M рyo.M рyо.м ро.скв DO.скE Pyb.dob.  рo.скE pyo.сKE Pубшт pyo.cKB. pyo.ckB.  pyo.IскB Pyб.шт руо.скв  Pyо.скв Dуф.IскB рй рублскв  Pyбскв. руб.скB pyo.сKE py6.дo6. скЕ. Pyo.дo6.', ' начения                                            ', ' нароектныйгод зђ 5O,   1736, 5D, 8   5о 20,0 , O,5 O,OO66 463:900     даџђ  70о,0                 1112,8     10841.']\n",
            "--> [' No I                                             ', '       оля                                етянои       ', '  Hефт Hефты  природныйгаз оренныйгаз           ыIBаюшаTазоBаяCкBаЖиHE  дооываюшаяHефтяHаягоризоHтальHаяскважиH:  бурение бокового CтBола     газосоорные коллекторы  лектроснаожение     онденсатосорные    истема шлеиђь етянои сор  базыпроизводственного обслуживания    нтрипр', '  знтренне BHеUHем  природныйгаз оренныйгаз HефTI Hа BHешHеM обьчу ођђч        ыIBаюшаTазоBаяCкBаЖиHE  дооываюшаяHефтяHаягоризоHтальHаяскважиH: HагнетателынаяскважиHагазоконденсатныIйпромыIсел бурение бокового CтBола  Hе BхOдяшеE промысе  газосоорные коллекторы  лектроснаожение   орные  онденсатосорные    истема шлеиђь  транспорт  базыпроизводственного обслуживания HOЛOГИHCк   нтрипр', '  знтренне BHеUHем Bнтреннемрынке  оренныйгаз HефTI Hа BHешHеM нефтиK ођђч природногогаэ       ыIBаюшаTазоBаяCкBаЖиHE  дооываюшаяHефтяHаягоризоHтальHаяскважиH: HагнетателынаяскважиHагазоконденсатныIйпромыIсел бурение бокового CтBола  Hе BхOдяшеE промысе  газосоорные коллекторы  лектроснаожение  вязк коллектор  онденсатосорные     HаГHеТаТеЛыHыХгаЗOBыIXCкBаЖИH  транспорт  базыпроизводственного обслуживания HOЛOГИHCк   мысловые', '    Bнтреннемрынке   HефTI Hа BHешHеM дI  природногогаэ       ыIBаюшаTазоBаяCкBаЖиHE  дооываюшаяHефтяHаягоризоHтальHаяскважиH: HагнетателынаяскважиHагазоконденсатныIйпромыIсел      газосоорные коллекторы   дороги CКBаЖИЕ коллектор  коллекторы     HаГHеТаТеЛыHыХгаЗOBыIXCкBаЖИH  Hефти и газа  базыпроизводственного обслуживания OдIOTOBKа HEUT MATизацH свяэЕ дорог', ' оказађели      ынке   природногогаэ         дооываюшаяHефтяHаягоризоHтальHаяскважиH: HагнетателынаяскважиHагазоконденсатныIйпромыIсел             коллекторы     HаГHеТаТеЛыHыХгаЗOBыIXCкBаЖИH  Hефти и газа  базыпроизводственного обслуживания OдIOTOBKа HEUT   ', ' оказађели                 правленнаяскважин     для               HаГHеТаТеЛыHыХгаЗOBыIXCкBаЖИH        ', '                  правленнаяскважин дооываюшаяHефтяHаягоризоHтальHаяскважиH: HагнетателынаяскважиHагазоконденсатныIйпромыIсел   HетедоOыIч               HаГHеТаТеЛыHыХгаЗOBыIXCкBаЖИH        ', '                    сайклиHг                          ', '                    процесс                          ', \" Ed.  доллбаpp.  Pyб.J1OоOм      доллбарр     T. py6.rод     ThIc. Tыс. I'b1C.  ThiC. TbIC. MIH. Thie. ThIC. Tыс тыс млн ыс ыс  Iыс  MЛH.  Thit. Thie. ThIC. py6.дo6.  Tbic. IbiC.\", ' измерения Pyo.т доллбаpp. Pyo.т Pyб.J1OоOм Pу6.JOOOM  руб.т руo.т Py6.OOOM доллбарр     T. py6.rод рyo.м Pyo.M рyo.M рyо.м ро.скв DO.скE Pyb.dob.  рo.скE pyo.сKE Pубшт pyo.cKB. pyo.ckB.  pyo.IскB Pyб.шт руо.скв  Pyо.скв Dуф.IскB рй рублскв  Pyбскв. руб.скB pyo.сKE py6.дo6. скЕ. Pyo.дo6. Py6.дo6.', ' начения                                             ', ' нароектныйгод зђ 5O,   1736, 5D, 8   5о 20,0 , O,5 O,OO66 463:900     даџђ  70о,0                 1112,8     10841. ']\n",
            "--> [' No I                                              ', '       оля                                етянои        ', '  Hефт Hефты  природныйгаз оренныйгаз           ыIBаюшаTазоBаяCкBаЖиHE  дооываюшаяHефтяHаягоризоHтальHаяскважиH:  бурение бокового CтBола     газосоорные коллекторы  лектроснаожение     онденсатосорные    истема шлеиђь етянои сор  базыпроизводственного обслуживания    нтрипр систем', '  знтренне BHеUHем  природныйгаз оренныйгаз HефTI Hа BHешHеM обьчу ођђч        ыIBаюшаTазоBаяCкBаЖиHE  дооываюшаяHефтяHаягоризоHтальHаяскважиH: HагнетателынаяскважиHагазоконденсатныIйпромыIсел бурение бокового CтBола  Hе BхOдяшеE промысе  газосоорные коллекторы  лектроснаожение   орные  онденсатосорные    истема шлеиђь  транспорт  базыпроизводственного обслуживания HOЛOГИHCк   нтрипр п', '  знтренне BHеUHем Bнтреннемрынке  оренныйгаз HефTI Hа BHешHеM нефтиK ођђч природногогаэ       ыIBаюшаTазоBаяCкBаЖиHE  дооываюшаяHефтяHаягоризоHтальHаяскважиH: HагнетателынаяскважиHагазоконденсатныIйпромыIсел бурение бокового CтBола  Hе BхOдяшеE промысе  газосоорные коллекторы  лектроснаожение  вязк коллектор  онденсатосорные     HаГHеТаТеЛыHыХгаЗOBыIXCкBаЖИH  транспорт  базыпроизводственного обслуживания HOЛOГИHCк   мысловые п', '    Bнтреннемрынке   HефTI Hа BHешHеM дI  природногогаэ       ыIBаюшаTазоBаяCкBаЖиHE  дооываюшаяHефтяHаягоризоHтальHаяскважиH: HагнетателынаяскважиHагазоконденсатныIйпромыIсел      газосоорные коллекторы   дороги CКBаЖИЕ коллектор  коллекторы     HаГHеТаТеЛыHыХгаЗOBыIXCкBаЖИH  Hефти и газа  базыпроизводственного обслуживания OдIOTOBKа HEUT MATизацH свяэЕ дорог ', ' оказађели      ынке   природногогаэ         дооываюшаяHефтяHаягоризоHтальHаяскважиH: HагнетателынаяскважиHагазоконденсатныIйпромыIсел             коллекторы     HаГHеТаТеЛыHыХгаЗOBыIXCкBаЖИH  Hефти и газа  базыпроизводственного обслуживания OдIOTOBKа HEUT    ', ' оказађели                 правленнаяскважин     для               HаГHеТаТеЛыHыХгаЗOBыIXCкBаЖИH         ', '                  правленнаяскважин дооываюшаяHефтяHаягоризоHтальHаяскважиH: HагнетателынаяскважиHагазоконденсатныIйпромыIсел   HетедоOыIч               HаГHеТаТеЛыHыХгаЗOBыIXCкBаЖИH         ', '                    сайклиHг                           ', '                    процесс                           ', \" Ed.  доллбаpp.  Pyб.J1OоOм      доллбарр     T. py6.rод     ThIc. Tыс. I'b1C.  ThiC. TbIC. MIH. Thie. ThIC. Tыс тыс млн ыс ыс  Iыс  MЛH.  Thit. Thie. ThIC. py6.дo6.  Tbic. IbiC. Tbic.\", ' измерения Pyo.т доллбаpp. Pyo.т Pyб.J1OоOм Pу6.JOOOM  руб.т руo.т Py6.OOOM доллбарр     T. py6.rод рyo.м Pyo.M рyo.M рyо.м ро.скв DO.скE Pyb.dob.  рo.скE pyo.сKE Pубшт pyo.cKB. pyo.ckB.  pyo.IскB Pyб.шт руо.скв  Pyо.скв Dуф.IскB рй рублскв  Pyбскв. руб.скB pyo.сKE py6.дo6. скЕ. Pyo.дo6. Py6.дo6. рбннаг', ' начения                                              ', ' нароектныйгод зђ 5O,   1736, 5D, 8   5о 20,0 , O,5 O,OO66 463:900     даџђ  70о,0                 1112,8     10841.  ']\n",
            "[]\n"
          ]
        }
      ]
    },
    {
      "cell_type": "code",
      "source": [
        "pd.DataFrame(cleaned_array).to_csv('cleaned.csv')"
      ],
      "metadata": {
        "id": "RZltyMmD_E68"
      },
      "execution_count": 52,
      "outputs": []
    },
    {
      "cell_type": "markdown",
      "source": [
        "# Convert to OWL Format"
      ],
      "metadata": {
        "id": "M9rH5mX9Mx7g"
      }
    },
    {
      "cell_type": "markdown",
      "source": [
        "# **CSV to Text**"
      ],
      "metadata": {
        "id": "SqFdbM634H5w"
      }
    },
    {
      "cell_type": "code",
      "source": [
        "import  jpype\n",
        "import  asposecells\n",
        "\n",
        "\n",
        "jpype.startJVM()\n",
        "from asposecells.api import Workbook\n",
        "\n",
        "workbook = Workbook(\"/content/sample.csv\")\n",
        "workbook.save(\"Output.docx\")\n",
        "jpype.shutdownJVM()"
      ],
      "metadata": {
        "id": "949GB9T1_Go7",
        "colab": {
          "base_uri": "https://localhost:8080/",
          "height": 373
        },
        "outputId": "d3bf9a55-8248-459c-8eb6-c2c67e5a84b3"
      },
      "execution_count": null,
      "outputs": [
        {
          "output_type": "error",
          "ename": "ModuleNotFoundError",
          "evalue": "ignored",
          "traceback": [
            "\u001b[0;31m---------------------------------------------------------------------------\u001b[0m",
            "\u001b[0;31mModuleNotFoundError\u001b[0m                       Traceback (most recent call last)",
            "\u001b[0;32m<ipython-input-52-0cc478de6e7d>\u001b[0m in \u001b[0;36m<module>\u001b[0;34m\u001b[0m\n\u001b[0;32m----> 1\u001b[0;31m \u001b[0;32mimport\u001b[0m  \u001b[0mjpype\u001b[0m\u001b[0;34m\u001b[0m\u001b[0;34m\u001b[0m\u001b[0m\n\u001b[0m\u001b[1;32m      2\u001b[0m \u001b[0;32mimport\u001b[0m  \u001b[0masposecells\u001b[0m\u001b[0;34m\u001b[0m\u001b[0;34m\u001b[0m\u001b[0m\n\u001b[1;32m      3\u001b[0m \u001b[0;34m\u001b[0m\u001b[0m\n\u001b[1;32m      4\u001b[0m \u001b[0;34m\u001b[0m\u001b[0m\n\u001b[1;32m      5\u001b[0m \u001b[0mjpype\u001b[0m\u001b[0;34m.\u001b[0m\u001b[0mstartJVM\u001b[0m\u001b[0;34m(\u001b[0m\u001b[0;34m)\u001b[0m\u001b[0;34m\u001b[0m\u001b[0;34m\u001b[0m\u001b[0m\n",
            "\u001b[0;31mModuleNotFoundError\u001b[0m: No module named 'jpype'",
            "",
            "\u001b[0;31m---------------------------------------------------------------------------\u001b[0;32m\nNOTE: If your import is failing due to a missing package, you can\nmanually install dependencies using either !pip or !apt.\n\nTo view examples of installing some common dependencies, click the\n\"Open Examples\" button below.\n\u001b[0;31m---------------------------------------------------------------------------\u001b[0m\n"
          ],
          "errorDetails": {
            "actions": [
              {
                "action": "open_url",
                "actionText": "Open Examples",
                "url": "/notebooks/snippets/importing_libraries.ipynb"
              }
            ]
          }
        }
      ]
    },
    {
      "cell_type": "code",
      "source": [],
      "metadata": {
        "id": "eIGJDS7u4DLS"
      },
      "execution_count": null,
      "outputs": []
    },
    {
      "cell_type": "code",
      "source": [],
      "metadata": {
        "id": "ziHBaaCn4DN2"
      },
      "execution_count": null,
      "outputs": []
    },
    {
      "cell_type": "markdown",
      "source": [
        "# Brighten Image (For Anyone dealing with PDFs created from scanned images)"
      ],
      "metadata": {
        "id": "FIzj02CHqce7"
      }
    },
    {
      "cell_type": "code",
      "source": [
        "from PIL import Image, ImageEnhance\n",
        "\n",
        "#read the image\n",
        "im = Image.open(\"ext_im.jpg\")\n",
        "\n",
        "#image brightness enhancer\n",
        "enhancer = ImageEnhance.Brightness(im)\n",
        "\n",
        "factor = 1 #gives original image\n",
        "im_output = enhancer.enhance(factor)\n",
        "im_output.save('ext_im-1.jpg')\n",
        "\n",
        "factor = 1.5## brightens the image\n",
        "im_output = enhancer.enhance(factor)\n",
        "im_output.save('ext_im-2.jpg')\n"
      ],
      "metadata": {
        "id": "vnzqj5q34DQk"
      },
      "execution_count": null,
      "outputs": []
    },
    {
      "cell_type": "code",
      "source": [],
      "metadata": {
        "id": "arQSfE2br7YT"
      },
      "execution_count": null,
      "outputs": []
    },
    {
      "cell_type": "code",
      "source": [
        "!pip install easyocr"
      ],
      "metadata": {
        "colab": {
          "base_uri": "https://localhost:8080/"
        },
        "id": "HuxhobAg-Lfw",
        "outputId": "ef6a4ad7-f68d-4639-abf1-7cfcc49a8df1"
      },
      "execution_count": 1,
      "outputs": [
        {
          "output_type": "stream",
          "name": "stdout",
          "text": [
            "Requirement already satisfied: easyocr in /usr/local/lib/python3.10/dist-packages (1.7.0)\n",
            "Requirement already satisfied: torch in /usr/local/lib/python3.10/dist-packages (from easyocr) (2.0.1+cu118)\n",
            "Requirement already satisfied: torchvision>=0.5 in /usr/local/lib/python3.10/dist-packages (from easyocr) (0.15.2+cu118)\n",
            "Requirement already satisfied: opencv-python-headless in /usr/local/lib/python3.10/dist-packages (from easyocr) (4.7.0.72)\n",
            "Requirement already satisfied: scipy in /usr/local/lib/python3.10/dist-packages (from easyocr) (1.10.1)\n",
            "Requirement already satisfied: numpy in /usr/local/lib/python3.10/dist-packages (from easyocr) (1.22.4)\n",
            "Requirement already satisfied: Pillow in /usr/local/lib/python3.10/dist-packages (from easyocr) (8.4.0)\n",
            "Requirement already satisfied: scikit-image in /usr/local/lib/python3.10/dist-packages (from easyocr) (0.19.3)\n",
            "Requirement already satisfied: python-bidi in /usr/local/lib/python3.10/dist-packages (from easyocr) (0.4.2)\n",
            "Requirement already satisfied: PyYAML in /usr/local/lib/python3.10/dist-packages (from easyocr) (6.0)\n",
            "Requirement already satisfied: Shapely in /usr/local/lib/python3.10/dist-packages (from easyocr) (2.0.1)\n",
            "Requirement already satisfied: pyclipper in /usr/local/lib/python3.10/dist-packages (from easyocr) (1.3.0.post4)\n",
            "Requirement already satisfied: ninja in /usr/local/lib/python3.10/dist-packages (from easyocr) (1.11.1)\n",
            "Requirement already satisfied: requests in /usr/local/lib/python3.10/dist-packages (from torchvision>=0.5->easyocr) (2.27.1)\n",
            "Requirement already satisfied: filelock in /usr/local/lib/python3.10/dist-packages (from torch->easyocr) (3.12.2)\n",
            "Requirement already satisfied: typing-extensions in /usr/local/lib/python3.10/dist-packages (from torch->easyocr) (4.6.3)\n",
            "Requirement already satisfied: sympy in /usr/local/lib/python3.10/dist-packages (from torch->easyocr) (1.11.1)\n",
            "Requirement already satisfied: networkx in /usr/local/lib/python3.10/dist-packages (from torch->easyocr) (3.1)\n",
            "Requirement already satisfied: jinja2 in /usr/local/lib/python3.10/dist-packages (from torch->easyocr) (3.1.2)\n",
            "Requirement already satisfied: triton==2.0.0 in /usr/local/lib/python3.10/dist-packages (from torch->easyocr) (2.0.0)\n",
            "Requirement already satisfied: cmake in /usr/local/lib/python3.10/dist-packages (from triton==2.0.0->torch->easyocr) (3.25.2)\n",
            "Requirement already satisfied: lit in /usr/local/lib/python3.10/dist-packages (from triton==2.0.0->torch->easyocr) (16.0.6)\n",
            "Requirement already satisfied: six in /usr/local/lib/python3.10/dist-packages (from python-bidi->easyocr) (1.16.0)\n",
            "Requirement already satisfied: imageio>=2.4.1 in /usr/local/lib/python3.10/dist-packages (from scikit-image->easyocr) (2.25.1)\n",
            "Requirement already satisfied: tifffile>=2019.7.26 in /usr/local/lib/python3.10/dist-packages (from scikit-image->easyocr) (2023.4.12)\n",
            "Requirement already satisfied: PyWavelets>=1.1.1 in /usr/local/lib/python3.10/dist-packages (from scikit-image->easyocr) (1.4.1)\n",
            "Requirement already satisfied: packaging>=20.0 in /usr/local/lib/python3.10/dist-packages (from scikit-image->easyocr) (23.1)\n",
            "Requirement already satisfied: MarkupSafe>=2.0 in /usr/local/lib/python3.10/dist-packages (from jinja2->torch->easyocr) (2.1.3)\n",
            "Requirement already satisfied: urllib3<1.27,>=1.21.1 in /usr/local/lib/python3.10/dist-packages (from requests->torchvision>=0.5->easyocr) (1.26.16)\n",
            "Requirement already satisfied: certifi>=2017.4.17 in /usr/local/lib/python3.10/dist-packages (from requests->torchvision>=0.5->easyocr) (2023.5.7)\n",
            "Requirement already satisfied: charset-normalizer~=2.0.0 in /usr/local/lib/python3.10/dist-packages (from requests->torchvision>=0.5->easyocr) (2.0.12)\n",
            "Requirement already satisfied: idna<4,>=2.5 in /usr/local/lib/python3.10/dist-packages (from requests->torchvision>=0.5->easyocr) (3.4)\n",
            "Requirement already satisfied: mpmath>=0.19 in /usr/local/lib/python3.10/dist-packages (from sympy->torch->easyocr) (1.3.0)\n"
          ]
        }
      ]
    },
    {
      "cell_type": "code",
      "source": [
        "import easyocr"
      ],
      "metadata": {
        "id": "ukyFqV7x-D4M"
      },
      "execution_count": 2,
      "outputs": []
    },
    {
      "cell_type": "code",
      "source": [
        "def text_recognition(file_path):\n",
        "    reader = easyocr.Reader(['ru'])\n",
        "    result = reader.readtext(file_path, detail = 0, paragraph=True)\n",
        "\n",
        "    return result\n",
        "\n",
        "def main():\n",
        "    file_path = input('Insert path:')\n",
        "    print(text_recognition(file_path=file_path))\n",
        "\n",
        "if __name__== \"__main__\":\n",
        "    main()\n"
      ],
      "metadata": {
        "colab": {
          "base_uri": "https://localhost:8080/"
        },
        "id": "nkSOMZce-X3H",
        "outputId": "b7fe465e-f925-4678-8455-acdb26689802"
      },
      "execution_count": 4,
      "outputs": [
        {
          "output_type": "stream",
          "name": "stdout",
          "text": [
            "Insert path:/content/2023-07-05_15-32-21.png\n",
            "['Таблица 2.1', 'Состояние запасов растворенного газа Славкинского месторождения', 'Начальые нзнлскасчые ктшпаска мли Утверждениые Тскущне нлкЛскясмыс Накопленная Роснедра \" На государстненном злпасы (без учста добыча на (протокол Ха 03-18/493- балансе на 01.01.2018 лобычи 2018) млн; м\\' 01,01.2018, пр от 07.092018 г ) МЛН:М А+Н; А+В1 А+В', 'Продуктивные отложення (пласты) объскти, мссторожленнс целом', \"Лицснзноннын участок (Липситня €МР 02120 Ю22 Золотарснскос поднятис ПАСТ А-7 Московскин ярус С2ш ПЛАСТ А4 Башкирскии ярус С2Ь ПЛАСТ Б-0 Визсиский ~рус Су ПЛАСТ Б-2 Визснский ~Р€ (у ПЛАСТ В-1 Турнсйский ~.; С1 Итого по Золоваревскому подичтию Сланкинскос 1о [ЛАСТ А-3 Московскни ~рус С2ш ПАСТ А-4 Башкирский ярус €2Ь 6 ПЛАСТ Б-2 Витсйский ярус Су ПЛАСТ Б-3 Витсйский ярус €^у ' Итого ло Славкннскомуполиятню ' Вссто мссторожлсниюь Лнцсшия СИРМ 02120 нэ Нерасираеиныи фомд запасы булут постанлены на госбаланс 01,01,2019 гоца\"]\n"
          ]
        }
      ]
    }
  ],
  "metadata": {
    "accelerator": "GPU",
    "colab": {
      "collapsed_sections": [
        "E693Ela3qhLx",
        "SqFdbM634H5w",
        "FIzj02CHqce7"
      ],
      "provenance": [],
      "include_colab_link": true
    },
    "kernelspec": {
      "display_name": "Python 3",
      "name": "python3"
    },
    "language_info": {
      "name": "python"
    }
  },
  "nbformat": 4,
  "nbformat_minor": 0
}
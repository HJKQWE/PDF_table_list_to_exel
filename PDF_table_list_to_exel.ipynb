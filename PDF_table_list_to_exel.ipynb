{
  "cells": [
    {
      "cell_type": "markdown",
      "metadata": {
        "id": "view-in-github",
        "colab_type": "text"
      },
      "source": [
        "<a href=\"https://colab.research.google.com/github/HJKQWE/PDF_table_list_to_exel/blob/main/PDF_table_list_to_exel.ipynb\" target=\"_parent\"><img src=\"https://colab.research.google.com/assets/colab-badge.svg\" alt=\"Open In Colab\"/></a>"
      ]
    },
    {
      "cell_type": "code",
      "source": [
        "from PIL import Image\n",
        "import cv2\n",
        "import numpy as np\n",
        "import pandas as pd\n",
        "import tensorflow as tf"
      ],
      "metadata": {
        "id": "mhEjVUbiUytV"
      },
      "execution_count": 54,
      "outputs": []
    },
    {
      "cell_type": "code",
      "source": [
        "#!pip install paddlepaddle-gpu==2.3.2 cudatoolkit==10.2"
      ],
      "metadata": {
        "id": "JejuCeNXHckg"
      },
      "execution_count": 2,
      "outputs": []
    },
    {
      "cell_type": "code",
      "source": [
        "!pip install paddlepaddle-gpu==2.3.0.post110 -f https://www.paddlepaddle.org.cn/whl/linux/mkl/avx/stable.html"
      ],
      "metadata": {
        "colab": {
          "base_uri": "https://localhost:8080/"
        },
        "id": "xWhdOt9Jay6z",
        "outputId": "e8d79719-80bb-4d5e-89d2-b27523089ebe"
      },
      "execution_count": 55,
      "outputs": [
        {
          "output_type": "stream",
          "name": "stdout",
          "text": [
            "Looking in links: https://www.paddlepaddle.org.cn/whl/linux/mkl/avx/stable.html\n",
            "Requirement already satisfied: paddlepaddle-gpu==2.3.0.post110 in /usr/local/lib/python3.10/dist-packages (2.3.0.post110)\n",
            "Requirement already satisfied: requests>=2.20.0 in /usr/local/lib/python3.10/dist-packages (from paddlepaddle-gpu==2.3.0.post110) (2.27.1)\n",
            "Requirement already satisfied: numpy>=1.13 in /usr/local/lib/python3.10/dist-packages (from paddlepaddle-gpu==2.3.0.post110) (1.22.4)\n",
            "Requirement already satisfied: protobuf>=3.1.0 in /usr/local/lib/python3.10/dist-packages (from paddlepaddle-gpu==2.3.0.post110) (3.20.0)\n",
            "Requirement already satisfied: Pillow in /usr/local/lib/python3.10/dist-packages (from paddlepaddle-gpu==2.3.0.post110) (8.4.0)\n",
            "Requirement already satisfied: six in /usr/local/lib/python3.10/dist-packages (from paddlepaddle-gpu==2.3.0.post110) (1.16.0)\n",
            "Requirement already satisfied: decorator in /usr/local/lib/python3.10/dist-packages (from paddlepaddle-gpu==2.3.0.post110) (4.4.2)\n",
            "Requirement already satisfied: astor in /usr/local/lib/python3.10/dist-packages (from paddlepaddle-gpu==2.3.0.post110) (0.8.1)\n",
            "Requirement already satisfied: paddle-bfloat==0.1.2 in /usr/local/lib/python3.10/dist-packages (from paddlepaddle-gpu==2.3.0.post110) (0.1.2)\n",
            "Requirement already satisfied: opt-einsum==3.3.0 in /usr/local/lib/python3.10/dist-packages (from paddlepaddle-gpu==2.3.0.post110) (3.3.0)\n",
            "Requirement already satisfied: urllib3<1.27,>=1.21.1 in /usr/local/lib/python3.10/dist-packages (from requests>=2.20.0->paddlepaddle-gpu==2.3.0.post110) (1.26.16)\n",
            "Requirement already satisfied: certifi>=2017.4.17 in /usr/local/lib/python3.10/dist-packages (from requests>=2.20.0->paddlepaddle-gpu==2.3.0.post110) (2023.5.7)\n",
            "Requirement already satisfied: charset-normalizer~=2.0.0 in /usr/local/lib/python3.10/dist-packages (from requests>=2.20.0->paddlepaddle-gpu==2.3.0.post110) (2.0.12)\n",
            "Requirement already satisfied: idna<4,>=2.5 in /usr/local/lib/python3.10/dist-packages (from requests>=2.20.0->paddlepaddle-gpu==2.3.0.post110) (3.4)\n"
          ]
        }
      ]
    },
    {
      "cell_type": "code",
      "source": [
        "# from google.colab import drive\n",
        "# drive.mount('/content/drive')"
      ],
      "metadata": {
        "colab": {
          "base_uri": "https://localhost:8080/"
        },
        "id": "WaMGw8gin-L1",
        "outputId": "d63b4cc9-5ee1-46ea-e318-af17ea8e704c"
      },
      "execution_count": 4,
      "outputs": [
        {
          "output_type": "stream",
          "name": "stdout",
          "text": [
            "Mounted at /content/drive\n"
          ]
        }
      ]
    },
    {
      "cell_type": "markdown",
      "metadata": {
        "id": "dvKiMyj2feUe"
      },
      "source": [
        "# pdf2image"
      ]
    },
    {
      "cell_type": "markdown",
      "source": [
        "## Installation"
      ],
      "metadata": {
        "id": "aIz56VvlWkf-"
      }
    },
    {
      "cell_type": "code",
      "source": [
        "!pip install pdf2image\n",
        "!apt-get update\n",
        "!apt-get install poppler-utils"
      ],
      "metadata": {
        "colab": {
          "base_uri": "https://localhost:8080/"
        },
        "id": "biSgyAkWnUD3",
        "outputId": "e56f2b0e-9157-4ba0-b853-2613d39d9342"
      },
      "execution_count": 56,
      "outputs": [
        {
          "output_type": "stream",
          "name": "stdout",
          "text": [
            "Requirement already satisfied: pdf2image in /usr/local/lib/python3.10/dist-packages (1.16.3)\n",
            "Requirement already satisfied: pillow in /usr/local/lib/python3.10/dist-packages (from pdf2image) (8.4.0)\n",
            "Hit:1 http://security.ubuntu.com/ubuntu focal-security InRelease\n",
            "Hit:2 https://developer.download.nvidia.com/compute/cuda/repos/ubuntu2004/x86_64  InRelease\n",
            "Hit:3 https://cloud.r-project.org/bin/linux/ubuntu focal-cran40/ InRelease\n",
            "Hit:4 http://ppa.launchpad.net/c2d4u.team/c2d4u4.0+/ubuntu focal InRelease\n",
            "Hit:5 http://archive.ubuntu.com/ubuntu focal InRelease\n",
            "Hit:6 http://archive.ubuntu.com/ubuntu focal-updates InRelease\n",
            "Hit:7 http://ppa.launchpad.net/cran/libgit2/ubuntu focal InRelease\n",
            "Hit:8 http://archive.ubuntu.com/ubuntu focal-backports InRelease\n",
            "Hit:9 http://ppa.launchpad.net/deadsnakes/ppa/ubuntu focal InRelease\n",
            "Hit:10 http://ppa.launchpad.net/graphics-drivers/ppa/ubuntu focal InRelease\n",
            "Hit:11 http://ppa.launchpad.net/ubuntugis/ppa/ubuntu focal InRelease\n",
            "Reading package lists... Done\n",
            "Reading package lists... Done\n",
            "Building dependency tree       \n",
            "Reading state information... Done\n",
            "poppler-utils is already the newest version (0.86.1-0ubuntu1.1).\n",
            "0 upgraded, 0 newly installed, 0 to remove and 31 not upgraded.\n"
          ]
        }
      ]
    },
    {
      "cell_type": "markdown",
      "source": [
        "## Conversion"
      ],
      "metadata": {
        "id": "pLaguCz1WmF9"
      }
    },
    {
      "cell_type": "code",
      "source": [
        "from pdf2image import convert_from_path"
      ],
      "metadata": {
        "id": "HI1dzCGmkeWI"
      },
      "execution_count": 57,
      "outputs": []
    },
    {
      "cell_type": "code",
      "source": [
        "images = convert_from_path('/content/drive/MyDrive/ГеоКин/Белозерско-Чубовское (501)-2018.pdf')"
      ],
      "metadata": {
        "id": "xyhjFgqjkgG7"
      },
      "execution_count": null,
      "outputs": []
    },
    {
      "cell_type": "code",
      "source": [
        "!mkdir pages"
      ],
      "metadata": {
        "id": "M5hBWxpskgJW"
      },
      "execution_count": null,
      "outputs": []
    },
    {
      "cell_type": "code",
      "source": [
        "for i in range(len(images)):\n",
        "  images[i].save('pages/page'+str(i)+'.jpg', 'JPEG')"
      ],
      "metadata": {
        "id": "7mlH9ltkkgMB"
      },
      "execution_count": null,
      "outputs": []
    },
    {
      "cell_type": "markdown",
      "source": [
        "# Layout"
      ],
      "metadata": {
        "id": "Urwb7Q_OZC8t"
      }
    },
    {
      "cell_type": "markdown",
      "source": [
        "## Installation"
      ],
      "metadata": {
        "id": "vTkwQbF4FZPN"
      }
    },
    {
      "cell_type": "code",
      "source": [
        "#!python3 -m pip install paddlepaddle-gpu\n",
        "!pip install \"paddleocr>=2.0.6\"\n",
        "!pip install protobuf==3.20.0\n",
        "!git clone https://github.com/PaddlePaddle/PaddleOCR.git"
      ],
      "metadata": {
        "colab": {
          "base_uri": "https://localhost:8080/",
          "height": 1000
        },
        "id": "R0lRpQLkIpbZ",
        "outputId": "945efc60-ecbc-4a10-c764-c48090f8f421"
      },
      "execution_count": 10,
      "outputs": [
        {
          "output_type": "stream",
          "name": "stdout",
          "text": [
            "Collecting paddleocr>=2.0.6\n",
            "  Downloading paddleocr-2.6.1.3-py3-none-any.whl (445 kB)\n",
            "\u001b[?25l     \u001b[90m━━━━━━━━━━━━━━━━━━━━━━━━━━━━━━━━━━━━━━━━\u001b[0m \u001b[32m0.0/445.9 kB\u001b[0m \u001b[31m?\u001b[0m eta \u001b[36m-:--:--\u001b[0m\r\u001b[2K     \u001b[91m━━━━━━━━━━━━\u001b[0m\u001b[91m╸\u001b[0m\u001b[90m━━━━━━━━━━━━━━━━━━━━━━━━━━\u001b[0m \u001b[32m143.4/445.9 kB\u001b[0m \u001b[31m4.8 MB/s\u001b[0m eta \u001b[36m0:00:01\u001b[0m\r\u001b[2K     \u001b[90m━━━━━━━━━━━━━━━━━━━━━━━━━━━━━━━━━━━━━━━\u001b[0m \u001b[32m445.9/445.9 kB\u001b[0m \u001b[31m7.3 MB/s\u001b[0m eta \u001b[36m0:00:00\u001b[0m\n",
            "\u001b[?25hRequirement already satisfied: shapely in /usr/local/lib/python3.10/dist-packages (from paddleocr>=2.0.6) (2.0.1)\n",
            "Requirement already satisfied: scikit-image in /usr/local/lib/python3.10/dist-packages (from paddleocr>=2.0.6) (0.19.3)\n",
            "Requirement already satisfied: imgaug in /usr/local/lib/python3.10/dist-packages (from paddleocr>=2.0.6) (0.4.0)\n",
            "Collecting pyclipper (from paddleocr>=2.0.6)\n",
            "  Downloading pyclipper-1.3.0.post4-cp310-cp310-manylinux_2_12_x86_64.manylinux2010_x86_64.whl (813 kB)\n",
            "\u001b[2K     \u001b[90m━━━━━━━━━━━━━━━━━━━━━━━━━━━━━━━━━━━━━━\u001b[0m \u001b[32m813.9/813.9 kB\u001b[0m \u001b[31m38.2 MB/s\u001b[0m eta \u001b[36m0:00:00\u001b[0m\n",
            "\u001b[?25hCollecting lmdb (from paddleocr>=2.0.6)\n",
            "  Downloading lmdb-1.4.1-cp310-cp310-manylinux_2_17_x86_64.manylinux2014_x86_64.whl (299 kB)\n",
            "\u001b[2K     \u001b[90m━━━━━━━━━━━━━━━━━━━━━━━━━━━━━━━━━━━━━━\u001b[0m \u001b[32m299.2/299.2 kB\u001b[0m \u001b[31m32.6 MB/s\u001b[0m eta \u001b[36m0:00:00\u001b[0m\n",
            "\u001b[?25hRequirement already satisfied: tqdm in /usr/local/lib/python3.10/dist-packages (from paddleocr>=2.0.6) (4.65.0)\n",
            "Requirement already satisfied: numpy in /usr/local/lib/python3.10/dist-packages (from paddleocr>=2.0.6) (1.22.4)\n",
            "Collecting visualdl (from paddleocr>=2.0.6)\n",
            "  Downloading visualdl-2.5.3-py3-none-any.whl (6.3 MB)\n",
            "\u001b[2K     \u001b[90m━━━━━━━━━━━━━━━━━━━━━━━━━━━━━━━━━━━━━━━━\u001b[0m \u001b[32m6.3/6.3 MB\u001b[0m \u001b[31m97.4 MB/s\u001b[0m eta \u001b[36m0:00:00\u001b[0m\n",
            "\u001b[?25hCollecting rapidfuzz (from paddleocr>=2.0.6)\n",
            "  Downloading rapidfuzz-3.1.1-cp310-cp310-manylinux_2_17_x86_64.manylinux2014_x86_64.whl (3.1 MB)\n",
            "\u001b[2K     \u001b[90m━━━━━━━━━━━━━━━━━━━━━━━━━━━━━━━━━━━━━━━━\u001b[0m \u001b[32m3.1/3.1 MB\u001b[0m \u001b[31m30.7 MB/s\u001b[0m eta \u001b[36m0:00:00\u001b[0m\n",
            "\u001b[?25hCollecting opencv-python<=4.6.0.66 (from paddleocr>=2.0.6)\n",
            "  Downloading opencv_python-4.6.0.66-cp36-abi3-manylinux_2_17_x86_64.manylinux2014_x86_64.whl (60.9 MB)\n",
            "\u001b[2K     \u001b[90m━━━━━━━━━━━━━━━━━━━━━━━━━━━━━━━━━━━━━━━━\u001b[0m \u001b[32m60.9/60.9 MB\u001b[0m \u001b[31m11.6 MB/s\u001b[0m eta \u001b[36m0:00:00\u001b[0m\n",
            "\u001b[?25hCollecting opencv-contrib-python<=4.6.0.66 (from paddleocr>=2.0.6)\n",
            "  Downloading opencv_contrib_python-4.6.0.66-cp36-abi3-manylinux_2_17_x86_64.manylinux2014_x86_64.whl (67.1 MB)\n",
            "\u001b[2K     \u001b[90m━━━━━━━━━━━━━━━━━━━━━━━━━━━━━━━━━━━━━━━━\u001b[0m \u001b[32m67.1/67.1 MB\u001b[0m \u001b[31m6.7 MB/s\u001b[0m eta \u001b[36m0:00:00\u001b[0m\n",
            "\u001b[?25hRequirement already satisfied: cython in /usr/local/lib/python3.10/dist-packages (from paddleocr>=2.0.6) (0.29.35)\n",
            "Requirement already satisfied: lxml in /usr/local/lib/python3.10/dist-packages (from paddleocr>=2.0.6) (4.9.2)\n",
            "Collecting premailer (from paddleocr>=2.0.6)\n",
            "  Downloading premailer-3.10.0-py2.py3-none-any.whl (19 kB)\n",
            "Requirement already satisfied: openpyxl in /usr/local/lib/python3.10/dist-packages (from paddleocr>=2.0.6) (3.0.10)\n",
            "Collecting attrdict (from paddleocr>=2.0.6)\n",
            "  Downloading attrdict-2.0.1-py2.py3-none-any.whl (9.9 kB)\n",
            "Collecting PyMuPDF<1.21.0 (from paddleocr>=2.0.6)\n",
            "  Downloading PyMuPDF-1.20.2-cp310-cp310-manylinux_2_17_x86_64.manylinux2014_x86_64.whl (8.9 MB)\n",
            "\u001b[2K     \u001b[90m━━━━━━━━━━━━━━━━━━━━━━━━━━━━━━━━━━━━━━━━\u001b[0m \u001b[32m8.9/8.9 MB\u001b[0m \u001b[31m63.6 MB/s\u001b[0m eta \u001b[36m0:00:00\u001b[0m\n",
            "\u001b[?25hCollecting python-docx (from paddleocr>=2.0.6)\n",
            "  Downloading python-docx-0.8.11.tar.gz (5.6 MB)\n",
            "\u001b[2K     \u001b[90m━━━━━━━━━━━━━━━━━━━━━━━━━━━━━━━━━━━━━━━━\u001b[0m \u001b[32m5.6/5.6 MB\u001b[0m \u001b[31m68.9 MB/s\u001b[0m eta \u001b[36m0:00:00\u001b[0m\n",
            "\u001b[?25h  Preparing metadata (setup.py) ... \u001b[?25l\u001b[?25hdone\n",
            "Requirement already satisfied: beautifulsoup4 in /usr/local/lib/python3.10/dist-packages (from paddleocr>=2.0.6) (4.11.2)\n",
            "Requirement already satisfied: fonttools>=4.24.0 in /usr/local/lib/python3.10/dist-packages (from paddleocr>=2.0.6) (4.40.0)\n",
            "Collecting fire>=0.3.0 (from paddleocr>=2.0.6)\n",
            "  Downloading fire-0.5.0.tar.gz (88 kB)\n",
            "\u001b[2K     \u001b[90m━━━━━━━━━━━━━━━━━━━━━━━━━━━━━━━━━━━━━━━━\u001b[0m \u001b[32m88.3/88.3 kB\u001b[0m \u001b[31m13.8 MB/s\u001b[0m eta \u001b[36m0:00:00\u001b[0m\n",
            "\u001b[?25h  Preparing metadata (setup.py) ... \u001b[?25l\u001b[?25hdone\n",
            "Collecting pdf2docx (from paddleocr>=2.0.6)\n",
            "  Downloading pdf2docx-0.5.6-py3-none-any.whl (148 kB)\n",
            "\u001b[2K     \u001b[90m━━━━━━━━━━━━━━━━━━━━━━━━━━━━━━━━━━━━━━\u001b[0m \u001b[32m148.4/148.4 kB\u001b[0m \u001b[31m21.1 MB/s\u001b[0m eta \u001b[36m0:00:00\u001b[0m\n",
            "\u001b[?25hRequirement already satisfied: six in /usr/local/lib/python3.10/dist-packages (from fire>=0.3.0->paddleocr>=2.0.6) (1.16.0)\n",
            "Requirement already satisfied: termcolor in /usr/local/lib/python3.10/dist-packages (from fire>=0.3.0->paddleocr>=2.0.6) (2.3.0)\n",
            "Requirement already satisfied: soupsieve>1.2 in /usr/local/lib/python3.10/dist-packages (from beautifulsoup4->paddleocr>=2.0.6) (2.4.1)\n",
            "Requirement already satisfied: scipy in /usr/local/lib/python3.10/dist-packages (from imgaug->paddleocr>=2.0.6) (1.10.1)\n",
            "Requirement already satisfied: Pillow in /usr/local/lib/python3.10/dist-packages (from imgaug->paddleocr>=2.0.6) (8.4.0)\n",
            "Requirement already satisfied: matplotlib in /usr/local/lib/python3.10/dist-packages (from imgaug->paddleocr>=2.0.6) (3.7.1)\n",
            "Requirement already satisfied: imageio in /usr/local/lib/python3.10/dist-packages (from imgaug->paddleocr>=2.0.6) (2.25.1)\n",
            "Requirement already satisfied: networkx>=2.2 in /usr/local/lib/python3.10/dist-packages (from scikit-image->paddleocr>=2.0.6) (3.1)\n",
            "Requirement already satisfied: tifffile>=2019.7.26 in /usr/local/lib/python3.10/dist-packages (from scikit-image->paddleocr>=2.0.6) (2023.4.12)\n",
            "Requirement already satisfied: PyWavelets>=1.1.1 in /usr/local/lib/python3.10/dist-packages (from scikit-image->paddleocr>=2.0.6) (1.4.1)\n",
            "Requirement already satisfied: packaging>=20.0 in /usr/local/lib/python3.10/dist-packages (from scikit-image->paddleocr>=2.0.6) (23.1)\n",
            "Requirement already satisfied: et-xmlfile in /usr/local/lib/python3.10/dist-packages (from openpyxl->paddleocr>=2.0.6) (1.1.0)\n",
            "Collecting cssselect (from premailer->paddleocr>=2.0.6)\n",
            "  Downloading cssselect-1.2.0-py2.py3-none-any.whl (18 kB)\n",
            "Collecting cssutils (from premailer->paddleocr>=2.0.6)\n",
            "  Downloading cssutils-2.7.1-py3-none-any.whl (399 kB)\n",
            "\u001b[2K     \u001b[90m━━━━━━━━━━━━━━━━━━━━━━━━━━━━━━━━━━━━━━\u001b[0m \u001b[32m399.7/399.7 kB\u001b[0m \u001b[31m45.1 MB/s\u001b[0m eta \u001b[36m0:00:00\u001b[0m\n",
            "\u001b[?25hRequirement already satisfied: requests in /usr/local/lib/python3.10/dist-packages (from premailer->paddleocr>=2.0.6) (2.27.1)\n",
            "Requirement already satisfied: cachetools in /usr/local/lib/python3.10/dist-packages (from premailer->paddleocr>=2.0.6) (5.3.1)\n",
            "Collecting bce-python-sdk (from visualdl->paddleocr>=2.0.6)\n",
            "  Downloading bce_python_sdk-0.8.87-py3-none-any.whl (231 kB)\n",
            "\u001b[2K     \u001b[90m━━━━━━━━━━━━━━━━━━━━━━━━━━━━━━━━━━━━━━\u001b[0m \u001b[32m231.3/231.3 kB\u001b[0m \u001b[31m27.7 MB/s\u001b[0m eta \u001b[36m0:00:00\u001b[0m\n",
            "\u001b[?25hRequirement already satisfied: flask>=1.1.1 in /usr/local/lib/python3.10/dist-packages (from visualdl->paddleocr>=2.0.6) (2.2.5)\n",
            "Collecting Flask-Babel>=3.0.0 (from visualdl->paddleocr>=2.0.6)\n",
            "  Downloading flask_babel-3.1.0-py3-none-any.whl (9.6 kB)\n",
            "Requirement already satisfied: protobuf>=3.20.0 in /usr/local/lib/python3.10/dist-packages (from visualdl->paddleocr>=2.0.6) (3.20.3)\n",
            "Requirement already satisfied: pandas in /usr/local/lib/python3.10/dist-packages (from visualdl->paddleocr>=2.0.6) (1.5.3)\n",
            "Collecting rarfile (from visualdl->paddleocr>=2.0.6)\n",
            "  Downloading rarfile-4.0-py3-none-any.whl (28 kB)\n",
            "Requirement already satisfied: psutil in /usr/local/lib/python3.10/dist-packages (from visualdl->paddleocr>=2.0.6) (5.9.5)\n",
            "Requirement already satisfied: Werkzeug>=2.2.2 in /usr/local/lib/python3.10/dist-packages (from flask>=1.1.1->visualdl->paddleocr>=2.0.6) (2.3.6)\n",
            "Requirement already satisfied: Jinja2>=3.0 in /usr/local/lib/python3.10/dist-packages (from flask>=1.1.1->visualdl->paddleocr>=2.0.6) (3.1.2)\n",
            "Requirement already satisfied: itsdangerous>=2.0 in /usr/local/lib/python3.10/dist-packages (from flask>=1.1.1->visualdl->paddleocr>=2.0.6) (2.1.2)\n",
            "Requirement already satisfied: click>=8.0 in /usr/local/lib/python3.10/dist-packages (from flask>=1.1.1->visualdl->paddleocr>=2.0.6) (8.1.3)\n",
            "Requirement already satisfied: Babel>=2.12 in /usr/local/lib/python3.10/dist-packages (from Flask-Babel>=3.0.0->visualdl->paddleocr>=2.0.6) (2.12.1)\n",
            "Requirement already satisfied: pytz>=2022.7 in /usr/local/lib/python3.10/dist-packages (from Flask-Babel>=3.0.0->visualdl->paddleocr>=2.0.6) (2022.7.1)\n",
            "Collecting pycryptodome>=3.8.0 (from bce-python-sdk->visualdl->paddleocr>=2.0.6)\n",
            "  Downloading pycryptodome-3.18.0-cp35-abi3-manylinux_2_17_x86_64.manylinux2014_x86_64.whl (2.1 MB)\n",
            "\u001b[2K     \u001b[90m━━━━━━━━━━━━━━━━━━━━━━━━━━━━━━━━━━━━━━━━\u001b[0m \u001b[32m2.1/2.1 MB\u001b[0m \u001b[31m109.2 MB/s\u001b[0m eta \u001b[36m0:00:00\u001b[0m\n",
            "\u001b[?25hRequirement already satisfied: future>=0.6.0 in /usr/local/lib/python3.10/dist-packages (from bce-python-sdk->visualdl->paddleocr>=2.0.6) (0.18.3)\n",
            "Requirement already satisfied: contourpy>=1.0.1 in /usr/local/lib/python3.10/dist-packages (from matplotlib->imgaug->paddleocr>=2.0.6) (1.1.0)\n",
            "Requirement already satisfied: cycler>=0.10 in /usr/local/lib/python3.10/dist-packages (from matplotlib->imgaug->paddleocr>=2.0.6) (0.11.0)\n",
            "Requirement already satisfied: kiwisolver>=1.0.1 in /usr/local/lib/python3.10/dist-packages (from matplotlib->imgaug->paddleocr>=2.0.6) (1.4.4)\n",
            "Requirement already satisfied: pyparsing>=2.3.1 in /usr/local/lib/python3.10/dist-packages (from matplotlib->imgaug->paddleocr>=2.0.6) (3.1.0)\n",
            "Requirement already satisfied: python-dateutil>=2.7 in /usr/local/lib/python3.10/dist-packages (from matplotlib->imgaug->paddleocr>=2.0.6) (2.8.2)\n",
            "Requirement already satisfied: urllib3<1.27,>=1.21.1 in /usr/local/lib/python3.10/dist-packages (from requests->premailer->paddleocr>=2.0.6) (1.26.16)\n",
            "Requirement already satisfied: certifi>=2017.4.17 in /usr/local/lib/python3.10/dist-packages (from requests->premailer->paddleocr>=2.0.6) (2023.5.7)\n",
            "Requirement already satisfied: charset-normalizer~=2.0.0 in /usr/local/lib/python3.10/dist-packages (from requests->premailer->paddleocr>=2.0.6) (2.0.12)\n",
            "Requirement already satisfied: idna<4,>=2.5 in /usr/local/lib/python3.10/dist-packages (from requests->premailer->paddleocr>=2.0.6) (3.4)\n",
            "Requirement already satisfied: MarkupSafe>=2.0 in /usr/local/lib/python3.10/dist-packages (from Jinja2>=3.0->flask>=1.1.1->visualdl->paddleocr>=2.0.6) (2.1.3)\n",
            "Building wheels for collected packages: fire, python-docx\n",
            "  Building wheel for fire (setup.py) ... \u001b[?25l\u001b[?25hdone\n",
            "  Created wheel for fire: filename=fire-0.5.0-py2.py3-none-any.whl size=116932 sha256=2d4bcb5a35b7a6d6d6cf9ee7f8cb2fadb0841b2ebc20acdf100edc37bcdfa38c\n",
            "  Stored in directory: /root/.cache/pip/wheels/90/d4/f7/9404e5db0116bd4d43e5666eaa3e70ab53723e1e3ea40c9a95\n",
            "  Building wheel for python-docx (setup.py) ... \u001b[?25l\u001b[?25hdone\n",
            "  Created wheel for python-docx: filename=python_docx-0.8.11-py3-none-any.whl size=184491 sha256=a3d5e69a27d539ed459ca92e2cdad7a899995c057b85e568f01d4d301653208d\n",
            "  Stored in directory: /root/.cache/pip/wheels/80/27/06/837436d4c3bd989b957a91679966f207bfd71d358d63a8194d\n",
            "Successfully built fire python-docx\n",
            "Installing collected packages: rarfile, pyclipper, lmdb, rapidfuzz, python-docx, PyMuPDF, pycryptodome, opencv-python, opencv-contrib-python, fire, cssutils, cssselect, attrdict, premailer, pdf2docx, bce-python-sdk, Flask-Babel, visualdl, paddleocr\n",
            "  Attempting uninstall: opencv-python\n",
            "    Found existing installation: opencv-python 4.7.0.72\n",
            "    Uninstalling opencv-python-4.7.0.72:\n",
            "      Successfully uninstalled opencv-python-4.7.0.72\n",
            "  Attempting uninstall: opencv-contrib-python\n",
            "    Found existing installation: opencv-contrib-python 4.7.0.72\n",
            "    Uninstalling opencv-contrib-python-4.7.0.72:\n",
            "      Successfully uninstalled opencv-contrib-python-4.7.0.72\n",
            "Successfully installed Flask-Babel-3.1.0 PyMuPDF-1.20.2 attrdict-2.0.1 bce-python-sdk-0.8.87 cssselect-1.2.0 cssutils-2.7.1 fire-0.5.0 lmdb-1.4.1 opencv-contrib-python-4.6.0.66 opencv-python-4.6.0.66 paddleocr-2.6.1.3 pdf2docx-0.5.6 premailer-3.10.0 pyclipper-1.3.0.post4 pycryptodome-3.18.0 python-docx-0.8.11 rapidfuzz-3.1.1 rarfile-4.0 visualdl-2.5.3\n"
          ]
        },
        {
          "output_type": "display_data",
          "data": {
            "application/vnd.colab-display-data+json": {
              "pip_warning": {
                "packages": [
                  "cv2"
                ]
              }
            }
          },
          "metadata": {}
        },
        {
          "output_type": "stream",
          "name": "stdout",
          "text": [
            "Collecting protobuf==3.20.0\n",
            "  Downloading protobuf-3.20.0-cp310-cp310-manylinux_2_12_x86_64.manylinux2010_x86_64.whl (1.1 MB)\n",
            "\u001b[?25l     \u001b[90m━━━━━━━━━━━━━━━━━━━━━━━━━━━━━━━━━━━━━━━━\u001b[0m \u001b[32m0.0/1.1 MB\u001b[0m \u001b[31m?\u001b[0m eta \u001b[36m-:--:--\u001b[0m\r\u001b[2K     \u001b[91m━━━━━━━━━━\u001b[0m\u001b[91m╸\u001b[0m\u001b[90m━━━━━━━━━━━━━━━━━━━━━━━━━━━━━\u001b[0m \u001b[32m0.3/1.1 MB\u001b[0m \u001b[31m8.1 MB/s\u001b[0m eta \u001b[36m0:00:01\u001b[0m\r\u001b[2K     \u001b[90m━━━━━━━━━━━━━━━━━━━━━━━━━━━━━━━━━━━━━━━━\u001b[0m \u001b[32m1.1/1.1 MB\u001b[0m \u001b[31m16.2 MB/s\u001b[0m eta \u001b[36m0:00:00\u001b[0m\n",
            "\u001b[?25hInstalling collected packages: protobuf\n",
            "  Attempting uninstall: protobuf\n",
            "    Found existing installation: protobuf 3.20.3\n",
            "    Uninstalling protobuf-3.20.3:\n",
            "      Successfully uninstalled protobuf-3.20.3\n",
            "\u001b[31mERROR: pip's dependency resolver does not currently take into account all the packages that are installed. This behaviour is the source of the following dependency conflicts.\n",
            "google-api-core 2.11.1 requires protobuf!=3.20.0,!=3.20.1,!=4.21.0,!=4.21.1,!=4.21.2,!=4.21.3,!=4.21.4,!=4.21.5,<5.0.0.dev0,>=3.19.5, but you have protobuf 3.20.0 which is incompatible.\n",
            "google-cloud-bigquery 3.10.0 requires protobuf!=3.20.0,!=3.20.1,!=4.21.0,!=4.21.1,!=4.21.2,!=4.21.3,!=4.21.4,!=4.21.5,<5.0.0dev,>=3.19.5, but you have protobuf 3.20.0 which is incompatible.\n",
            "google-cloud-bigquery-connection 1.12.0 requires protobuf!=3.20.0,!=3.20.1,!=4.21.0,!=4.21.1,!=4.21.2,!=4.21.3,!=4.21.4,!=4.21.5,<5.0.0dev,>=3.19.5, but you have protobuf 3.20.0 which is incompatible.\n",
            "google-cloud-bigquery-storage 2.20.0 requires protobuf!=3.20.0,!=3.20.1,!=4.21.0,!=4.21.1,!=4.21.2,!=4.21.3,!=4.21.4,!=4.21.5,<5.0.0dev,>=3.19.5, but you have protobuf 3.20.0 which is incompatible.\n",
            "google-cloud-datastore 2.15.2 requires protobuf!=3.20.0,!=3.20.1,!=4.21.0,!=4.21.1,!=4.21.2,!=4.21.3,!=4.21.4,!=4.21.5,<5.0.0dev,>=3.19.5, but you have protobuf 3.20.0 which is incompatible.\n",
            "google-cloud-firestore 2.11.1 requires protobuf!=3.20.0,!=3.20.1,!=4.21.0,!=4.21.1,!=4.21.2,!=4.21.3,!=4.21.4,!=4.21.5,<5.0.0dev,>=3.19.5, but you have protobuf 3.20.0 which is incompatible.\n",
            "google-cloud-functions 1.13.0 requires protobuf!=3.20.0,!=3.20.1,!=4.21.0,!=4.21.1,!=4.21.2,!=4.21.3,!=4.21.4,!=4.21.5,<5.0.0dev,>=3.19.5, but you have protobuf 3.20.0 which is incompatible.\n",
            "google-cloud-language 2.9.1 requires protobuf!=3.20.0,!=3.20.1,!=4.21.0,!=4.21.1,!=4.21.2,!=4.21.3,!=4.21.4,!=4.21.5,<5.0.0dev,>=3.19.5, but you have protobuf 3.20.0 which is incompatible.\n",
            "google-cloud-translate 3.11.1 requires protobuf!=3.20.0,!=3.20.1,!=4.21.0,!=4.21.1,!=4.21.2,!=4.21.3,!=4.21.4,!=4.21.5,<5.0.0dev,>=3.19.5, but you have protobuf 3.20.0 which is incompatible.\n",
            "googleapis-common-protos 1.59.1 requires protobuf!=3.20.0,!=3.20.1,!=4.21.1,!=4.21.2,!=4.21.3,!=4.21.4,!=4.21.5,<5.0.0.dev0,>=3.19.5, but you have protobuf 3.20.0 which is incompatible.\n",
            "grpc-google-iam-v1 0.12.6 requires protobuf!=3.20.0,!=3.20.1,!=4.21.1,!=4.21.2,!=4.21.3,!=4.21.4,!=4.21.5,<5.0.0dev,>=3.19.5, but you have protobuf 3.20.0 which is incompatible.\n",
            "tensorflow 2.12.0 requires protobuf!=4.21.0,!=4.21.1,!=4.21.2,!=4.21.3,!=4.21.4,!=4.21.5,<5.0.0dev,>=3.20.3, but you have protobuf 3.20.0 which is incompatible.\n",
            "tensorflow-metadata 1.13.1 requires protobuf<5,>=3.20.3, but you have protobuf 3.20.0 which is incompatible.\u001b[0m\u001b[31m\n",
            "\u001b[0mSuccessfully installed protobuf-3.20.0\n"
          ]
        },
        {
          "output_type": "display_data",
          "data": {
            "application/vnd.colab-display-data+json": {
              "pip_warning": {
                "packages": [
                  "google"
                ]
              }
            }
          },
          "metadata": {}
        },
        {
          "output_type": "stream",
          "name": "stdout",
          "text": [
            "Cloning into 'PaddleOCR'...\n",
            "remote: Enumerating objects: 46611, done.\u001b[K\n",
            "remote: Counting objects: 100% (462/462), done.\u001b[K\n",
            "remote: Compressing objects: 100% (278/278), done.\u001b[K\n",
            "remote: Total 46611 (delta 255), reused 315 (delta 178), pack-reused 46149\u001b[K\n",
            "Receiving objects: 100% (46611/46611), 342.92 MiB | 18.02 MiB/s, done.\n",
            "Resolving deltas: 100% (32692/32692), done.\n",
            "Updating files: 100% (1621/1621), done.\n"
          ]
        }
      ]
    },
    {
      "cell_type": "code",
      "source": [
        "a=5"
      ],
      "metadata": {
        "id": "IXEKTAa2_10K"
      },
      "execution_count": 11,
      "outputs": []
    },
    {
      "cell_type": "code",
      "source": [
        "!wget https://paddleocr.bj.bcebos.com/whl/layoutparser-0.0.0-py3-none-any.whl\n",
        "!pip install -U layoutparser-0.0.0-py3-none-any.whl"
      ],
      "metadata": {
        "colab": {
          "base_uri": "https://localhost:8080/"
        },
        "id": "8gWFgGl5CXu6",
        "outputId": "6b97e074-4a7f-4b2a-cf73-eeb473928b66"
      },
      "execution_count": 12,
      "outputs": [
        {
          "output_type": "stream",
          "name": "stdout",
          "text": [
            "--2023-07-05 11:30:24--  https://paddleocr.bj.bcebos.com/whl/layoutparser-0.0.0-py3-none-any.whl\n",
            "Resolving paddleocr.bj.bcebos.com (paddleocr.bj.bcebos.com)... 103.235.46.61, 2409:8c04:1001:1002:0:ff:b001:368a\n",
            "Connecting to paddleocr.bj.bcebos.com (paddleocr.bj.bcebos.com)|103.235.46.61|:443... connected.\n",
            "HTTP request sent, awaiting response... 200 OK\n",
            "Length: 19145360 (18M) [application/octet-stream]\n",
            "Saving to: ‘layoutparser-0.0.0-py3-none-any.whl’\n",
            "\n",
            "layoutparser-0.0.0- 100%[===================>]  18.26M  4.74MB/s    in 19s     \n",
            "\n",
            "2023-07-05 11:30:45 (1007 KB/s) - ‘layoutparser-0.0.0-py3-none-any.whl’ saved [19145360/19145360]\n",
            "\n",
            "Processing ./layoutparser-0.0.0-py3-none-any.whl\n",
            "Requirement already satisfied: numpy in /usr/local/lib/python3.10/dist-packages (from layoutparser==0.0.0) (1.22.4)\n",
            "Requirement already satisfied: opencv-python in /usr/local/lib/python3.10/dist-packages (from layoutparser==0.0.0) (4.6.0.66)\n",
            "Requirement already satisfied: pandas in /usr/local/lib/python3.10/dist-packages (from layoutparser==0.0.0) (1.5.3)\n",
            "Requirement already satisfied: pillow in /usr/local/lib/python3.10/dist-packages (from layoutparser==0.0.0) (8.4.0)\n",
            "Requirement already satisfied: pyyaml>=5.1 in /usr/local/lib/python3.10/dist-packages (from layoutparser==0.0.0) (6.0)\n",
            "Collecting iopath (from layoutparser==0.0.0)\n",
            "  Downloading iopath-0.1.10.tar.gz (42 kB)\n",
            "\u001b[2K     \u001b[90m━━━━━━━━━━━━━━━━━━━━━━━━━━━━━━━━━━━━━━━━\u001b[0m \u001b[32m42.2/42.2 kB\u001b[0m \u001b[31m2.2 MB/s\u001b[0m eta \u001b[36m0:00:00\u001b[0m\n",
            "\u001b[?25h  Preparing metadata (setup.py) ... \u001b[?25l\u001b[?25hdone\n",
            "Requirement already satisfied: tqdm in /usr/local/lib/python3.10/dist-packages (from layoutparser==0.0.0) (4.65.0)\n",
            "Requirement already satisfied: typing_extensions in /usr/local/lib/python3.10/dist-packages (from iopath->layoutparser==0.0.0) (4.6.3)\n",
            "Collecting portalocker (from iopath->layoutparser==0.0.0)\n",
            "  Downloading portalocker-2.7.0-py2.py3-none-any.whl (15 kB)\n",
            "Requirement already satisfied: python-dateutil>=2.8.1 in /usr/local/lib/python3.10/dist-packages (from pandas->layoutparser==0.0.0) (2.8.2)\n",
            "Requirement already satisfied: pytz>=2020.1 in /usr/local/lib/python3.10/dist-packages (from pandas->layoutparser==0.0.0) (2022.7.1)\n",
            "Requirement already satisfied: six>=1.5 in /usr/local/lib/python3.10/dist-packages (from python-dateutil>=2.8.1->pandas->layoutparser==0.0.0) (1.16.0)\n",
            "Building wheels for collected packages: iopath\n",
            "  Building wheel for iopath (setup.py) ... \u001b[?25l\u001b[?25hdone\n",
            "  Created wheel for iopath: filename=iopath-0.1.10-py3-none-any.whl size=31531 sha256=0a0070051c7b330ef5981a3ceae0fb589cab8f810e914ffb6941976348aac908\n",
            "  Stored in directory: /root/.cache/pip/wheels/9a/a3/b6/ac0fcd1b4ed5cfeb3db92e6a0e476cfd48ed0df92b91080c1d\n",
            "Successfully built iopath\n",
            "Installing collected packages: portalocker, iopath, layoutparser\n",
            "Successfully installed iopath-0.1.10 layoutparser-0.0.0 portalocker-2.7.0\n"
          ]
        }
      ]
    },
    {
      "cell_type": "markdown",
      "source": [
        "## Table Extraction"
      ],
      "metadata": {
        "id": "w5MA08E0F8aU"
      }
    },
    {
      "cell_type": "code",
      "source": [
        "import cv2\n",
        "import layoutparser as lp\n",
        "image = cv2.imread(\"/content/pages/page0.jpg\")\n",
        "\n",
        "image = image[..., ::-1]\n",
        "\n",
        "# load model\n",
        "model = lp.PaddleDetectionLayoutModel(config_path=\"lp://PubLayNet/ppyolov2_r50vd_dcn_365e_publaynet/config\",\n",
        "                                threshold=0.5,\n",
        "                                label_map={0: \"Text\", 1: \"Title\", 2: \"List\", 3:\"Table\", 4:\"Figure\"},\n",
        "                                enforce_cpu=False,\n",
        "                                enable_mkldnn=True)#math kernel library\n",
        "# detect\n",
        "layout = model.detect(image)"
      ],
      "metadata": {
        "id": "bw9SFYnMCX0E",
        "colab": {
          "base_uri": "https://localhost:8080/"
        },
        "outputId": "4c7f4548-7a72-4797-d792-6618b29680a3"
      },
      "execution_count": 13,
      "outputs": [
        {
          "output_type": "stream",
          "name": "stdout",
          "text": [
            "download https://paddle-model-ecology.bj.bcebos.com/model/layout-parser/ppyolov2_r50vd_dcn_365e_publaynet.tar to /root/.paddledet/inference_model/ppyolov2_r50vd_dcn_365e_publaynet/ppyolov2_r50vd_dcn_365e_publaynet_infer/ppyolov2_r50vd_dcn_365e_publaynet.tar\n"
          ]
        },
        {
          "output_type": "stream",
          "name": "stderr",
          "text": [
            "100%|██████████| 221M/221M [00:36<00:00, 6.09MiB/s]\n"
          ]
        }
      ]
    },
    {
      "cell_type": "code",
      "source": [
        "layout"
      ],
      "metadata": {
        "id": "G76oO2WXCX6v",
        "colab": {
          "base_uri": "https://localhost:8080/"
        },
        "outputId": "32d7acaf-88d6-4f9a-8daf-fe79cf1c0c51"
      },
      "execution_count": 14,
      "outputs": [
        {
          "output_type": "execute_result",
          "data": {
            "text/plain": [
              "Layout(_blocks=[TextBlock(block=Rectangle(x_1=232.3773193359375, y_1=226.898681640625, x_2=1481.6829833984375, y_2=2119.2275390625), text=None, id=None, type=Table, parent=None, next=None, score=0.978708803653717), TextBlock(block=Rectangle(x_1=560.4517822265625, y_1=198.8157196044922, x_2=1078.5328369140625, y_2=223.45167541503906), text=None, id=None, type=Text, parent=None, next=None, score=0.9131478667259216)], page_data={})"
            ]
          },
          "metadata": {},
          "execution_count": 14
        }
      ]
    },
    {
      "cell_type": "code",
      "source": [
        "x_1=0\n",
        "y_1=0\n",
        "x_2=0\n",
        "y_2=0\n",
        "\n",
        "for l in layout:\n",
        "  #print(l)\n",
        "  if l.type == 'Table':\n",
        "    x_1 = int(l.block.x_1)\n",
        "    print(l.block.x_1)\n",
        "    y_1 = int(l.block.y_1)\n",
        "    x_2 = int(l.block.x_2)\n",
        "    y_2 = int(l.block.y_2)\n",
        "\n",
        "    break"
      ],
      "metadata": {
        "id": "y3h0kCz-CX_U",
        "colab": {
          "base_uri": "https://localhost:8080/"
        },
        "outputId": "35f2040c-e473-4951-dd1b-8e77b5faca76"
      },
      "execution_count": 15,
      "outputs": [
        {
          "output_type": "stream",
          "name": "stdout",
          "text": [
            "232.37732\n"
          ]
        }
      ]
    },
    {
      "cell_type": "code",
      "source": [
        "print(x_1,y_1,x_2,y_2)"
      ],
      "metadata": {
        "id": "cdiYPeCJCYIg",
        "colab": {
          "base_uri": "https://localhost:8080/"
        },
        "outputId": "4d4fe9fc-84cc-441e-a66d-08233b435c46"
      },
      "execution_count": 16,
      "outputs": [
        {
          "output_type": "stream",
          "name": "stdout",
          "text": [
            "232 226 1481 2119\n"
          ]
        }
      ]
    },
    {
      "cell_type": "code",
      "source": [
        "im = cv2.imread('/content/pages/page0.jpg')"
      ],
      "metadata": {
        "id": "F39kJV3hCYLV"
      },
      "execution_count": 17,
      "outputs": []
    },
    {
      "cell_type": "code",
      "source": [
        "cv2.imwrite('ext_im.jpg', im[y_1:y_2,x_1:x_2])"
      ],
      "metadata": {
        "id": "EQDXSNijCYPs",
        "colab": {
          "base_uri": "https://localhost:8080/"
        },
        "outputId": "c1ff51ec-efaa-4805-96e3-940369fd27bb"
      },
      "execution_count": 18,
      "outputs": [
        {
          "output_type": "execute_result",
          "data": {
            "text/plain": [
              "True"
            ]
          },
          "metadata": {},
          "execution_count": 18
        }
      ]
    },
    {
      "cell_type": "code",
      "source": [],
      "metadata": {
        "id": "7O2P4aIMor_e"
      },
      "execution_count": 18,
      "outputs": []
    },
    {
      "cell_type": "markdown",
      "metadata": {
        "id": "EGwGhHnd8i_h"
      },
      "source": [
        "# Text Detection and Recognition"
      ]
    },
    {
      "cell_type": "code",
      "source": [
        "from paddleocr import PaddleOCR, draw_ocr"
      ],
      "metadata": {
        "id": "N6WQZXhLLDWk"
      },
      "execution_count": 19,
      "outputs": []
    },
    {
      "cell_type": "code",
      "source": [
        "ocr = PaddleOCR(lang='ru')\n",
        "image_path = '/content/ext_im.jpg'\n",
        "image_cv = cv2.imread(image_path)\n",
        "image_height = image_cv.shape[0]\n",
        "image_width = image_cv.shape[1]\n",
        "output = ocr.ocr(image_path)[0]"
      ],
      "metadata": {
        "colab": {
          "base_uri": "https://localhost:8080/"
        },
        "id": "A8bCZ9AULDZF",
        "outputId": "d24d9582-9047-4d3d-978e-1dad589e686a"
      },
      "execution_count": 20,
      "outputs": [
        {
          "output_type": "stream",
          "name": "stdout",
          "text": [
            "download https://paddleocr.bj.bcebos.com/PP-OCRv3/multilingual/Multilingual_PP-OCRv3_det_infer.tar to /root/.paddleocr/whl/det/ml/Multilingual_PP-OCRv3_det_infer/Multilingual_PP-OCRv3_det_infer.tar\n"
          ]
        },
        {
          "output_type": "stream",
          "name": "stderr",
          "text": [
            "100%|██████████| 3.85M/3.85M [00:13<00:00, 285kiB/s] \n"
          ]
        },
        {
          "output_type": "stream",
          "name": "stdout",
          "text": [
            "download https://paddleocr.bj.bcebos.com/PP-OCRv3/multilingual/cyrillic_PP-OCRv3_rec_infer.tar to /root/.paddleocr/whl/rec/cyrillic/cyrillic_PP-OCRv3_rec_infer/cyrillic_PP-OCRv3_rec_infer.tar\n"
          ]
        },
        {
          "output_type": "stream",
          "name": "stderr",
          "text": [
            "100%|██████████| 9.98M/9.98M [00:11<00:00, 895kiB/s] \n"
          ]
        },
        {
          "output_type": "stream",
          "name": "stdout",
          "text": [
            "download https://paddleocr.bj.bcebos.com/dygraph_v2.0/ch/ch_ppocr_mobile_v2.0_cls_infer.tar to /root/.paddleocr/whl/cls/ch_ppocr_mobile_v2.0_cls_infer/ch_ppocr_mobile_v2.0_cls_infer.tar\n"
          ]
        },
        {
          "output_type": "stream",
          "name": "stderr",
          "text": [
            "100%|██████████| 2.19M/2.19M [00:13<00:00, 158kiB/s]"
          ]
        },
        {
          "output_type": "stream",
          "name": "stdout",
          "text": [
            "[2023/07/05 11:32:30] ppocr DEBUG: Namespace(help='==SUPPRESS==', use_gpu=True, use_xpu=False, use_npu=False, ir_optim=True, use_tensorrt=False, min_subgraph_size=15, precision='fp32', gpu_mem=500, image_dir=None, page_num=0, det_algorithm='DB', det_model_dir='/root/.paddleocr/whl/det/ml/Multilingual_PP-OCRv3_det_infer', det_limit_side_len=960, det_limit_type='max', det_box_type='quad', det_db_thresh=0.3, det_db_box_thresh=0.6, det_db_unclip_ratio=1.5, max_batch_size=10, use_dilation=False, det_db_score_mode='fast', det_east_score_thresh=0.8, det_east_cover_thresh=0.1, det_east_nms_thresh=0.2, det_sast_score_thresh=0.5, det_sast_nms_thresh=0.2, det_pse_thresh=0, det_pse_box_thresh=0.85, det_pse_min_area=16, det_pse_scale=1, scales=[8, 16, 32], alpha=1.0, beta=1.0, fourier_degree=5, rec_algorithm='SVTR_LCNet', rec_model_dir='/root/.paddleocr/whl/rec/cyrillic/cyrillic_PP-OCRv3_rec_infer', rec_image_inverse=True, rec_image_shape='3, 48, 320', rec_batch_num=6, max_text_length=25, rec_char_dict_path='/usr/local/lib/python3.10/dist-packages/paddleocr/ppocr/utils/dict/cyrillic_dict.txt', use_space_char=True, vis_font_path='./doc/fonts/simfang.ttf', drop_score=0.5, e2e_algorithm='PGNet', e2e_model_dir=None, e2e_limit_side_len=768, e2e_limit_type='max', e2e_pgnet_score_thresh=0.5, e2e_char_dict_path='./ppocr/utils/ic15_dict.txt', e2e_pgnet_valid_set='totaltext', e2e_pgnet_mode='fast', use_angle_cls=False, cls_model_dir='/root/.paddleocr/whl/cls/ch_ppocr_mobile_v2.0_cls_infer', cls_image_shape='3, 48, 192', label_list=['0', '180'], cls_batch_num=6, cls_thresh=0.9, enable_mkldnn=False, cpu_threads=10, use_pdserving=False, warmup=False, sr_model_dir=None, sr_image_shape='3, 32, 128', sr_batch_num=1, draw_img_save_dir='./inference_results', save_crop_res=False, crop_res_save_dir='./output', use_mp=False, total_process_num=1, process_id=0, benchmark=False, save_log_path='./log_output/', show_log=True, use_onnx=False, output='./output', table_max_len=488, table_algorithm='TableAttn', table_model_dir=None, merge_no_span_structure=True, table_char_dict_path=None, layout_model_dir=None, layout_dict_path=None, layout_score_threshold=0.5, layout_nms_threshold=0.5, kie_algorithm='LayoutXLM', ser_model_dir=None, re_model_dir=None, use_visual_backbone=True, ser_dict_path='../train_data/XFUND/class_list_xfun.txt', ocr_order_method=None, mode='structure', image_orientation=False, layout=True, table=True, ocr=True, recovery=False, use_pdf2docx_api=False, lang='ru', det=True, rec=True, type='ocr', ocr_version='PP-OCRv3', structure_version='PP-StructureV2')\n"
          ]
        },
        {
          "output_type": "stream",
          "name": "stderr",
          "text": [
            "\n"
          ]
        },
        {
          "output_type": "stream",
          "name": "stdout",
          "text": [
            "[2023/07/05 11:32:31] ppocr WARNING: Since the angle classifier is not initialized, the angle classifier will not be uesd during the forward process\n",
            "[2023/07/05 11:32:31] ppocr DEBUG: dt_boxes num : 141, elapse : 0.21884942054748535\n",
            "[2023/07/05 11:32:32] ppocr DEBUG: rec_res num  : 141, elapse : 0.48812103271484375\n"
          ]
        }
      ]
    },
    {
      "cell_type": "code",
      "source": [
        "print(output)"
      ],
      "metadata": {
        "colab": {
          "base_uri": "https://localhost:8080/"
        },
        "id": "VBIDZA0XLDeA",
        "outputId": "da081a8b-8955-4719-d1bf-aeb2de6ceaa9"
      },
      "execution_count": 21,
      "outputs": [
        {
          "output_type": "stream",
          "name": "stdout",
          "text": [
            "[[[[6.0, 30.0], [59.0, 30.0], [59.0, 51.0], [6.0, 51.0]], ('No I', 0.8794370293617249)], [[[390.0, 35.0], [482.0, 35.0], [482.0, 49.0], [390.0, 49.0]], ('оказађели', 0.9429894685745239)], [[[837.0, 35.0], [866.0, 35.0], [866.0, 51.0], [837.0, 51.0]], ('Ed.', 0.9241485595703125)], [[[868.0, 34.0], [956.0, 34.0], [956.0, 53.0], [868.0, 53.0]], ('измерения', 0.9984573721885681)], [[[997.0, 35.0], [1071.0, 35.0], [1071.0, 49.0], [997.0, 49.0]], ('начения', 0.9616872668266296)], [[[1075.0, 34.0], [1226.0, 34.0], [1226.0, 53.0], [1075.0, 53.0]], ('нароектныйгод', 0.9802488088607788)], [[[129.0, 160.0], [176.0, 160.0], [176.0, 174.0], [129.0, 174.0]], ('Hефт', 0.9404447078704834)], [[[870.0, 152.0], [923.0, 152.0], [923.0, 172.0], [870.0, 172.0]], ('Pyo.т', 0.863427996635437)], [[[211.0, 162.0], [299.0, 162.0], [299.0, 175.0], [211.0, 175.0]], ('знтренне', 0.9633377194404602)], [[[1097.0, 156.0], [1151.0, 156.0], [1151.0, 175.0], [1097.0, 175.0]], ('зђ', 0.911433756351471)], [[[129.0, 191.0], [178.0, 191.0], [178.0, 205.0], [129.0, 205.0]], ('Hефты', 0.7983860373497009)], [[[851.0, 183.0], [943.0, 183.0], [943.0, 205.0], [851.0, 205.0]], ('доллбаpp.', 0.9704703092575073)], [[[209.0, 193.0], [283.0, 193.0], [283.0, 207.0], [209.0, 207.0]], ('BHеUHем', 0.7943311333656311)], [[[1105.0, 191.0], [1142.0, 191.0], [1142.0, 207.0], [1105.0, 207.0]], ('5O,', 0.6057724952697754)], [[[868.0, 215.0], [923.0, 215.0], [923.0, 237.0], [868.0, 237.0]], ('Pyo.т', 0.7538978457450867)], [[[246.0, 225.0], [400.0, 225.0], [400.0, 239.0], [246.0, 239.0]], ('Bнтреннемрынке', 0.9492353200912476)], [[[129.0, 253.0], [255.0, 250.0], [256.0, 270.0], [129.0, 272.0]], ('природныйгаз', 0.9800146222114563)], [[[843.0, 249.0], [944.0, 242.0], [945.0, 264.0], [844.0, 271.0]], ('Pyб.J1OоOм', 0.7533975839614868)], [[[172.0, 288.0], [279.0, 288.0], [279.0, 302.0], [172.0, 302.0]], ('оренныйгаз', 0.9471317529678345)], [[[845.0, 280.0], [942.0, 274.0], [943.0, 295.0], [846.0, 302.0]], ('Pу6.JOOOM', 0.6655061841011047)], [[[1101.0, 288.0], [1144.0, 288.0], [1144.0, 302.0], [1101.0, 302.0]], ('1736,', 0.6235209703445435)], [[[86.0, 319.0], [125.0, 319.0], [125.0, 333.0], [86.0, 333.0]], ('оля', 0.9802340865135193)], [[[220.0, 319.0], [378.0, 317.0], [379.0, 333.0], [221.0, 335.0]], ('HефTI Hа BHешHеM', 0.7767976522445679)], [[[384.0, 320.0], [434.0, 315.0], [436.0, 331.0], [385.0, 336.0]], ('ынке', 0.989222526550293)], [[[1105.0, 317.0], [1140.0, 317.0], [1140.0, 333.0], [1105.0, 333.0]], ('5D,', 0.6573514938354492)], [[[209.0, 381.0], [269.0, 381.0], [269.0, 400.0], [209.0, 400.0]], ('обьчу', 0.8701675534248352)], [[[263.0, 383.0], [353.0, 383.0], [353.0, 402.0], [263.0, 402.0]], ('нефтиK', 0.9323412775993347)], [[[347.0, 385.0], [377.0, 385.0], [377.0, 398.0], [347.0, 398.0]], ('дI', 0.7606878280639648)], [[[869.0, 380.0], [921.0, 372.0], [924.0, 393.0], [873.0, 401.0]], ('руб.т', 0.8038977384567261)], [[[1103.0, 385.0], [1142.0, 385.0], [1142.0, 398.0], [1103.0, 398.0]], ('8', 0.6737893223762512)], [[[209.0, 414.0], [259.0, 412.0], [260.0, 428.0], [209.0, 430.0]], ('ођђч', 0.8407368659973145)], [[[870.0, 408.0], [923.0, 408.0], [923.0, 430.0], [870.0, 430.0]], ('руo.т', 0.7483214735984802)], [[[277.0, 450.0], [408.0, 450.0], [408.0, 463.0], [277.0, 463.0]], ('природногогаэ', 0.9551559090614319)], [[[845.0, 442.0], [944.0, 435.0], [945.0, 455.0], [846.0, 462.0]], ('Py6.OOOM', 0.859405517578125)], [[[853.0, 473.0], [941.0, 473.0], [941.0, 493.0], [853.0, 493.0]], ('доллбарр', 0.9977789521217346)], [[[1098.0, 478.0], [1144.0, 473.0], [1146.0, 494.0], [1100.0, 500.0]], ('5о', 0.9229111671447754)], [[[1103.0, 507.0], [1140.0, 507.0], [1140.0, 530.0], [1103.0, 530.0]], ('20,0', 0.8438008427619934)], [[[1107.0, 576.0], [1138.0, 576.0], [1138.0, 592.0], [1107.0, 592.0]], (',', 0.8322898745536804)], [[[1108.0, 606.0], [1131.0, 601.0], [1135.0, 619.0], [1111.0, 624.0]], ('O,5', 0.7528454661369324)], [[[882.0, 634.0], [897.0, 622.0], [912.0, 640.0], [896.0, 652.0]], ('.', 0.7691060900688171)], [[[1095.0, 637.0], [1149.0, 637.0], [1149.0, 657.0], [1095.0, 657.0]], ('O,OO66', 0.7826307415962219)], [[[853.0, 666.0], [941.0, 666.0], [941.0, 686.0], [853.0, 686.0]], ('T. py6.rод', 0.8840829730033875)], [[[1097.0, 668.0], [1151.0, 668.0], [1151.0, 688.0], [1097.0, 688.0]], ('463:900', 0.7060101628303528)], [[[160.0, 769.0], [384.0, 769.0], [384.0, 783.0], [160.0, 783.0]], ('ыIBаюшаTазоBаяCкBаЖиHE', 0.7576954364776611)], [[[868.0, 763.0], [925.0, 763.0], [925.0, 783.0], [868.0, 783.0]], ('рyo.м', 0.7362356185913086)], [[[422.0, 803.0], [603.0, 803.0], [603.0, 816.0], [422.0, 816.0]], ('правленнаяскважин', 0.924695611000061)], [[[870.0, 795.0], [925.0, 795.0], [925.0, 814.0], [870.0, 814.0]], ('Pyo.M', 0.8534356355667114)], [[[131.0, 832.0], [533.0, 832.0], [533.0, 846.0], [131.0, 846.0]], ('дооываюшаяHефтяHаягоризоHтальHаяскважиH:', 0.8634063005447388)], [[[868.0, 826.0], [925.0, 826.0], [925.0, 846.0], [868.0, 846.0]], ('рyo.M', 0.7301636934280396)], [[[866.0, 869.0], [923.0, 861.0], [926.0, 883.0], [868.0, 890.0]], ('рyо.м', 0.7333040237426758)], [[[133.0, 879.0], [595.0, 879.0], [595.0, 893.0], [133.0, 893.0]], ('HагнетателынаяскважиHагазоконденсатныIйпромыIсел', 0.8817809224128723)], [[[603.0, 879.0], [689.0, 879.0], [689.0, 893.0], [603.0, 893.0]], ('сайклиHг', 0.7210026979446411)], [[[687.0, 879.0], [765.0, 879.0], [765.0, 893.0], [687.0, 893.0]], ('процесс', 0.9282861948013306)], [[[125.0, 913.0], [349.0, 913.0], [349.0, 933.0], [125.0, 933.0]], ('бурение бокового CтBола', 0.9172543883323669)], [[[843.0, 911.0], [876.0, 911.0], [876.0, 925.0], [843.0, 925.0]], ('ThIc.', 0.6787140369415283)], [[[880.0, 911.0], [948.0, 911.0], [948.0, 925.0], [880.0, 925.0]], ('ро.скв', 0.7687651515007019)], [[[1095.0, 911.0], [1151.0, 911.0], [1151.0, 931.0], [1095.0, 931.0]], ('даџђ', 0.5975276231765747)], [[[841.0, 943.0], [874.0, 943.0], [874.0, 956.0], [841.0, 956.0]], ('Tыс.', 0.9040071368217468)], [[[880.0, 943.0], [947.0, 943.0], [947.0, 956.0], [880.0, 956.0]], ('DO.скE', 0.611112654209137)], [[[211.0, 980.0], [314.0, 980.0], [314.0, 994.0], [211.0, 994.0]], ('Hе BхOдяшеE', 0.8024958968162537)], [[[451.0, 980.0], [484.0, 980.0], [484.0, 994.0], [451.0, 994.0]], ('для', 0.9755093455314636)], [[[484.0, 980.0], [595.0, 980.0], [595.0, 994.0], [484.0, 994.0]], ('HетедоOыIч', 0.8491809964179993)], [[[824.0, 974.0], [861.0, 974.0], [861.0, 988.0], [824.0, 988.0]], (\"I'b1C.\", 0.7532877922058105)], [[[859.0, 974.0], [937.0, 974.0], [937.0, 988.0], [859.0, 988.0]], ('Pyb.dob.', 0.8506079912185669)], [[[1095.0, 976.0], [1151.0, 976.0], [1151.0, 996.0], [1095.0, 996.0]], ('70о,0', 0.6315661668777466)], [[[185.0, 1043.0], [267.0, 1043.0], [267.0, 1057.0], [185.0, 1057.0]], ('промысе', 0.8807138800621033)], [[[841.0, 1073.0], [876.0, 1073.0], [876.0, 1087.0], [841.0, 1087.0]], ('ThiC.', 0.8142603039741516)], [[[878.0, 1073.0], [950.0, 1073.0], [950.0, 1087.0], [878.0, 1087.0]], ('рo.скE', 0.7468581199645996)], [[[154.0, 1108.0], [357.0, 1108.0], [357.0, 1122.0], [154.0, 1122.0]], ('газосоорные коллекторы', 0.923770546913147)], [[[841.0, 1102.0], [876.0, 1102.0], [876.0, 1118.0], [841.0, 1118.0]], ('TbIC.', 0.741280734539032)], [[[874.0, 1104.0], [950.0, 1104.0], [950.0, 1118.0], [874.0, 1118.0]], ('pyo.сKE', 0.6205613017082214)], [[[843.0, 1136.0], [880.0, 1136.0], [880.0, 1152.0], [843.0, 1152.0]], ('MIH.', 0.9222899079322815)], [[[880.0, 1134.0], [950.0, 1134.0], [950.0, 1154.0], [880.0, 1154.0]], ('Pубшт', 0.8672300577163696)], [[[160.0, 1171.0], [306.0, 1171.0], [306.0, 1185.0], [160.0, 1185.0]], ('лектроснаожение', 0.9348157048225403)], [[[841.0, 1167.0], [876.0, 1167.0], [876.0, 1183.0], [841.0, 1183.0]], ('Thie.', 0.855599582195282)], [[[880.0, 1165.0], [952.0, 1165.0], [952.0, 1185.0], [880.0, 1185.0]], ('pyo.cKB.', 0.8278850317001343)], [[[332.0, 1205.0], [388.0, 1205.0], [388.0, 1219.0], [332.0, 1219.0]], ('дороги', 0.9379935264587402)], [[[841.0, 1199.0], [876.0, 1199.0], [876.0, 1213.0], [841.0, 1213.0]], ('ThIC.', 0.7448911070823669)], [[[876.0, 1197.0], [952.0, 1197.0], [952.0, 1217.0], [876.0, 1217.0]], ('pyo.ckB.', 0.8557471036911011)], [[[250.0, 1266.0], [304.0, 1266.0], [304.0, 1280.0], [250.0, 1280.0]], ('вязк', 0.7988545894622803)], [[[310.0, 1266.0], [379.0, 1266.0], [379.0, 1280.0], [310.0, 1280.0]], ('CКBаЖИЕ', 0.6710965037345886)], [[[841.0, 1264.0], [874.0, 1264.0], [874.0, 1280.0], [841.0, 1280.0]], ('Tыс', 0.8214876055717468)], [[[193.0, 1299.0], [260.0, 1299.0], [260.0, 1313.0], [193.0, 1313.0]], ('орные', 0.9909111857414246)], [[[262.0, 1299.0], [357.0, 1299.0], [357.0, 1313.0], [262.0, 1313.0]], ('коллектор', 0.9952023029327393)], [[[841.0, 1296.0], [872.0, 1296.0], [872.0, 1309.0], [841.0, 1309.0]], ('тыс', 0.8615555167198181)], [[[880.0, 1292.0], [950.0, 1292.0], [950.0, 1311.0], [880.0, 1311.0]], ('pyo.IскB', 0.7040505409240723)], [[[843.0, 1327.0], [876.0, 1327.0], [876.0, 1341.0], [843.0, 1341.0]], ('млн', 0.6514140367507935)], [[[878.0, 1324.0], [947.0, 1319.0], [949.0, 1340.0], [879.0, 1345.0]], ('Pyб.шт', 0.6693918704986572)], [[[843.0, 1359.0], [874.0, 1359.0], [874.0, 1374.0], [843.0, 1374.0]], ('ыс', 0.8875494599342346)], [[[876.0, 1355.0], [948.0, 1350.0], [949.0, 1372.0], [877.0, 1377.0]], ('руо.скв', 0.8384571671485901)], [[[160.0, 1365.0], [318.0, 1365.0], [318.0, 1378.0], [160.0, 1378.0]], ('онденсатосорные', 0.9475749731063843)], [[[324.0, 1365.0], [418.0, 1365.0], [418.0, 1378.0], [324.0, 1378.0]], ('коллекторы', 0.9376646876335144)], [[[843.0, 1390.0], [874.0, 1390.0], [874.0, 1404.0], [843.0, 1404.0]], ('ыс', 0.8845962285995483)], [[[880.0, 1420.0], [948.0, 1420.0], [948.0, 1439.0], [880.0, 1439.0]], ('Pyо.скв', 0.7281972169876099)], [[[843.0, 1455.0], [874.0, 1455.0], [874.0, 1469.0], [843.0, 1469.0]], ('Iыс', 0.8290604948997498)], [[[880.0, 1451.0], [948.0, 1451.0], [948.0, 1471.0], [880.0, 1471.0]], ('Dуф.IскB', 0.6459478139877319)], [[[158.0, 1493.0], [219.0, 1493.0], [219.0, 1507.0], [158.0, 1507.0]], ('истема', 0.9123455882072449)], [[[861.0, 1487.0], [896.0, 1487.0], [896.0, 1501.0], [861.0, 1501.0]], ('NIH.', 0.7795934677124023)], [[[902.0, 1487.0], [933.0, 1487.0], [933.0, 1503.0], [902.0, 1503.0]], ('рй', 0.6914884448051453)], [[[152.0, 1524.0], [221.0, 1524.0], [221.0, 1538.0], [152.0, 1538.0]], ('шлеиђь', 0.9796984195709229)], [[[262.0, 1524.0], [541.0, 1524.0], [541.0, 1538.0], [262.0, 1538.0]], ('HаГHеТаТеЛыHыХгаЗOBыIXCкBаЖИH', 0.7605575919151306)], [[[839.0, 1518.0], [876.0, 1518.0], [876.0, 1534.0], [839.0, 1534.0]], ('MЛH.', 0.8075007200241089)], [[[876.0, 1516.0], [952.0, 1516.0], [952.0, 1536.0], [876.0, 1536.0]], ('рублскв', 0.6954178214073181)], [[[109.0, 1556.0], [189.0, 1556.0], [189.0, 1570.0], [109.0, 1570.0]], ('етянои', 0.8062109351158142)], [[[152.0, 1587.0], [193.0, 1587.0], [193.0, 1601.0], [152.0, 1601.0]], ('сор', 0.9680721163749695)], [[[215.0, 1589.0], [299.0, 1589.0], [299.0, 1603.0], [215.0, 1603.0]], ('транспорт', 0.9535742998123169)], [[[299.0, 1585.0], [406.0, 1585.0], [406.0, 1605.0], [299.0, 1605.0]], ('Hефти и газа', 0.9417951107025146)], [[[845.0, 1583.0], [882.0, 1583.0], [882.0, 1599.0], [845.0, 1599.0]], ('Thit.', 0.8609055280685425)], [[[880.0, 1581.0], [948.0, 1581.0], [948.0, 1601.0], [880.0, 1601.0]], ('Pyбскв.', 0.6682748794555664)], [[[1101.0, 1585.0], [1146.0, 1585.0], [1146.0, 1601.0], [1101.0, 1601.0]], ('1112,8', 0.7155487537384033)], [[[841.0, 1615.0], [876.0, 1615.0], [876.0, 1631.0], [841.0, 1631.0]], ('Thie.', 0.855599582195282)], [[[876.0, 1613.0], [948.0, 1613.0], [948.0, 1633.0], [876.0, 1633.0]], ('руб.скB', 0.791318416595459)], [[[152.0, 1646.0], [482.0, 1649.0], [482.0, 1668.0], [152.0, 1666.0]], ('базыпроизводственного обслуживания', 0.968201220035553)], [[[839.0, 1648.0], [876.0, 1648.0], [876.0, 1662.0], [839.0, 1662.0]], ('ThIC.', 0.7610511779785156)], [[[874.0, 1648.0], [950.0, 1648.0], [950.0, 1662.0], [874.0, 1662.0]], ('pyo.сKE', 0.6205613017082214)], [[[176.0, 1684.0], [283.0, 1684.0], [283.0, 1698.0], [176.0, 1698.0]], ('HOЛOГИHCк', 0.5550157427787781)], [[[301.0, 1684.0], [441.0, 1684.0], [441.0, 1698.0], [301.0, 1698.0]], ('OдIOTOBKа HEUT', 0.8562765717506409)], [[[822.0, 1680.0], [861.0, 1680.0], [861.0, 1694.0], [822.0, 1694.0]], ('TbiC.', 0.7568973898887634)], [[[854.0, 1678.0], [938.0, 1674.0], [939.0, 1693.0], [855.0, 1698.0]], ('py6.дo6.', 0.932687520980835)], [[[302.0, 1716.0], [384.0, 1716.0], [384.0, 1729.0], [302.0, 1729.0]], ('MATизацH', 0.6329618692398071)], [[[856.0, 1708.0], [936.0, 1703.0], [937.0, 1725.0], [858.0, 1730.0]], ('Py6.дo6.', 0.8887989521026611)], [[[933.0, 1712.0], [970.0, 1712.0], [970.0, 1725.0], [933.0, 1725.0]], ('скЕ.', 0.5828582048416138)], [[[324.0, 1747.0], [369.0, 1747.0], [369.0, 1761.0], [324.0, 1761.0]], ('свяэЕ', 0.7585300803184509)], [[[824.0, 1745.0], [861.0, 1745.0], [861.0, 1759.0], [824.0, 1759.0]], ('Tbic.', 0.8332651853561401)], [[[855.0, 1741.0], [937.0, 1741.0], [937.0, 1761.0], [855.0, 1761.0]], ('Pyo.дo6.', 0.7826878428459167)], [[[1101.0, 1747.0], [1142.0, 1747.0], [1142.0, 1761.0], [1101.0, 1761.0]], ('10841.', 0.7397400736808777)], [[[240.0, 1779.0], [322.0, 1779.0], [322.0, 1792.0], [240.0, 1792.0]], ('мысловые', 0.8329527378082275)], [[[824.0, 1775.0], [861.0, 1775.0], [861.0, 1788.0], [824.0, 1788.0]], ('IbiC.', 0.7951937913894653)], [[[854.0, 1771.0], [936.0, 1766.0], [937.0, 1788.0], [856.0, 1793.0]], ('Py6.дo6.', 0.8816976547241211)], [[[160.0, 1781.0], [236.0, 1781.0], [236.0, 1794.0], [160.0, 1794.0]], ('нтрипр', 0.8994581699371338)], [[[329.0, 1781.0], [386.0, 1776.0], [387.0, 1792.0], [331.0, 1797.0]], ('дорог', 0.9995071291923523)], [[[941.0, 1775.0], [970.0, 1775.0], [970.0, 1788.0], [941.0, 1788.0]], ('скв', 0.6344833374023438)], [[[156.0, 1810.0], [219.0, 1810.0], [219.0, 1824.0], [156.0, 1824.0]], ('систем', 0.7851910591125488)], [[[224.0, 1810.0], [263.0, 1810.0], [263.0, 1824.0], [224.0, 1824.0]], ('п', 0.8491841554641724)], [[[824.0, 1808.0], [857.0, 1808.0], [857.0, 1822.0], [824.0, 1822.0]], ('Tbic.', 0.8756240606307983)], [[[862.0, 1808.0], [930.0, 1804.0], [931.0, 1818.0], [863.0, 1822.0]], ('рбннаг', 0.8973188400268555)]]\n"
          ]
        }
      ]
    },
    {
      "cell_type": "code",
      "source": [
        "boxes = [line[0] for line in output]\n",
        "texts = [line[1][0] for line in output]\n",
        "probabilities = [line[1][1] for line in output]"
      ],
      "metadata": {
        "id": "nNMBAQ78LDgG"
      },
      "execution_count": 22,
      "outputs": []
    },
    {
      "cell_type": "code",
      "source": [
        "image_boxes = image_cv.copy()\n"
      ],
      "metadata": {
        "id": "uukcg4SWV_dg"
      },
      "execution_count": 23,
      "outputs": []
    },
    {
      "cell_type": "code",
      "source": [
        "for box,text in zip(boxes,texts):\n",
        "  cv2.rectangle(image_boxes, (int(box[0][0]),int(box[0][1])), (int(box[2][0]),int(box[2][1])),(0,0,255),1)\n",
        "  cv2.putText(image_boxes, text,(int(box[0][0]),int(box[0][1])),cv2.FONT_HERSHEY_SIMPLEX,1,(222,0,0),1)"
      ],
      "metadata": {
        "id": "l_HzbiA7V_fw"
      },
      "execution_count": 24,
      "outputs": []
    },
    {
      "cell_type": "code",
      "source": [
        "cv2.imwrite('detections.jpg', image_boxes)"
      ],
      "metadata": {
        "colab": {
          "base_uri": "https://localhost:8080/"
        },
        "id": "PfUG9mcgV_iJ",
        "outputId": "75c6457d-9461-4242-a911-e0128525e309"
      },
      "execution_count": 25,
      "outputs": [
        {
          "output_type": "execute_result",
          "data": {
            "text/plain": [
              "True"
            ]
          },
          "metadata": {},
          "execution_count": 25
        }
      ]
    },
    {
      "cell_type": "markdown",
      "metadata": {
        "id": "kYWt0lzDHZNp"
      },
      "source": [
        "# Reconstruction"
      ]
    },
    {
      "cell_type": "markdown",
      "source": [
        "## Get Horizontal and Vertical Lines"
      ],
      "metadata": {
        "id": "ruzifYJz4H6y"
      }
    },
    {
      "cell_type": "code",
      "source": [
        "im = image_cv.copy()"
      ],
      "metadata": {
        "id": "YLIoKedcqby_"
      },
      "execution_count": 26,
      "outputs": []
    },
    {
      "cell_type": "code",
      "source": [
        "horiz_boxes = []\n",
        "vert_boxes = []\n",
        "\n",
        "for box in boxes:\n",
        "  x_h, x_v = 0,int(box[0][0])\n",
        "  y_h, y_v = int(box[0][1]),0\n",
        "  width_h,width_v = image_width, int(box[2][0]-box[0][0])\n",
        "  height_h,height_v = int(box[2][1]-box[0][1]),image_height\n",
        "\n",
        "  horiz_boxes.append([x_h,y_h,x_h+width_h,y_h+height_h])\n",
        "  vert_boxes.append([x_v,y_v,x_v+width_v,y_v+height_v])\n",
        "\n",
        "  cv2.rectangle(im,(x_h,y_h), (x_h+width_h,y_h+height_h),(0,0,255),1)\n",
        "  cv2.rectangle(im,(x_v,y_v), (x_v+width_v,y_v+height_v),(0,255,0),1)\n"
      ],
      "metadata": {
        "id": "GwcAAe-wccnF"
      },
      "execution_count": 27,
      "outputs": []
    },
    {
      "cell_type": "code",
      "source": [
        "cv2.imwrite('horiz_vert.jpg',im)"
      ],
      "metadata": {
        "colab": {
          "base_uri": "https://localhost:8080/"
        },
        "id": "7UxFGhMkccph",
        "outputId": "21af41af-abaa-42a0-fa3d-5af42eb480b4"
      },
      "execution_count": 28,
      "outputs": [
        {
          "output_type": "execute_result",
          "data": {
            "text/plain": [
              "True"
            ]
          },
          "metadata": {},
          "execution_count": 28
        }
      ]
    },
    {
      "cell_type": "markdown",
      "source": [
        "## Non-Max Suppression"
      ],
      "metadata": {
        "id": "ekVFvJrM4ROL"
      }
    },
    {
      "cell_type": "code",
      "source": [
        "horiz_out = tf.image.non_max_suppression(\n",
        "    horiz_boxes,\n",
        "    probabilities,\n",
        "    max_output_size = 1000,\n",
        "    iou_threshold=0.1,\n",
        "    score_threshold=float('-inf'),\n",
        "    name=None\n",
        ")"
      ],
      "metadata": {
        "id": "4LVSSB2fcoe7"
      },
      "execution_count": 29,
      "outputs": []
    },
    {
      "cell_type": "code",
      "source": [
        "horiz_lines = np.sort(np.array(horiz_out))\n",
        "print(horiz_lines)"
      ],
      "metadata": {
        "colab": {
          "base_uri": "https://localhost:8080/"
        },
        "id": "pOboYpGnccr2",
        "outputId": "8f54b771-df0a-4f35-aba9-52f48e7b01f8"
      },
      "execution_count": 30,
      "outputs": [
        {
          "output_type": "stream",
          "name": "stdout",
          "text": [
            "[  3   8  11  15  16  18  23  26  30  32  34  36  37  38  40  41  43  45\n",
            "  47  52  53  57  60  65  66  68  71  73  76  81  83  87  90  92  93  94\n",
            "  96  99 103 104 110 112 118 120 123 130 135]\n"
          ]
        }
      ]
    },
    {
      "cell_type": "code",
      "source": [
        "im_nms = image_cv.copy()"
      ],
      "metadata": {
        "id": "pfxHrn3iccyK"
      },
      "execution_count": 31,
      "outputs": []
    },
    {
      "cell_type": "code",
      "source": [
        "for val in horiz_lines:\n",
        "  cv2.rectangle(im_nms, (int(horiz_boxes[val][0]),int(horiz_boxes[val][1])), (int(horiz_boxes[val][2]),int(horiz_boxes[val][3])),(0,0,255),1)\n"
      ],
      "metadata": {
        "id": "68PCHfmZcc0L"
      },
      "execution_count": 32,
      "outputs": []
    },
    {
      "cell_type": "code",
      "source": [
        "cv2.imwrite('im_nms.jpg',im_nms)"
      ],
      "metadata": {
        "colab": {
          "base_uri": "https://localhost:8080/"
        },
        "id": "Z8r9qpiAcc2X",
        "outputId": "3f0e06f8-32c8-4f4a-9947-350614f4c7b1"
      },
      "execution_count": 33,
      "outputs": [
        {
          "output_type": "execute_result",
          "data": {
            "text/plain": [
              "True"
            ]
          },
          "metadata": {},
          "execution_count": 33
        }
      ]
    },
    {
      "cell_type": "code",
      "source": [
        "vert_out = tf.image.non_max_suppression(\n",
        "    vert_boxes,\n",
        "    probabilities,\n",
        "    max_output_size = 1000,\n",
        "    iou_threshold=0.1,\n",
        "    score_threshold=float('-inf'),\n",
        "    name=None\n",
        ")"
      ],
      "metadata": {
        "id": "mKgPuh7rcc4s"
      },
      "execution_count": 34,
      "outputs": []
    },
    {
      "cell_type": "code",
      "source": [
        "print(vert_out)"
      ],
      "metadata": {
        "colab": {
          "base_uri": "https://localhost:8080/"
        },
        "id": "GBpKsImVcc6p",
        "outputId": "12bf619f-caa7-4686-f37a-eeef01709360"
      },
      "execution_count": 35,
      "outputs": [
        {
          "output_type": "stream",
          "name": "stdout",
          "text": [
            "tf.Tensor([130   3  82  23   5  21  60 104   4  52   2   0  61  79  51], shape=(15,), dtype=int32)\n"
          ]
        }
      ]
    },
    {
      "cell_type": "code",
      "source": [
        "vert_lines = np.sort(np.array(vert_out))\n",
        "print(vert_lines)"
      ],
      "metadata": {
        "colab": {
          "base_uri": "https://localhost:8080/"
        },
        "id": "K0lBh-yz5YLp",
        "outputId": "0b62e327-8b40-40a0-f73a-6d534dd6f8c5"
      },
      "execution_count": 36,
      "outputs": [
        {
          "output_type": "stream",
          "name": "stdout",
          "text": [
            "[  0   2   3   4   5  21  23  51  52  60  61  79  82 104 130]\n"
          ]
        }
      ]
    },
    {
      "cell_type": "code",
      "source": [
        "for val in vert_lines:\n",
        "  cv2.rectangle(im_nms, (int(vert_boxes[val][0]),int(vert_boxes[val][1])), (int(vert_boxes[val][2]),int(vert_boxes[val][3])),(255,0,0),1)\n"
      ],
      "metadata": {
        "id": "WqsLm0L_cc84"
      },
      "execution_count": 37,
      "outputs": []
    },
    {
      "cell_type": "code",
      "source": [
        "cv2.imwrite('im_nms.jpg',im_nms)"
      ],
      "metadata": {
        "colab": {
          "base_uri": "https://localhost:8080/"
        },
        "id": "xZOEa7lpcdGM",
        "outputId": "55ee3840-f083-4e0c-f1a4-2951b978feaf"
      },
      "execution_count": 38,
      "outputs": [
        {
          "output_type": "execute_result",
          "data": {
            "text/plain": [
              "True"
            ]
          },
          "metadata": {},
          "execution_count": 38
        }
      ]
    },
    {
      "cell_type": "markdown",
      "source": [
        "## Convert to CSV"
      ],
      "metadata": {
        "id": "116eBUrO93-i"
      }
    },
    {
      "cell_type": "code",
      "source": [
        "\n",
        "\n",
        "out_array = [[\"\" for i in range(len(vert_lines))] for j in range(len(horiz_lines))]\n",
        "print(np.array(out_array).shape)\n",
        "print(out_array)"
      ],
      "metadata": {
        "colab": {
          "base_uri": "https://localhost:8080/"
        },
        "id": "HRQzwVUTcdIq",
        "outputId": "1c2e3df7-b2ba-4a2c-8a1d-335e60546411"
      },
      "execution_count": 39,
      "outputs": [
        {
          "output_type": "stream",
          "name": "stdout",
          "text": [
            "(47, 15)\n",
            "[['', '', '', '', '', '', '', '', '', '', '', '', '', '', ''], ['', '', '', '', '', '', '', '', '', '', '', '', '', '', ''], ['', '', '', '', '', '', '', '', '', '', '', '', '', '', ''], ['', '', '', '', '', '', '', '', '', '', '', '', '', '', ''], ['', '', '', '', '', '', '', '', '', '', '', '', '', '', ''], ['', '', '', '', '', '', '', '', '', '', '', '', '', '', ''], ['', '', '', '', '', '', '', '', '', '', '', '', '', '', ''], ['', '', '', '', '', '', '', '', '', '', '', '', '', '', ''], ['', '', '', '', '', '', '', '', '', '', '', '', '', '', ''], ['', '', '', '', '', '', '', '', '', '', '', '', '', '', ''], ['', '', '', '', '', '', '', '', '', '', '', '', '', '', ''], ['', '', '', '', '', '', '', '', '', '', '', '', '', '', ''], ['', '', '', '', '', '', '', '', '', '', '', '', '', '', ''], ['', '', '', '', '', '', '', '', '', '', '', '', '', '', ''], ['', '', '', '', '', '', '', '', '', '', '', '', '', '', ''], ['', '', '', '', '', '', '', '', '', '', '', '', '', '', ''], ['', '', '', '', '', '', '', '', '', '', '', '', '', '', ''], ['', '', '', '', '', '', '', '', '', '', '', '', '', '', ''], ['', '', '', '', '', '', '', '', '', '', '', '', '', '', ''], ['', '', '', '', '', '', '', '', '', '', '', '', '', '', ''], ['', '', '', '', '', '', '', '', '', '', '', '', '', '', ''], ['', '', '', '', '', '', '', '', '', '', '', '', '', '', ''], ['', '', '', '', '', '', '', '', '', '', '', '', '', '', ''], ['', '', '', '', '', '', '', '', '', '', '', '', '', '', ''], ['', '', '', '', '', '', '', '', '', '', '', '', '', '', ''], ['', '', '', '', '', '', '', '', '', '', '', '', '', '', ''], ['', '', '', '', '', '', '', '', '', '', '', '', '', '', ''], ['', '', '', '', '', '', '', '', '', '', '', '', '', '', ''], ['', '', '', '', '', '', '', '', '', '', '', '', '', '', ''], ['', '', '', '', '', '', '', '', '', '', '', '', '', '', ''], ['', '', '', '', '', '', '', '', '', '', '', '', '', '', ''], ['', '', '', '', '', '', '', '', '', '', '', '', '', '', ''], ['', '', '', '', '', '', '', '', '', '', '', '', '', '', ''], ['', '', '', '', '', '', '', '', '', '', '', '', '', '', ''], ['', '', '', '', '', '', '', '', '', '', '', '', '', '', ''], ['', '', '', '', '', '', '', '', '', '', '', '', '', '', ''], ['', '', '', '', '', '', '', '', '', '', '', '', '', '', ''], ['', '', '', '', '', '', '', '', '', '', '', '', '', '', ''], ['', '', '', '', '', '', '', '', '', '', '', '', '', '', ''], ['', '', '', '', '', '', '', '', '', '', '', '', '', '', ''], ['', '', '', '', '', '', '', '', '', '', '', '', '', '', ''], ['', '', '', '', '', '', '', '', '', '', '', '', '', '', ''], ['', '', '', '', '', '', '', '', '', '', '', '', '', '', ''], ['', '', '', '', '', '', '', '', '', '', '', '', '', '', ''], ['', '', '', '', '', '', '', '', '', '', '', '', '', '', ''], ['', '', '', '', '', '', '', '', '', '', '', '', '', '', ''], ['', '', '', '', '', '', '', '', '', '', '', '', '', '', '']]\n"
          ]
        }
      ]
    },
    {
      "cell_type": "code",
      "source": [
        "\n",
        "unordered_boxes = []\n",
        "\n",
        "for i in vert_lines:\n",
        "  print(vert_boxes[i])\n",
        "  unordered_boxes.append(vert_boxes[i][0])"
      ],
      "metadata": {
        "colab": {
          "base_uri": "https://localhost:8080/"
        },
        "id": "sSrupaRZIAk_",
        "outputId": "de03d27c-27cc-4b98-a33f-2febf554caa4"
      },
      "execution_count": 40,
      "outputs": [
        {
          "output_type": "stream",
          "name": "stdout",
          "text": [
            "[6, 0, 59, 1893]\n",
            "[837, 0, 866, 1893]\n",
            "[868, 0, 956, 1893]\n",
            "[997, 0, 1071, 1893]\n",
            "[1075, 0, 1226, 1893]\n",
            "[86, 0, 125, 1893]\n",
            "[384, 0, 436, 1893]\n",
            "[603, 0, 689, 1893]\n",
            "[687, 0, 765, 1893]\n",
            "[451, 0, 484, 1893]\n",
            "[484, 0, 595, 1893]\n",
            "[250, 0, 304, 1893]\n",
            "[193, 0, 260, 1893]\n",
            "[152, 0, 193, 1893]\n",
            "[329, 0, 387, 1893]\n"
          ]
        }
      ]
    },
    {
      "cell_type": "code",
      "source": [
        "ordered_boxes = np.argsort(unordered_boxes)\n",
        "print(ordered_boxes)"
      ],
      "metadata": {
        "colab": {
          "base_uri": "https://localhost:8080/"
        },
        "id": "lRMlVNh_HuJV",
        "outputId": "ab516331-50a2-475a-8803-2519c3b2aa82"
      },
      "execution_count": 41,
      "outputs": [
        {
          "output_type": "stream",
          "name": "stdout",
          "text": [
            "[ 0  5 13 12 11 14  6  9 10  7  8  1  2  3  4]\n"
          ]
        }
      ]
    },
    {
      "cell_type": "code",
      "source": [
        "def intersection(box_1, box_2):\n",
        "  return [box_2[0], box_1[1],box_2[2], box_1[3]]"
      ],
      "metadata": {
        "id": "AHHaxKUuC6jQ"
      },
      "execution_count": 42,
      "outputs": []
    },
    {
      "cell_type": "code",
      "source": [
        "def iou(box_1, box_2):\n",
        "\n",
        "  x_1 = max(box_1[0], box_2[0])\n",
        "  y_1 = max(box_1[1], box_2[1])\n",
        "  x_2 = min(box_1[2], box_2[2])\n",
        "  y_2 = min(box_1[3], box_2[3])\n",
        "\n",
        "  inter = abs(max((x_2 - x_1, 0)) * max((y_2 - y_1), 0))\n",
        "  if inter == 0:\n",
        "      return 0\n",
        "\n",
        "  box_1_area = abs((box_1[2] - box_1[0]) * (box_1[3] - box_1[1]))\n",
        "  box_2_area = abs((box_2[2] - box_2[0]) * (box_2[3] - box_2[1]))\n",
        "\n",
        "  return inter / float(box_1_area + box_2_area - inter)"
      ],
      "metadata": {
        "id": "fDVb0DkxJSIf"
      },
      "execution_count": 43,
      "outputs": []
    },
    {
      "cell_type": "code",
      "source": [
        "for i in range(len(horiz_lines)):\n",
        "  for j in range(len(vert_lines)):\n",
        "    resultant = intersection(horiz_boxes[horiz_lines[i]], vert_boxes[vert_lines[ordered_boxes[j]]] )\n",
        "\n",
        "    for b in range(len(boxes)):\n",
        "      the_box = [boxes[b][0][0],boxes[b][0][1],boxes[b][2][0],boxes[b][2][1]]\n",
        "      if(iou(resultant,the_box)>0.1):\n",
        "        out_array[i][j] = texts[b]"
      ],
      "metadata": {
        "id": "LWGhCwg6BIoL"
      },
      "execution_count": 44,
      "outputs": []
    },
    {
      "cell_type": "code",
      "source": [
        "out_array=np.array(out_array)"
      ],
      "metadata": {
        "id": "c4tEY9LGNIM9"
      },
      "execution_count": 45,
      "outputs": []
    },
    {
      "cell_type": "code",
      "source": [
        "out_array"
      ],
      "metadata": {
        "id": "_ekto4-Ymxv2",
        "outputId": "82dc47a4-9ea0-4791-9544-1b9458a20d52",
        "colab": {
          "base_uri": "https://localhost:8080/"
        }
      },
      "execution_count": 46,
      "outputs": [
        {
          "output_type": "execute_result",
          "data": {
            "text/plain": [
              "array([['No I', '', '', '', '', '', 'оказађели', 'оказађели', '', '', '',\n",
              "        'Ed.', 'измерения', 'начения', 'нароектныйгод'],\n",
              "       ['', '', 'Hефт', 'знтренне', 'знтренне', '', '', '', '', '', '',\n",
              "        '', 'Pyo.т', '', 'зђ'],\n",
              "       ['', '', 'Hефты', 'BHеUHем', 'BHеUHем', '', '', '', '', '', '',\n",
              "        'доллбаpp.', 'доллбаpp.', '', '5O,'],\n",
              "       ['', '', '', '', 'Bнтреннемрынке', 'Bнтреннемрынке', '', '', '',\n",
              "        '', '', '', 'Pyo.т', '', ''],\n",
              "       ['', '', 'природныйгаз', 'природныйгаз', '', '', '', '', '', '',\n",
              "        '', 'Pyб.J1OоOм', 'Pyб.J1OоOм', '', ''],\n",
              "       ['', '', 'оренныйгаз', 'оренныйгаз', 'оренныйгаз', '', '', '', '',\n",
              "        '', '', '', 'Pу6.JOOOM', '', '1736,'],\n",
              "       ['', 'оля', '', 'HефTI Hа BHешHеM', 'HефTI Hа BHешHеM',\n",
              "        'HефTI Hа BHешHеM', 'ынке', '', '', '', '', '', '', '', '5D,'],\n",
              "       ['', '', '', 'обьчу', 'нефтиK', 'дI', '', '', '', '', '', '',\n",
              "        'руб.т', '', '8'],\n",
              "       ['', '', '', 'ођђч', 'ођђч', '', '', '', '', '', '', '', 'руo.т',\n",
              "        '', ''],\n",
              "       ['', '', '', '', 'природногогаэ', 'природногогаэ',\n",
              "        'природногогаэ', '', '', '', '', '', 'Py6.OOOM', '', ''],\n",
              "       ['', '', '', '', '', '', '', '', '', '', '', 'доллбарр',\n",
              "        'доллбарр', '', '5о'],\n",
              "       ['', '', '', '', '', '', '', '', '', '', '', '', '', '', '20,0'],\n",
              "       ['', '', '', '', '', '', '', '', '', '', '', '', '', '', ','],\n",
              "       ['', '', '', '', '', '', '', '', '', '', '', '', '', '', 'O,5'],\n",
              "       ['', '', '', '', '', '', '', '', '', '', '', '', '', '', 'O,OO66'],\n",
              "       ['', '', '', '', '', '', '', '', '', '', '', 'T. py6.rод',\n",
              "        'T. py6.rод', '', '463:900'],\n",
              "       ['', '', 'ыIBаюшаTазоBаяCкBаЖиHE', 'ыIBаюшаTазоBаяCкBаЖиHE',\n",
              "        'ыIBаюшаTазоBаяCкBаЖиHE', 'ыIBаюшаTазоBаяCкBаЖиHE', '', '', '',\n",
              "        '', '', '', 'рyo.м', '', ''],\n",
              "       ['', '', '', '', '', '', '', 'правленнаяскважин',\n",
              "        'правленнаяскважин', '', '', '', 'Pyo.M', '', ''],\n",
              "       ['', '', 'дооываюшаяHефтяHаягоризоHтальHаяскважиH:',\n",
              "        'дооываюшаяHефтяHаягоризоHтальHаяскважиH:',\n",
              "        'дооываюшаяHефтяHаягоризоHтальHаяскважиH:',\n",
              "        'дооываюшаяHефтяHаягоризоHтальHаяскважиH:',\n",
              "        'дооываюшаяHефтяHаягоризоHтальHаяскважиH:', '',\n",
              "        'дооываюшаяHефтяHаягоризоHтальHаяскважиH:', '', '', '', 'рyo.M',\n",
              "        '', ''],\n",
              "       ['', '', '', 'HагнетателынаяскважиHагазоконденсатныIйпромыIсел',\n",
              "        'HагнетателынаяскважиHагазоконденсатныIйпромыIсел',\n",
              "        'HагнетателынаяскважиHагазоконденсатныIйпромыIсел',\n",
              "        'HагнетателынаяскважиHагазоконденсатныIйпромыIсел', '',\n",
              "        'HагнетателынаяскважиHагазоконденсатныIйпромыIсел', 'сайклиHг',\n",
              "        'процесс', '', 'рyо.м', '', ''],\n",
              "       ['', '', 'бурение бокового CтBола', 'бурение бокового CтBола',\n",
              "        'бурение бокового CтBола', '', '', '', '', '', '', 'ThIc.',\n",
              "        'ро.скв', '', 'даџђ'],\n",
              "       ['', '', '', '', '', '', '', '', '', '', '', 'Tыс.', 'DO.скE', '',\n",
              "        ''],\n",
              "       ['', '', '', 'Hе BхOдяшеE', 'Hе BхOдяшеE', '', '', 'для',\n",
              "        'HетедоOыIч', '', '', \"I'b1C.\", 'Pyb.dob.', '', '70о,0'],\n",
              "       ['', '', '', 'промысе', 'промысе', '', '', '', '', '', '', '', '',\n",
              "        '', ''],\n",
              "       ['', '', '', '', '', '', '', '', '', '', '', 'ThiC.', 'рo.скE',\n",
              "        '', ''],\n",
              "       ['', '', 'газосоорные коллекторы', 'газосоорные коллекторы',\n",
              "        'газосоорные коллекторы', 'газосоорные коллекторы', '', '', '',\n",
              "        '', '', 'TbIC.', 'pyo.сKE', '', ''],\n",
              "       ['', '', '', '', '', '', '', '', '', '', '', 'MIH.', 'Pубшт', '',\n",
              "        ''],\n",
              "       ['', '', 'лектроснаожение', 'лектроснаожение', 'лектроснаожение',\n",
              "        '', '', '', '', '', '', 'Thie.', 'pyo.cKB.', '', ''],\n",
              "       ['', '', '', '', '', 'дороги', '', '', '', '', '', 'ThIC.',\n",
              "        'pyo.ckB.', '', ''],\n",
              "       ['', '', '', '', 'вязк', 'CКBаЖИЕ', '', '', '', '', '', 'Tыс', '',\n",
              "        '', ''],\n",
              "       ['', '', '', 'орные', 'коллектор', 'коллектор', '', '', '', '',\n",
              "        '', 'тыс', 'pyo.IскB', '', ''],\n",
              "       ['', '', '', '', '', '', '', '', '', '', '', 'млн', 'Pyб.шт', '',\n",
              "        ''],\n",
              "       ['', '', 'онденсатосорные', 'онденсатосорные', 'онденсатосорные',\n",
              "        'коллекторы', 'коллекторы', '', '', '', '', 'ыс', 'руо.скв', '',\n",
              "        ''],\n",
              "       ['', '', '', '', '', '', '', '', '', '', '', 'ыс', '', '', ''],\n",
              "       ['', '', '', '', '', '', '', '', '', '', '', '', 'Pyо.скв', '',\n",
              "        ''],\n",
              "       ['', '', '', '', '', '', '', '', '', '', '', 'Iыс', 'Dуф.IскB',\n",
              "        '', ''],\n",
              "       ['', '', 'истема', 'истема', '', '', '', '', '', '', '', '', 'рй',\n",
              "        '', ''],\n",
              "       ['', '', 'шлеиђь', 'шлеиђь', 'HаГHеТаТеЛыHыХгаЗOBыIXCкBаЖИH',\n",
              "        'HаГHеТаТеЛыHыХгаЗOBыIXCкBаЖИH', 'HаГHеТаТеЛыHыХгаЗOBыIXCкBаЖИH',\n",
              "        'HаГHеТаТеЛыHыХгаЗOBыIXCкBаЖИH', 'HаГHеТаТеЛыHыХгаЗOBыIXCкBаЖИH',\n",
              "        '', '', 'MЛH.', 'рублскв', '', ''],\n",
              "       ['', 'етянои', 'етянои', '', '', '', '', '', '', '', '', '', '',\n",
              "        '', ''],\n",
              "       ['', '', 'сор', 'транспорт', 'транспорт', 'Hефти и газа',\n",
              "        'Hефти и газа', '', '', '', '', 'Thit.', 'Pyбскв.', '', '1112,8'],\n",
              "       ['', '', '', '', '', '', '', '', '', '', '', 'Thie.', 'руб.скB',\n",
              "        '', ''],\n",
              "       ['', '', 'базыпроизводственного обслуживания',\n",
              "        'базыпроизводственного обслуживания',\n",
              "        'базыпроизводственного обслуживания',\n",
              "        'базыпроизводственного обслуживания',\n",
              "        'базыпроизводственного обслуживания', '', '', '', '', 'ThIC.',\n",
              "        'pyo.сKE', '', ''],\n",
              "       ['', '', '', 'HOЛOГИHCк', 'HOЛOГИHCк', 'OдIOTOBKа HEUT',\n",
              "        'OдIOTOBKа HEUT', '', '', '', '', 'py6.дo6.', 'py6.дo6.', '', ''],\n",
              "       ['', '', '', '', '', 'MATизацH', '', '', '', '', '', '', 'скЕ.',\n",
              "        '', ''],\n",
              "       ['', '', '', '', '', 'свяэЕ', '', '', '', '', '', 'Tbic.',\n",
              "        'Pyo.дo6.', '', '10841.'],\n",
              "       ['', '', 'нтрипр', 'нтрипр', 'мысловые', 'дорог', '', '', '', '',\n",
              "        '', 'IbiC.', 'Py6.дo6.', '', ''],\n",
              "       ['', '', 'систем', 'п', 'п', '', '', '', '', '', '', 'Tbic.',\n",
              "        'рбннаг', '', '']], dtype='<U48')"
            ]
          },
          "metadata": {},
          "execution_count": 46
        }
      ]
    },
    {
      "cell_type": "code",
      "source": [
        "pd.DataFrame(out_array).to_csv('sample.csv')"
      ],
      "metadata": {
        "id": "D8UdX80wBI9V"
      },
      "execution_count": 47,
      "outputs": []
    },
    {
      "cell_type": "markdown",
      "source": [
        "## Merging Cells"
      ],
      "metadata": {
        "id": "E693Ela3qhLx"
      }
    },
    {
      "cell_type": "code",
      "source": [
        "current_bank=['']*len(out_array[0,:])\n",
        "print(current_bank)"
      ],
      "metadata": {
        "colab": {
          "base_uri": "https://localhost:8080/"
        },
        "id": "XNcX7fEWPDfw",
        "outputId": "ba758d7c-0c66-4b0f-880c-8a7ec5357de1"
      },
      "execution_count": 47,
      "outputs": [
        {
          "output_type": "stream",
          "name": "stdout",
          "text": [
            "['', '', '', '', '', '', '', '', '', '', '', '', '', '', '']\n"
          ]
        }
      ]
    },
    {
      "cell_type": "code",
      "source": [
        "def empty(arr):\n",
        "  for i in arr:\n",
        "    if i=='':\n",
        "      return True\n",
        "  return False"
      ],
      "metadata": {
        "id": "TTF5ojcCQJKR"
      },
      "execution_count": 48,
      "outputs": []
    },
    {
      "cell_type": "code",
      "source": [
        "cleaned_array=[]"
      ],
      "metadata": {
        "id": "3w1amnEXSVSB"
      },
      "execution_count": 49,
      "outputs": []
    },
    {
      "cell_type": "code",
      "source": [
        "for i in range(len(out_array)):\n",
        "  if not empty(out_array[i]):\n",
        "    current_bank=[out_array[i][j] for j in range(len(out_array[i]))]\n",
        "    cleaned_array.append(current_bank)\n",
        "    not_empty=True\n",
        "  else:\n",
        "    for j in range(len(out_array[i])):\n",
        "      current_bank[j]+=' '+out_array[i][j]\n",
        "    print('-->',current_bank)\n",
        "cleaned_array=np.array(cleaned_array)\n",
        "print(cleaned_array)"
      ],
      "metadata": {
        "id": "W_q9e2EkPepQ",
        "colab": {
          "base_uri": "https://localhost:8080/"
        },
        "outputId": "41aabaa0-4ced-4e20-8653-4e0f24008297"
      },
      "execution_count": 50,
      "outputs": [
        {
          "output_type": "stream",
          "name": "stdout",
          "text": [
            "--> [' No I', ' ', ' ', ' ', ' ', ' ', ' оказађели', ' оказађели', ' ', ' ', ' ', ' Ed.', ' измерения', ' начения', ' нароектныйгод']\n",
            "--> [' No I ', '  ', '  Hефт', '  знтренне', '  знтренне', '  ', ' оказађели ', ' оказађели ', '  ', '  ', '  ', ' Ed. ', ' измерения Pyo.т', ' начения ', ' нароектныйгод зђ']\n",
            "--> [' No I  ', '   ', '  Hефт Hефты', '  знтренне BHеUHем', '  знтренне BHеUHем', '   ', ' оказађели  ', ' оказађели  ', '   ', '   ', '   ', ' Ed.  доллбаpp.', ' измерения Pyo.т доллбаpp.', ' начения  ', ' нароектныйгод зђ 5O,']\n",
            "--> [' No I   ', '    ', '  Hефт Hефты ', '  знтренне BHеUHем ', '  знтренне BHеUHем Bнтреннемрынке', '    Bнтреннемрынке', ' оказађели   ', ' оказађели   ', '    ', '    ', '    ', ' Ed.  доллбаpp. ', ' измерения Pyo.т доллбаpp. Pyo.т', ' начения   ', ' нароектныйгод зђ 5O, ']\n",
            "--> [' No I    ', '     ', '  Hефт Hефты  природныйгаз', '  знтренне BHеUHем  природныйгаз', '  знтренне BHеUHем Bнтреннемрынке ', '    Bнтреннемрынке ', ' оказађели    ', ' оказађели    ', '     ', '     ', '     ', ' Ed.  доллбаpp.  Pyб.J1OоOм', ' измерения Pyo.т доллбаpp. Pyo.т Pyб.J1OоOм', ' начения    ', ' нароектныйгод зђ 5O,  ']\n",
            "--> [' No I     ', '      ', '  Hефт Hефты  природныйгаз оренныйгаз', '  знтренне BHеUHем  природныйгаз оренныйгаз', '  знтренне BHеUHем Bнтреннемрынке  оренныйгаз', '    Bнтреннемрынке  ', ' оказађели     ', ' оказађели     ', '      ', '      ', '      ', ' Ed.  доллбаpp.  Pyб.J1OоOм ', ' измерения Pyo.т доллбаpp. Pyo.т Pyб.J1OоOм Pу6.JOOOM', ' начения     ', ' нароектныйгод зђ 5O,   1736,']\n",
            "--> [' No I      ', '       оля', '  Hефт Hефты  природныйгаз оренныйгаз ', '  знтренне BHеUHем  природныйгаз оренныйгаз HефTI Hа BHешHеM', '  знтренне BHеUHем Bнтреннемрынке  оренныйгаз HефTI Hа BHешHеM', '    Bнтреннемрынке   HефTI Hа BHешHеM', ' оказађели      ынке', ' оказађели      ', '       ', '       ', '       ', ' Ed.  доллбаpp.  Pyб.J1OоOм  ', ' измерения Pyo.т доллбаpp. Pyo.т Pyб.J1OоOм Pу6.JOOOM ', ' начения      ', ' нароектныйгод зђ 5O,   1736, 5D,']\n",
            "--> [' No I       ', '       оля ', '  Hефт Hефты  природныйгаз оренныйгаз  ', '  знтренне BHеUHем  природныйгаз оренныйгаз HефTI Hа BHешHеM обьчу', '  знтренне BHеUHем Bнтреннемрынке  оренныйгаз HефTI Hа BHешHеM нефтиK', '    Bнтреннемрынке   HефTI Hа BHешHеM дI', ' оказађели      ынке ', ' оказађели       ', '        ', '        ', '        ', ' Ed.  доллбаpp.  Pyб.J1OоOм   ', ' измерения Pyo.т доллбаpp. Pyo.т Pyб.J1OоOм Pу6.JOOOM  руб.т', ' начения       ', ' нароектныйгод зђ 5O,   1736, 5D, 8']\n",
            "--> [' No I        ', '       оля  ', '  Hефт Hефты  природныйгаз оренныйгаз   ', '  знтренне BHеUHем  природныйгаз оренныйгаз HефTI Hа BHешHеM обьчу ођђч', '  знтренне BHеUHем Bнтреннемрынке  оренныйгаз HефTI Hа BHешHеM нефтиK ођђч', '    Bнтреннемрынке   HефTI Hа BHешHеM дI ', ' оказађели      ынке  ', ' оказађели        ', '         ', '         ', '         ', ' Ed.  доллбаpp.  Pyб.J1OоOм    ', ' измерения Pyo.т доллбаpp. Pyo.т Pyб.J1OоOм Pу6.JOOOM  руб.т руo.т', ' начения        ', ' нароектныйгод зђ 5O,   1736, 5D, 8 ']\n",
            "--> [' No I         ', '       оля   ', '  Hефт Hефты  природныйгаз оренныйгаз    ', '  знтренне BHеUHем  природныйгаз оренныйгаз HефTI Hа BHешHеM обьчу ођђч ', '  знтренне BHеUHем Bнтреннемрынке  оренныйгаз HефTI Hа BHешHеM нефтиK ођђч природногогаэ', '    Bнтреннемрынке   HефTI Hа BHешHеM дI  природногогаэ', ' оказађели      ынке   природногогаэ', ' оказађели         ', '          ', '          ', '          ', ' Ed.  доллбаpp.  Pyб.J1OоOм     ', ' измерения Pyo.т доллбаpp. Pyo.т Pyб.J1OоOм Pу6.JOOOM  руб.т руo.т Py6.OOOM', ' начения         ', ' нароектныйгод зђ 5O,   1736, 5D, 8  ']\n",
            "--> [' No I          ', '       оля    ', '  Hефт Hефты  природныйгаз оренныйгаз     ', '  знтренне BHеUHем  природныйгаз оренныйгаз HефTI Hа BHешHеM обьчу ођђч  ', '  знтренне BHеUHем Bнтреннемрынке  оренныйгаз HефTI Hа BHешHеM нефтиK ођђч природногогаэ ', '    Bнтреннемрынке   HефTI Hа BHешHеM дI  природногогаэ ', ' оказађели      ынке   природногогаэ ', ' оказађели          ', '           ', '           ', '           ', ' Ed.  доллбаpp.  Pyб.J1OоOм      доллбарр', ' измерения Pyo.т доллбаpp. Pyo.т Pyб.J1OоOм Pу6.JOOOM  руб.т руo.т Py6.OOOM доллбарр', ' начения          ', ' нароектныйгод зђ 5O,   1736, 5D, 8   5о']\n",
            "--> [' No I           ', '       оля     ', '  Hефт Hефты  природныйгаз оренныйгаз      ', '  знтренне BHеUHем  природныйгаз оренныйгаз HефTI Hа BHешHеM обьчу ођђч   ', '  знтренне BHеUHем Bнтреннемрынке  оренныйгаз HефTI Hа BHешHеM нефтиK ођђч природногогаэ  ', '    Bнтреннемрынке   HефTI Hа BHешHеM дI  природногогаэ  ', ' оказађели      ынке   природногогаэ  ', ' оказађели           ', '            ', '            ', '            ', ' Ed.  доллбаpp.  Pyб.J1OоOм      доллбарр ', ' измерения Pyo.т доллбаpp. Pyo.т Pyб.J1OоOм Pу6.JOOOM  руб.т руo.т Py6.OOOM доллбарр ', ' начения           ', ' нароектныйгод зђ 5O,   1736, 5D, 8   5о 20,0']\n",
            "--> [' No I            ', '       оля      ', '  Hефт Hефты  природныйгаз оренныйгаз       ', '  знтренне BHеUHем  природныйгаз оренныйгаз HефTI Hа BHешHеM обьчу ођђч    ', '  знтренне BHеUHем Bнтреннемрынке  оренныйгаз HефTI Hа BHешHеM нефтиK ођђч природногогаэ   ', '    Bнтреннемрынке   HефTI Hа BHешHеM дI  природногогаэ   ', ' оказађели      ынке   природногогаэ   ', ' оказађели            ', '             ', '             ', '             ', ' Ed.  доллбаpp.  Pyб.J1OоOм      доллбарр  ', ' измерения Pyo.т доллбаpp. Pyo.т Pyб.J1OоOм Pу6.JOOOM  руб.т руo.т Py6.OOOM доллбарр  ', ' начения            ', ' нароектныйгод зђ 5O,   1736, 5D, 8   5о 20,0 ,']\n",
            "--> [' No I             ', '       оля       ', '  Hефт Hефты  природныйгаз оренныйгаз        ', '  знтренне BHеUHем  природныйгаз оренныйгаз HефTI Hа BHешHеM обьчу ођђч     ', '  знтренне BHеUHем Bнтреннемрынке  оренныйгаз HефTI Hа BHешHеM нефтиK ођђч природногогаэ    ', '    Bнтреннемрынке   HефTI Hа BHешHеM дI  природногогаэ    ', ' оказађели      ынке   природногогаэ    ', ' оказађели             ', '              ', '              ', '              ', ' Ed.  доллбаpp.  Pyб.J1OоOм      доллбарр   ', ' измерения Pyo.т доллбаpp. Pyo.т Pyб.J1OоOм Pу6.JOOOM  руб.т руo.т Py6.OOOM доллбарр   ', ' начения             ', ' нароектныйгод зђ 5O,   1736, 5D, 8   5о 20,0 , O,5']\n",
            "--> [' No I              ', '       оля        ', '  Hефт Hефты  природныйгаз оренныйгаз         ', '  знтренне BHеUHем  природныйгаз оренныйгаз HефTI Hа BHешHеM обьчу ођђч      ', '  знтренне BHеUHем Bнтреннемрынке  оренныйгаз HефTI Hа BHешHеM нефтиK ођђч природногогаэ     ', '    Bнтреннемрынке   HефTI Hа BHешHеM дI  природногогаэ     ', ' оказађели      ынке   природногогаэ     ', ' оказађели              ', '               ', '               ', '               ', ' Ed.  доллбаpp.  Pyб.J1OоOм      доллбарр    ', ' измерения Pyo.т доллбаpp. Pyo.т Pyб.J1OоOм Pу6.JOOOM  руб.т руo.т Py6.OOOM доллбарр    ', ' начения              ', ' нароектныйгод зђ 5O,   1736, 5D, 8   5о 20,0 , O,5 O,OO66']\n",
            "--> [' No I               ', '       оля         ', '  Hефт Hефты  природныйгаз оренныйгаз          ', '  знтренне BHеUHем  природныйгаз оренныйгаз HефTI Hа BHешHеM обьчу ођђч       ', '  знтренне BHеUHем Bнтреннемрынке  оренныйгаз HефTI Hа BHешHеM нефтиK ођђч природногогаэ      ', '    Bнтреннемрынке   HефTI Hа BHешHеM дI  природногогаэ      ', ' оказађели      ынке   природногогаэ      ', ' оказађели               ', '                ', '                ', '                ', ' Ed.  доллбаpp.  Pyб.J1OоOм      доллбарр     T. py6.rод', ' измерения Pyo.т доллбаpp. Pyo.т Pyб.J1OоOм Pу6.JOOOM  руб.т руo.т Py6.OOOM доллбарр     T. py6.rод', ' начения               ', ' нароектныйгод зђ 5O,   1736, 5D, 8   5о 20,0 , O,5 O,OO66 463:900']\n",
            "--> [' No I                ', '       оля          ', '  Hефт Hефты  природныйгаз оренныйгаз           ыIBаюшаTазоBаяCкBаЖиHE', '  знтренне BHеUHем  природныйгаз оренныйгаз HефTI Hа BHешHеM обьчу ођђч        ыIBаюшаTазоBаяCкBаЖиHE', '  знтренне BHеUHем Bнтреннемрынке  оренныйгаз HефTI Hа BHешHеM нефтиK ођђч природногогаэ       ыIBаюшаTазоBаяCкBаЖиHE', '    Bнтреннемрынке   HефTI Hа BHешHеM дI  природногогаэ       ыIBаюшаTазоBаяCкBаЖиHE', ' оказађели      ынке   природногогаэ       ', ' оказађели                ', '                 ', '                 ', '                 ', ' Ed.  доллбаpp.  Pyб.J1OоOм      доллбарр     T. py6.rод ', ' измерения Pyo.т доллбаpp. Pyo.т Pyб.J1OоOм Pу6.JOOOM  руб.т руo.т Py6.OOOM доллбарр     T. py6.rод рyo.м', ' начения                ', ' нароектныйгод зђ 5O,   1736, 5D, 8   5о 20,0 , O,5 O,OO66 463:900 ']\n",
            "--> [' No I                 ', '       оля           ', '  Hефт Hефты  природныйгаз оренныйгаз           ыIBаюшаTазоBаяCкBаЖиHE ', '  знтренне BHеUHем  природныйгаз оренныйгаз HефTI Hа BHешHеM обьчу ођђч        ыIBаюшаTазоBаяCкBаЖиHE ', '  знтренне BHеUHем Bнтреннемрынке  оренныйгаз HефTI Hа BHешHеM нефтиK ођђч природногогаэ       ыIBаюшаTазоBаяCкBаЖиHE ', '    Bнтреннемрынке   HефTI Hа BHешHеM дI  природногогаэ       ыIBаюшаTазоBаяCкBаЖиHE ', ' оказађели      ынке   природногогаэ        ', ' оказађели                 правленнаяскважин', '                  правленнаяскважин', '                  ', '                  ', ' Ed.  доллбаpp.  Pyб.J1OоOм      доллбарр     T. py6.rод  ', ' измерения Pyo.т доллбаpp. Pyo.т Pyб.J1OоOм Pу6.JOOOM  руб.т руo.т Py6.OOOM доллбарр     T. py6.rод рyo.м Pyo.M', ' начения                 ', ' нароектныйгод зђ 5O,   1736, 5D, 8   5о 20,0 , O,5 O,OO66 463:900  ']\n",
            "--> [' No I                  ', '       оля            ', '  Hефт Hефты  природныйгаз оренныйгаз           ыIBаюшаTазоBаяCкBаЖиHE  дооываюшаяHефтяHаягоризоHтальHаяскважиH:', '  знтренне BHеUHем  природныйгаз оренныйгаз HефTI Hа BHешHеM обьчу ођђч        ыIBаюшаTазоBаяCкBаЖиHE  дооываюшаяHефтяHаягоризоHтальHаяскважиH:', '  знтренне BHеUHем Bнтреннемрынке  оренныйгаз HефTI Hа BHешHеM нефтиK ођђч природногогаэ       ыIBаюшаTазоBаяCкBаЖиHE  дооываюшаяHефтяHаягоризоHтальHаяскважиH:', '    Bнтреннемрынке   HефTI Hа BHешHеM дI  природногогаэ       ыIBаюшаTазоBаяCкBаЖиHE  дооываюшаяHефтяHаягоризоHтальHаяскважиH:', ' оказађели      ынке   природногогаэ         дооываюшаяHефтяHаягоризоHтальHаяскважиH:', ' оказађели                 правленнаяскважин ', '                  правленнаяскважин дооываюшаяHефтяHаягоризоHтальHаяскважиH:', '                   ', '                   ', ' Ed.  доллбаpp.  Pyб.J1OоOм      доллбарр     T. py6.rод   ', ' измерения Pyo.т доллбаpp. Pyo.т Pyб.J1OоOм Pу6.JOOOM  руб.т руo.т Py6.OOOM доллбарр     T. py6.rод рyo.м Pyo.M рyo.M', ' начения                  ', ' нароектныйгод зђ 5O,   1736, 5D, 8   5о 20,0 , O,5 O,OO66 463:900   ']\n",
            "--> [' No I                   ', '       оля             ', '  Hефт Hефты  природныйгаз оренныйгаз           ыIBаюшаTазоBаяCкBаЖиHE  дооываюшаяHефтяHаягоризоHтальHаяскважиH: ', '  знтренне BHеUHем  природныйгаз оренныйгаз HефTI Hа BHешHеM обьчу ођђч        ыIBаюшаTазоBаяCкBаЖиHE  дооываюшаяHефтяHаягоризоHтальHаяскважиH: HагнетателынаяскважиHагазоконденсатныIйпромыIсел', '  знтренне BHеUHем Bнтреннемрынке  оренныйгаз HефTI Hа BHешHеM нефтиK ођђч природногогаэ       ыIBаюшаTазоBаяCкBаЖиHE  дооываюшаяHефтяHаягоризоHтальHаяскважиH: HагнетателынаяскважиHагазоконденсатныIйпромыIсел', '    Bнтреннемрынке   HефTI Hа BHешHеM дI  природногогаэ       ыIBаюшаTазоBаяCкBаЖиHE  дооываюшаяHефтяHаягоризоHтальHаяскважиH: HагнетателынаяскважиHагазоконденсатныIйпромыIсел', ' оказађели      ынке   природногогаэ         дооываюшаяHефтяHаягоризоHтальHаяскважиH: HагнетателынаяскважиHагазоконденсатныIйпромыIсел', ' оказађели                 правленнаяскважин  ', '                  правленнаяскважин дооываюшаяHефтяHаягоризоHтальHаяскважиH: HагнетателынаяскважиHагазоконденсатныIйпромыIсел', '                    сайклиHг', '                    процесс', ' Ed.  доллбаpp.  Pyб.J1OоOм      доллбарр     T. py6.rод    ', ' измерения Pyo.т доллбаpp. Pyo.т Pyб.J1OоOм Pу6.JOOOM  руб.т руo.т Py6.OOOM доллбарр     T. py6.rод рyo.м Pyo.M рyo.M рyо.м', ' начения                   ', ' нароектныйгод зђ 5O,   1736, 5D, 8   5о 20,0 , O,5 O,OO66 463:900    ']\n",
            "--> [' No I                    ', '       оля              ', '  Hефт Hефты  природныйгаз оренныйгаз           ыIBаюшаTазоBаяCкBаЖиHE  дооываюшаяHефтяHаягоризоHтальHаяскважиH:  бурение бокового CтBола', '  знтренне BHеUHем  природныйгаз оренныйгаз HефTI Hа BHешHеM обьчу ођђч        ыIBаюшаTазоBаяCкBаЖиHE  дооываюшаяHефтяHаягоризоHтальHаяскважиH: HагнетателынаяскважиHагазоконденсатныIйпромыIсел бурение бокового CтBола', '  знтренне BHеUHем Bнтреннемрынке  оренныйгаз HефTI Hа BHешHеM нефтиK ођђч природногогаэ       ыIBаюшаTазоBаяCкBаЖиHE  дооываюшаяHефтяHаягоризоHтальHаяскважиH: HагнетателынаяскважиHагазоконденсатныIйпромыIсел бурение бокового CтBола', '    Bнтреннемрынке   HефTI Hа BHешHеM дI  природногогаэ       ыIBаюшаTазоBаяCкBаЖиHE  дооываюшаяHефтяHаягоризоHтальHаяскважиH: HагнетателынаяскважиHагазоконденсатныIйпромыIсел ', ' оказађели      ынке   природногогаэ         дооываюшаяHефтяHаягоризоHтальHаяскважиH: HагнетателынаяскважиHагазоконденсатныIйпромыIсел ', ' оказађели                 правленнаяскважин   ', '                  правленнаяскважин дооываюшаяHефтяHаягоризоHтальHаяскважиH: HагнетателынаяскважиHагазоконденсатныIйпромыIсел ', '                    сайклиHг ', '                    процесс ', ' Ed.  доллбаpp.  Pyб.J1OоOм      доллбарр     T. py6.rод     ThIc.', ' измерения Pyo.т доллбаpp. Pyo.т Pyб.J1OоOм Pу6.JOOOM  руб.т руo.т Py6.OOOM доллбарр     T. py6.rод рyo.м Pyo.M рyo.M рyо.м ро.скв', ' начения                    ', ' нароектныйгод зђ 5O,   1736, 5D, 8   5о 20,0 , O,5 O,OO66 463:900     даџђ']\n",
            "--> [' No I                     ', '       оля               ', '  Hефт Hефты  природныйгаз оренныйгаз           ыIBаюшаTазоBаяCкBаЖиHE  дооываюшаяHефтяHаягоризоHтальHаяскважиH:  бурение бокового CтBола ', '  знтренне BHеUHем  природныйгаз оренныйгаз HефTI Hа BHешHеM обьчу ођђч        ыIBаюшаTазоBаяCкBаЖиHE  дооываюшаяHефтяHаягоризоHтальHаяскважиH: HагнетателынаяскважиHагазоконденсатныIйпромыIсел бурение бокового CтBола ', '  знтренне BHеUHем Bнтреннемрынке  оренныйгаз HефTI Hа BHешHеM нефтиK ођђч природногогаэ       ыIBаюшаTазоBаяCкBаЖиHE  дооываюшаяHефтяHаягоризоHтальHаяскважиH: HагнетателынаяскважиHагазоконденсатныIйпромыIсел бурение бокового CтBола ', '    Bнтреннемрынке   HефTI Hа BHешHеM дI  природногогаэ       ыIBаюшаTазоBаяCкBаЖиHE  дооываюшаяHефтяHаягоризоHтальHаяскважиH: HагнетателынаяскважиHагазоконденсатныIйпромыIсел  ', ' оказађели      ынке   природногогаэ         дооываюшаяHефтяHаягоризоHтальHаяскважиH: HагнетателынаяскважиHагазоконденсатныIйпромыIсел  ', ' оказађели                 правленнаяскважин    ', '                  правленнаяскважин дооываюшаяHефтяHаягоризоHтальHаяскважиH: HагнетателынаяскважиHагазоконденсатныIйпромыIсел  ', '                    сайклиHг  ', '                    процесс  ', ' Ed.  доллбаpp.  Pyб.J1OоOм      доллбарр     T. py6.rод     ThIc. Tыс.', ' измерения Pyo.т доллбаpp. Pyo.т Pyб.J1OоOм Pу6.JOOOM  руб.т руo.т Py6.OOOM доллбарр     T. py6.rод рyo.м Pyo.M рyo.M рyо.м ро.скв DO.скE', ' начения                     ', ' нароектныйгод зђ 5O,   1736, 5D, 8   5о 20,0 , O,5 O,OO66 463:900     даџђ ']\n",
            "--> [' No I                      ', '       оля                ', '  Hефт Hефты  природныйгаз оренныйгаз           ыIBаюшаTазоBаяCкBаЖиHE  дооываюшаяHефтяHаягоризоHтальHаяскважиH:  бурение бокового CтBола  ', '  знтренне BHеUHем  природныйгаз оренныйгаз HефTI Hа BHешHеM обьчу ођђч        ыIBаюшаTазоBаяCкBаЖиHE  дооываюшаяHефтяHаягоризоHтальHаяскважиH: HагнетателынаяскважиHагазоконденсатныIйпромыIсел бурение бокового CтBола  Hе BхOдяшеE', '  знтренне BHеUHем Bнтреннемрынке  оренныйгаз HефTI Hа BHешHеM нефтиK ођђч природногогаэ       ыIBаюшаTазоBаяCкBаЖиHE  дооываюшаяHефтяHаягоризоHтальHаяскважиH: HагнетателынаяскважиHагазоконденсатныIйпромыIсел бурение бокового CтBола  Hе BхOдяшеE', '    Bнтреннемрынке   HефTI Hа BHешHеM дI  природногогаэ       ыIBаюшаTазоBаяCкBаЖиHE  дооываюшаяHефтяHаягоризоHтальHаяскважиH: HагнетателынаяскважиHагазоконденсатныIйпромыIсел   ', ' оказађели      ынке   природногогаэ         дооываюшаяHефтяHаягоризоHтальHаяскважиH: HагнетателынаяскважиHагазоконденсатныIйпромыIсел   ', ' оказађели                 правленнаяскважин     для', '                  правленнаяскважин дооываюшаяHефтяHаягоризоHтальHаяскважиH: HагнетателынаяскважиHагазоконденсатныIйпромыIсел   HетедоOыIч', '                    сайклиHг   ', '                    процесс   ', \" Ed.  доллбаpp.  Pyб.J1OоOм      доллбарр     T. py6.rод     ThIc. Tыс. I'b1C.\", ' измерения Pyo.т доллбаpp. Pyo.т Pyб.J1OоOм Pу6.JOOOM  руб.т руo.т Py6.OOOM доллбарр     T. py6.rод рyo.м Pyo.M рyo.M рyо.м ро.скв DO.скE Pyb.dob.', ' начения                      ', ' нароектныйгод зђ 5O,   1736, 5D, 8   5о 20,0 , O,5 O,OO66 463:900     даџђ  70о,0']\n",
            "--> [' No I                       ', '       оля                 ', '  Hефт Hефты  природныйгаз оренныйгаз           ыIBаюшаTазоBаяCкBаЖиHE  дооываюшаяHефтяHаягоризоHтальHаяскважиH:  бурение бокового CтBола   ', '  знтренне BHеUHем  природныйгаз оренныйгаз HефTI Hа BHешHеM обьчу ођђч        ыIBаюшаTазоBаяCкBаЖиHE  дооываюшаяHефтяHаягоризоHтальHаяскважиH: HагнетателынаяскважиHагазоконденсатныIйпромыIсел бурение бокового CтBола  Hе BхOдяшеE промысе', '  знтренне BHеUHем Bнтреннемрынке  оренныйгаз HефTI Hа BHешHеM нефтиK ођђч природногогаэ       ыIBаюшаTазоBаяCкBаЖиHE  дооываюшаяHефтяHаягоризоHтальHаяскважиH: HагнетателынаяскважиHагазоконденсатныIйпромыIсел бурение бокового CтBола  Hе BхOдяшеE промысе', '    Bнтреннемрынке   HефTI Hа BHешHеM дI  природногогаэ       ыIBаюшаTазоBаяCкBаЖиHE  дооываюшаяHефтяHаягоризоHтальHаяскважиH: HагнетателынаяскважиHагазоконденсатныIйпромыIсел    ', ' оказађели      ынке   природногогаэ         дооываюшаяHефтяHаягоризоHтальHаяскважиH: HагнетателынаяскважиHагазоконденсатныIйпромыIсел    ', ' оказађели                 правленнаяскважин     для ', '                  правленнаяскважин дооываюшаяHефтяHаягоризоHтальHаяскважиH: HагнетателынаяскважиHагазоконденсатныIйпромыIсел   HетедоOыIч ', '                    сайклиHг    ', '                    процесс    ', \" Ed.  доллбаpp.  Pyб.J1OоOм      доллбарр     T. py6.rод     ThIc. Tыс. I'b1C. \", ' измерения Pyo.т доллбаpp. Pyo.т Pyб.J1OоOм Pу6.JOOOM  руб.т руo.т Py6.OOOM доллбарр     T. py6.rод рyo.м Pyo.M рyo.M рyо.м ро.скв DO.скE Pyb.dob. ', ' начения                       ', ' нароектныйгод зђ 5O,   1736, 5D, 8   5о 20,0 , O,5 O,OO66 463:900     даџђ  70о,0 ']\n",
            "--> [' No I                        ', '       оля                  ', '  Hефт Hефты  природныйгаз оренныйгаз           ыIBаюшаTазоBаяCкBаЖиHE  дооываюшаяHефтяHаягоризоHтальHаяскважиH:  бурение бокового CтBола    ', '  знтренне BHеUHем  природныйгаз оренныйгаз HефTI Hа BHешHеM обьчу ођђч        ыIBаюшаTазоBаяCкBаЖиHE  дооываюшаяHефтяHаягоризоHтальHаяскважиH: HагнетателынаяскважиHагазоконденсатныIйпромыIсел бурение бокового CтBола  Hе BхOдяшеE промысе ', '  знтренне BHеUHем Bнтреннемрынке  оренныйгаз HефTI Hа BHешHеM нефтиK ођђч природногогаэ       ыIBаюшаTазоBаяCкBаЖиHE  дооываюшаяHефтяHаягоризоHтальHаяскважиH: HагнетателынаяскважиHагазоконденсатныIйпромыIсел бурение бокового CтBола  Hе BхOдяшеE промысе ', '    Bнтреннемрынке   HефTI Hа BHешHеM дI  природногогаэ       ыIBаюшаTазоBаяCкBаЖиHE  дооываюшаяHефтяHаягоризоHтальHаяскважиH: HагнетателынаяскважиHагазоконденсатныIйпромыIсел     ', ' оказађели      ынке   природногогаэ         дооываюшаяHефтяHаягоризоHтальHаяскважиH: HагнетателынаяскважиHагазоконденсатныIйпромыIсел     ', ' оказађели                 правленнаяскважин     для  ', '                  правленнаяскважин дооываюшаяHефтяHаягоризоHтальHаяскважиH: HагнетателынаяскважиHагазоконденсатныIйпромыIсел   HетедоOыIч  ', '                    сайклиHг     ', '                    процесс     ', \" Ed.  доллбаpp.  Pyб.J1OоOм      доллбарр     T. py6.rод     ThIc. Tыс. I'b1C.  ThiC.\", ' измерения Pyo.т доллбаpp. Pyo.т Pyб.J1OоOм Pу6.JOOOM  руб.т руo.т Py6.OOOM доллбарр     T. py6.rод рyo.м Pyo.M рyo.M рyо.м ро.скв DO.скE Pyb.dob.  рo.скE', ' начения                        ', ' нароектныйгод зђ 5O,   1736, 5D, 8   5о 20,0 , O,5 O,OO66 463:900     даџђ  70о,0  ']\n",
            "--> [' No I                         ', '       оля                   ', '  Hефт Hефты  природныйгаз оренныйгаз           ыIBаюшаTазоBаяCкBаЖиHE  дооываюшаяHефтяHаягоризоHтальHаяскважиH:  бурение бокового CтBола     газосоорные коллекторы', '  знтренне BHеUHем  природныйгаз оренныйгаз HефTI Hа BHешHеM обьчу ођђч        ыIBаюшаTазоBаяCкBаЖиHE  дооываюшаяHефтяHаягоризоHтальHаяскважиH: HагнетателынаяскважиHагазоконденсатныIйпромыIсел бурение бокового CтBола  Hе BхOдяшеE промысе  газосоорные коллекторы', '  знтренне BHеUHем Bнтреннемрынке  оренныйгаз HефTI Hа BHешHеM нефтиK ођђч природногогаэ       ыIBаюшаTазоBаяCкBаЖиHE  дооываюшаяHефтяHаягоризоHтальHаяскважиH: HагнетателынаяскважиHагазоконденсатныIйпромыIсел бурение бокового CтBола  Hе BхOдяшеE промысе  газосоорные коллекторы', '    Bнтреннемрынке   HефTI Hа BHешHеM дI  природногогаэ       ыIBаюшаTазоBаяCкBаЖиHE  дооываюшаяHефтяHаягоризоHтальHаяскважиH: HагнетателынаяскважиHагазоконденсатныIйпромыIсел      газосоорные коллекторы', ' оказађели      ынке   природногогаэ         дооываюшаяHефтяHаягоризоHтальHаяскважиH: HагнетателынаяскважиHагазоконденсатныIйпромыIсел      ', ' оказађели                 правленнаяскважин     для   ', '                  правленнаяскважин дооываюшаяHефтяHаягоризоHтальHаяскважиH: HагнетателынаяскважиHагазоконденсатныIйпромыIсел   HетедоOыIч   ', '                    сайклиHг      ', '                    процесс      ', \" Ed.  доллбаpp.  Pyб.J1OоOм      доллбарр     T. py6.rод     ThIc. Tыс. I'b1C.  ThiC. TbIC.\", ' измерения Pyo.т доллбаpp. Pyo.т Pyб.J1OоOм Pу6.JOOOM  руб.т руo.т Py6.OOOM доллбарр     T. py6.rод рyo.м Pyo.M рyo.M рyо.м ро.скв DO.скE Pyb.dob.  рo.скE pyo.сKE', ' начения                         ', ' нароектныйгод зђ 5O,   1736, 5D, 8   5о 20,0 , O,5 O,OO66 463:900     даџђ  70о,0   ']\n",
            "--> [' No I                          ', '       оля                    ', '  Hефт Hефты  природныйгаз оренныйгаз           ыIBаюшаTазоBаяCкBаЖиHE  дооываюшаяHефтяHаягоризоHтальHаяскважиH:  бурение бокового CтBола     газосоорные коллекторы ', '  знтренне BHеUHем  природныйгаз оренныйгаз HефTI Hа BHешHеM обьчу ођђч        ыIBаюшаTазоBаяCкBаЖиHE  дооываюшаяHефтяHаягоризоHтальHаяскважиH: HагнетателынаяскважиHагазоконденсатныIйпромыIсел бурение бокового CтBола  Hе BхOдяшеE промысе  газосоорные коллекторы ', '  знтренне BHеUHем Bнтреннемрынке  оренныйгаз HефTI Hа BHешHеM нефтиK ођђч природногогаэ       ыIBаюшаTазоBаяCкBаЖиHE  дооываюшаяHефтяHаягоризоHтальHаяскважиH: HагнетателынаяскважиHагазоконденсатныIйпромыIсел бурение бокового CтBола  Hе BхOдяшеE промысе  газосоорные коллекторы ', '    Bнтреннемрынке   HефTI Hа BHешHеM дI  природногогаэ       ыIBаюшаTазоBаяCкBаЖиHE  дооываюшаяHефтяHаягоризоHтальHаяскважиH: HагнетателынаяскважиHагазоконденсатныIйпромыIсел      газосоорные коллекторы ', ' оказађели      ынке   природногогаэ         дооываюшаяHефтяHаягоризоHтальHаяскважиH: HагнетателынаяскважиHагазоконденсатныIйпромыIсел       ', ' оказађели                 правленнаяскважин     для    ', '                  правленнаяскважин дооываюшаяHефтяHаягоризоHтальHаяскважиH: HагнетателынаяскважиHагазоконденсатныIйпромыIсел   HетедоOыIч    ', '                    сайклиHг       ', '                    процесс       ', \" Ed.  доллбаpp.  Pyб.J1OоOм      доллбарр     T. py6.rод     ThIc. Tыс. I'b1C.  ThiC. TbIC. MIH.\", ' измерения Pyo.т доллбаpp. Pyo.т Pyб.J1OоOм Pу6.JOOOM  руб.т руo.т Py6.OOOM доллбарр     T. py6.rод рyo.м Pyo.M рyo.M рyо.м ро.скв DO.скE Pyb.dob.  рo.скE pyo.сKE Pубшт', ' начения                          ', ' нароектныйгод зђ 5O,   1736, 5D, 8   5о 20,0 , O,5 O,OO66 463:900     даџђ  70о,0    ']\n",
            "--> [' No I                           ', '       оля                     ', '  Hефт Hефты  природныйгаз оренныйгаз           ыIBаюшаTазоBаяCкBаЖиHE  дооываюшаяHефтяHаягоризоHтальHаяскважиH:  бурение бокового CтBола     газосоорные коллекторы  лектроснаожение', '  знтренне BHеUHем  природныйгаз оренныйгаз HефTI Hа BHешHеM обьчу ођђч        ыIBаюшаTазоBаяCкBаЖиHE  дооываюшаяHефтяHаягоризоHтальHаяскважиH: HагнетателынаяскважиHагазоконденсатныIйпромыIсел бурение бокового CтBола  Hе BхOдяшеE промысе  газосоорные коллекторы  лектроснаожение', '  знтренне BHеUHем Bнтреннемрынке  оренныйгаз HефTI Hа BHешHеM нефтиK ођђч природногогаэ       ыIBаюшаTазоBаяCкBаЖиHE  дооываюшаяHефтяHаягоризоHтальHаяскважиH: HагнетателынаяскважиHагазоконденсатныIйпромыIсел бурение бокового CтBола  Hе BхOдяшеE промысе  газосоорные коллекторы  лектроснаожение', '    Bнтреннемрынке   HефTI Hа BHешHеM дI  природногогаэ       ыIBаюшаTазоBаяCкBаЖиHE  дооываюшаяHефтяHаягоризоHтальHаяскважиH: HагнетателынаяскважиHагазоконденсатныIйпромыIсел      газосоорные коллекторы  ', ' оказађели      ынке   природногогаэ         дооываюшаяHефтяHаягоризоHтальHаяскважиH: HагнетателынаяскважиHагазоконденсатныIйпромыIсел        ', ' оказађели                 правленнаяскважин     для     ', '                  правленнаяскважин дооываюшаяHефтяHаягоризоHтальHаяскважиH: HагнетателынаяскважиHагазоконденсатныIйпромыIсел   HетедоOыIч     ', '                    сайклиHг        ', '                    процесс        ', \" Ed.  доллбаpp.  Pyб.J1OоOм      доллбарр     T. py6.rод     ThIc. Tыс. I'b1C.  ThiC. TbIC. MIH. Thie.\", ' измерения Pyo.т доллбаpp. Pyo.т Pyб.J1OоOм Pу6.JOOOM  руб.т руo.т Py6.OOOM доллбарр     T. py6.rод рyo.м Pyo.M рyo.M рyо.м ро.скв DO.скE Pyb.dob.  рo.скE pyo.сKE Pубшт pyo.cKB.', ' начения                           ', ' нароектныйгод зђ 5O,   1736, 5D, 8   5о 20,0 , O,5 O,OO66 463:900     даџђ  70о,0     ']\n",
            "--> [' No I                            ', '       оля                      ', '  Hефт Hефты  природныйгаз оренныйгаз           ыIBаюшаTазоBаяCкBаЖиHE  дооываюшаяHефтяHаягоризоHтальHаяскважиH:  бурение бокового CтBола     газосоорные коллекторы  лектроснаожение ', '  знтренне BHеUHем  природныйгаз оренныйгаз HефTI Hа BHешHеM обьчу ођђч        ыIBаюшаTазоBаяCкBаЖиHE  дооываюшаяHефтяHаягоризоHтальHаяскважиH: HагнетателынаяскважиHагазоконденсатныIйпромыIсел бурение бокового CтBола  Hе BхOдяшеE промысе  газосоорные коллекторы  лектроснаожение ', '  знтренне BHеUHем Bнтреннемрынке  оренныйгаз HефTI Hа BHешHеM нефтиK ођђч природногогаэ       ыIBаюшаTазоBаяCкBаЖиHE  дооываюшаяHефтяHаягоризоHтальHаяскважиH: HагнетателынаяскважиHагазоконденсатныIйпромыIсел бурение бокового CтBола  Hе BхOдяшеE промысе  газосоорные коллекторы  лектроснаожение ', '    Bнтреннемрынке   HефTI Hа BHешHеM дI  природногогаэ       ыIBаюшаTазоBаяCкBаЖиHE  дооываюшаяHефтяHаягоризоHтальHаяскважиH: HагнетателынаяскважиHагазоконденсатныIйпромыIсел      газосоорные коллекторы   дороги', ' оказађели      ынке   природногогаэ         дооываюшаяHефтяHаягоризоHтальHаяскважиH: HагнетателынаяскважиHагазоконденсатныIйпромыIсел         ', ' оказађели                 правленнаяскважин     для      ', '                  правленнаяскважин дооываюшаяHефтяHаягоризоHтальHаяскважиH: HагнетателынаяскважиHагазоконденсатныIйпромыIсел   HетедоOыIч      ', '                    сайклиHг         ', '                    процесс         ', \" Ed.  доллбаpp.  Pyб.J1OоOм      доллбарр     T. py6.rод     ThIc. Tыс. I'b1C.  ThiC. TbIC. MIH. Thie. ThIC.\", ' измерения Pyo.т доллбаpp. Pyo.т Pyб.J1OоOм Pу6.JOOOM  руб.т руo.т Py6.OOOM доллбарр     T. py6.rод рyo.м Pyo.M рyo.M рyо.м ро.скв DO.скE Pyb.dob.  рo.скE pyo.сKE Pубшт pyo.cKB. pyo.ckB.', ' начения                            ', ' нароектныйгод зђ 5O,   1736, 5D, 8   5о 20,0 , O,5 O,OO66 463:900     даџђ  70о,0      ']\n",
            "--> [' No I                             ', '       оля                       ', '  Hефт Hефты  природныйгаз оренныйгаз           ыIBаюшаTазоBаяCкBаЖиHE  дооываюшаяHефтяHаягоризоHтальHаяскважиH:  бурение бокового CтBола     газосоорные коллекторы  лектроснаожение  ', '  знтренне BHеUHем  природныйгаз оренныйгаз HефTI Hа BHешHеM обьчу ођђч        ыIBаюшаTазоBаяCкBаЖиHE  дооываюшаяHефтяHаягоризоHтальHаяскважиH: HагнетателынаяскважиHагазоконденсатныIйпромыIсел бурение бокового CтBола  Hе BхOдяшеE промысе  газосоорные коллекторы  лектроснаожение  ', '  знтренне BHеUHем Bнтреннемрынке  оренныйгаз HефTI Hа BHешHеM нефтиK ођђч природногогаэ       ыIBаюшаTазоBаяCкBаЖиHE  дооываюшаяHефтяHаягоризоHтальHаяскважиH: HагнетателынаяскважиHагазоконденсатныIйпромыIсел бурение бокового CтBола  Hе BхOдяшеE промысе  газосоорные коллекторы  лектроснаожение  вязк', '    Bнтреннемрынке   HефTI Hа BHешHеM дI  природногогаэ       ыIBаюшаTазоBаяCкBаЖиHE  дооываюшаяHефтяHаягоризоHтальHаяскважиH: HагнетателынаяскважиHагазоконденсатныIйпромыIсел      газосоорные коллекторы   дороги CКBаЖИЕ', ' оказађели      ынке   природногогаэ         дооываюшаяHефтяHаягоризоHтальHаяскважиH: HагнетателынаяскважиHагазоконденсатныIйпромыIсел          ', ' оказађели                 правленнаяскважин     для       ', '                  правленнаяскважин дооываюшаяHефтяHаягоризоHтальHаяскважиH: HагнетателынаяскважиHагазоконденсатныIйпромыIсел   HетедоOыIч       ', '                    сайклиHг          ', '                    процесс          ', \" Ed.  доллбаpp.  Pyб.J1OоOм      доллбарр     T. py6.rод     ThIc. Tыс. I'b1C.  ThiC. TbIC. MIH. Thie. ThIC. Tыс\", ' измерения Pyo.т доллбаpp. Pyo.т Pyб.J1OоOм Pу6.JOOOM  руб.т руo.т Py6.OOOM доллбарр     T. py6.rод рyo.м Pyo.M рyo.M рyо.м ро.скв DO.скE Pyb.dob.  рo.скE pyo.сKE Pубшт pyo.cKB. pyo.ckB. ', ' начения                             ', ' нароектныйгод зђ 5O,   1736, 5D, 8   5о 20,0 , O,5 O,OO66 463:900     даџђ  70о,0       ']\n",
            "--> [' No I                              ', '       оля                        ', '  Hефт Hефты  природныйгаз оренныйгаз           ыIBаюшаTазоBаяCкBаЖиHE  дооываюшаяHефтяHаягоризоHтальHаяскважиH:  бурение бокового CтBола     газосоорные коллекторы  лектроснаожение   ', '  знтренне BHеUHем  природныйгаз оренныйгаз HефTI Hа BHешHеM обьчу ођђч        ыIBаюшаTазоBаяCкBаЖиHE  дооываюшаяHефтяHаягоризоHтальHаяскважиH: HагнетателынаяскважиHагазоконденсатныIйпромыIсел бурение бокового CтBола  Hе BхOдяшеE промысе  газосоорные коллекторы  лектроснаожение   орные', '  знтренне BHеUHем Bнтреннемрынке  оренныйгаз HефTI Hа BHешHеM нефтиK ођђч природногогаэ       ыIBаюшаTазоBаяCкBаЖиHE  дооываюшаяHефтяHаягоризоHтальHаяскважиH: HагнетателынаяскважиHагазоконденсатныIйпромыIсел бурение бокового CтBола  Hе BхOдяшеE промысе  газосоорные коллекторы  лектроснаожение  вязк коллектор', '    Bнтреннемрынке   HефTI Hа BHешHеM дI  природногогаэ       ыIBаюшаTазоBаяCкBаЖиHE  дооываюшаяHефтяHаягоризоHтальHаяскважиH: HагнетателынаяскважиHагазоконденсатныIйпромыIсел      газосоорные коллекторы   дороги CКBаЖИЕ коллектор', ' оказађели      ынке   природногогаэ         дооываюшаяHефтяHаягоризоHтальHаяскважиH: HагнетателынаяскважиHагазоконденсатныIйпромыIсел           ', ' оказађели                 правленнаяскважин     для        ', '                  правленнаяскважин дооываюшаяHефтяHаягоризоHтальHаяскважиH: HагнетателынаяскважиHагазоконденсатныIйпромыIсел   HетедоOыIч        ', '                    сайклиHг           ', '                    процесс           ', \" Ed.  доллбаpp.  Pyб.J1OоOм      доллбарр     T. py6.rод     ThIc. Tыс. I'b1C.  ThiC. TbIC. MIH. Thie. ThIC. Tыс тыс\", ' измерения Pyo.т доллбаpp. Pyo.т Pyб.J1OоOм Pу6.JOOOM  руб.т руo.т Py6.OOOM доллбарр     T. py6.rод рyo.м Pyo.M рyo.M рyо.м ро.скв DO.скE Pyb.dob.  рo.скE pyo.сKE Pубшт pyo.cKB. pyo.ckB.  pyo.IскB', ' начения                              ', ' нароектныйгод зђ 5O,   1736, 5D, 8   5о 20,0 , O,5 O,OO66 463:900     даџђ  70о,0        ']\n",
            "--> [' No I                               ', '       оля                         ', '  Hефт Hефты  природныйгаз оренныйгаз           ыIBаюшаTазоBаяCкBаЖиHE  дооываюшаяHефтяHаягоризоHтальHаяскважиH:  бурение бокового CтBола     газосоорные коллекторы  лектроснаожение    ', '  знтренне BHеUHем  природныйгаз оренныйгаз HефTI Hа BHешHеM обьчу ођђч        ыIBаюшаTазоBаяCкBаЖиHE  дооываюшаяHефтяHаягоризоHтальHаяскважиH: HагнетателынаяскважиHагазоконденсатныIйпромыIсел бурение бокового CтBола  Hе BхOдяшеE промысе  газосоорные коллекторы  лектроснаожение   орные ', '  знтренне BHеUHем Bнтреннемрынке  оренныйгаз HефTI Hа BHешHеM нефтиK ођђч природногогаэ       ыIBаюшаTазоBаяCкBаЖиHE  дооываюшаяHефтяHаягоризоHтальHаяскважиH: HагнетателынаяскважиHагазоконденсатныIйпромыIсел бурение бокового CтBола  Hе BхOдяшеE промысе  газосоорные коллекторы  лектроснаожение  вязк коллектор ', '    Bнтреннемрынке   HефTI Hа BHешHеM дI  природногогаэ       ыIBаюшаTазоBаяCкBаЖиHE  дооываюшаяHефтяHаягоризоHтальHаяскважиH: HагнетателынаяскважиHагазоконденсатныIйпромыIсел      газосоорные коллекторы   дороги CКBаЖИЕ коллектор ', ' оказађели      ынке   природногогаэ         дооываюшаяHефтяHаягоризоHтальHаяскважиH: HагнетателынаяскважиHагазоконденсатныIйпромыIсел            ', ' оказађели                 правленнаяскважин     для         ', '                  правленнаяскважин дооываюшаяHефтяHаягоризоHтальHаяскважиH: HагнетателынаяскважиHагазоконденсатныIйпромыIсел   HетедоOыIч         ', '                    сайклиHг            ', '                    процесс            ', \" Ed.  доллбаpp.  Pyб.J1OоOм      доллбарр     T. py6.rод     ThIc. Tыс. I'b1C.  ThiC. TbIC. MIH. Thie. ThIC. Tыс тыс млн\", ' измерения Pyo.т доллбаpp. Pyo.т Pyб.J1OоOм Pу6.JOOOM  руб.т руo.т Py6.OOOM доллбарр     T. py6.rод рyo.м Pyo.M рyo.M рyо.м ро.скв DO.скE Pyb.dob.  рo.скE pyo.сKE Pубшт pyo.cKB. pyo.ckB.  pyo.IскB Pyб.шт', ' начения                               ', ' нароектныйгод зђ 5O,   1736, 5D, 8   5о 20,0 , O,5 O,OO66 463:900     даџђ  70о,0         ']\n",
            "--> [' No I                                ', '       оля                          ', '  Hефт Hефты  природныйгаз оренныйгаз           ыIBаюшаTазоBаяCкBаЖиHE  дооываюшаяHефтяHаягоризоHтальHаяскважиH:  бурение бокового CтBола     газосоорные коллекторы  лектроснаожение     онденсатосорные', '  знтренне BHеUHем  природныйгаз оренныйгаз HефTI Hа BHешHеM обьчу ођђч        ыIBаюшаTазоBаяCкBаЖиHE  дооываюшаяHефтяHаягоризоHтальHаяскважиH: HагнетателынаяскважиHагазоконденсатныIйпромыIсел бурение бокового CтBола  Hе BхOдяшеE промысе  газосоорные коллекторы  лектроснаожение   орные  онденсатосорные', '  знтренне BHеUHем Bнтреннемрынке  оренныйгаз HефTI Hа BHешHеM нефтиK ођђч природногогаэ       ыIBаюшаTазоBаяCкBаЖиHE  дооываюшаяHефтяHаягоризоHтальHаяскважиH: HагнетателынаяскважиHагазоконденсатныIйпромыIсел бурение бокового CтBола  Hе BхOдяшеE промысе  газосоорные коллекторы  лектроснаожение  вязк коллектор  онденсатосорные', '    Bнтреннемрынке   HефTI Hа BHешHеM дI  природногогаэ       ыIBаюшаTазоBаяCкBаЖиHE  дооываюшаяHефтяHаягоризоHтальHаяскважиH: HагнетателынаяскважиHагазоконденсатныIйпромыIсел      газосоорные коллекторы   дороги CКBаЖИЕ коллектор  коллекторы', ' оказађели      ынке   природногогаэ         дооываюшаяHефтяHаягоризоHтальHаяскважиH: HагнетателынаяскважиHагазоконденсатныIйпромыIсел             коллекторы', ' оказађели                 правленнаяскважин     для          ', '                  правленнаяскважин дооываюшаяHефтяHаягоризоHтальHаяскважиH: HагнетателынаяскважиHагазоконденсатныIйпромыIсел   HетедоOыIч          ', '                    сайклиHг             ', '                    процесс             ', \" Ed.  доллбаpp.  Pyб.J1OоOм      доллбарр     T. py6.rод     ThIc. Tыс. I'b1C.  ThiC. TbIC. MIH. Thie. ThIC. Tыс тыс млн ыс\", ' измерения Pyo.т доллбаpp. Pyo.т Pyб.J1OоOм Pу6.JOOOM  руб.т руo.т Py6.OOOM доллбарр     T. py6.rод рyo.м Pyo.M рyo.M рyо.м ро.скв DO.скE Pyb.dob.  рo.скE pyo.сKE Pубшт pyo.cKB. pyo.ckB.  pyo.IскB Pyб.шт руо.скв', ' начения                                ', ' нароектныйгод зђ 5O,   1736, 5D, 8   5о 20,0 , O,5 O,OO66 463:900     даџђ  70о,0          ']\n",
            "--> [' No I                                 ', '       оля                           ', '  Hефт Hефты  природныйгаз оренныйгаз           ыIBаюшаTазоBаяCкBаЖиHE  дооываюшаяHефтяHаягоризоHтальHаяскважиH:  бурение бокового CтBола     газосоорные коллекторы  лектроснаожение     онденсатосорные ', '  знтренне BHеUHем  природныйгаз оренныйгаз HефTI Hа BHешHеM обьчу ођђч        ыIBаюшаTазоBаяCкBаЖиHE  дооываюшаяHефтяHаягоризоHтальHаяскважиH: HагнетателынаяскважиHагазоконденсатныIйпромыIсел бурение бокового CтBола  Hе BхOдяшеE промысе  газосоорные коллекторы  лектроснаожение   орные  онденсатосорные ', '  знтренне BHеUHем Bнтреннемрынке  оренныйгаз HефTI Hа BHешHеM нефтиK ођђч природногогаэ       ыIBаюшаTазоBаяCкBаЖиHE  дооываюшаяHефтяHаягоризоHтальHаяскважиH: HагнетателынаяскважиHагазоконденсатныIйпромыIсел бурение бокового CтBола  Hе BхOдяшеE промысе  газосоорные коллекторы  лектроснаожение  вязк коллектор  онденсатосорные ', '    Bнтреннемрынке   HефTI Hа BHешHеM дI  природногогаэ       ыIBаюшаTазоBаяCкBаЖиHE  дооываюшаяHефтяHаягоризоHтальHаяскважиH: HагнетателынаяскважиHагазоконденсатныIйпромыIсел      газосоорные коллекторы   дороги CКBаЖИЕ коллектор  коллекторы ', ' оказађели      ынке   природногогаэ         дооываюшаяHефтяHаягоризоHтальHаяскважиH: HагнетателынаяскважиHагазоконденсатныIйпромыIсел             коллекторы ', ' оказађели                 правленнаяскважин     для           ', '                  правленнаяскважин дооываюшаяHефтяHаягоризоHтальHаяскважиH: HагнетателынаяскважиHагазоконденсатныIйпромыIсел   HетедоOыIч           ', '                    сайклиHг              ', '                    процесс              ', \" Ed.  доллбаpp.  Pyб.J1OоOм      доллбарр     T. py6.rод     ThIc. Tыс. I'b1C.  ThiC. TbIC. MIH. Thie. ThIC. Tыс тыс млн ыс ыс\", ' измерения Pyo.т доллбаpp. Pyo.т Pyб.J1OоOм Pу6.JOOOM  руб.т руo.т Py6.OOOM доллбарр     T. py6.rод рyo.м Pyo.M рyo.M рyо.м ро.скв DO.скE Pyb.dob.  рo.скE pyo.сKE Pубшт pyo.cKB. pyo.ckB.  pyo.IскB Pyб.шт руо.скв ', ' начения                                 ', ' нароектныйгод зђ 5O,   1736, 5D, 8   5о 20,0 , O,5 O,OO66 463:900     даџђ  70о,0           ']\n",
            "--> [' No I                                  ', '       оля                            ', '  Hефт Hефты  природныйгаз оренныйгаз           ыIBаюшаTазоBаяCкBаЖиHE  дооываюшаяHефтяHаягоризоHтальHаяскважиH:  бурение бокового CтBола     газосоорные коллекторы  лектроснаожение     онденсатосорные  ', '  знтренне BHеUHем  природныйгаз оренныйгаз HефTI Hа BHешHеM обьчу ођђч        ыIBаюшаTазоBаяCкBаЖиHE  дооываюшаяHефтяHаягоризоHтальHаяскважиH: HагнетателынаяскважиHагазоконденсатныIйпромыIсел бурение бокового CтBола  Hе BхOдяшеE промысе  газосоорные коллекторы  лектроснаожение   орные  онденсатосорные  ', '  знтренне BHеUHем Bнтреннемрынке  оренныйгаз HефTI Hа BHешHеM нефтиK ођђч природногогаэ       ыIBаюшаTазоBаяCкBаЖиHE  дооываюшаяHефтяHаягоризоHтальHаяскважиH: HагнетателынаяскважиHагазоконденсатныIйпромыIсел бурение бокового CтBола  Hе BхOдяшеE промысе  газосоорные коллекторы  лектроснаожение  вязк коллектор  онденсатосорные  ', '    Bнтреннемрынке   HефTI Hа BHешHеM дI  природногогаэ       ыIBаюшаTазоBаяCкBаЖиHE  дооываюшаяHефтяHаягоризоHтальHаяскважиH: HагнетателынаяскважиHагазоконденсатныIйпромыIсел      газосоорные коллекторы   дороги CКBаЖИЕ коллектор  коллекторы  ', ' оказађели      ынке   природногогаэ         дооываюшаяHефтяHаягоризоHтальHаяскважиH: HагнетателынаяскважиHагазоконденсатныIйпромыIсел             коллекторы  ', ' оказађели                 правленнаяскважин     для            ', '                  правленнаяскважин дооываюшаяHефтяHаягоризоHтальHаяскважиH: HагнетателынаяскважиHагазоконденсатныIйпромыIсел   HетедоOыIч            ', '                    сайклиHг               ', '                    процесс               ', \" Ed.  доллбаpp.  Pyб.J1OоOм      доллбарр     T. py6.rод     ThIc. Tыс. I'b1C.  ThiC. TbIC. MIH. Thie. ThIC. Tыс тыс млн ыс ыс \", ' измерения Pyo.т доллбаpp. Pyo.т Pyб.J1OоOм Pу6.JOOOM  руб.т руo.т Py6.OOOM доллбарр     T. py6.rод рyo.м Pyo.M рyo.M рyо.м ро.скв DO.скE Pyb.dob.  рo.скE pyo.сKE Pубшт pyo.cKB. pyo.ckB.  pyo.IскB Pyб.шт руо.скв  Pyо.скв', ' начения                                  ', ' нароектныйгод зђ 5O,   1736, 5D, 8   5о 20,0 , O,5 O,OO66 463:900     даџђ  70о,0            ']\n",
            "--> [' No I                                   ', '       оля                             ', '  Hефт Hефты  природныйгаз оренныйгаз           ыIBаюшаTазоBаяCкBаЖиHE  дооываюшаяHефтяHаягоризоHтальHаяскважиH:  бурение бокового CтBола     газосоорные коллекторы  лектроснаожение     онденсатосорные   ', '  знтренне BHеUHем  природныйгаз оренныйгаз HефTI Hа BHешHеM обьчу ођђч        ыIBаюшаTазоBаяCкBаЖиHE  дооываюшаяHефтяHаягоризоHтальHаяскважиH: HагнетателынаяскважиHагазоконденсатныIйпромыIсел бурение бокового CтBола  Hе BхOдяшеE промысе  газосоорные коллекторы  лектроснаожение   орные  онденсатосорные   ', '  знтренне BHеUHем Bнтреннемрынке  оренныйгаз HефTI Hа BHешHеM нефтиK ођђч природногогаэ       ыIBаюшаTазоBаяCкBаЖиHE  дооываюшаяHефтяHаягоризоHтальHаяскважиH: HагнетателынаяскважиHагазоконденсатныIйпромыIсел бурение бокового CтBола  Hе BхOдяшеE промысе  газосоорные коллекторы  лектроснаожение  вязк коллектор  онденсатосорные   ', '    Bнтреннемрынке   HефTI Hа BHешHеM дI  природногогаэ       ыIBаюшаTазоBаяCкBаЖиHE  дооываюшаяHефтяHаягоризоHтальHаяскважиH: HагнетателынаяскважиHагазоконденсатныIйпромыIсел      газосоорные коллекторы   дороги CКBаЖИЕ коллектор  коллекторы   ', ' оказађели      ынке   природногогаэ         дооываюшаяHефтяHаягоризоHтальHаяскважиH: HагнетателынаяскважиHагазоконденсатныIйпромыIсел             коллекторы   ', ' оказађели                 правленнаяскважин     для             ', '                  правленнаяскважин дооываюшаяHефтяHаягоризоHтальHаяскважиH: HагнетателынаяскважиHагазоконденсатныIйпромыIсел   HетедоOыIч             ', '                    сайклиHг                ', '                    процесс                ', \" Ed.  доллбаpp.  Pyб.J1OоOм      доллбарр     T. py6.rод     ThIc. Tыс. I'b1C.  ThiC. TbIC. MIH. Thie. ThIC. Tыс тыс млн ыс ыс  Iыс\", ' измерения Pyo.т доллбаpp. Pyo.т Pyб.J1OоOм Pу6.JOOOM  руб.т руo.т Py6.OOOM доллбарр     T. py6.rод рyo.м Pyo.M рyo.M рyо.м ро.скв DO.скE Pyb.dob.  рo.скE pyo.сKE Pубшт pyo.cKB. pyo.ckB.  pyo.IскB Pyб.шт руо.скв  Pyо.скв Dуф.IскB', ' начения                                   ', ' нароектныйгод зђ 5O,   1736, 5D, 8   5о 20,0 , O,5 O,OO66 463:900     даџђ  70о,0             ']\n",
            "--> [' No I                                    ', '       оля                              ', '  Hефт Hефты  природныйгаз оренныйгаз           ыIBаюшаTазоBаяCкBаЖиHE  дооываюшаяHефтяHаягоризоHтальHаяскважиH:  бурение бокового CтBола     газосоорные коллекторы  лектроснаожение     онденсатосорные    истема', '  знтренне BHеUHем  природныйгаз оренныйгаз HефTI Hа BHешHеM обьчу ођђч        ыIBаюшаTазоBаяCкBаЖиHE  дооываюшаяHефтяHаягоризоHтальHаяскважиH: HагнетателынаяскважиHагазоконденсатныIйпромыIсел бурение бокового CтBола  Hе BхOдяшеE промысе  газосоорные коллекторы  лектроснаожение   орные  онденсатосорные    истема', '  знтренне BHеUHем Bнтреннемрынке  оренныйгаз HефTI Hа BHешHеM нефтиK ођђч природногогаэ       ыIBаюшаTазоBаяCкBаЖиHE  дооываюшаяHефтяHаягоризоHтальHаяскважиH: HагнетателынаяскважиHагазоконденсатныIйпромыIсел бурение бокового CтBола  Hе BхOдяшеE промысе  газосоорные коллекторы  лектроснаожение  вязк коллектор  онденсатосорные    ', '    Bнтреннемрынке   HефTI Hа BHешHеM дI  природногогаэ       ыIBаюшаTазоBаяCкBаЖиHE  дооываюшаяHефтяHаягоризоHтальHаяскважиH: HагнетателынаяскважиHагазоконденсатныIйпромыIсел      газосоорные коллекторы   дороги CКBаЖИЕ коллектор  коллекторы    ', ' оказађели      ынке   природногогаэ         дооываюшаяHефтяHаягоризоHтальHаяскважиH: HагнетателынаяскважиHагазоконденсатныIйпромыIсел             коллекторы    ', ' оказађели                 правленнаяскважин     для              ', '                  правленнаяскважин дооываюшаяHефтяHаягоризоHтальHаяскважиH: HагнетателынаяскважиHагазоконденсатныIйпромыIсел   HетедоOыIч              ', '                    сайклиHг                 ', '                    процесс                 ', \" Ed.  доллбаpp.  Pyб.J1OоOм      доллбарр     T. py6.rод     ThIc. Tыс. I'b1C.  ThiC. TbIC. MIH. Thie. ThIC. Tыс тыс млн ыс ыс  Iыс \", ' измерения Pyo.т доллбаpp. Pyo.т Pyб.J1OоOм Pу6.JOOOM  руб.т руo.т Py6.OOOM доллбарр     T. py6.rод рyo.м Pyo.M рyo.M рyо.м ро.скв DO.скE Pyb.dob.  рo.скE pyo.сKE Pубшт pyo.cKB. pyo.ckB.  pyo.IскB Pyб.шт руо.скв  Pyо.скв Dуф.IскB рй', ' начения                                    ', ' нароектныйгод зђ 5O,   1736, 5D, 8   5о 20,0 , O,5 O,OO66 463:900     даџђ  70о,0              ']\n",
            "--> [' No I                                     ', '       оля                               ', '  Hефт Hефты  природныйгаз оренныйгаз           ыIBаюшаTазоBаяCкBаЖиHE  дооываюшаяHефтяHаягоризоHтальHаяскважиH:  бурение бокового CтBола     газосоорные коллекторы  лектроснаожение     онденсатосорные    истема шлеиђь', '  знтренне BHеUHем  природныйгаз оренныйгаз HефTI Hа BHешHеM обьчу ођђч        ыIBаюшаTазоBаяCкBаЖиHE  дооываюшаяHефтяHаягоризоHтальHаяскважиH: HагнетателынаяскважиHагазоконденсатныIйпромыIсел бурение бокового CтBола  Hе BхOдяшеE промысе  газосоорные коллекторы  лектроснаожение   орные  онденсатосорные    истема шлеиђь', '  знтренне BHеUHем Bнтреннемрынке  оренныйгаз HефTI Hа BHешHеM нефтиK ођђч природногогаэ       ыIBаюшаTазоBаяCкBаЖиHE  дооываюшаяHефтяHаягоризоHтальHаяскважиH: HагнетателынаяскважиHагазоконденсатныIйпромыIсел бурение бокового CтBола  Hе BхOдяшеE промысе  газосоорные коллекторы  лектроснаожение  вязк коллектор  онденсатосорные     HаГHеТаТеЛыHыХгаЗOBыIXCкBаЖИH', '    Bнтреннемрынке   HефTI Hа BHешHеM дI  природногогаэ       ыIBаюшаTазоBаяCкBаЖиHE  дооываюшаяHефтяHаягоризоHтальHаяскважиH: HагнетателынаяскважиHагазоконденсатныIйпромыIсел      газосоорные коллекторы   дороги CКBаЖИЕ коллектор  коллекторы     HаГHеТаТеЛыHыХгаЗOBыIXCкBаЖИH', ' оказађели      ынке   природногогаэ         дооываюшаяHефтяHаягоризоHтальHаяскважиH: HагнетателынаяскважиHагазоконденсатныIйпромыIсел             коллекторы     HаГHеТаТеЛыHыХгаЗOBыIXCкBаЖИH', ' оказађели                 правленнаяскважин     для               HаГHеТаТеЛыHыХгаЗOBыIXCкBаЖИH', '                  правленнаяскважин дооываюшаяHефтяHаягоризоHтальHаяскважиH: HагнетателынаяскважиHагазоконденсатныIйпромыIсел   HетедоOыIч               HаГHеТаТеЛыHыХгаЗOBыIXCкBаЖИH', '                    сайклиHг                  ', '                    процесс                  ', \" Ed.  доллбаpp.  Pyб.J1OоOм      доллбарр     T. py6.rод     ThIc. Tыс. I'b1C.  ThiC. TbIC. MIH. Thie. ThIC. Tыс тыс млн ыс ыс  Iыс  MЛH.\", ' измерения Pyo.т доллбаpp. Pyo.т Pyб.J1OоOм Pу6.JOOOM  руб.т руo.т Py6.OOOM доллбарр     T. py6.rод рyo.м Pyo.M рyo.M рyо.м ро.скв DO.скE Pyb.dob.  рo.скE pyo.сKE Pубшт pyo.cKB. pyo.ckB.  pyo.IскB Pyб.шт руо.скв  Pyо.скв Dуф.IскB рй рублскв', ' начения                                     ', ' нароектныйгод зђ 5O,   1736, 5D, 8   5о 20,0 , O,5 O,OO66 463:900     даџђ  70о,0               ']\n",
            "--> [' No I                                      ', '       оля                                етянои', '  Hефт Hефты  природныйгаз оренныйгаз           ыIBаюшаTазоBаяCкBаЖиHE  дооываюшаяHефтяHаягоризоHтальHаяскважиH:  бурение бокового CтBола     газосоорные коллекторы  лектроснаожение     онденсатосорные    истема шлеиђь етянои', '  знтренне BHеUHем  природныйгаз оренныйгаз HефTI Hа BHешHеM обьчу ођђч        ыIBаюшаTазоBаяCкBаЖиHE  дооываюшаяHефтяHаягоризоHтальHаяскважиH: HагнетателынаяскважиHагазоконденсатныIйпромыIсел бурение бокового CтBола  Hе BхOдяшеE промысе  газосоорные коллекторы  лектроснаожение   орные  онденсатосорные    истема шлеиђь ', '  знтренне BHеUHем Bнтреннемрынке  оренныйгаз HефTI Hа BHешHеM нефтиK ођђч природногогаэ       ыIBаюшаTазоBаяCкBаЖиHE  дооываюшаяHефтяHаягоризоHтальHаяскважиH: HагнетателынаяскважиHагазоконденсатныIйпромыIсел бурение бокового CтBола  Hе BхOдяшеE промысе  газосоорные коллекторы  лектроснаожение  вязк коллектор  онденсатосорные     HаГHеТаТеЛыHыХгаЗOBыIXCкBаЖИH ', '    Bнтреннемрынке   HефTI Hа BHешHеM дI  природногогаэ       ыIBаюшаTазоBаяCкBаЖиHE  дооываюшаяHефтяHаягоризоHтальHаяскважиH: HагнетателынаяскважиHагазоконденсатныIйпромыIсел      газосоорные коллекторы   дороги CКBаЖИЕ коллектор  коллекторы     HаГHеТаТеЛыHыХгаЗOBыIXCкBаЖИH ', ' оказађели      ынке   природногогаэ         дооываюшаяHефтяHаягоризоHтальHаяскважиH: HагнетателынаяскважиHагазоконденсатныIйпромыIсел             коллекторы     HаГHеТаТеЛыHыХгаЗOBыIXCкBаЖИH ', ' оказађели                 правленнаяскважин     для               HаГHеТаТеЛыHыХгаЗOBыIXCкBаЖИH ', '                  правленнаяскважин дооываюшаяHефтяHаягоризоHтальHаяскважиH: HагнетателынаяскважиHагазоконденсатныIйпромыIсел   HетедоOыIч               HаГHеТаТеЛыHыХгаЗOBыIXCкBаЖИH ', '                    сайклиHг                   ', '                    процесс                   ', \" Ed.  доллбаpp.  Pyб.J1OоOм      доллбарр     T. py6.rод     ThIc. Tыс. I'b1C.  ThiC. TbIC. MIH. Thie. ThIC. Tыс тыс млн ыс ыс  Iыс  MЛH. \", ' измерения Pyo.т доллбаpp. Pyo.т Pyб.J1OоOм Pу6.JOOOM  руб.т руo.т Py6.OOOM доллбарр     T. py6.rод рyo.м Pyo.M рyo.M рyо.м ро.скв DO.скE Pyb.dob.  рo.скE pyo.сKE Pубшт pyo.cKB. pyo.ckB.  pyo.IскB Pyб.шт руо.скв  Pyо.скв Dуф.IскB рй рублскв ', ' начения                                      ', ' нароектныйгод зђ 5O,   1736, 5D, 8   5о 20,0 , O,5 O,OO66 463:900     даџђ  70о,0                ']\n",
            "--> [' No I                                       ', '       оля                                етянои ', '  Hефт Hефты  природныйгаз оренныйгаз           ыIBаюшаTазоBаяCкBаЖиHE  дооываюшаяHефтяHаягоризоHтальHаяскважиH:  бурение бокового CтBола     газосоорные коллекторы  лектроснаожение     онденсатосорные    истема шлеиђь етянои сор', '  знтренне BHеUHем  природныйгаз оренныйгаз HефTI Hа BHешHеM обьчу ођђч        ыIBаюшаTазоBаяCкBаЖиHE  дооываюшаяHефтяHаягоризоHтальHаяскважиH: HагнетателынаяскважиHагазоконденсатныIйпромыIсел бурение бокового CтBола  Hе BхOдяшеE промысе  газосоорные коллекторы  лектроснаожение   орные  онденсатосорные    истема шлеиђь  транспорт', '  знтренне BHеUHем Bнтреннемрынке  оренныйгаз HефTI Hа BHешHеM нефтиK ођђч природногогаэ       ыIBаюшаTазоBаяCкBаЖиHE  дооываюшаяHефтяHаягоризоHтальHаяскважиH: HагнетателынаяскважиHагазоконденсатныIйпромыIсел бурение бокового CтBола  Hе BхOдяшеE промысе  газосоорные коллекторы  лектроснаожение  вязк коллектор  онденсатосорные     HаГHеТаТеЛыHыХгаЗOBыIXCкBаЖИH  транспорт', '    Bнтреннемрынке   HефTI Hа BHешHеM дI  природногогаэ       ыIBаюшаTазоBаяCкBаЖиHE  дооываюшаяHефтяHаягоризоHтальHаяскважиH: HагнетателынаяскважиHагазоконденсатныIйпромыIсел      газосоорные коллекторы   дороги CКBаЖИЕ коллектор  коллекторы     HаГHеТаТеЛыHыХгаЗOBыIXCкBаЖИH  Hефти и газа', ' оказађели      ынке   природногогаэ         дооываюшаяHефтяHаягоризоHтальHаяскважиH: HагнетателынаяскважиHагазоконденсатныIйпромыIсел             коллекторы     HаГHеТаТеЛыHыХгаЗOBыIXCкBаЖИH  Hефти и газа', ' оказађели                 правленнаяскважин     для               HаГHеТаТеЛыHыХгаЗOBыIXCкBаЖИH  ', '                  правленнаяскважин дооываюшаяHефтяHаягоризоHтальHаяскважиH: HагнетателынаяскважиHагазоконденсатныIйпромыIсел   HетедоOыIч               HаГHеТаТеЛыHыХгаЗOBыIXCкBаЖИH  ', '                    сайклиHг                    ', '                    процесс                    ', \" Ed.  доллбаpp.  Pyб.J1OоOм      доллбарр     T. py6.rод     ThIc. Tыс. I'b1C.  ThiC. TbIC. MIH. Thie. ThIC. Tыс тыс млн ыс ыс  Iыс  MЛH.  Thit.\", ' измерения Pyo.т доллбаpp. Pyo.т Pyб.J1OоOм Pу6.JOOOM  руб.т руo.т Py6.OOOM доллбарр     T. py6.rод рyo.м Pyo.M рyo.M рyо.м ро.скв DO.скE Pyb.dob.  рo.скE pyo.сKE Pубшт pyo.cKB. pyo.ckB.  pyo.IскB Pyб.шт руо.скв  Pyо.скв Dуф.IскB рй рублскв  Pyбскв.', ' начения                                       ', ' нароектныйгод зђ 5O,   1736, 5D, 8   5о 20,0 , O,5 O,OO66 463:900     даџђ  70о,0                 1112,8']\n",
            "--> [' No I                                        ', '       оля                                етянои  ', '  Hефт Hефты  природныйгаз оренныйгаз           ыIBаюшаTазоBаяCкBаЖиHE  дооываюшаяHефтяHаягоризоHтальHаяскважиH:  бурение бокового CтBола     газосоорные коллекторы  лектроснаожение     онденсатосорные    истема шлеиђь етянои сор ', '  знтренне BHеUHем  природныйгаз оренныйгаз HефTI Hа BHешHеM обьчу ођђч        ыIBаюшаTазоBаяCкBаЖиHE  дооываюшаяHефтяHаягоризоHтальHаяскважиH: HагнетателынаяскважиHагазоконденсатныIйпромыIсел бурение бокового CтBола  Hе BхOдяшеE промысе  газосоорные коллекторы  лектроснаожение   орные  онденсатосорные    истема шлеиђь  транспорт ', '  знтренне BHеUHем Bнтреннемрынке  оренныйгаз HефTI Hа BHешHеM нефтиK ођђч природногогаэ       ыIBаюшаTазоBаяCкBаЖиHE  дооываюшаяHефтяHаягоризоHтальHаяскважиH: HагнетателынаяскважиHагазоконденсатныIйпромыIсел бурение бокового CтBола  Hе BхOдяшеE промысе  газосоорные коллекторы  лектроснаожение  вязк коллектор  онденсатосорные     HаГHеТаТеЛыHыХгаЗOBыIXCкBаЖИH  транспорт ', '    Bнтреннемрынке   HефTI Hа BHешHеM дI  природногогаэ       ыIBаюшаTазоBаяCкBаЖиHE  дооываюшаяHефтяHаягоризоHтальHаяскважиH: HагнетателынаяскважиHагазоконденсатныIйпромыIсел      газосоорные коллекторы   дороги CКBаЖИЕ коллектор  коллекторы     HаГHеТаТеЛыHыХгаЗOBыIXCкBаЖИH  Hефти и газа ', ' оказађели      ынке   природногогаэ         дооываюшаяHефтяHаягоризоHтальHаяскважиH: HагнетателынаяскважиHагазоконденсатныIйпромыIсел             коллекторы     HаГHеТаТеЛыHыХгаЗOBыIXCкBаЖИH  Hефти и газа ', ' оказађели                 правленнаяскважин     для               HаГHеТаТеЛыHыХгаЗOBыIXCкBаЖИH   ', '                  правленнаяскважин дооываюшаяHефтяHаягоризоHтальHаяскважиH: HагнетателынаяскважиHагазоконденсатныIйпромыIсел   HетедоOыIч               HаГHеТаТеЛыHыХгаЗOBыIXCкBаЖИH   ', '                    сайклиHг                     ', '                    процесс                     ', \" Ed.  доллбаpp.  Pyб.J1OоOм      доллбарр     T. py6.rод     ThIc. Tыс. I'b1C.  ThiC. TbIC. MIH. Thie. ThIC. Tыс тыс млн ыс ыс  Iыс  MЛH.  Thit. Thie.\", ' измерения Pyo.т доллбаpp. Pyo.т Pyб.J1OоOм Pу6.JOOOM  руб.т руo.т Py6.OOOM доллбарр     T. py6.rод рyo.м Pyo.M рyo.M рyо.м ро.скв DO.скE Pyb.dob.  рo.скE pyo.сKE Pубшт pyo.cKB. pyo.ckB.  pyo.IскB Pyб.шт руо.скв  Pyо.скв Dуф.IскB рй рублскв  Pyбскв. руб.скB', ' начения                                        ', ' нароектныйгод зђ 5O,   1736, 5D, 8   5о 20,0 , O,5 O,OO66 463:900     даџђ  70о,0                 1112,8 ']\n",
            "--> [' No I                                         ', '       оля                                етянои   ', '  Hефт Hефты  природныйгаз оренныйгаз           ыIBаюшаTазоBаяCкBаЖиHE  дооываюшаяHефтяHаягоризоHтальHаяскважиH:  бурение бокового CтBола     газосоорные коллекторы  лектроснаожение     онденсатосорные    истема шлеиђь етянои сор  базыпроизводственного обслуживания', '  знтренне BHеUHем  природныйгаз оренныйгаз HефTI Hа BHешHеM обьчу ођђч        ыIBаюшаTазоBаяCкBаЖиHE  дооываюшаяHефтяHаягоризоHтальHаяскважиH: HагнетателынаяскважиHагазоконденсатныIйпромыIсел бурение бокового CтBола  Hе BхOдяшеE промысе  газосоорные коллекторы  лектроснаожение   орные  онденсатосорные    истема шлеиђь  транспорт  базыпроизводственного обслуживания', '  знтренне BHеUHем Bнтреннемрынке  оренныйгаз HефTI Hа BHешHеM нефтиK ођђч природногогаэ       ыIBаюшаTазоBаяCкBаЖиHE  дооываюшаяHефтяHаягоризоHтальHаяскважиH: HагнетателынаяскважиHагазоконденсатныIйпромыIсел бурение бокового CтBола  Hе BхOдяшеE промысе  газосоорные коллекторы  лектроснаожение  вязк коллектор  онденсатосорные     HаГHеТаТеЛыHыХгаЗOBыIXCкBаЖИH  транспорт  базыпроизводственного обслуживания', '    Bнтреннемрынке   HефTI Hа BHешHеM дI  природногогаэ       ыIBаюшаTазоBаяCкBаЖиHE  дооываюшаяHефтяHаягоризоHтальHаяскважиH: HагнетателынаяскважиHагазоконденсатныIйпромыIсел      газосоорные коллекторы   дороги CКBаЖИЕ коллектор  коллекторы     HаГHеТаТеЛыHыХгаЗOBыIXCкBаЖИH  Hефти и газа  базыпроизводственного обслуживания', ' оказађели      ынке   природногогаэ         дооываюшаяHефтяHаягоризоHтальHаяскважиH: HагнетателынаяскважиHагазоконденсатныIйпромыIсел             коллекторы     HаГHеТаТеЛыHыХгаЗOBыIXCкBаЖИH  Hефти и газа  базыпроизводственного обслуживания', ' оказађели                 правленнаяскважин     для               HаГHеТаТеЛыHыХгаЗOBыIXCкBаЖИH    ', '                  правленнаяскважин дооываюшаяHефтяHаягоризоHтальHаяскважиH: HагнетателынаяскважиHагазоконденсатныIйпромыIсел   HетедоOыIч               HаГHеТаТеЛыHыХгаЗOBыIXCкBаЖИH    ', '                    сайклиHг                      ', '                    процесс                      ', \" Ed.  доллбаpp.  Pyб.J1OоOм      доллбарр     T. py6.rод     ThIc. Tыс. I'b1C.  ThiC. TbIC. MIH. Thie. ThIC. Tыс тыс млн ыс ыс  Iыс  MЛH.  Thit. Thie. ThIC.\", ' измерения Pyo.т доллбаpp. Pyo.т Pyб.J1OоOм Pу6.JOOOM  руб.т руo.т Py6.OOOM доллбарр     T. py6.rод рyo.м Pyo.M рyo.M рyо.м ро.скв DO.скE Pyb.dob.  рo.скE pyo.сKE Pубшт pyo.cKB. pyo.ckB.  pyo.IскB Pyб.шт руо.скв  Pyо.скв Dуф.IскB рй рублскв  Pyбскв. руб.скB pyo.сKE', ' начения                                         ', ' нароектныйгод зђ 5O,   1736, 5D, 8   5о 20,0 , O,5 O,OO66 463:900     даџђ  70о,0                 1112,8  ']\n",
            "--> [' No I                                          ', '       оля                                етянои    ', '  Hефт Hефты  природныйгаз оренныйгаз           ыIBаюшаTазоBаяCкBаЖиHE  дооываюшаяHефтяHаягоризоHтальHаяскважиH:  бурение бокового CтBола     газосоорные коллекторы  лектроснаожение     онденсатосорные    истема шлеиђь етянои сор  базыпроизводственного обслуживания ', '  знтренне BHеUHем  природныйгаз оренныйгаз HефTI Hа BHешHеM обьчу ођђч        ыIBаюшаTазоBаяCкBаЖиHE  дооываюшаяHефтяHаягоризоHтальHаяскважиH: HагнетателынаяскважиHагазоконденсатныIйпромыIсел бурение бокового CтBола  Hе BхOдяшеE промысе  газосоорные коллекторы  лектроснаожение   орные  онденсатосорные    истема шлеиђь  транспорт  базыпроизводственного обслуживания HOЛOГИHCк', '  знтренне BHеUHем Bнтреннемрынке  оренныйгаз HефTI Hа BHешHеM нефтиK ођђч природногогаэ       ыIBаюшаTазоBаяCкBаЖиHE  дооываюшаяHефтяHаягоризоHтальHаяскважиH: HагнетателынаяскважиHагазоконденсатныIйпромыIсел бурение бокового CтBола  Hе BхOдяшеE промысе  газосоорные коллекторы  лектроснаожение  вязк коллектор  онденсатосорные     HаГHеТаТеЛыHыХгаЗOBыIXCкBаЖИH  транспорт  базыпроизводственного обслуживания HOЛOГИHCк', '    Bнтреннемрынке   HефTI Hа BHешHеM дI  природногогаэ       ыIBаюшаTазоBаяCкBаЖиHE  дооываюшаяHефтяHаягоризоHтальHаяскважиH: HагнетателынаяскважиHагазоконденсатныIйпромыIсел      газосоорные коллекторы   дороги CКBаЖИЕ коллектор  коллекторы     HаГHеТаТеЛыHыХгаЗOBыIXCкBаЖИH  Hефти и газа  базыпроизводственного обслуживания OдIOTOBKа HEUT', ' оказађели      ынке   природногогаэ         дооываюшаяHефтяHаягоризоHтальHаяскважиH: HагнетателынаяскважиHагазоконденсатныIйпромыIсел             коллекторы     HаГHеТаТеЛыHыХгаЗOBыIXCкBаЖИH  Hефти и газа  базыпроизводственного обслуживания OдIOTOBKа HEUT', ' оказађели                 правленнаяскважин     для               HаГHеТаТеЛыHыХгаЗOBыIXCкBаЖИH     ', '                  правленнаяскважин дооываюшаяHефтяHаягоризоHтальHаяскважиH: HагнетателынаяскважиHагазоконденсатныIйпромыIсел   HетедоOыIч               HаГHеТаТеЛыHыХгаЗOBыIXCкBаЖИH     ', '                    сайклиHг                       ', '                    процесс                       ', \" Ed.  доллбаpp.  Pyб.J1OоOм      доллбарр     T. py6.rод     ThIc. Tыс. I'b1C.  ThiC. TbIC. MIH. Thie. ThIC. Tыс тыс млн ыс ыс  Iыс  MЛH.  Thit. Thie. ThIC. py6.дo6.\", ' измерения Pyo.т доллбаpp. Pyo.т Pyб.J1OоOм Pу6.JOOOM  руб.т руo.т Py6.OOOM доллбарр     T. py6.rод рyo.м Pyo.M рyo.M рyо.м ро.скв DO.скE Pyb.dob.  рo.скE pyo.сKE Pубшт pyo.cKB. pyo.ckB.  pyo.IскB Pyб.шт руо.скв  Pyо.скв Dуф.IскB рй рублскв  Pyбскв. руб.скB pyo.сKE py6.дo6.', ' начения                                          ', ' нароектныйгод зђ 5O,   1736, 5D, 8   5о 20,0 , O,5 O,OO66 463:900     даџђ  70о,0                 1112,8   ']\n",
            "--> [' No I                                           ', '       оля                                етянои     ', '  Hефт Hефты  природныйгаз оренныйгаз           ыIBаюшаTазоBаяCкBаЖиHE  дооываюшаяHефтяHаягоризоHтальHаяскважиH:  бурение бокового CтBола     газосоорные коллекторы  лектроснаожение     онденсатосорные    истема шлеиђь етянои сор  базыпроизводственного обслуживания  ', '  знтренне BHеUHем  природныйгаз оренныйгаз HефTI Hа BHешHеM обьчу ођђч        ыIBаюшаTазоBаяCкBаЖиHE  дооываюшаяHефтяHаягоризоHтальHаяскважиH: HагнетателынаяскважиHагазоконденсатныIйпромыIсел бурение бокового CтBола  Hе BхOдяшеE промысе  газосоорные коллекторы  лектроснаожение   орные  онденсатосорные    истема шлеиђь  транспорт  базыпроизводственного обслуживания HOЛOГИHCк ', '  знтренне BHеUHем Bнтреннемрынке  оренныйгаз HефTI Hа BHешHеM нефтиK ођђч природногогаэ       ыIBаюшаTазоBаяCкBаЖиHE  дооываюшаяHефтяHаягоризоHтальHаяскважиH: HагнетателынаяскважиHагазоконденсатныIйпромыIсел бурение бокового CтBола  Hе BхOдяшеE промысе  газосоорные коллекторы  лектроснаожение  вязк коллектор  онденсатосорные     HаГHеТаТеЛыHыХгаЗOBыIXCкBаЖИH  транспорт  базыпроизводственного обслуживания HOЛOГИHCк ', '    Bнтреннемрынке   HефTI Hа BHешHеM дI  природногогаэ       ыIBаюшаTазоBаяCкBаЖиHE  дооываюшаяHефтяHаягоризоHтальHаяскважиH: HагнетателынаяскважиHагазоконденсатныIйпромыIсел      газосоорные коллекторы   дороги CКBаЖИЕ коллектор  коллекторы     HаГHеТаТеЛыHыХгаЗOBыIXCкBаЖИH  Hефти и газа  базыпроизводственного обслуживания OдIOTOBKа HEUT MATизацH', ' оказађели      ынке   природногогаэ         дооываюшаяHефтяHаягоризоHтальHаяскважиH: HагнетателынаяскважиHагазоконденсатныIйпромыIсел             коллекторы     HаГHеТаТеЛыHыХгаЗOBыIXCкBаЖИH  Hефти и газа  базыпроизводственного обслуживания OдIOTOBKа HEUT ', ' оказађели                 правленнаяскважин     для               HаГHеТаТеЛыHыХгаЗOBыIXCкBаЖИH      ', '                  правленнаяскважин дооываюшаяHефтяHаягоризоHтальHаяскважиH: HагнетателынаяскважиHагазоконденсатныIйпромыIсел   HетедоOыIч               HаГHеТаТеЛыHыХгаЗOBыIXCкBаЖИH      ', '                    сайклиHг                        ', '                    процесс                        ', \" Ed.  доллбаpp.  Pyб.J1OоOм      доллбарр     T. py6.rод     ThIc. Tыс. I'b1C.  ThiC. TbIC. MIH. Thie. ThIC. Tыс тыс млн ыс ыс  Iыс  MЛH.  Thit. Thie. ThIC. py6.дo6. \", ' измерения Pyo.т доллбаpp. Pyo.т Pyб.J1OоOм Pу6.JOOOM  руб.т руo.т Py6.OOOM доллбарр     T. py6.rод рyo.м Pyo.M рyo.M рyо.м ро.скв DO.скE Pyb.dob.  рo.скE pyo.сKE Pубшт pyo.cKB. pyo.ckB.  pyo.IскB Pyб.шт руо.скв  Pyо.скв Dуф.IскB рй рублскв  Pyбскв. руб.скB pyo.сKE py6.дo6. скЕ.', ' начения                                           ', ' нароектныйгод зђ 5O,   1736, 5D, 8   5о 20,0 , O,5 O,OO66 463:900     даџђ  70о,0                 1112,8    ']\n",
            "--> [' No I                                            ', '       оля                                етянои      ', '  Hефт Hефты  природныйгаз оренныйгаз           ыIBаюшаTазоBаяCкBаЖиHE  дооываюшаяHефтяHаягоризоHтальHаяскважиH:  бурение бокового CтBола     газосоорные коллекторы  лектроснаожение     онденсатосорные    истема шлеиђь етянои сор  базыпроизводственного обслуживания   ', '  знтренне BHеUHем  природныйгаз оренныйгаз HефTI Hа BHешHеM обьчу ођђч        ыIBаюшаTазоBаяCкBаЖиHE  дооываюшаяHефтяHаягоризоHтальHаяскважиH: HагнетателынаяскважиHагазоконденсатныIйпромыIсел бурение бокового CтBола  Hе BхOдяшеE промысе  газосоорные коллекторы  лектроснаожение   орные  онденсатосорные    истема шлеиђь  транспорт  базыпроизводственного обслуживания HOЛOГИHCк  ', '  знтренне BHеUHем Bнтреннемрынке  оренныйгаз HефTI Hа BHешHеM нефтиK ођђч природногогаэ       ыIBаюшаTазоBаяCкBаЖиHE  дооываюшаяHефтяHаягоризоHтальHаяскважиH: HагнетателынаяскважиHагазоконденсатныIйпромыIсел бурение бокового CтBола  Hе BхOдяшеE промысе  газосоорные коллекторы  лектроснаожение  вязк коллектор  онденсатосорные     HаГHеТаТеЛыHыХгаЗOBыIXCкBаЖИH  транспорт  базыпроизводственного обслуживания HOЛOГИHCк  ', '    Bнтреннемрынке   HефTI Hа BHешHеM дI  природногогаэ       ыIBаюшаTазоBаяCкBаЖиHE  дооываюшаяHефтяHаягоризоHтальHаяскважиH: HагнетателынаяскважиHагазоконденсатныIйпромыIсел      газосоорные коллекторы   дороги CКBаЖИЕ коллектор  коллекторы     HаГHеТаТеЛыHыХгаЗOBыIXCкBаЖИH  Hефти и газа  базыпроизводственного обслуживания OдIOTOBKа HEUT MATизацH свяэЕ', ' оказађели      ынке   природногогаэ         дооываюшаяHефтяHаягоризоHтальHаяскважиH: HагнетателынаяскважиHагазоконденсатныIйпромыIсел             коллекторы     HаГHеТаТеЛыHыХгаЗOBыIXCкBаЖИH  Hефти и газа  базыпроизводственного обслуживания OдIOTOBKа HEUT  ', ' оказађели                 правленнаяскважин     для               HаГHеТаТеЛыHыХгаЗOBыIXCкBаЖИH       ', '                  правленнаяскважин дооываюшаяHефтяHаягоризоHтальHаяскважиH: HагнетателынаяскважиHагазоконденсатныIйпромыIсел   HетедоOыIч               HаГHеТаТеЛыHыХгаЗOBыIXCкBаЖИH       ', '                    сайклиHг                         ', '                    процесс                         ', \" Ed.  доллбаpp.  Pyб.J1OоOм      доллбарр     T. py6.rод     ThIc. Tыс. I'b1C.  ThiC. TbIC. MIH. Thie. ThIC. Tыс тыс млн ыс ыс  Iыс  MЛH.  Thit. Thie. ThIC. py6.дo6.  Tbic.\", ' измерения Pyo.т доллбаpp. Pyo.т Pyб.J1OоOм Pу6.JOOOM  руб.т руo.т Py6.OOOM доллбарр     T. py6.rод рyo.м Pyo.M рyo.M рyо.м ро.скв DO.скE Pyb.dob.  рo.скE pyo.сKE Pубшт pyo.cKB. pyo.ckB.  pyo.IскB Pyб.шт руо.скв  Pyо.скв Dуф.IскB рй рублскв  Pyбскв. руб.скB pyo.сKE py6.дo6. скЕ. Pyo.дo6.', ' начения                                            ', ' нароектныйгод зђ 5O,   1736, 5D, 8   5о 20,0 , O,5 O,OO66 463:900     даџђ  70о,0                 1112,8     10841.']\n",
            "--> [' No I                                             ', '       оля                                етянои       ', '  Hефт Hефты  природныйгаз оренныйгаз           ыIBаюшаTазоBаяCкBаЖиHE  дооываюшаяHефтяHаягоризоHтальHаяскважиH:  бурение бокового CтBола     газосоорные коллекторы  лектроснаожение     онденсатосорные    истема шлеиђь етянои сор  базыпроизводственного обслуживания    нтрипр', '  знтренне BHеUHем  природныйгаз оренныйгаз HефTI Hа BHешHеM обьчу ођђч        ыIBаюшаTазоBаяCкBаЖиHE  дооываюшаяHефтяHаягоризоHтальHаяскважиH: HагнетателынаяскважиHагазоконденсатныIйпромыIсел бурение бокового CтBола  Hе BхOдяшеE промысе  газосоорные коллекторы  лектроснаожение   орные  онденсатосорные    истема шлеиђь  транспорт  базыпроизводственного обслуживания HOЛOГИHCк   нтрипр', '  знтренне BHеUHем Bнтреннемрынке  оренныйгаз HефTI Hа BHешHеM нефтиK ођђч природногогаэ       ыIBаюшаTазоBаяCкBаЖиHE  дооываюшаяHефтяHаягоризоHтальHаяскважиH: HагнетателынаяскважиHагазоконденсатныIйпромыIсел бурение бокового CтBола  Hе BхOдяшеE промысе  газосоорные коллекторы  лектроснаожение  вязк коллектор  онденсатосорные     HаГHеТаТеЛыHыХгаЗOBыIXCкBаЖИH  транспорт  базыпроизводственного обслуживания HOЛOГИHCк   мысловые', '    Bнтреннемрынке   HефTI Hа BHешHеM дI  природногогаэ       ыIBаюшаTазоBаяCкBаЖиHE  дооываюшаяHефтяHаягоризоHтальHаяскважиH: HагнетателынаяскважиHагазоконденсатныIйпромыIсел      газосоорные коллекторы   дороги CКBаЖИЕ коллектор  коллекторы     HаГHеТаТеЛыHыХгаЗOBыIXCкBаЖИH  Hефти и газа  базыпроизводственного обслуживания OдIOTOBKа HEUT MATизацH свяэЕ дорог', ' оказађели      ынке   природногогаэ         дооываюшаяHефтяHаягоризоHтальHаяскважиH: HагнетателынаяскважиHагазоконденсатныIйпромыIсел             коллекторы     HаГHеТаТеЛыHыХгаЗOBыIXCкBаЖИH  Hефти и газа  базыпроизводственного обслуживания OдIOTOBKа HEUT   ', ' оказађели                 правленнаяскважин     для               HаГHеТаТеЛыHыХгаЗOBыIXCкBаЖИH        ', '                  правленнаяскважин дооываюшаяHефтяHаягоризоHтальHаяскважиH: HагнетателынаяскважиHагазоконденсатныIйпромыIсел   HетедоOыIч               HаГHеТаТеЛыHыХгаЗOBыIXCкBаЖИH        ', '                    сайклиHг                          ', '                    процесс                          ', \" Ed.  доллбаpp.  Pyб.J1OоOм      доллбарр     T. py6.rод     ThIc. Tыс. I'b1C.  ThiC. TbIC. MIH. Thie. ThIC. Tыс тыс млн ыс ыс  Iыс  MЛH.  Thit. Thie. ThIC. py6.дo6.  Tbic. IbiC.\", ' измерения Pyo.т доллбаpp. Pyo.т Pyб.J1OоOм Pу6.JOOOM  руб.т руo.т Py6.OOOM доллбарр     T. py6.rод рyo.м Pyo.M рyo.M рyо.м ро.скв DO.скE Pyb.dob.  рo.скE pyo.сKE Pубшт pyo.cKB. pyo.ckB.  pyo.IскB Pyб.шт руо.скв  Pyо.скв Dуф.IскB рй рублскв  Pyбскв. руб.скB pyo.сKE py6.дo6. скЕ. Pyo.дo6. Py6.дo6.', ' начения                                             ', ' нароектныйгод зђ 5O,   1736, 5D, 8   5о 20,0 , O,5 O,OO66 463:900     даџђ  70о,0                 1112,8     10841. ']\n",
            "--> [' No I                                              ', '       оля                                етянои        ', '  Hефт Hефты  природныйгаз оренныйгаз           ыIBаюшаTазоBаяCкBаЖиHE  дооываюшаяHефтяHаягоризоHтальHаяскважиH:  бурение бокового CтBола     газосоорные коллекторы  лектроснаожение     онденсатосорные    истема шлеиђь етянои сор  базыпроизводственного обслуживания    нтрипр систем', '  знтренне BHеUHем  природныйгаз оренныйгаз HефTI Hа BHешHеM обьчу ођђч        ыIBаюшаTазоBаяCкBаЖиHE  дооываюшаяHефтяHаягоризоHтальHаяскважиH: HагнетателынаяскважиHагазоконденсатныIйпромыIсел бурение бокового CтBола  Hе BхOдяшеE промысе  газосоорные коллекторы  лектроснаожение   орные  онденсатосорные    истема шлеиђь  транспорт  базыпроизводственного обслуживания HOЛOГИHCк   нтрипр п', '  знтренне BHеUHем Bнтреннемрынке  оренныйгаз HефTI Hа BHешHеM нефтиK ођђч природногогаэ       ыIBаюшаTазоBаяCкBаЖиHE  дооываюшаяHефтяHаягоризоHтальHаяскважиH: HагнетателынаяскважиHагазоконденсатныIйпромыIсел бурение бокового CтBола  Hе BхOдяшеE промысе  газосоорные коллекторы  лектроснаожение  вязк коллектор  онденсатосорные     HаГHеТаТеЛыHыХгаЗOBыIXCкBаЖИH  транспорт  базыпроизводственного обслуживания HOЛOГИHCк   мысловые п', '    Bнтреннемрынке   HефTI Hа BHешHеM дI  природногогаэ       ыIBаюшаTазоBаяCкBаЖиHE  дооываюшаяHефтяHаягоризоHтальHаяскважиH: HагнетателынаяскважиHагазоконденсатныIйпромыIсел      газосоорные коллекторы   дороги CКBаЖИЕ коллектор  коллекторы     HаГHеТаТеЛыHыХгаЗOBыIXCкBаЖИH  Hефти и газа  базыпроизводственного обслуживания OдIOTOBKа HEUT MATизацH свяэЕ дорог ', ' оказађели      ынке   природногогаэ         дооываюшаяHефтяHаягоризоHтальHаяскважиH: HагнетателынаяскважиHагазоконденсатныIйпромыIсел             коллекторы     HаГHеТаТеЛыHыХгаЗOBыIXCкBаЖИH  Hефти и газа  базыпроизводственного обслуживания OдIOTOBKа HEUT    ', ' оказађели                 правленнаяскважин     для               HаГHеТаТеЛыHыХгаЗOBыIXCкBаЖИH         ', '                  правленнаяскважин дооываюшаяHефтяHаягоризоHтальHаяскважиH: HагнетателынаяскважиHагазоконденсатныIйпромыIсел   HетедоOыIч               HаГHеТаТеЛыHыХгаЗOBыIXCкBаЖИH         ', '                    сайклиHг                           ', '                    процесс                           ', \" Ed.  доллбаpp.  Pyб.J1OоOм      доллбарр     T. py6.rод     ThIc. Tыс. I'b1C.  ThiC. TbIC. MIH. Thie. ThIC. Tыс тыс млн ыс ыс  Iыс  MЛH.  Thit. Thie. ThIC. py6.дo6.  Tbic. IbiC. Tbic.\", ' измерения Pyo.т доллбаpp. Pyo.т Pyб.J1OоOм Pу6.JOOOM  руб.т руo.т Py6.OOOM доллбарр     T. py6.rод рyo.м Pyo.M рyo.M рyо.м ро.скв DO.скE Pyb.dob.  рo.скE pyo.сKE Pубшт pyo.cKB. pyo.ckB.  pyo.IскB Pyб.шт руо.скв  Pyо.скв Dуф.IскB рй рублскв  Pyбскв. руб.скB pyo.сKE py6.дo6. скЕ. Pyo.дo6. Py6.дo6. рбннаг', ' начения                                              ', ' нароектныйгод зђ 5O,   1736, 5D, 8   5о 20,0 , O,5 O,OO66 463:900     даџђ  70о,0                 1112,8     10841.  ']\n",
            "[]\n"
          ]
        }
      ]
    },
    {
      "cell_type": "code",
      "source": [
        "pd.DataFrame(cleaned_array).to_csv('cleaned.csv')"
      ],
      "metadata": {
        "id": "RZltyMmD_E68"
      },
      "execution_count": 52,
      "outputs": []
    },
    {
      "cell_type": "markdown",
      "source": [
        "# Convert to OWL Format"
      ],
      "metadata": {
        "id": "M9rH5mX9Mx7g"
      }
    },
    {
      "cell_type": "markdown",
      "source": [
        "# **CSV to Text**"
      ],
      "metadata": {
        "id": "SqFdbM634H5w"
      }
    },
    {
      "cell_type": "code",
      "source": [
        "import  jpype\n",
        "import  asposecells\n",
        "\n",
        "\n",
        "jpype.startJVM()\n",
        "from asposecells.api import Workbook\n",
        "\n",
        "workbook = Workbook(\"/content/sample.csv\")\n",
        "workbook.save(\"Output.docx\")\n",
        "jpype.shutdownJVM()"
      ],
      "metadata": {
        "id": "949GB9T1_Go7",
        "colab": {
          "base_uri": "https://localhost:8080/",
          "height": 373
        },
        "outputId": "d3bf9a55-8248-459c-8eb6-c2c67e5a84b3"
      },
      "execution_count": null,
      "outputs": [
        {
          "output_type": "error",
          "ename": "ModuleNotFoundError",
          "evalue": "ignored",
          "traceback": [
            "\u001b[0;31m---------------------------------------------------------------------------\u001b[0m",
            "\u001b[0;31mModuleNotFoundError\u001b[0m                       Traceback (most recent call last)",
            "\u001b[0;32m<ipython-input-52-0cc478de6e7d>\u001b[0m in \u001b[0;36m<module>\u001b[0;34m\u001b[0m\n\u001b[0;32m----> 1\u001b[0;31m \u001b[0;32mimport\u001b[0m  \u001b[0mjpype\u001b[0m\u001b[0;34m\u001b[0m\u001b[0;34m\u001b[0m\u001b[0m\n\u001b[0m\u001b[1;32m      2\u001b[0m \u001b[0;32mimport\u001b[0m  \u001b[0masposecells\u001b[0m\u001b[0;34m\u001b[0m\u001b[0;34m\u001b[0m\u001b[0m\n\u001b[1;32m      3\u001b[0m \u001b[0;34m\u001b[0m\u001b[0m\n\u001b[1;32m      4\u001b[0m \u001b[0;34m\u001b[0m\u001b[0m\n\u001b[1;32m      5\u001b[0m \u001b[0mjpype\u001b[0m\u001b[0;34m.\u001b[0m\u001b[0mstartJVM\u001b[0m\u001b[0;34m(\u001b[0m\u001b[0;34m)\u001b[0m\u001b[0;34m\u001b[0m\u001b[0;34m\u001b[0m\u001b[0m\n",
            "\u001b[0;31mModuleNotFoundError\u001b[0m: No module named 'jpype'",
            "",
            "\u001b[0;31m---------------------------------------------------------------------------\u001b[0;32m\nNOTE: If your import is failing due to a missing package, you can\nmanually install dependencies using either !pip or !apt.\n\nTo view examples of installing some common dependencies, click the\n\"Open Examples\" button below.\n\u001b[0;31m---------------------------------------------------------------------------\u001b[0m\n"
          ],
          "errorDetails": {
            "actions": [
              {
                "action": "open_url",
                "actionText": "Open Examples",
                "url": "/notebooks/snippets/importing_libraries.ipynb"
              }
            ]
          }
        }
      ]
    },
    {
      "cell_type": "code",
      "source": [],
      "metadata": {
        "id": "eIGJDS7u4DLS"
      },
      "execution_count": null,
      "outputs": []
    },
    {
      "cell_type": "code",
      "source": [],
      "metadata": {
        "id": "ziHBaaCn4DN2"
      },
      "execution_count": null,
      "outputs": []
    },
    {
      "cell_type": "markdown",
      "source": [
        "# Brighten Image (For Anyone dealing with PDFs created from scanned images)"
      ],
      "metadata": {
        "id": "FIzj02CHqce7"
      }
    },
    {
      "cell_type": "code",
      "source": [
        "from PIL import Image, ImageEnhance\n",
        "\n",
        "#read the image\n",
        "im = Image.open(\"ext_im.jpg\")\n",
        "\n",
        "#image brightness enhancer\n",
        "enhancer = ImageEnhance.Brightness(im)\n",
        "\n",
        "factor = 1 #gives original image\n",
        "im_output = enhancer.enhance(factor)\n",
        "im_output.save('ext_im-1.jpg')\n",
        "\n",
        "factor = 1.5## brightens the image\n",
        "im_output = enhancer.enhance(factor)\n",
        "im_output.save('ext_im-2.jpg')\n"
      ],
      "metadata": {
        "id": "vnzqj5q34DQk"
      },
      "execution_count": null,
      "outputs": []
    },
    {
      "cell_type": "code",
      "source": [],
      "metadata": {
        "id": "arQSfE2br7YT"
      },
      "execution_count": null,
      "outputs": []
    },
    {
      "cell_type": "code",
      "source": [
        "!pip install easyocr"
      ],
      "metadata": {
        "colab": {
          "base_uri": "https://localhost:8080/"
        },
        "id": "HuxhobAg-Lfw",
        "outputId": "ef6a4ad7-f68d-4639-abf1-7cfcc49a8df1"
      },
      "execution_count": 1,
      "outputs": [
        {
          "output_type": "stream",
          "name": "stdout",
          "text": [
            "Requirement already satisfied: easyocr in /usr/local/lib/python3.10/dist-packages (1.7.0)\n",
            "Requirement already satisfied: torch in /usr/local/lib/python3.10/dist-packages (from easyocr) (2.0.1+cu118)\n",
            "Requirement already satisfied: torchvision>=0.5 in /usr/local/lib/python3.10/dist-packages (from easyocr) (0.15.2+cu118)\n",
            "Requirement already satisfied: opencv-python-headless in /usr/local/lib/python3.10/dist-packages (from easyocr) (4.7.0.72)\n",
            "Requirement already satisfied: scipy in /usr/local/lib/python3.10/dist-packages (from easyocr) (1.10.1)\n",
            "Requirement already satisfied: numpy in /usr/local/lib/python3.10/dist-packages (from easyocr) (1.22.4)\n",
            "Requirement already satisfied: Pillow in /usr/local/lib/python3.10/dist-packages (from easyocr) (8.4.0)\n",
            "Requirement already satisfied: scikit-image in /usr/local/lib/python3.10/dist-packages (from easyocr) (0.19.3)\n",
            "Requirement already satisfied: python-bidi in /usr/local/lib/python3.10/dist-packages (from easyocr) (0.4.2)\n",
            "Requirement already satisfied: PyYAML in /usr/local/lib/python3.10/dist-packages (from easyocr) (6.0)\n",
            "Requirement already satisfied: Shapely in /usr/local/lib/python3.10/dist-packages (from easyocr) (2.0.1)\n",
            "Requirement already satisfied: pyclipper in /usr/local/lib/python3.10/dist-packages (from easyocr) (1.3.0.post4)\n",
            "Requirement already satisfied: ninja in /usr/local/lib/python3.10/dist-packages (from easyocr) (1.11.1)\n",
            "Requirement already satisfied: requests in /usr/local/lib/python3.10/dist-packages (from torchvision>=0.5->easyocr) (2.27.1)\n",
            "Requirement already satisfied: filelock in /usr/local/lib/python3.10/dist-packages (from torch->easyocr) (3.12.2)\n",
            "Requirement already satisfied: typing-extensions in /usr/local/lib/python3.10/dist-packages (from torch->easyocr) (4.6.3)\n",
            "Requirement already satisfied: sympy in /usr/local/lib/python3.10/dist-packages (from torch->easyocr) (1.11.1)\n",
            "Requirement already satisfied: networkx in /usr/local/lib/python3.10/dist-packages (from torch->easyocr) (3.1)\n",
            "Requirement already satisfied: jinja2 in /usr/local/lib/python3.10/dist-packages (from torch->easyocr) (3.1.2)\n",
            "Requirement already satisfied: triton==2.0.0 in /usr/local/lib/python3.10/dist-packages (from torch->easyocr) (2.0.0)\n",
            "Requirement already satisfied: cmake in /usr/local/lib/python3.10/dist-packages (from triton==2.0.0->torch->easyocr) (3.25.2)\n",
            "Requirement already satisfied: lit in /usr/local/lib/python3.10/dist-packages (from triton==2.0.0->torch->easyocr) (16.0.6)\n",
            "Requirement already satisfied: six in /usr/local/lib/python3.10/dist-packages (from python-bidi->easyocr) (1.16.0)\n",
            "Requirement already satisfied: imageio>=2.4.1 in /usr/local/lib/python3.10/dist-packages (from scikit-image->easyocr) (2.25.1)\n",
            "Requirement already satisfied: tifffile>=2019.7.26 in /usr/local/lib/python3.10/dist-packages (from scikit-image->easyocr) (2023.4.12)\n",
            "Requirement already satisfied: PyWavelets>=1.1.1 in /usr/local/lib/python3.10/dist-packages (from scikit-image->easyocr) (1.4.1)\n",
            "Requirement already satisfied: packaging>=20.0 in /usr/local/lib/python3.10/dist-packages (from scikit-image->easyocr) (23.1)\n",
            "Requirement already satisfied: MarkupSafe>=2.0 in /usr/local/lib/python3.10/dist-packages (from jinja2->torch->easyocr) (2.1.3)\n",
            "Requirement already satisfied: urllib3<1.27,>=1.21.1 in /usr/local/lib/python3.10/dist-packages (from requests->torchvision>=0.5->easyocr) (1.26.16)\n",
            "Requirement already satisfied: certifi>=2017.4.17 in /usr/local/lib/python3.10/dist-packages (from requests->torchvision>=0.5->easyocr) (2023.5.7)\n",
            "Requirement already satisfied: charset-normalizer~=2.0.0 in /usr/local/lib/python3.10/dist-packages (from requests->torchvision>=0.5->easyocr) (2.0.12)\n",
            "Requirement already satisfied: idna<4,>=2.5 in /usr/local/lib/python3.10/dist-packages (from requests->torchvision>=0.5->easyocr) (3.4)\n",
            "Requirement already satisfied: mpmath>=0.19 in /usr/local/lib/python3.10/dist-packages (from sympy->torch->easyocr) (1.3.0)\n"
          ]
        }
      ]
    },
    {
      "cell_type": "code",
      "source": [
        "import easyocr"
      ],
      "metadata": {
        "id": "ukyFqV7x-D4M"
      },
      "execution_count": 2,
      "outputs": []
    },
    {
      "cell_type": "code",
      "source": [
        "def text_recognition(file_path):\n",
        "    reader = easyocr.Reader(['ru'])\n",
        "    result = reader.readtext(file_path, detail = 0, paragraph=True)\n",
        "\n",
        "    return result\n",
        "\n",
        "def main():\n",
        "    file_path = input('Insert path:')\n",
        "    print(text_recognition(file_path=file_path))\n",
        "\n",
        "if __name__== \"__main__\":\n",
        "    main()\n"
      ],
      "metadata": {
        "colab": {
          "base_uri": "https://localhost:8080/"
        },
        "id": "nkSOMZce-X3H",
        "outputId": "b7fe465e-f925-4678-8455-acdb26689802"
      },
      "execution_count": 4,
      "outputs": [
        {
          "output_type": "stream",
          "name": "stdout",
          "text": [
            "Insert path:/content/2023-07-05_15-32-21.png\n",
            "['Таблица 2.1', 'Состояние запасов растворенного газа Славкинского месторождения', 'Начальые нзнлскасчые ктшпаска мли Утверждениые Тскущне нлкЛскясмыс Накопленная Роснедра \" На государстненном злпасы (без учста добыча на (протокол Ха 03-18/493- балансе на 01.01.2018 лобычи 2018) млн; м\\' 01,01.2018, пр от 07.092018 г ) МЛН:М А+Н; А+В1 А+В', 'Продуктивные отложення (пласты) объскти, мссторожленнс целом', \"Лицснзноннын участок (Липситня €МР 02120 Ю22 Золотарснскос поднятис ПАСТ А-7 Московскин ярус С2ш ПЛАСТ А4 Башкирскии ярус С2Ь ПЛАСТ Б-0 Визсиский ~рус Су ПЛАСТ Б-2 Визснский ~Р€ (у ПЛАСТ В-1 Турнсйский ~.; С1 Итого по Золоваревскому подичтию Сланкинскос 1о [ЛАСТ А-3 Московскни ~рус С2ш ПАСТ А-4 Башкирский ярус €2Ь 6 ПЛАСТ Б-2 Витсйский ярус Су ПЛАСТ Б-3 Витсйский ярус €^у ' Итого ло Славкннскомуполиятню ' Вссто мссторожлсниюь Лнцсшия СИРМ 02120 нэ Нерасираеиныи фомд запасы булут постанлены на госбаланс 01,01,2019 гоца\"]\n"
          ]
        }
      ]
    }
  ],
  "metadata": {
    "accelerator": "GPU",
    "colab": {
      "collapsed_sections": [
        "E693Ela3qhLx",
        "SqFdbM634H5w",
        "FIzj02CHqce7"
      ],
      "provenance": [],
      "include_colab_link": true
    },
    "kernelspec": {
      "display_name": "Python 3",
      "name": "python3"
    },
    "language_info": {
      "name": "python"
    }
  },
  "nbformat": 4,
  "nbformat_minor": 0
}